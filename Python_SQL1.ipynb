{
  "nbformat": 4,
  "nbformat_minor": 0,
  "metadata": {
    "colab": {
      "provenance": []
    },
    "kernelspec": {
      "name": "python3",
      "display_name": "Python 3"
    }
  },
  "cells": [
    {
      "cell_type": "markdown",
      "metadata": {
        "id": "7Ljjjdx4jmB1"
      },
      "source": [
        "# Introducción a SQL y Pandas"
      ]
    },
    {
      "cell_type": "code",
      "metadata": {
        "id": "tO_ua4WXjqc_"
      },
      "source": [
        "import numpy as np\n",
        "import pandas as pd\n",
        "import sqlite3"
      ],
      "execution_count": null,
      "outputs": []
    },
    {
      "cell_type": "markdown",
      "metadata": {
        "id": "1c4Spleqj2q4"
      },
      "source": [
        "## Método para obtener los datos de una consulta (Importante)\n",
        "\n",
        "Se obtienen todas filas de una consulta (Query) en un DataFrame"
      ]
    },
    {
      "cell_type": "code",
      "metadata": {
        "id": "7xOp2G-Cjyo1"
      },
      "source": [
        "def get_data(cursor):\n",
        "  # Obtener cada fila almacenados en una lista\n",
        "  all_rows = cursor.fetchall() # todas las filas de la tabla (lista)\n",
        "  print(all_rows)\n",
        "\n",
        "  # Obtener los nombres de cada columna\n",
        "  column_names = [description[0] for description in cursor.description]\n",
        "\n",
        "  # Construimos nuestro DataFrame\n",
        "  df = pd.DataFrame(data=all_rows, columns = column_names)\n",
        "\n",
        "  # Crear un DataFrame sin indices\n",
        "  blankIndex=[''] * len(df)\n",
        "  df.index=blankIndex\n",
        "\n",
        "  return df"
      ],
      "execution_count": null,
      "outputs": []
    },
    {
      "cell_type": "markdown",
      "metadata": {
        "id": "8AqoJXWvkPHF"
      },
      "source": [
        "## Creación de la Base de Datos (Importante)\n",
        "\n",
        "Se usará una base de datos **Sqlite**"
      ]
    },
    {
      "cell_type": "code",
      "metadata": {
        "id": "2QSdnERqkRtL",
        "colab": {
          "base_uri": "https://localhost:8080/"
        },
        "outputId": "517c6c46-3cb0-4ee8-e8a1-56ccc796341d"
      },
      "source": [
        "conn = sqlite3.connect('baseEmpresas.db') ## base de datos temporal\n",
        "# En el caso de no existir se creará la base de datos\n",
        "print(\"Conexión a la base de datos exitosa!!\")\n",
        "conn.close()"
      ],
      "execution_count": null,
      "outputs": [
        {
          "output_type": "stream",
          "name": "stdout",
          "text": [
            "Conexión a la base de datos exitosa!!\n"
          ]
        }
      ]
    },
    {
      "cell_type": "code",
      "source": [
        "!ls"
      ],
      "metadata": {
        "colab": {
          "base_uri": "https://localhost:8080/"
        },
        "id": "U4qh4aoeqFkQ",
        "outputId": "9e6ad1a7-7efe-4da4-a9fe-0a6773763aaa"
      },
      "execution_count": null,
      "outputs": [
        {
          "output_type": "stream",
          "name": "stdout",
          "text": [
            "baseEmpresas.db  sample_data\n"
          ]
        }
      ]
    },
    {
      "cell_type": "markdown",
      "metadata": {
        "id": "mOfq6SdYqFGY"
      },
      "source": [
        "La creación de la base de datos de esa manera no será persistente, usar Google Drive"
      ]
    },
    {
      "cell_type": "markdown",
      "metadata": {
        "id": "etpQilwuqNg6"
      },
      "source": [
        "## Acceso Google Drive"
      ]
    },
    {
      "cell_type": "code",
      "metadata": {
        "id": "bEDs4zaTkzQR",
        "colab": {
          "base_uri": "https://localhost:8080/"
        },
        "outputId": "aa6c9675-ad87-451d-c32d-f0bfcbc3b037"
      },
      "source": [
        "from google.colab import drive\n",
        "drive.mount('/content/drive')"
      ],
      "execution_count": null,
      "outputs": [
        {
          "output_type": "stream",
          "name": "stdout",
          "text": [
            "Mounted at /content/drive\n"
          ]
        }
      ]
    },
    {
      "cell_type": "code",
      "source": [
        "!ls drive/MyDrive/Colab\\ Notebooks/dip"
      ],
      "metadata": {
        "colab": {
          "base_uri": "https://localhost:8080/"
        },
        "id": "hQx6Mlj4y_MQ",
        "outputId": "0b3d29e1-02a8-4cda-a4a0-e4b0d54b2dbc"
      },
      "execution_count": null,
      "outputs": [
        {
          "output_type": "stream",
          "name": "stdout",
          "text": [
            "datascience  dip-ba-2022.gsheet  ml  python  vision\n"
          ]
        }
      ]
    },
    {
      "cell_type": "code",
      "metadata": {
        "id": "0b5KTZXXrLmD"
      },
      "source": [
        "#ruta = \"/content/drive/MyDrive/Colab Notebooks/bdatos/\"\n",
        "ruta = \"/content/drive/My Drive/Colab Notebooks/dip/ml/sqlite-pandas/\""
      ],
      "execution_count": null,
      "outputs": []
    },
    {
      "cell_type": "markdown",
      "metadata": {
        "id": "yOWeDhpFraGG"
      },
      "source": [
        "Acceso Persistente Base de Datos"
      ]
    },
    {
      "cell_type": "code",
      "metadata": {
        "id": "0wC99iGjrcGy",
        "colab": {
          "base_uri": "https://localhost:8080/"
        },
        "outputId": "4db8a2e8-dee8-44c3-83cb-4efa00669243"
      },
      "source": [
        "import sqlite3\n",
        "\n",
        "conn = sqlite3.connect(ruta+'BDEmpresas.db') ## base de datos persistente\n",
        "# En el caso de no existir se creará la base de datos\n",
        "print(\"Conexión a la base de datos exitosa!!\")\n",
        "conn.close()"
      ],
      "execution_count": null,
      "outputs": [
        {
          "output_type": "stream",
          "name": "stdout",
          "text": [
            "Conexión a la base de datos exitosa!!\n"
          ]
        }
      ]
    },
    {
      "cell_type": "markdown",
      "metadata": {
        "id": "5GEHyou_sUBF"
      },
      "source": [
        "## Crear una tabla (Importante)"
      ]
    },
    {
      "cell_type": "code",
      "metadata": {
        "id": "iEuHIyKvsV3W",
        "colab": {
          "base_uri": "https://localhost:8080/"
        },
        "outputId": "5ab8b036-75a9-4dd1-bcd5-e81d5c8cb3be"
      },
      "source": [
        "conn = sqlite3.connect(ruta+'BDEmpresas.db') # conectar\n",
        "\n",
        "with conn:\n",
        "  conn.execute('''\n",
        "      CREATE TABLE EMPLEADO\n",
        "      (ID       INT   PRIMARY KEY NOT NULL,\n",
        "       NOMBRE   TEXT              NOT NULL,\n",
        "       EDAD     INT               NOT NULL,\n",
        "       CIUDAD   CHAR(50),\n",
        "       SUELDO   REAL) ''')\n",
        "\n",
        "conn.close()\n",
        "print(\"Creación de tabla exitosa!!\")"
      ],
      "execution_count": null,
      "outputs": [
        {
          "output_type": "stream",
          "name": "stdout",
          "text": [
            "Creación de tabla exitosa!!\n"
          ]
        }
      ]
    },
    {
      "cell_type": "markdown",
      "metadata": {
        "id": "AIU0TD84srwd"
      },
      "source": [
        "## Insertar Valores en una Tabla (INSERT INTO)"
      ]
    },
    {
      "cell_type": "code",
      "metadata": {
        "id": "Xc819a6xswLC",
        "colab": {
          "base_uri": "https://localhost:8080/"
        },
        "outputId": "3176cf7c-32ff-4e4e-99d5-93992e6bf57a"
      },
      "source": [
        "conn = sqlite3.connect(ruta+'BDEmpresas.db')\n",
        "\n",
        "with conn:\n",
        "  #conn.execute(\"INSERT INTO EMPLEADO_ANT (ID, NOMBRE, EDAD, CIUDAD, SUELDO) VALUES (10, 'Pedro',   30, 'Arequipa', 3000)\")\n",
        "  conn.execute(\"INSERT INTO EMPLEADO (ID, NOMBRE, EDAD, CIUDAD, SUELDO) VALUES (1, 'Juan', 30, 'Arequipa', 2000)\")\n",
        "  conn.execute(\"INSERT INTO EMPLEADO (ID, NOMBRE, EDAD, CIUDAD, SUELDO) VALUES (2, 'Maria',   40, 'Arequipa', 5000)\")\n",
        "  conn.execute(\"INSERT INTO EMPLEADO (ID, NOMBRE, EDAD, CIUDAD, SUELDO) VALUES (3, 'Alejandro',  23, 'Arequipa', 1000)\")\n",
        "  conn.execute(\"INSERT INTO EMPLEADO (ID, NOMBRE, EDAD, CIUDAD, SUELDO) VALUES (4, 'Marcos', 30, 'Arequipa', 3000)\")\n",
        "  conn.execute(\"INSERT INTO EMPLEADO (ID, NOMBRE, EDAD, CIUDAD, SUELDO) VALUES (5, 'Enzo',  30, 'Arequipa', 3000)\")\n",
        "\n",
        "conn.close()\n",
        "print(\"Registros creados exitosamente!!!\")"
      ],
      "execution_count": null,
      "outputs": [
        {
          "output_type": "stream",
          "name": "stdout",
          "text": [
            "Registros creados exitosamente!!!\n"
          ]
        }
      ]
    },
    {
      "cell_type": "markdown",
      "metadata": {
        "id": "Nrs8f3dCtoiS"
      },
      "source": [
        "Otra alternativa, mas corta:\n",
        "\n"
      ]
    },
    {
      "cell_type": "code",
      "metadata": {
        "id": "7nBR3Rb1tsHW",
        "colab": {
          "base_uri": "https://localhost:8080/"
        },
        "outputId": "1355328d-b5ff-4bc4-b925-ad302563e55b"
      },
      "source": [
        "conn = sqlite3.connect(ruta+'BDEmpresas.db')\n",
        "\n",
        "with conn:\n",
        "  conn.execute(\"INSERT INTO EMPLEADO VALUES (6, 'Livia', 35, 'Lima', 3500)\")\n",
        "  conn.execute(\"INSERT INTO EMPLEADO VALUES (7, 'Peter', 38, 'Puno', 3000)\")\n",
        "  conn.execute(\"INSERT INTO EMPLEADO VALUES (8, 'Jorge', 25, 'Tacna', 2500)\")\n",
        "\n",
        "conn.close()\n",
        "print(\"Registros creados exitosamente!!\")"
      ],
      "execution_count": null,
      "outputs": [
        {
          "output_type": "stream",
          "name": "stdout",
          "text": [
            "Registros creados exitosamente!!\n"
          ]
        }
      ]
    },
    {
      "cell_type": "markdown",
      "metadata": {
        "id": "L9aWQCnYxTBF"
      },
      "source": [
        "Ver los datos almacenados"
      ]
    },
    {
      "cell_type": "code",
      "metadata": {
        "id": "nl4BP2OSxUGV",
        "colab": {
          "base_uri": "https://localhost:8080/"
        },
        "outputId": "c906dc21-f379-45b0-98cd-5bf94b7c52f7"
      },
      "source": [
        "conn   = sqlite3.connect(ruta+'BDEmpresas.db')\n",
        "cursor = conn.execute(\"SELECT * FROM EMPLEADO\")\n",
        "cursor"
      ],
      "execution_count": null,
      "outputs": [
        {
          "output_type": "execute_result",
          "data": {
            "text/plain": [
              "<sqlite3.Cursor at 0x7cdd5a791640>"
            ]
          },
          "metadata": {},
          "execution_count": 8
        }
      ]
    },
    {
      "cell_type": "code",
      "source": [
        "df = get_data(cursor)\n",
        "\n",
        "conn.close()\n",
        "print(\"Operation done successfully\")\n"
      ],
      "metadata": {
        "colab": {
          "base_uri": "https://localhost:8080/"
        },
        "id": "dEAOUS-YfpVe",
        "outputId": "2867008c-6d0d-45ff-e963-2cc46495807b"
      },
      "execution_count": null,
      "outputs": [
        {
          "output_type": "stream",
          "name": "stdout",
          "text": [
            "[(1, 'Pedro', 30, 'Arequipa', 3000.0), (2, 'Juan', 30, 'Arequipa', 2000.0), (3, 'Maria', 40, 'Arequipa', 5000.0), (4, 'Alejandro', 23, 'Arequipa', 1000.0), (5, 'Marcos', 30, 'Arequipa', 3000.0), (6, 'Enzo', 30, 'Arequipa', 3000.0), (7, 'Luis', 45, 'Lima', 4500.0), (8, 'Karen', 38, 'Puno', 7000.0)]\n",
            "Operation done successfully\n"
          ]
        }
      ]
    },
    {
      "cell_type": "code",
      "source": [
        "df.head()"
      ],
      "metadata": {
        "colab": {
          "base_uri": "https://localhost:8080/",
          "height": 206
        },
        "id": "QEBS3hWUgpqs",
        "outputId": "65696a3b-7e60-416c-f28a-84f2762f0b12"
      },
      "execution_count": null,
      "outputs": [
        {
          "output_type": "execute_result",
          "data": {
            "text/plain": [
              "  ID     NOMBRE  EDAD    CIUDAD  SUELDO\n",
              "   1      Pedro    30  Arequipa  3000.0\n",
              "   2       Juan    30  Arequipa  2000.0\n",
              "   3      Maria    40  Arequipa  5000.0\n",
              "   4  Alejandro    23  Arequipa  1000.0\n",
              "   5     Marcos    30  Arequipa  3000.0"
            ],
            "text/html": [
              "\n",
              "  <div id=\"df-7a624a14-c40e-4b79-b2a4-137718a7c817\" class=\"colab-df-container\">\n",
              "    <div>\n",
              "<style scoped>\n",
              "    .dataframe tbody tr th:only-of-type {\n",
              "        vertical-align: middle;\n",
              "    }\n",
              "\n",
              "    .dataframe tbody tr th {\n",
              "        vertical-align: top;\n",
              "    }\n",
              "\n",
              "    .dataframe thead th {\n",
              "        text-align: right;\n",
              "    }\n",
              "</style>\n",
              "<table border=\"1\" class=\"dataframe\">\n",
              "  <thead>\n",
              "    <tr style=\"text-align: right;\">\n",
              "      <th></th>\n",
              "      <th>ID</th>\n",
              "      <th>NOMBRE</th>\n",
              "      <th>EDAD</th>\n",
              "      <th>CIUDAD</th>\n",
              "      <th>SUELDO</th>\n",
              "    </tr>\n",
              "  </thead>\n",
              "  <tbody>\n",
              "    <tr>\n",
              "      <th></th>\n",
              "      <td>1</td>\n",
              "      <td>Pedro</td>\n",
              "      <td>30</td>\n",
              "      <td>Arequipa</td>\n",
              "      <td>3000.0</td>\n",
              "    </tr>\n",
              "    <tr>\n",
              "      <th></th>\n",
              "      <td>2</td>\n",
              "      <td>Juan</td>\n",
              "      <td>30</td>\n",
              "      <td>Arequipa</td>\n",
              "      <td>2000.0</td>\n",
              "    </tr>\n",
              "    <tr>\n",
              "      <th></th>\n",
              "      <td>3</td>\n",
              "      <td>Maria</td>\n",
              "      <td>40</td>\n",
              "      <td>Arequipa</td>\n",
              "      <td>5000.0</td>\n",
              "    </tr>\n",
              "    <tr>\n",
              "      <th></th>\n",
              "      <td>4</td>\n",
              "      <td>Alejandro</td>\n",
              "      <td>23</td>\n",
              "      <td>Arequipa</td>\n",
              "      <td>1000.0</td>\n",
              "    </tr>\n",
              "    <tr>\n",
              "      <th></th>\n",
              "      <td>5</td>\n",
              "      <td>Marcos</td>\n",
              "      <td>30</td>\n",
              "      <td>Arequipa</td>\n",
              "      <td>3000.0</td>\n",
              "    </tr>\n",
              "  </tbody>\n",
              "</table>\n",
              "</div>\n",
              "    <div class=\"colab-df-buttons\">\n",
              "\n",
              "  <div class=\"colab-df-container\">\n",
              "    <button class=\"colab-df-convert\" onclick=\"convertToInteractive('df-7a624a14-c40e-4b79-b2a4-137718a7c817')\"\n",
              "            title=\"Convert this dataframe to an interactive table.\"\n",
              "            style=\"display:none;\">\n",
              "\n",
              "  <svg xmlns=\"http://www.w3.org/2000/svg\" height=\"24px\" viewBox=\"0 -960 960 960\">\n",
              "    <path d=\"M120-120v-720h720v720H120Zm60-500h600v-160H180v160Zm220 220h160v-160H400v160Zm0 220h160v-160H400v160ZM180-400h160v-160H180v160Zm440 0h160v-160H620v160ZM180-180h160v-160H180v160Zm440 0h160v-160H620v160Z\"/>\n",
              "  </svg>\n",
              "    </button>\n",
              "\n",
              "  <style>\n",
              "    .colab-df-container {\n",
              "      display:flex;\n",
              "      gap: 12px;\n",
              "    }\n",
              "\n",
              "    .colab-df-convert {\n",
              "      background-color: #E8F0FE;\n",
              "      border: none;\n",
              "      border-radius: 50%;\n",
              "      cursor: pointer;\n",
              "      display: none;\n",
              "      fill: #1967D2;\n",
              "      height: 32px;\n",
              "      padding: 0 0 0 0;\n",
              "      width: 32px;\n",
              "    }\n",
              "\n",
              "    .colab-df-convert:hover {\n",
              "      background-color: #E2EBFA;\n",
              "      box-shadow: 0px 1px 2px rgba(60, 64, 67, 0.3), 0px 1px 3px 1px rgba(60, 64, 67, 0.15);\n",
              "      fill: #174EA6;\n",
              "    }\n",
              "\n",
              "    .colab-df-buttons div {\n",
              "      margin-bottom: 4px;\n",
              "    }\n",
              "\n",
              "    [theme=dark] .colab-df-convert {\n",
              "      background-color: #3B4455;\n",
              "      fill: #D2E3FC;\n",
              "    }\n",
              "\n",
              "    [theme=dark] .colab-df-convert:hover {\n",
              "      background-color: #434B5C;\n",
              "      box-shadow: 0px 1px 3px 1px rgba(0, 0, 0, 0.15);\n",
              "      filter: drop-shadow(0px 1px 2px rgba(0, 0, 0, 0.3));\n",
              "      fill: #FFFFFF;\n",
              "    }\n",
              "  </style>\n",
              "\n",
              "    <script>\n",
              "      const buttonEl =\n",
              "        document.querySelector('#df-7a624a14-c40e-4b79-b2a4-137718a7c817 button.colab-df-convert');\n",
              "      buttonEl.style.display =\n",
              "        google.colab.kernel.accessAllowed ? 'block' : 'none';\n",
              "\n",
              "      async function convertToInteractive(key) {\n",
              "        const element = document.querySelector('#df-7a624a14-c40e-4b79-b2a4-137718a7c817');\n",
              "        const dataTable =\n",
              "          await google.colab.kernel.invokeFunction('convertToInteractive',\n",
              "                                                    [key], {});\n",
              "        if (!dataTable) return;\n",
              "\n",
              "        const docLinkHtml = 'Like what you see? Visit the ' +\n",
              "          '<a target=\"_blank\" href=https://colab.research.google.com/notebooks/data_table.ipynb>data table notebook</a>'\n",
              "          + ' to learn more about interactive tables.';\n",
              "        element.innerHTML = '';\n",
              "        dataTable['output_type'] = 'display_data';\n",
              "        await google.colab.output.renderOutput(dataTable, element);\n",
              "        const docLink = document.createElement('div');\n",
              "        docLink.innerHTML = docLinkHtml;\n",
              "        element.appendChild(docLink);\n",
              "      }\n",
              "    </script>\n",
              "  </div>\n",
              "\n",
              "\n",
              "<div id=\"df-171b59ca-b35e-48c0-b6e4-d61503f24db0\">\n",
              "  <button class=\"colab-df-quickchart\" onclick=\"quickchart('df-171b59ca-b35e-48c0-b6e4-d61503f24db0')\"\n",
              "            title=\"Suggest charts\"\n",
              "            style=\"display:none;\">\n",
              "\n",
              "<svg xmlns=\"http://www.w3.org/2000/svg\" height=\"24px\"viewBox=\"0 0 24 24\"\n",
              "     width=\"24px\">\n",
              "    <g>\n",
              "        <path d=\"M19 3H5c-1.1 0-2 .9-2 2v14c0 1.1.9 2 2 2h14c1.1 0 2-.9 2-2V5c0-1.1-.9-2-2-2zM9 17H7v-7h2v7zm4 0h-2V7h2v10zm4 0h-2v-4h2v4z\"/>\n",
              "    </g>\n",
              "</svg>\n",
              "  </button>\n",
              "\n",
              "<style>\n",
              "  .colab-df-quickchart {\n",
              "      --bg-color: #E8F0FE;\n",
              "      --fill-color: #1967D2;\n",
              "      --hover-bg-color: #E2EBFA;\n",
              "      --hover-fill-color: #174EA6;\n",
              "      --disabled-fill-color: #AAA;\n",
              "      --disabled-bg-color: #DDD;\n",
              "  }\n",
              "\n",
              "  [theme=dark] .colab-df-quickchart {\n",
              "      --bg-color: #3B4455;\n",
              "      --fill-color: #D2E3FC;\n",
              "      --hover-bg-color: #434B5C;\n",
              "      --hover-fill-color: #FFFFFF;\n",
              "      --disabled-bg-color: #3B4455;\n",
              "      --disabled-fill-color: #666;\n",
              "  }\n",
              "\n",
              "  .colab-df-quickchart {\n",
              "    background-color: var(--bg-color);\n",
              "    border: none;\n",
              "    border-radius: 50%;\n",
              "    cursor: pointer;\n",
              "    display: none;\n",
              "    fill: var(--fill-color);\n",
              "    height: 32px;\n",
              "    padding: 0;\n",
              "    width: 32px;\n",
              "  }\n",
              "\n",
              "  .colab-df-quickchart:hover {\n",
              "    background-color: var(--hover-bg-color);\n",
              "    box-shadow: 0 1px 2px rgba(60, 64, 67, 0.3), 0 1px 3px 1px rgba(60, 64, 67, 0.15);\n",
              "    fill: var(--button-hover-fill-color);\n",
              "  }\n",
              "\n",
              "  .colab-df-quickchart-complete:disabled,\n",
              "  .colab-df-quickchart-complete:disabled:hover {\n",
              "    background-color: var(--disabled-bg-color);\n",
              "    fill: var(--disabled-fill-color);\n",
              "    box-shadow: none;\n",
              "  }\n",
              "\n",
              "  .colab-df-spinner {\n",
              "    border: 2px solid var(--fill-color);\n",
              "    border-color: transparent;\n",
              "    border-bottom-color: var(--fill-color);\n",
              "    animation:\n",
              "      spin 1s steps(1) infinite;\n",
              "  }\n",
              "\n",
              "  @keyframes spin {\n",
              "    0% {\n",
              "      border-color: transparent;\n",
              "      border-bottom-color: var(--fill-color);\n",
              "      border-left-color: var(--fill-color);\n",
              "    }\n",
              "    20% {\n",
              "      border-color: transparent;\n",
              "      border-left-color: var(--fill-color);\n",
              "      border-top-color: var(--fill-color);\n",
              "    }\n",
              "    30% {\n",
              "      border-color: transparent;\n",
              "      border-left-color: var(--fill-color);\n",
              "      border-top-color: var(--fill-color);\n",
              "      border-right-color: var(--fill-color);\n",
              "    }\n",
              "    40% {\n",
              "      border-color: transparent;\n",
              "      border-right-color: var(--fill-color);\n",
              "      border-top-color: var(--fill-color);\n",
              "    }\n",
              "    60% {\n",
              "      border-color: transparent;\n",
              "      border-right-color: var(--fill-color);\n",
              "    }\n",
              "    80% {\n",
              "      border-color: transparent;\n",
              "      border-right-color: var(--fill-color);\n",
              "      border-bottom-color: var(--fill-color);\n",
              "    }\n",
              "    90% {\n",
              "      border-color: transparent;\n",
              "      border-bottom-color: var(--fill-color);\n",
              "    }\n",
              "  }\n",
              "</style>\n",
              "\n",
              "  <script>\n",
              "    async function quickchart(key) {\n",
              "      const quickchartButtonEl =\n",
              "        document.querySelector('#' + key + ' button');\n",
              "      quickchartButtonEl.disabled = true;  // To prevent multiple clicks.\n",
              "      quickchartButtonEl.classList.add('colab-df-spinner');\n",
              "      try {\n",
              "        const charts = await google.colab.kernel.invokeFunction(\n",
              "            'suggestCharts', [key], {});\n",
              "      } catch (error) {\n",
              "        console.error('Error during call to suggestCharts:', error);\n",
              "      }\n",
              "      quickchartButtonEl.classList.remove('colab-df-spinner');\n",
              "      quickchartButtonEl.classList.add('colab-df-quickchart-complete');\n",
              "    }\n",
              "    (() => {\n",
              "      let quickchartButtonEl =\n",
              "        document.querySelector('#df-171b59ca-b35e-48c0-b6e4-d61503f24db0 button');\n",
              "      quickchartButtonEl.style.display =\n",
              "        google.colab.kernel.accessAllowed ? 'block' : 'none';\n",
              "    })();\n",
              "  </script>\n",
              "</div>\n",
              "    </div>\n",
              "  </div>\n"
            ],
            "application/vnd.google.colaboratory.intrinsic+json": {
              "type": "dataframe",
              "variable_name": "df",
              "summary": "{\n  \"name\": \"df\",\n  \"rows\": 8,\n  \"fields\": [\n    {\n      \"column\": \"ID\",\n      \"properties\": {\n        \"dtype\": \"number\",\n        \"std\": 2,\n        \"min\": 1,\n        \"max\": 8,\n        \"num_unique_values\": 8,\n        \"samples\": [\n          2,\n          6,\n          1\n        ],\n        \"semantic_type\": \"\",\n        \"description\": \"\"\n      }\n    },\n    {\n      \"column\": \"NOMBRE\",\n      \"properties\": {\n        \"dtype\": \"string\",\n        \"num_unique_values\": 8,\n        \"samples\": [\n          \"Juan\",\n          \"Enzo\",\n          \"Pedro\"\n        ],\n        \"semantic_type\": \"\",\n        \"description\": \"\"\n      }\n    },\n    {\n      \"column\": \"EDAD\",\n      \"properties\": {\n        \"dtype\": \"number\",\n        \"std\": 7,\n        \"min\": 23,\n        \"max\": 45,\n        \"num_unique_values\": 5,\n        \"samples\": [\n          40,\n          38,\n          23\n        ],\n        \"semantic_type\": \"\",\n        \"description\": \"\"\n      }\n    },\n    {\n      \"column\": \"CIUDAD\",\n      \"properties\": {\n        \"dtype\": \"category\",\n        \"num_unique_values\": 3,\n        \"samples\": [\n          \"Arequipa\",\n          \"Lima\",\n          \"Puno\"\n        ],\n        \"semantic_type\": \"\",\n        \"description\": \"\"\n      }\n    },\n    {\n      \"column\": \"SUELDO\",\n      \"properties\": {\n        \"dtype\": \"number\",\n        \"std\": 1879.1620472966135,\n        \"min\": 1000.0,\n        \"max\": 7000.0,\n        \"num_unique_values\": 6,\n        \"samples\": [\n          3000.0,\n          2000.0,\n          7000.0\n        ],\n        \"semantic_type\": \"\",\n        \"description\": \"\"\n      }\n    }\n  ]\n}"
            }
          },
          "metadata": {},
          "execution_count": 10
        }
      ]
    },
    {
      "cell_type": "code",
      "metadata": {
        "id": "B2IqnvL88yK0",
        "colab": {
          "base_uri": "https://localhost:8080/"
        },
        "outputId": "bd459071-5c85-431b-f3ed-0787c45fe491"
      },
      "source": [
        "df.info()"
      ],
      "execution_count": null,
      "outputs": [
        {
          "output_type": "stream",
          "name": "stdout",
          "text": [
            "<class 'pandas.core.frame.DataFrame'>\n",
            "Index: 8 entries,  to \n",
            "Data columns (total 5 columns):\n",
            " #   Column  Non-Null Count  Dtype  \n",
            "---  ------  --------------  -----  \n",
            " 0   ID      8 non-null      int64  \n",
            " 1   NOMBRE  8 non-null      object \n",
            " 2   EDAD    8 non-null      int64  \n",
            " 3   CIUDAD  8 non-null      object \n",
            " 4   SUELDO  8 non-null      float64\n",
            "dtypes: float64(1), int64(2), object(2)\n",
            "memory usage: 384.0+ bytes\n"
          ]
        }
      ]
    },
    {
      "cell_type": "code",
      "metadata": {
        "id": "Mx_c-UTM84G8",
        "colab": {
          "base_uri": "https://localhost:8080/",
          "height": 300
        },
        "outputId": "12d00115-09b8-4c66-8a13-79a74037c9c5"
      },
      "source": [
        "df.describe()"
      ],
      "execution_count": null,
      "outputs": [
        {
          "output_type": "execute_result",
          "data": {
            "text/plain": [
              "            ID      EDAD       SUELDO\n",
              "count  8.00000   8.00000     8.000000\n",
              "mean   4.50000  31.37500  2875.000000\n",
              "std    2.44949   5.95069  1157.275125\n",
              "min    1.00000  23.00000  1000.000000\n",
              "25%    2.75000  28.75000  2375.000000\n",
              "50%    4.50000  30.00000  3000.000000\n",
              "75%    6.25000  35.75000  3125.000000\n",
              "max    8.00000  40.00000  5000.000000"
            ],
            "text/html": [
              "\n",
              "  <div id=\"df-9c1d0a5e-047b-4ed2-8451-76c2a034ff9d\" class=\"colab-df-container\">\n",
              "    <div>\n",
              "<style scoped>\n",
              "    .dataframe tbody tr th:only-of-type {\n",
              "        vertical-align: middle;\n",
              "    }\n",
              "\n",
              "    .dataframe tbody tr th {\n",
              "        vertical-align: top;\n",
              "    }\n",
              "\n",
              "    .dataframe thead th {\n",
              "        text-align: right;\n",
              "    }\n",
              "</style>\n",
              "<table border=\"1\" class=\"dataframe\">\n",
              "  <thead>\n",
              "    <tr style=\"text-align: right;\">\n",
              "      <th></th>\n",
              "      <th>ID</th>\n",
              "      <th>EDAD</th>\n",
              "      <th>SUELDO</th>\n",
              "    </tr>\n",
              "  </thead>\n",
              "  <tbody>\n",
              "    <tr>\n",
              "      <th>count</th>\n",
              "      <td>8.00000</td>\n",
              "      <td>8.00000</td>\n",
              "      <td>8.000000</td>\n",
              "    </tr>\n",
              "    <tr>\n",
              "      <th>mean</th>\n",
              "      <td>4.50000</td>\n",
              "      <td>31.37500</td>\n",
              "      <td>2875.000000</td>\n",
              "    </tr>\n",
              "    <tr>\n",
              "      <th>std</th>\n",
              "      <td>2.44949</td>\n",
              "      <td>5.95069</td>\n",
              "      <td>1157.275125</td>\n",
              "    </tr>\n",
              "    <tr>\n",
              "      <th>min</th>\n",
              "      <td>1.00000</td>\n",
              "      <td>23.00000</td>\n",
              "      <td>1000.000000</td>\n",
              "    </tr>\n",
              "    <tr>\n",
              "      <th>25%</th>\n",
              "      <td>2.75000</td>\n",
              "      <td>28.75000</td>\n",
              "      <td>2375.000000</td>\n",
              "    </tr>\n",
              "    <tr>\n",
              "      <th>50%</th>\n",
              "      <td>4.50000</td>\n",
              "      <td>30.00000</td>\n",
              "      <td>3000.000000</td>\n",
              "    </tr>\n",
              "    <tr>\n",
              "      <th>75%</th>\n",
              "      <td>6.25000</td>\n",
              "      <td>35.75000</td>\n",
              "      <td>3125.000000</td>\n",
              "    </tr>\n",
              "    <tr>\n",
              "      <th>max</th>\n",
              "      <td>8.00000</td>\n",
              "      <td>40.00000</td>\n",
              "      <td>5000.000000</td>\n",
              "    </tr>\n",
              "  </tbody>\n",
              "</table>\n",
              "</div>\n",
              "    <div class=\"colab-df-buttons\">\n",
              "\n",
              "  <div class=\"colab-df-container\">\n",
              "    <button class=\"colab-df-convert\" onclick=\"convertToInteractive('df-9c1d0a5e-047b-4ed2-8451-76c2a034ff9d')\"\n",
              "            title=\"Convert this dataframe to an interactive table.\"\n",
              "            style=\"display:none;\">\n",
              "\n",
              "  <svg xmlns=\"http://www.w3.org/2000/svg\" height=\"24px\" viewBox=\"0 -960 960 960\">\n",
              "    <path d=\"M120-120v-720h720v720H120Zm60-500h600v-160H180v160Zm220 220h160v-160H400v160Zm0 220h160v-160H400v160ZM180-400h160v-160H180v160Zm440 0h160v-160H620v160ZM180-180h160v-160H180v160Zm440 0h160v-160H620v160Z\"/>\n",
              "  </svg>\n",
              "    </button>\n",
              "\n",
              "  <style>\n",
              "    .colab-df-container {\n",
              "      display:flex;\n",
              "      gap: 12px;\n",
              "    }\n",
              "\n",
              "    .colab-df-convert {\n",
              "      background-color: #E8F0FE;\n",
              "      border: none;\n",
              "      border-radius: 50%;\n",
              "      cursor: pointer;\n",
              "      display: none;\n",
              "      fill: #1967D2;\n",
              "      height: 32px;\n",
              "      padding: 0 0 0 0;\n",
              "      width: 32px;\n",
              "    }\n",
              "\n",
              "    .colab-df-convert:hover {\n",
              "      background-color: #E2EBFA;\n",
              "      box-shadow: 0px 1px 2px rgba(60, 64, 67, 0.3), 0px 1px 3px 1px rgba(60, 64, 67, 0.15);\n",
              "      fill: #174EA6;\n",
              "    }\n",
              "\n",
              "    .colab-df-buttons div {\n",
              "      margin-bottom: 4px;\n",
              "    }\n",
              "\n",
              "    [theme=dark] .colab-df-convert {\n",
              "      background-color: #3B4455;\n",
              "      fill: #D2E3FC;\n",
              "    }\n",
              "\n",
              "    [theme=dark] .colab-df-convert:hover {\n",
              "      background-color: #434B5C;\n",
              "      box-shadow: 0px 1px 3px 1px rgba(0, 0, 0, 0.15);\n",
              "      filter: drop-shadow(0px 1px 2px rgba(0, 0, 0, 0.3));\n",
              "      fill: #FFFFFF;\n",
              "    }\n",
              "  </style>\n",
              "\n",
              "    <script>\n",
              "      const buttonEl =\n",
              "        document.querySelector('#df-9c1d0a5e-047b-4ed2-8451-76c2a034ff9d button.colab-df-convert');\n",
              "      buttonEl.style.display =\n",
              "        google.colab.kernel.accessAllowed ? 'block' : 'none';\n",
              "\n",
              "      async function convertToInteractive(key) {\n",
              "        const element = document.querySelector('#df-9c1d0a5e-047b-4ed2-8451-76c2a034ff9d');\n",
              "        const dataTable =\n",
              "          await google.colab.kernel.invokeFunction('convertToInteractive',\n",
              "                                                    [key], {});\n",
              "        if (!dataTable) return;\n",
              "\n",
              "        const docLinkHtml = 'Like what you see? Visit the ' +\n",
              "          '<a target=\"_blank\" href=https://colab.research.google.com/notebooks/data_table.ipynb>data table notebook</a>'\n",
              "          + ' to learn more about interactive tables.';\n",
              "        element.innerHTML = '';\n",
              "        dataTable['output_type'] = 'display_data';\n",
              "        await google.colab.output.renderOutput(dataTable, element);\n",
              "        const docLink = document.createElement('div');\n",
              "        docLink.innerHTML = docLinkHtml;\n",
              "        element.appendChild(docLink);\n",
              "      }\n",
              "    </script>\n",
              "  </div>\n",
              "\n",
              "\n",
              "<div id=\"df-d1984b47-0bb4-4e27-9e01-4c2a4dbdf584\">\n",
              "  <button class=\"colab-df-quickchart\" onclick=\"quickchart('df-d1984b47-0bb4-4e27-9e01-4c2a4dbdf584')\"\n",
              "            title=\"Suggest charts\"\n",
              "            style=\"display:none;\">\n",
              "\n",
              "<svg xmlns=\"http://www.w3.org/2000/svg\" height=\"24px\"viewBox=\"0 0 24 24\"\n",
              "     width=\"24px\">\n",
              "    <g>\n",
              "        <path d=\"M19 3H5c-1.1 0-2 .9-2 2v14c0 1.1.9 2 2 2h14c1.1 0 2-.9 2-2V5c0-1.1-.9-2-2-2zM9 17H7v-7h2v7zm4 0h-2V7h2v10zm4 0h-2v-4h2v4z\"/>\n",
              "    </g>\n",
              "</svg>\n",
              "  </button>\n",
              "\n",
              "<style>\n",
              "  .colab-df-quickchart {\n",
              "      --bg-color: #E8F0FE;\n",
              "      --fill-color: #1967D2;\n",
              "      --hover-bg-color: #E2EBFA;\n",
              "      --hover-fill-color: #174EA6;\n",
              "      --disabled-fill-color: #AAA;\n",
              "      --disabled-bg-color: #DDD;\n",
              "  }\n",
              "\n",
              "  [theme=dark] .colab-df-quickchart {\n",
              "      --bg-color: #3B4455;\n",
              "      --fill-color: #D2E3FC;\n",
              "      --hover-bg-color: #434B5C;\n",
              "      --hover-fill-color: #FFFFFF;\n",
              "      --disabled-bg-color: #3B4455;\n",
              "      --disabled-fill-color: #666;\n",
              "  }\n",
              "\n",
              "  .colab-df-quickchart {\n",
              "    background-color: var(--bg-color);\n",
              "    border: none;\n",
              "    border-radius: 50%;\n",
              "    cursor: pointer;\n",
              "    display: none;\n",
              "    fill: var(--fill-color);\n",
              "    height: 32px;\n",
              "    padding: 0;\n",
              "    width: 32px;\n",
              "  }\n",
              "\n",
              "  .colab-df-quickchart:hover {\n",
              "    background-color: var(--hover-bg-color);\n",
              "    box-shadow: 0 1px 2px rgba(60, 64, 67, 0.3), 0 1px 3px 1px rgba(60, 64, 67, 0.15);\n",
              "    fill: var(--button-hover-fill-color);\n",
              "  }\n",
              "\n",
              "  .colab-df-quickchart-complete:disabled,\n",
              "  .colab-df-quickchart-complete:disabled:hover {\n",
              "    background-color: var(--disabled-bg-color);\n",
              "    fill: var(--disabled-fill-color);\n",
              "    box-shadow: none;\n",
              "  }\n",
              "\n",
              "  .colab-df-spinner {\n",
              "    border: 2px solid var(--fill-color);\n",
              "    border-color: transparent;\n",
              "    border-bottom-color: var(--fill-color);\n",
              "    animation:\n",
              "      spin 1s steps(1) infinite;\n",
              "  }\n",
              "\n",
              "  @keyframes spin {\n",
              "    0% {\n",
              "      border-color: transparent;\n",
              "      border-bottom-color: var(--fill-color);\n",
              "      border-left-color: var(--fill-color);\n",
              "    }\n",
              "    20% {\n",
              "      border-color: transparent;\n",
              "      border-left-color: var(--fill-color);\n",
              "      border-top-color: var(--fill-color);\n",
              "    }\n",
              "    30% {\n",
              "      border-color: transparent;\n",
              "      border-left-color: var(--fill-color);\n",
              "      border-top-color: var(--fill-color);\n",
              "      border-right-color: var(--fill-color);\n",
              "    }\n",
              "    40% {\n",
              "      border-color: transparent;\n",
              "      border-right-color: var(--fill-color);\n",
              "      border-top-color: var(--fill-color);\n",
              "    }\n",
              "    60% {\n",
              "      border-color: transparent;\n",
              "      border-right-color: var(--fill-color);\n",
              "    }\n",
              "    80% {\n",
              "      border-color: transparent;\n",
              "      border-right-color: var(--fill-color);\n",
              "      border-bottom-color: var(--fill-color);\n",
              "    }\n",
              "    90% {\n",
              "      border-color: transparent;\n",
              "      border-bottom-color: var(--fill-color);\n",
              "    }\n",
              "  }\n",
              "</style>\n",
              "\n",
              "  <script>\n",
              "    async function quickchart(key) {\n",
              "      const quickchartButtonEl =\n",
              "        document.querySelector('#' + key + ' button');\n",
              "      quickchartButtonEl.disabled = true;  // To prevent multiple clicks.\n",
              "      quickchartButtonEl.classList.add('colab-df-spinner');\n",
              "      try {\n",
              "        const charts = await google.colab.kernel.invokeFunction(\n",
              "            'suggestCharts', [key], {});\n",
              "      } catch (error) {\n",
              "        console.error('Error during call to suggestCharts:', error);\n",
              "      }\n",
              "      quickchartButtonEl.classList.remove('colab-df-spinner');\n",
              "      quickchartButtonEl.classList.add('colab-df-quickchart-complete');\n",
              "    }\n",
              "    (() => {\n",
              "      let quickchartButtonEl =\n",
              "        document.querySelector('#df-d1984b47-0bb4-4e27-9e01-4c2a4dbdf584 button');\n",
              "      quickchartButtonEl.style.display =\n",
              "        google.colab.kernel.accessAllowed ? 'block' : 'none';\n",
              "    })();\n",
              "  </script>\n",
              "</div>\n",
              "    </div>\n",
              "  </div>\n"
            ],
            "application/vnd.google.colaboratory.intrinsic+json": {
              "type": "dataframe",
              "summary": "{\n  \"name\": \"df\",\n  \"rows\": 8,\n  \"fields\": [\n    {\n      \"column\": \"ID\",\n      \"properties\": {\n        \"dtype\": \"number\",\n        \"std\": 2.586143426324423,\n        \"min\": 1.0,\n        \"max\": 8.0,\n        \"num_unique_values\": 6,\n        \"samples\": [\n          8.0,\n          4.5,\n          6.25\n        ],\n        \"semantic_type\": \"\",\n        \"description\": \"\"\n      }\n    },\n    {\n      \"column\": \"EDAD\",\n      \"properties\": {\n        \"dtype\": \"number\",\n        \"std\": 12.39322258228378,\n        \"min\": 5.950690236074659,\n        \"max\": 40.0,\n        \"num_unique_values\": 8,\n        \"samples\": [\n          31.375,\n          30.0,\n          8.0\n        ],\n        \"semantic_type\": \"\",\n        \"description\": \"\"\n      }\n    },\n    {\n      \"column\": \"SUELDO\",\n      \"properties\": {\n        \"dtype\": \"number\",\n        \"std\": 1560.3799675430155,\n        \"min\": 8.0,\n        \"max\": 5000.0,\n        \"num_unique_values\": 8,\n        \"samples\": [\n          2875.0,\n          3000.0,\n          8.0\n        ],\n        \"semantic_type\": \"\",\n        \"description\": \"\"\n      }\n    }\n  ]\n}"
            }
          },
          "metadata": {},
          "execution_count": 20
        }
      ]
    },
    {
      "cell_type": "markdown",
      "metadata": {
        "id": "L9NkYcHA-1De"
      },
      "source": [
        "### Cambiar nombre de Tabla\n"
      ]
    },
    {
      "cell_type": "code",
      "metadata": {
        "id": "Uh3c3MYMxX6c"
      },
      "source": [
        "conn = sqlite3.connect(ruta+'BDEmpresas.db')\n",
        "\n",
        "with conn:\n",
        "  conn.execute(\"ALTER TABLE EMPLEADO RENAME TO EMPLEADO_MOD\")\n",
        "\n",
        "conn.close()\n",
        "print(\"Operacion realizada exitosamente!!!\")"
      ],
      "execution_count": null,
      "outputs": []
    },
    {
      "cell_type": "markdown",
      "metadata": {
        "id": "0BftoMz-_v-d"
      },
      "source": [
        "### Agregar una Columna"
      ]
    },
    {
      "cell_type": "code",
      "metadata": {
        "id": "bJ37Awd9_yEf",
        "colab": {
          "base_uri": "https://localhost:8080/"
        },
        "outputId": "6fa53f6b-3e59-49c9-95e0-c744d19ea3fc"
      },
      "source": [
        "conn = sqlite3.connect(ruta+'BDEmpresas.db')\n",
        "\n",
        "with conn:\n",
        "  cursor = conn.execute(\"ALTER TABLE EMPLEADO_MOD ADD COLUMN SEXO char(1)\")\n",
        "\n",
        "conn.close()\n",
        "print(\"Operacion realizada satisfactoriamente!!\")"
      ],
      "execution_count": null,
      "outputs": [
        {
          "output_type": "stream",
          "name": "stdout",
          "text": [
            "Operacion realizada satisfactoriamente!!\n"
          ]
        }
      ]
    },
    {
      "cell_type": "markdown",
      "source": [
        "Ahora visualizamos los datos"
      ],
      "metadata": {
        "id": "VuRU_cMoavTn"
      }
    },
    {
      "cell_type": "code",
      "source": [
        "conn = sqlite3.connect(ruta+'BDEmpresas.db')\n",
        "\n",
        "cursor = conn.execute(\"SELECT * FROM EMPLEADO_MOD\")\n",
        "df = get_data(cursor)\n",
        "\n",
        "conn.close()\n",
        "print(\"Operation done successfully\")\n",
        "df"
      ],
      "metadata": {
        "id": "0nSNDRfkaqs_",
        "colab": {
          "base_uri": "https://localhost:8080/",
          "height": 356
        },
        "outputId": "8dab5989-1595-45b0-e913-48003453fd48"
      },
      "execution_count": null,
      "outputs": [
        {
          "output_type": "stream",
          "name": "stdout",
          "text": [
            "[(1, 'Juan', 30, 'Arequipa', 2000.0, None), (2, 'Maria', 40, 'Arequipa', 5000.0, None), (3, 'Alejandro', 23, 'Arequipa', 1000.0, None), (4, 'Marcos', 30, 'Arequipa', 3000.0, None), (5, 'Enzo', 30, 'Arequipa', 3000.0, None), (6, 'Livia', 35, 'Lima', 3500.0, None), (7, 'Peter', 38, 'Puno', 3000.0, None), (8, 'Jorge', 25, 'Tacna', 2500.0, None)]\n",
            "Operation done successfully\n"
          ]
        },
        {
          "output_type": "execute_result",
          "data": {
            "text/plain": [
              "  ID     NOMBRE  EDAD    CIUDAD  SUELDO  SEXO\n",
              "   1       Juan    30  Arequipa  2000.0  None\n",
              "   2      Maria    40  Arequipa  5000.0  None\n",
              "   3  Alejandro    23  Arequipa  1000.0  None\n",
              "   4     Marcos    30  Arequipa  3000.0  None\n",
              "   5       Enzo    30  Arequipa  3000.0  None\n",
              "   6      Livia    35      Lima  3500.0  None\n",
              "   7      Peter    38      Puno  3000.0  None\n",
              "   8      Jorge    25     Tacna  2500.0  None"
            ],
            "text/html": [
              "\n",
              "  <div id=\"df-cb1872e9-1463-44c1-adeb-a1042c630fd9\" class=\"colab-df-container\">\n",
              "    <div>\n",
              "<style scoped>\n",
              "    .dataframe tbody tr th:only-of-type {\n",
              "        vertical-align: middle;\n",
              "    }\n",
              "\n",
              "    .dataframe tbody tr th {\n",
              "        vertical-align: top;\n",
              "    }\n",
              "\n",
              "    .dataframe thead th {\n",
              "        text-align: right;\n",
              "    }\n",
              "</style>\n",
              "<table border=\"1\" class=\"dataframe\">\n",
              "  <thead>\n",
              "    <tr style=\"text-align: right;\">\n",
              "      <th></th>\n",
              "      <th>ID</th>\n",
              "      <th>NOMBRE</th>\n",
              "      <th>EDAD</th>\n",
              "      <th>CIUDAD</th>\n",
              "      <th>SUELDO</th>\n",
              "      <th>SEXO</th>\n",
              "    </tr>\n",
              "  </thead>\n",
              "  <tbody>\n",
              "    <tr>\n",
              "      <th></th>\n",
              "      <td>1</td>\n",
              "      <td>Juan</td>\n",
              "      <td>30</td>\n",
              "      <td>Arequipa</td>\n",
              "      <td>2000.0</td>\n",
              "      <td>None</td>\n",
              "    </tr>\n",
              "    <tr>\n",
              "      <th></th>\n",
              "      <td>2</td>\n",
              "      <td>Maria</td>\n",
              "      <td>40</td>\n",
              "      <td>Arequipa</td>\n",
              "      <td>5000.0</td>\n",
              "      <td>None</td>\n",
              "    </tr>\n",
              "    <tr>\n",
              "      <th></th>\n",
              "      <td>3</td>\n",
              "      <td>Alejandro</td>\n",
              "      <td>23</td>\n",
              "      <td>Arequipa</td>\n",
              "      <td>1000.0</td>\n",
              "      <td>None</td>\n",
              "    </tr>\n",
              "    <tr>\n",
              "      <th></th>\n",
              "      <td>4</td>\n",
              "      <td>Marcos</td>\n",
              "      <td>30</td>\n",
              "      <td>Arequipa</td>\n",
              "      <td>3000.0</td>\n",
              "      <td>None</td>\n",
              "    </tr>\n",
              "    <tr>\n",
              "      <th></th>\n",
              "      <td>5</td>\n",
              "      <td>Enzo</td>\n",
              "      <td>30</td>\n",
              "      <td>Arequipa</td>\n",
              "      <td>3000.0</td>\n",
              "      <td>None</td>\n",
              "    </tr>\n",
              "    <tr>\n",
              "      <th></th>\n",
              "      <td>6</td>\n",
              "      <td>Livia</td>\n",
              "      <td>35</td>\n",
              "      <td>Lima</td>\n",
              "      <td>3500.0</td>\n",
              "      <td>None</td>\n",
              "    </tr>\n",
              "    <tr>\n",
              "      <th></th>\n",
              "      <td>7</td>\n",
              "      <td>Peter</td>\n",
              "      <td>38</td>\n",
              "      <td>Puno</td>\n",
              "      <td>3000.0</td>\n",
              "      <td>None</td>\n",
              "    </tr>\n",
              "    <tr>\n",
              "      <th></th>\n",
              "      <td>8</td>\n",
              "      <td>Jorge</td>\n",
              "      <td>25</td>\n",
              "      <td>Tacna</td>\n",
              "      <td>2500.0</td>\n",
              "      <td>None</td>\n",
              "    </tr>\n",
              "  </tbody>\n",
              "</table>\n",
              "</div>\n",
              "    <div class=\"colab-df-buttons\">\n",
              "\n",
              "  <div class=\"colab-df-container\">\n",
              "    <button class=\"colab-df-convert\" onclick=\"convertToInteractive('df-cb1872e9-1463-44c1-adeb-a1042c630fd9')\"\n",
              "            title=\"Convert this dataframe to an interactive table.\"\n",
              "            style=\"display:none;\">\n",
              "\n",
              "  <svg xmlns=\"http://www.w3.org/2000/svg\" height=\"24px\" viewBox=\"0 -960 960 960\">\n",
              "    <path d=\"M120-120v-720h720v720H120Zm60-500h600v-160H180v160Zm220 220h160v-160H400v160Zm0 220h160v-160H400v160ZM180-400h160v-160H180v160Zm440 0h160v-160H620v160ZM180-180h160v-160H180v160Zm440 0h160v-160H620v160Z\"/>\n",
              "  </svg>\n",
              "    </button>\n",
              "\n",
              "  <style>\n",
              "    .colab-df-container {\n",
              "      display:flex;\n",
              "      gap: 12px;\n",
              "    }\n",
              "\n",
              "    .colab-df-convert {\n",
              "      background-color: #E8F0FE;\n",
              "      border: none;\n",
              "      border-radius: 50%;\n",
              "      cursor: pointer;\n",
              "      display: none;\n",
              "      fill: #1967D2;\n",
              "      height: 32px;\n",
              "      padding: 0 0 0 0;\n",
              "      width: 32px;\n",
              "    }\n",
              "\n",
              "    .colab-df-convert:hover {\n",
              "      background-color: #E2EBFA;\n",
              "      box-shadow: 0px 1px 2px rgba(60, 64, 67, 0.3), 0px 1px 3px 1px rgba(60, 64, 67, 0.15);\n",
              "      fill: #174EA6;\n",
              "    }\n",
              "\n",
              "    .colab-df-buttons div {\n",
              "      margin-bottom: 4px;\n",
              "    }\n",
              "\n",
              "    [theme=dark] .colab-df-convert {\n",
              "      background-color: #3B4455;\n",
              "      fill: #D2E3FC;\n",
              "    }\n",
              "\n",
              "    [theme=dark] .colab-df-convert:hover {\n",
              "      background-color: #434B5C;\n",
              "      box-shadow: 0px 1px 3px 1px rgba(0, 0, 0, 0.15);\n",
              "      filter: drop-shadow(0px 1px 2px rgba(0, 0, 0, 0.3));\n",
              "      fill: #FFFFFF;\n",
              "    }\n",
              "  </style>\n",
              "\n",
              "    <script>\n",
              "      const buttonEl =\n",
              "        document.querySelector('#df-cb1872e9-1463-44c1-adeb-a1042c630fd9 button.colab-df-convert');\n",
              "      buttonEl.style.display =\n",
              "        google.colab.kernel.accessAllowed ? 'block' : 'none';\n",
              "\n",
              "      async function convertToInteractive(key) {\n",
              "        const element = document.querySelector('#df-cb1872e9-1463-44c1-adeb-a1042c630fd9');\n",
              "        const dataTable =\n",
              "          await google.colab.kernel.invokeFunction('convertToInteractive',\n",
              "                                                    [key], {});\n",
              "        if (!dataTable) return;\n",
              "\n",
              "        const docLinkHtml = 'Like what you see? Visit the ' +\n",
              "          '<a target=\"_blank\" href=https://colab.research.google.com/notebooks/data_table.ipynb>data table notebook</a>'\n",
              "          + ' to learn more about interactive tables.';\n",
              "        element.innerHTML = '';\n",
              "        dataTable['output_type'] = 'display_data';\n",
              "        await google.colab.output.renderOutput(dataTable, element);\n",
              "        const docLink = document.createElement('div');\n",
              "        docLink.innerHTML = docLinkHtml;\n",
              "        element.appendChild(docLink);\n",
              "      }\n",
              "    </script>\n",
              "  </div>\n",
              "\n",
              "\n",
              "<div id=\"df-5474a259-dc68-4f8a-9209-09b84d1d6815\">\n",
              "  <button class=\"colab-df-quickchart\" onclick=\"quickchart('df-5474a259-dc68-4f8a-9209-09b84d1d6815')\"\n",
              "            title=\"Suggest charts\"\n",
              "            style=\"display:none;\">\n",
              "\n",
              "<svg xmlns=\"http://www.w3.org/2000/svg\" height=\"24px\"viewBox=\"0 0 24 24\"\n",
              "     width=\"24px\">\n",
              "    <g>\n",
              "        <path d=\"M19 3H5c-1.1 0-2 .9-2 2v14c0 1.1.9 2 2 2h14c1.1 0 2-.9 2-2V5c0-1.1-.9-2-2-2zM9 17H7v-7h2v7zm4 0h-2V7h2v10zm4 0h-2v-4h2v4z\"/>\n",
              "    </g>\n",
              "</svg>\n",
              "  </button>\n",
              "\n",
              "<style>\n",
              "  .colab-df-quickchart {\n",
              "      --bg-color: #E8F0FE;\n",
              "      --fill-color: #1967D2;\n",
              "      --hover-bg-color: #E2EBFA;\n",
              "      --hover-fill-color: #174EA6;\n",
              "      --disabled-fill-color: #AAA;\n",
              "      --disabled-bg-color: #DDD;\n",
              "  }\n",
              "\n",
              "  [theme=dark] .colab-df-quickchart {\n",
              "      --bg-color: #3B4455;\n",
              "      --fill-color: #D2E3FC;\n",
              "      --hover-bg-color: #434B5C;\n",
              "      --hover-fill-color: #FFFFFF;\n",
              "      --disabled-bg-color: #3B4455;\n",
              "      --disabled-fill-color: #666;\n",
              "  }\n",
              "\n",
              "  .colab-df-quickchart {\n",
              "    background-color: var(--bg-color);\n",
              "    border: none;\n",
              "    border-radius: 50%;\n",
              "    cursor: pointer;\n",
              "    display: none;\n",
              "    fill: var(--fill-color);\n",
              "    height: 32px;\n",
              "    padding: 0;\n",
              "    width: 32px;\n",
              "  }\n",
              "\n",
              "  .colab-df-quickchart:hover {\n",
              "    background-color: var(--hover-bg-color);\n",
              "    box-shadow: 0 1px 2px rgba(60, 64, 67, 0.3), 0 1px 3px 1px rgba(60, 64, 67, 0.15);\n",
              "    fill: var(--button-hover-fill-color);\n",
              "  }\n",
              "\n",
              "  .colab-df-quickchart-complete:disabled,\n",
              "  .colab-df-quickchart-complete:disabled:hover {\n",
              "    background-color: var(--disabled-bg-color);\n",
              "    fill: var(--disabled-fill-color);\n",
              "    box-shadow: none;\n",
              "  }\n",
              "\n",
              "  .colab-df-spinner {\n",
              "    border: 2px solid var(--fill-color);\n",
              "    border-color: transparent;\n",
              "    border-bottom-color: var(--fill-color);\n",
              "    animation:\n",
              "      spin 1s steps(1) infinite;\n",
              "  }\n",
              "\n",
              "  @keyframes spin {\n",
              "    0% {\n",
              "      border-color: transparent;\n",
              "      border-bottom-color: var(--fill-color);\n",
              "      border-left-color: var(--fill-color);\n",
              "    }\n",
              "    20% {\n",
              "      border-color: transparent;\n",
              "      border-left-color: var(--fill-color);\n",
              "      border-top-color: var(--fill-color);\n",
              "    }\n",
              "    30% {\n",
              "      border-color: transparent;\n",
              "      border-left-color: var(--fill-color);\n",
              "      border-top-color: var(--fill-color);\n",
              "      border-right-color: var(--fill-color);\n",
              "    }\n",
              "    40% {\n",
              "      border-color: transparent;\n",
              "      border-right-color: var(--fill-color);\n",
              "      border-top-color: var(--fill-color);\n",
              "    }\n",
              "    60% {\n",
              "      border-color: transparent;\n",
              "      border-right-color: var(--fill-color);\n",
              "    }\n",
              "    80% {\n",
              "      border-color: transparent;\n",
              "      border-right-color: var(--fill-color);\n",
              "      border-bottom-color: var(--fill-color);\n",
              "    }\n",
              "    90% {\n",
              "      border-color: transparent;\n",
              "      border-bottom-color: var(--fill-color);\n",
              "    }\n",
              "  }\n",
              "</style>\n",
              "\n",
              "  <script>\n",
              "    async function quickchart(key) {\n",
              "      const quickchartButtonEl =\n",
              "        document.querySelector('#' + key + ' button');\n",
              "      quickchartButtonEl.disabled = true;  // To prevent multiple clicks.\n",
              "      quickchartButtonEl.classList.add('colab-df-spinner');\n",
              "      try {\n",
              "        const charts = await google.colab.kernel.invokeFunction(\n",
              "            'suggestCharts', [key], {});\n",
              "      } catch (error) {\n",
              "        console.error('Error during call to suggestCharts:', error);\n",
              "      }\n",
              "      quickchartButtonEl.classList.remove('colab-df-spinner');\n",
              "      quickchartButtonEl.classList.add('colab-df-quickchart-complete');\n",
              "    }\n",
              "    (() => {\n",
              "      let quickchartButtonEl =\n",
              "        document.querySelector('#df-5474a259-dc68-4f8a-9209-09b84d1d6815 button');\n",
              "      quickchartButtonEl.style.display =\n",
              "        google.colab.kernel.accessAllowed ? 'block' : 'none';\n",
              "    })();\n",
              "  </script>\n",
              "</div>\n",
              "    </div>\n",
              "  </div>\n"
            ],
            "application/vnd.google.colaboratory.intrinsic+json": {
              "type": "dataframe",
              "variable_name": "df",
              "repr_error": "Out of range float values are not JSON compliant: nan"
            }
          },
          "metadata": {},
          "execution_count": 27
        }
      ]
    },
    {
      "cell_type": "markdown",
      "metadata": {
        "id": "DpB34YZCACYl"
      },
      "source": [
        "### Eliminar Tabla (DROP TABLE)"
      ]
    },
    {
      "cell_type": "code",
      "metadata": {
        "id": "RBPEQLCCABQS",
        "colab": {
          "base_uri": "https://localhost:8080/"
        },
        "outputId": "53740d08-ccd6-4caf-a4bd-d5b36e34f6f7"
      },
      "source": [
        "conn = sqlite3.connect(ruta+'BDEmpresas.db')\n",
        "\n",
        "with conn:\n",
        "  conn.execute(\"DROP TABLE IF EXISTS EMPLEADO_MOD\")\n",
        "\n",
        "conn.close()\n",
        "print(\"Eliminación de table exitosa!!\")"
      ],
      "execution_count": null,
      "outputs": [
        {
          "output_type": "stream",
          "name": "stdout",
          "text": [
            "Eliminación de table exitosa!!\n"
          ]
        }
      ]
    },
    {
      "cell_type": "markdown",
      "source": [
        "Ahora visualizamos los datos"
      ],
      "metadata": {
        "id": "ckltXDXra0gP"
      }
    },
    {
      "cell_type": "code",
      "source": [
        "conn = sqlite3.connect(ruta+'BDEmpresas.db')\n",
        "\n",
        "cursor = conn.execute(\"SELECT * FROM EMPLEADO_MOD\")\n",
        "df = get_data(cursor)\n",
        "\n",
        "conn.close()\n",
        "print(\"Operation done successfully\")\n",
        "df"
      ],
      "metadata": {
        "id": "mnZh2912afuB",
        "colab": {
          "base_uri": "https://localhost:8080/",
          "height": 218
        },
        "outputId": "2d385858-e454-4c7a-8f73-7a726531a838"
      },
      "execution_count": null,
      "outputs": [
        {
          "output_type": "error",
          "ename": "OperationalError",
          "evalue": "no such table: EMPLEADO_MOD",
          "traceback": [
            "\u001b[0;31m---------------------------------------------------------------------------\u001b[0m",
            "\u001b[0;31mOperationalError\u001b[0m                          Traceback (most recent call last)",
            "\u001b[0;32m<ipython-input-29-c0a382a56012>\u001b[0m in \u001b[0;36m<cell line: 3>\u001b[0;34m()\u001b[0m\n\u001b[1;32m      1\u001b[0m \u001b[0mconn\u001b[0m \u001b[0;34m=\u001b[0m \u001b[0msqlite3\u001b[0m\u001b[0;34m.\u001b[0m\u001b[0mconnect\u001b[0m\u001b[0;34m(\u001b[0m\u001b[0mruta\u001b[0m\u001b[0;34m+\u001b[0m\u001b[0;34m'BDEmpresas.db'\u001b[0m\u001b[0;34m)\u001b[0m\u001b[0;34m\u001b[0m\u001b[0;34m\u001b[0m\u001b[0m\n\u001b[1;32m      2\u001b[0m \u001b[0;34m\u001b[0m\u001b[0m\n\u001b[0;32m----> 3\u001b[0;31m \u001b[0mcursor\u001b[0m \u001b[0;34m=\u001b[0m \u001b[0mconn\u001b[0m\u001b[0;34m.\u001b[0m\u001b[0mexecute\u001b[0m\u001b[0;34m(\u001b[0m\u001b[0;34m\"SELECT * FROM EMPLEADO_MOD\"\u001b[0m\u001b[0;34m)\u001b[0m\u001b[0;34m\u001b[0m\u001b[0;34m\u001b[0m\u001b[0m\n\u001b[0m\u001b[1;32m      4\u001b[0m \u001b[0mdf\u001b[0m \u001b[0;34m=\u001b[0m \u001b[0mget_data\u001b[0m\u001b[0;34m(\u001b[0m\u001b[0mcursor\u001b[0m\u001b[0;34m)\u001b[0m\u001b[0;34m\u001b[0m\u001b[0;34m\u001b[0m\u001b[0m\n\u001b[1;32m      5\u001b[0m \u001b[0;34m\u001b[0m\u001b[0m\n",
            "\u001b[0;31mOperationalError\u001b[0m: no such table: EMPLEADO_MOD"
          ]
        }
      ]
    },
    {
      "cell_type": "markdown",
      "metadata": {
        "id": "XPuB-LiPASVv"
      },
      "source": [
        "## AUTOINCREMENT"
      ]
    },
    {
      "cell_type": "markdown",
      "metadata": {
        "id": "_FGsva1BAVPx"
      },
      "source": [
        "Crear una TABLA llamada EMPLEADO haciendo que la clave (PRIMARY KEY) se inserte e incremente automáticamente."
      ]
    },
    {
      "cell_type": "code",
      "metadata": {
        "id": "aPIGXgwxAUfj",
        "colab": {
          "base_uri": "https://localhost:8080/"
        },
        "outputId": "ecc2a77b-3977-4c99-b347-cd40e0ac8704"
      },
      "source": [
        "conn = sqlite3.connect(ruta+'BDEmpresas.db')\n",
        "\n",
        "with conn:\n",
        "  conn.execute('''\n",
        "    CREATE TABLE USUARIO\n",
        "    (\n",
        "      ID        INTEGER    PRIMARY KEY AUTOINCREMENT,\n",
        "      NOMBRE    TEXT       NOT NULL,\n",
        "      EDAD      INT        NOT NULL,\n",
        "      CIUDAD    CHAR(50),\n",
        "      SUELDO    REAL\n",
        "    )\n",
        "    ''')\n",
        "\n",
        "conn.close()\n",
        "print(\"Creación de tabla exitosa!!\")"
      ],
      "execution_count": null,
      "outputs": [
        {
          "output_type": "stream",
          "name": "stdout",
          "text": [
            "Creación de tabla exitosa!!\n"
          ]
        }
      ]
    },
    {
      "cell_type": "markdown",
      "metadata": {
        "id": "mtKP1lOnAvzc"
      },
      "source": [
        "### Insertar Información sin indicar Primary Key"
      ]
    },
    {
      "cell_type": "code",
      "metadata": {
        "id": "CgJXmsfPA11x",
        "colab": {
          "base_uri": "https://localhost:8080/"
        },
        "outputId": "a3432e3f-e4a4-4025-c246-d25c0b5ad5c4"
      },
      "source": [
        "conn = sqlite3.connect(ruta+'BDEmpresas.db')\n",
        "\n",
        "with conn:\n",
        "  # INSER INTO [NOMBRE DE LA TABLA] (var1,var2,...,varn) VALUES (val1, val2, ...,valn)\n",
        "  conn.execute(\"INSERT INTO EMPLEADO (NOMBRE, EDAD, CIUDAD, SUELDO) VALUES ('Pedro',   30, 'Arequipa', 3000)\")\n",
        "  conn.execute(\"INSERT INTO EMPLEADO (NOMBRE, EDAD, CIUDAD, SUELDO) VALUES ('Juan', 30, 'Arequipa', 2000)\")\n",
        "  conn.execute(\"INSERT INTO EMPLEADO (NOMBRE, EDAD, CIUDAD, SUELDO) VALUES ('Maria',   40, 'Arequipa', 5000)\")\n",
        "  conn.execute(\"INSERT INTO EMPLEADO (NOMBRE, EDAD, CIUDAD, SUELDO) VALUES ('Alejandro',  23, 'Arequipa', 1000)\")\n",
        "  conn.execute(\"INSERT INTO EMPLEADO (NOMBRE, EDAD, CIUDAD, SUELDO) VALUES ('Marcos', 30, 'Arequipa', 3000)\")\n",
        "  conn.execute(\"INSERT INTO EMPLEADO (NOMBRE, EDAD, CIUDAD, SUELDO) VALUES ('Enzo',  30, 'Arequipa', 3000)\")\n",
        "\n",
        "conn.close()\n",
        "print(\"Registros creados exitosamente!!!\")"
      ],
      "execution_count": null,
      "outputs": [
        {
          "output_type": "stream",
          "name": "stdout",
          "text": [
            "Registros creados exitosamente!!!\n"
          ]
        }
      ]
    },
    {
      "cell_type": "code",
      "source": [
        "def insertar(n, e, c, s):\n",
        "  conn = sqlite3.connect(ruta+'BDEmpresas.db')\n",
        "\n",
        "  with conn:\n",
        "    # INSER INTO [NOMBRE DE LA TABLA] (var1,var2,...,varn) VALUES (val1, val2, ...,valn)\n",
        "    conn.execute(f\"INSERT INTO EMPLEADO (NOMBRE, EDAD, CIUDAD, SUELDO) VALUES ('{n}',{e},'{c}',{s})\")\n",
        "\n",
        "  conn.close()\n",
        "  print(\"Registros creados exitosamente!!!\")"
      ],
      "metadata": {
        "id": "DhQmuXZDkQ4c"
      },
      "execution_count": null,
      "outputs": []
    },
    {
      "cell_type": "code",
      "source": [
        "insertar(\"Luis\",45,\"Lima\",4500)"
      ],
      "metadata": {
        "colab": {
          "base_uri": "https://localhost:8080/"
        },
        "id": "XBeZDsayknf-",
        "outputId": "11196f44-1b3d-4342-f1b6-93f925f7e9cc"
      },
      "execution_count": null,
      "outputs": [
        {
          "output_type": "stream",
          "name": "stdout",
          "text": [
            "Registros creados exitosamente!!!\n"
          ]
        }
      ]
    },
    {
      "cell_type": "code",
      "source": [
        "def insertar_datos():\n",
        "  nombre = input(\"Nombre: \")\n",
        "  edad = int(input(\"Edad: \"))\n",
        "  ciudad = input(\"Ciudad: \")\n",
        "  sueldo = float(input(\"Sueldo: \"))\n",
        "\n",
        "  insertar(nombre, edad, ciudad, sueldo)"
      ],
      "metadata": {
        "id": "fJB6O02dlSv7"
      },
      "execution_count": null,
      "outputs": []
    },
    {
      "cell_type": "code",
      "source": [
        "insertar_datos()"
      ],
      "metadata": {
        "colab": {
          "base_uri": "https://localhost:8080/"
        },
        "id": "Ziz0WkLClurf",
        "outputId": "a85ecdb9-dbbe-4a8b-ad72-8815ae3fb016"
      },
      "execution_count": null,
      "outputs": [
        {
          "output_type": "stream",
          "name": "stdout",
          "text": [
            "Nombre: Karen\n",
            "Edad: 34\n",
            "Ciudad: Lima\n",
            "Sueldo: 4999\n",
            "Registros creados exitosamente!!!\n"
          ]
        }
      ]
    },
    {
      "cell_type": "markdown",
      "metadata": {
        "id": "FsP1qCRXC__p"
      },
      "source": [
        "Ver datos:\n"
      ]
    },
    {
      "cell_type": "code",
      "metadata": {
        "id": "-J1VYN24DCYB",
        "colab": {
          "base_uri": "https://localhost:8080/",
          "height": 419
        },
        "outputId": "173e8a1d-1356-4dce-f8af-4b19fe6df2ee"
      },
      "source": [
        "conn = sqlite3.connect(ruta+'BDEmpresas.db')\n",
        "\n",
        "cursor = conn.execute(\"SELECT * FROM EMPLEADO\")\n",
        "df = get_data(cursor)\n",
        "\n",
        "conn.close()\n",
        "print(\"Operation done successfully\")\n",
        "df"
      ],
      "execution_count": null,
      "outputs": [
        {
          "output_type": "stream",
          "name": "stdout",
          "text": [
            "[(1, 'Pedro', 30, 'Arequipa', 3000.0), (2, 'Juan', 30, 'Arequipa', 2000.0), (3, 'Maria', 40, 'Arequipa', 5000.0), (4, 'Alejandro', 23, 'Arequipa', 1000.0), (5, 'Marcos', 30, 'Arequipa', 3000.0), (6, 'Enzo', 30, 'Arequipa', 3000.0), (7, 'Luis', 45, 'Lima', 4500.0), (8, 'Karen', 38, 'Puno', 7000.0), (9, 'Luis', 45, 'Lima', 4500.0), (10, 'Karen', 34, 'Lima', 4999.0)]\n",
            "Operation done successfully\n"
          ]
        },
        {
          "output_type": "execute_result",
          "data": {
            "text/plain": [
              "  ID     NOMBRE  EDAD    CIUDAD  SUELDO\n",
              "   1      Pedro    30  Arequipa  3000.0\n",
              "   2       Juan    30  Arequipa  2000.0\n",
              "   3      Maria    40  Arequipa  5000.0\n",
              "   4  Alejandro    23  Arequipa  1000.0\n",
              "   5     Marcos    30  Arequipa  3000.0\n",
              "   6       Enzo    30  Arequipa  3000.0\n",
              "   7       Luis    45      Lima  4500.0\n",
              "   8      Karen    38      Puno  7000.0\n",
              "   9       Luis    45      Lima  4500.0\n",
              "  10      Karen    34      Lima  4999.0"
            ],
            "text/html": [
              "\n",
              "  <div id=\"df-004403dc-bd7c-475f-89bc-4ea8337e5098\" class=\"colab-df-container\">\n",
              "    <div>\n",
              "<style scoped>\n",
              "    .dataframe tbody tr th:only-of-type {\n",
              "        vertical-align: middle;\n",
              "    }\n",
              "\n",
              "    .dataframe tbody tr th {\n",
              "        vertical-align: top;\n",
              "    }\n",
              "\n",
              "    .dataframe thead th {\n",
              "        text-align: right;\n",
              "    }\n",
              "</style>\n",
              "<table border=\"1\" class=\"dataframe\">\n",
              "  <thead>\n",
              "    <tr style=\"text-align: right;\">\n",
              "      <th></th>\n",
              "      <th>ID</th>\n",
              "      <th>NOMBRE</th>\n",
              "      <th>EDAD</th>\n",
              "      <th>CIUDAD</th>\n",
              "      <th>SUELDO</th>\n",
              "    </tr>\n",
              "  </thead>\n",
              "  <tbody>\n",
              "    <tr>\n",
              "      <th></th>\n",
              "      <td>1</td>\n",
              "      <td>Pedro</td>\n",
              "      <td>30</td>\n",
              "      <td>Arequipa</td>\n",
              "      <td>3000.0</td>\n",
              "    </tr>\n",
              "    <tr>\n",
              "      <th></th>\n",
              "      <td>2</td>\n",
              "      <td>Juan</td>\n",
              "      <td>30</td>\n",
              "      <td>Arequipa</td>\n",
              "      <td>2000.0</td>\n",
              "    </tr>\n",
              "    <tr>\n",
              "      <th></th>\n",
              "      <td>3</td>\n",
              "      <td>Maria</td>\n",
              "      <td>40</td>\n",
              "      <td>Arequipa</td>\n",
              "      <td>5000.0</td>\n",
              "    </tr>\n",
              "    <tr>\n",
              "      <th></th>\n",
              "      <td>4</td>\n",
              "      <td>Alejandro</td>\n",
              "      <td>23</td>\n",
              "      <td>Arequipa</td>\n",
              "      <td>1000.0</td>\n",
              "    </tr>\n",
              "    <tr>\n",
              "      <th></th>\n",
              "      <td>5</td>\n",
              "      <td>Marcos</td>\n",
              "      <td>30</td>\n",
              "      <td>Arequipa</td>\n",
              "      <td>3000.0</td>\n",
              "    </tr>\n",
              "    <tr>\n",
              "      <th></th>\n",
              "      <td>6</td>\n",
              "      <td>Enzo</td>\n",
              "      <td>30</td>\n",
              "      <td>Arequipa</td>\n",
              "      <td>3000.0</td>\n",
              "    </tr>\n",
              "    <tr>\n",
              "      <th></th>\n",
              "      <td>7</td>\n",
              "      <td>Luis</td>\n",
              "      <td>45</td>\n",
              "      <td>Lima</td>\n",
              "      <td>4500.0</td>\n",
              "    </tr>\n",
              "    <tr>\n",
              "      <th></th>\n",
              "      <td>8</td>\n",
              "      <td>Karen</td>\n",
              "      <td>38</td>\n",
              "      <td>Puno</td>\n",
              "      <td>7000.0</td>\n",
              "    </tr>\n",
              "    <tr>\n",
              "      <th></th>\n",
              "      <td>9</td>\n",
              "      <td>Luis</td>\n",
              "      <td>45</td>\n",
              "      <td>Lima</td>\n",
              "      <td>4500.0</td>\n",
              "    </tr>\n",
              "    <tr>\n",
              "      <th></th>\n",
              "      <td>10</td>\n",
              "      <td>Karen</td>\n",
              "      <td>34</td>\n",
              "      <td>Lima</td>\n",
              "      <td>4999.0</td>\n",
              "    </tr>\n",
              "  </tbody>\n",
              "</table>\n",
              "</div>\n",
              "    <div class=\"colab-df-buttons\">\n",
              "\n",
              "  <div class=\"colab-df-container\">\n",
              "    <button class=\"colab-df-convert\" onclick=\"convertToInteractive('df-004403dc-bd7c-475f-89bc-4ea8337e5098')\"\n",
              "            title=\"Convert this dataframe to an interactive table.\"\n",
              "            style=\"display:none;\">\n",
              "\n",
              "  <svg xmlns=\"http://www.w3.org/2000/svg\" height=\"24px\" viewBox=\"0 -960 960 960\">\n",
              "    <path d=\"M120-120v-720h720v720H120Zm60-500h600v-160H180v160Zm220 220h160v-160H400v160Zm0 220h160v-160H400v160ZM180-400h160v-160H180v160Zm440 0h160v-160H620v160ZM180-180h160v-160H180v160Zm440 0h160v-160H620v160Z\"/>\n",
              "  </svg>\n",
              "    </button>\n",
              "\n",
              "  <style>\n",
              "    .colab-df-container {\n",
              "      display:flex;\n",
              "      gap: 12px;\n",
              "    }\n",
              "\n",
              "    .colab-df-convert {\n",
              "      background-color: #E8F0FE;\n",
              "      border: none;\n",
              "      border-radius: 50%;\n",
              "      cursor: pointer;\n",
              "      display: none;\n",
              "      fill: #1967D2;\n",
              "      height: 32px;\n",
              "      padding: 0 0 0 0;\n",
              "      width: 32px;\n",
              "    }\n",
              "\n",
              "    .colab-df-convert:hover {\n",
              "      background-color: #E2EBFA;\n",
              "      box-shadow: 0px 1px 2px rgba(60, 64, 67, 0.3), 0px 1px 3px 1px rgba(60, 64, 67, 0.15);\n",
              "      fill: #174EA6;\n",
              "    }\n",
              "\n",
              "    .colab-df-buttons div {\n",
              "      margin-bottom: 4px;\n",
              "    }\n",
              "\n",
              "    [theme=dark] .colab-df-convert {\n",
              "      background-color: #3B4455;\n",
              "      fill: #D2E3FC;\n",
              "    }\n",
              "\n",
              "    [theme=dark] .colab-df-convert:hover {\n",
              "      background-color: #434B5C;\n",
              "      box-shadow: 0px 1px 3px 1px rgba(0, 0, 0, 0.15);\n",
              "      filter: drop-shadow(0px 1px 2px rgba(0, 0, 0, 0.3));\n",
              "      fill: #FFFFFF;\n",
              "    }\n",
              "  </style>\n",
              "\n",
              "    <script>\n",
              "      const buttonEl =\n",
              "        document.querySelector('#df-004403dc-bd7c-475f-89bc-4ea8337e5098 button.colab-df-convert');\n",
              "      buttonEl.style.display =\n",
              "        google.colab.kernel.accessAllowed ? 'block' : 'none';\n",
              "\n",
              "      async function convertToInteractive(key) {\n",
              "        const element = document.querySelector('#df-004403dc-bd7c-475f-89bc-4ea8337e5098');\n",
              "        const dataTable =\n",
              "          await google.colab.kernel.invokeFunction('convertToInteractive',\n",
              "                                                    [key], {});\n",
              "        if (!dataTable) return;\n",
              "\n",
              "        const docLinkHtml = 'Like what you see? Visit the ' +\n",
              "          '<a target=\"_blank\" href=https://colab.research.google.com/notebooks/data_table.ipynb>data table notebook</a>'\n",
              "          + ' to learn more about interactive tables.';\n",
              "        element.innerHTML = '';\n",
              "        dataTable['output_type'] = 'display_data';\n",
              "        await google.colab.output.renderOutput(dataTable, element);\n",
              "        const docLink = document.createElement('div');\n",
              "        docLink.innerHTML = docLinkHtml;\n",
              "        element.appendChild(docLink);\n",
              "      }\n",
              "    </script>\n",
              "  </div>\n",
              "\n",
              "\n",
              "<div id=\"df-e2de7cda-fd7f-41ac-9e09-ce4fca04a2ed\">\n",
              "  <button class=\"colab-df-quickchart\" onclick=\"quickchart('df-e2de7cda-fd7f-41ac-9e09-ce4fca04a2ed')\"\n",
              "            title=\"Suggest charts\"\n",
              "            style=\"display:none;\">\n",
              "\n",
              "<svg xmlns=\"http://www.w3.org/2000/svg\" height=\"24px\"viewBox=\"0 0 24 24\"\n",
              "     width=\"24px\">\n",
              "    <g>\n",
              "        <path d=\"M19 3H5c-1.1 0-2 .9-2 2v14c0 1.1.9 2 2 2h14c1.1 0 2-.9 2-2V5c0-1.1-.9-2-2-2zM9 17H7v-7h2v7zm4 0h-2V7h2v10zm4 0h-2v-4h2v4z\"/>\n",
              "    </g>\n",
              "</svg>\n",
              "  </button>\n",
              "\n",
              "<style>\n",
              "  .colab-df-quickchart {\n",
              "      --bg-color: #E8F0FE;\n",
              "      --fill-color: #1967D2;\n",
              "      --hover-bg-color: #E2EBFA;\n",
              "      --hover-fill-color: #174EA6;\n",
              "      --disabled-fill-color: #AAA;\n",
              "      --disabled-bg-color: #DDD;\n",
              "  }\n",
              "\n",
              "  [theme=dark] .colab-df-quickchart {\n",
              "      --bg-color: #3B4455;\n",
              "      --fill-color: #D2E3FC;\n",
              "      --hover-bg-color: #434B5C;\n",
              "      --hover-fill-color: #FFFFFF;\n",
              "      --disabled-bg-color: #3B4455;\n",
              "      --disabled-fill-color: #666;\n",
              "  }\n",
              "\n",
              "  .colab-df-quickchart {\n",
              "    background-color: var(--bg-color);\n",
              "    border: none;\n",
              "    border-radius: 50%;\n",
              "    cursor: pointer;\n",
              "    display: none;\n",
              "    fill: var(--fill-color);\n",
              "    height: 32px;\n",
              "    padding: 0;\n",
              "    width: 32px;\n",
              "  }\n",
              "\n",
              "  .colab-df-quickchart:hover {\n",
              "    background-color: var(--hover-bg-color);\n",
              "    box-shadow: 0 1px 2px rgba(60, 64, 67, 0.3), 0 1px 3px 1px rgba(60, 64, 67, 0.15);\n",
              "    fill: var(--button-hover-fill-color);\n",
              "  }\n",
              "\n",
              "  .colab-df-quickchart-complete:disabled,\n",
              "  .colab-df-quickchart-complete:disabled:hover {\n",
              "    background-color: var(--disabled-bg-color);\n",
              "    fill: var(--disabled-fill-color);\n",
              "    box-shadow: none;\n",
              "  }\n",
              "\n",
              "  .colab-df-spinner {\n",
              "    border: 2px solid var(--fill-color);\n",
              "    border-color: transparent;\n",
              "    border-bottom-color: var(--fill-color);\n",
              "    animation:\n",
              "      spin 1s steps(1) infinite;\n",
              "  }\n",
              "\n",
              "  @keyframes spin {\n",
              "    0% {\n",
              "      border-color: transparent;\n",
              "      border-bottom-color: var(--fill-color);\n",
              "      border-left-color: var(--fill-color);\n",
              "    }\n",
              "    20% {\n",
              "      border-color: transparent;\n",
              "      border-left-color: var(--fill-color);\n",
              "      border-top-color: var(--fill-color);\n",
              "    }\n",
              "    30% {\n",
              "      border-color: transparent;\n",
              "      border-left-color: var(--fill-color);\n",
              "      border-top-color: var(--fill-color);\n",
              "      border-right-color: var(--fill-color);\n",
              "    }\n",
              "    40% {\n",
              "      border-color: transparent;\n",
              "      border-right-color: var(--fill-color);\n",
              "      border-top-color: var(--fill-color);\n",
              "    }\n",
              "    60% {\n",
              "      border-color: transparent;\n",
              "      border-right-color: var(--fill-color);\n",
              "    }\n",
              "    80% {\n",
              "      border-color: transparent;\n",
              "      border-right-color: var(--fill-color);\n",
              "      border-bottom-color: var(--fill-color);\n",
              "    }\n",
              "    90% {\n",
              "      border-color: transparent;\n",
              "      border-bottom-color: var(--fill-color);\n",
              "    }\n",
              "  }\n",
              "</style>\n",
              "\n",
              "  <script>\n",
              "    async function quickchart(key) {\n",
              "      const quickchartButtonEl =\n",
              "        document.querySelector('#' + key + ' button');\n",
              "      quickchartButtonEl.disabled = true;  // To prevent multiple clicks.\n",
              "      quickchartButtonEl.classList.add('colab-df-spinner');\n",
              "      try {\n",
              "        const charts = await google.colab.kernel.invokeFunction(\n",
              "            'suggestCharts', [key], {});\n",
              "      } catch (error) {\n",
              "        console.error('Error during call to suggestCharts:', error);\n",
              "      }\n",
              "      quickchartButtonEl.classList.remove('colab-df-spinner');\n",
              "      quickchartButtonEl.classList.add('colab-df-quickchart-complete');\n",
              "    }\n",
              "    (() => {\n",
              "      let quickchartButtonEl =\n",
              "        document.querySelector('#df-e2de7cda-fd7f-41ac-9e09-ce4fca04a2ed button');\n",
              "      quickchartButtonEl.style.display =\n",
              "        google.colab.kernel.accessAllowed ? 'block' : 'none';\n",
              "    })();\n",
              "  </script>\n",
              "</div>\n",
              "    </div>\n",
              "  </div>\n"
            ],
            "application/vnd.google.colaboratory.intrinsic+json": {
              "type": "dataframe",
              "variable_name": "df",
              "summary": "{\n  \"name\": \"df\",\n  \"rows\": 10,\n  \"fields\": [\n    {\n      \"column\": \"ID\",\n      \"properties\": {\n        \"dtype\": \"number\",\n        \"std\": 3,\n        \"min\": 1,\n        \"max\": 10,\n        \"num_unique_values\": 10,\n        \"samples\": [\n          9,\n          2,\n          6\n        ],\n        \"semantic_type\": \"\",\n        \"description\": \"\"\n      }\n    },\n    {\n      \"column\": \"NOMBRE\",\n      \"properties\": {\n        \"dtype\": \"string\",\n        \"num_unique_values\": 8,\n        \"samples\": [\n          \"Juan\",\n          \"Enzo\",\n          \"Pedro\"\n        ],\n        \"semantic_type\": \"\",\n        \"description\": \"\"\n      }\n    },\n    {\n      \"column\": \"EDAD\",\n      \"properties\": {\n        \"dtype\": \"number\",\n        \"std\": 7,\n        \"min\": 23,\n        \"max\": 45,\n        \"num_unique_values\": 6,\n        \"samples\": [\n          30,\n          40,\n          34\n        ],\n        \"semantic_type\": \"\",\n        \"description\": \"\"\n      }\n    },\n    {\n      \"column\": \"CIUDAD\",\n      \"properties\": {\n        \"dtype\": \"category\",\n        \"num_unique_values\": 3,\n        \"samples\": [\n          \"Arequipa\",\n          \"Lima\",\n          \"Puno\"\n        ],\n        \"semantic_type\": \"\",\n        \"description\": \"\"\n      }\n    },\n    {\n      \"column\": \"SUELDO\",\n      \"properties\": {\n        \"dtype\": \"number\",\n        \"std\": 1735.1785338818725,\n        \"min\": 1000.0,\n        \"max\": 7000.0,\n        \"num_unique_values\": 7,\n        \"samples\": [\n          3000.0,\n          2000.0,\n          7000.0\n        ],\n        \"semantic_type\": \"\",\n        \"description\": \"\"\n      }\n    }\n  ]\n}"
            }
          },
          "metadata": {},
          "execution_count": 15
        }
      ]
    },
    {
      "cell_type": "code",
      "source": [
        "!ls drive"
      ],
      "metadata": {
        "colab": {
          "base_uri": "https://localhost:8080/"
        },
        "id": "lHlIWPNbn2aR",
        "outputId": "9c9d35f1-2f1b-413d-b667-29161fb1b4f7"
      },
      "execution_count": null,
      "outputs": [
        {
          "output_type": "stream",
          "name": "stdout",
          "text": [
            "MyDrive  Shareddrives\n"
          ]
        }
      ]
    },
    {
      "cell_type": "code",
      "source": [
        "df.to_excel(ruta+\"empleados.xlsx\", sheet_name=\"EMPLEADOS\", index=False)"
      ],
      "metadata": {
        "id": "t07o785YnT0t"
      },
      "execution_count": null,
      "outputs": []
    },
    {
      "cell_type": "markdown",
      "metadata": {
        "id": "koorE1_6Fyx_"
      },
      "source": [
        "# Formularios en Colab"
      ]
    },
    {
      "cell_type": "code",
      "source": [
        "x = 254 #@param {type: 'integer'}\n",
        "y = 18 #@param {type: 'integer'}\n",
        "\n",
        "print(x + y)"
      ],
      "metadata": {
        "id": "H2SztiOt4Eho",
        "colab": {
          "base_uri": "https://localhost:8080/"
        },
        "outputId": "98979038-8488-4b48-e6f8-1eb0808aea36"
      },
      "execution_count": null,
      "outputs": [
        {
          "output_type": "stream",
          "name": "stdout",
          "text": [
            "907\n"
          ]
        }
      ]
    },
    {
      "cell_type": "markdown",
      "source": [
        "### Ejercicio:\n",
        "\n",
        "Recibir $x$ y $y$ y calcular $xy+x^2$."
      ],
      "metadata": {
        "id": "m-FqPdtgYAPH"
      }
    },
    {
      "cell_type": "code",
      "source": [
        "x = 2 #@param {type: 'integer'}\n",
        "y = 5 #@param {type: 'integer'}\n",
        "\n",
        "print(x*y + x*x)"
      ],
      "metadata": {
        "id": "f6-FPSRdX_ns",
        "colab": {
          "base_uri": "https://localhost:8080/"
        },
        "outputId": "c95b25f6-f687-486c-e16e-89ebcdd06e95"
      },
      "execution_count": null,
      "outputs": [
        {
          "output_type": "stream",
          "name": "stdout",
          "text": [
            "14\n"
          ]
        }
      ]
    },
    {
      "cell_type": "code",
      "metadata": {
        "id": "AnwcyuCAF-jI"
      },
      "source": [
        "#@title Introducir Datos de un Empleado.\n",
        "\n",
        "Nombre =   'Jose' #@param {type:\"string\"}\n",
        "Edad =   35#@param {type: 'integer'}\n",
        "Ciudad =  'Lima' #@param [\"Arequipa\", \"Lima\", \"Cusco\", \"Puno\", \"Moquegua\"]\n",
        "Sueldo =  9000#@param {type: 'integer'}"
      ],
      "execution_count": null,
      "outputs": []
    },
    {
      "cell_type": "markdown",
      "source": [
        "Ingresando datos"
      ],
      "metadata": {
        "id": "W7hGuWpx52Y_"
      }
    },
    {
      "cell_type": "code",
      "source": [
        "conn = sqlite3.connect(ruta+'BDEmpresas.db')\n",
        "\n",
        "with conn:\n",
        "  conn.execute(\"INSERT INTO EMPLEADO (NOMBRE, EDAD, CIUDAD, SUELDO) VALUES(?,?,?,?)\",(Nombre, Edad, Ciudad, Sueldo))\n",
        "conn.close()\n",
        "print(\"Registro creado exitosamente!!\")"
      ],
      "metadata": {
        "id": "vFLOFGae5v9W",
        "colab": {
          "base_uri": "https://localhost:8080/"
        },
        "outputId": "7f9bbb8b-114f-4cf6-b927-d2897f808faf"
      },
      "execution_count": null,
      "outputs": [
        {
          "output_type": "stream",
          "name": "stdout",
          "text": [
            "Registro creado exitosamente!!\n"
          ]
        }
      ]
    },
    {
      "cell_type": "markdown",
      "source": [
        "Visualizar"
      ],
      "metadata": {
        "id": "vDX4A4z_5e6u"
      }
    },
    {
      "cell_type": "code",
      "source": [
        "conn = sqlite3.connect(ruta+'BDEmpresas.db')\n",
        "\n",
        "cursor = conn.execute(\"SELECT * FROM EMPLEADO\")\n",
        "df = get_data(cursor)\n",
        "\n",
        "conn.close()\n",
        "print(\"Operation done successfully\")\n",
        "df"
      ],
      "metadata": {
        "id": "IHNUJ6NV5dq4",
        "colab": {
          "base_uri": "https://localhost:8080/",
          "height": 450
        },
        "outputId": "52463c05-1bda-41b9-cd89-3a0ec83f7e16"
      },
      "execution_count": null,
      "outputs": [
        {
          "output_type": "stream",
          "name": "stdout",
          "text": [
            "[(1, 'Pedro', 30, 'Arequipa', 3000.0), (2, 'Juan', 30, 'Arequipa', 2000.0), (3, 'Maria', 40, 'Arequipa', 5000.0), (4, 'Alejandro', 23, 'Arequipa', 1000.0), (5, 'Marcos', 30, 'Arequipa', 3000.0), (6, 'Enzo', 30, 'Arequipa', 3000.0), (7, 'Luis', 45, 'Lima', 4500.0), (8, 'Karen', 38, 'Puno', 7000.0), (9, 'Luis', 45, 'Lima', 4500.0), (10, 'Karen', 34, 'Lima', 4999.0), (11, 'Jose', 35, 'Lima', 9000.0)]\n",
            "Operation done successfully\n"
          ]
        },
        {
          "output_type": "execute_result",
          "data": {
            "text/plain": [
              "  ID     NOMBRE  EDAD    CIUDAD  SUELDO\n",
              "   1      Pedro    30  Arequipa  3000.0\n",
              "   2       Juan    30  Arequipa  2000.0\n",
              "   3      Maria    40  Arequipa  5000.0\n",
              "   4  Alejandro    23  Arequipa  1000.0\n",
              "   5     Marcos    30  Arequipa  3000.0\n",
              "   6       Enzo    30  Arequipa  3000.0\n",
              "   7       Luis    45      Lima  4500.0\n",
              "   8      Karen    38      Puno  7000.0\n",
              "   9       Luis    45      Lima  4500.0\n",
              "  10      Karen    34      Lima  4999.0\n",
              "  11       Jose    35      Lima  9000.0"
            ],
            "text/html": [
              "\n",
              "  <div id=\"df-2b18973d-a9d1-47b1-8e98-adf728421d72\" class=\"colab-df-container\">\n",
              "    <div>\n",
              "<style scoped>\n",
              "    .dataframe tbody tr th:only-of-type {\n",
              "        vertical-align: middle;\n",
              "    }\n",
              "\n",
              "    .dataframe tbody tr th {\n",
              "        vertical-align: top;\n",
              "    }\n",
              "\n",
              "    .dataframe thead th {\n",
              "        text-align: right;\n",
              "    }\n",
              "</style>\n",
              "<table border=\"1\" class=\"dataframe\">\n",
              "  <thead>\n",
              "    <tr style=\"text-align: right;\">\n",
              "      <th></th>\n",
              "      <th>ID</th>\n",
              "      <th>NOMBRE</th>\n",
              "      <th>EDAD</th>\n",
              "      <th>CIUDAD</th>\n",
              "      <th>SUELDO</th>\n",
              "    </tr>\n",
              "  </thead>\n",
              "  <tbody>\n",
              "    <tr>\n",
              "      <th></th>\n",
              "      <td>1</td>\n",
              "      <td>Pedro</td>\n",
              "      <td>30</td>\n",
              "      <td>Arequipa</td>\n",
              "      <td>3000.0</td>\n",
              "    </tr>\n",
              "    <tr>\n",
              "      <th></th>\n",
              "      <td>2</td>\n",
              "      <td>Juan</td>\n",
              "      <td>30</td>\n",
              "      <td>Arequipa</td>\n",
              "      <td>2000.0</td>\n",
              "    </tr>\n",
              "    <tr>\n",
              "      <th></th>\n",
              "      <td>3</td>\n",
              "      <td>Maria</td>\n",
              "      <td>40</td>\n",
              "      <td>Arequipa</td>\n",
              "      <td>5000.0</td>\n",
              "    </tr>\n",
              "    <tr>\n",
              "      <th></th>\n",
              "      <td>4</td>\n",
              "      <td>Alejandro</td>\n",
              "      <td>23</td>\n",
              "      <td>Arequipa</td>\n",
              "      <td>1000.0</td>\n",
              "    </tr>\n",
              "    <tr>\n",
              "      <th></th>\n",
              "      <td>5</td>\n",
              "      <td>Marcos</td>\n",
              "      <td>30</td>\n",
              "      <td>Arequipa</td>\n",
              "      <td>3000.0</td>\n",
              "    </tr>\n",
              "    <tr>\n",
              "      <th></th>\n",
              "      <td>6</td>\n",
              "      <td>Enzo</td>\n",
              "      <td>30</td>\n",
              "      <td>Arequipa</td>\n",
              "      <td>3000.0</td>\n",
              "    </tr>\n",
              "    <tr>\n",
              "      <th></th>\n",
              "      <td>7</td>\n",
              "      <td>Luis</td>\n",
              "      <td>45</td>\n",
              "      <td>Lima</td>\n",
              "      <td>4500.0</td>\n",
              "    </tr>\n",
              "    <tr>\n",
              "      <th></th>\n",
              "      <td>8</td>\n",
              "      <td>Karen</td>\n",
              "      <td>38</td>\n",
              "      <td>Puno</td>\n",
              "      <td>7000.0</td>\n",
              "    </tr>\n",
              "    <tr>\n",
              "      <th></th>\n",
              "      <td>9</td>\n",
              "      <td>Luis</td>\n",
              "      <td>45</td>\n",
              "      <td>Lima</td>\n",
              "      <td>4500.0</td>\n",
              "    </tr>\n",
              "    <tr>\n",
              "      <th></th>\n",
              "      <td>10</td>\n",
              "      <td>Karen</td>\n",
              "      <td>34</td>\n",
              "      <td>Lima</td>\n",
              "      <td>4999.0</td>\n",
              "    </tr>\n",
              "    <tr>\n",
              "      <th></th>\n",
              "      <td>11</td>\n",
              "      <td>Jose</td>\n",
              "      <td>35</td>\n",
              "      <td>Lima</td>\n",
              "      <td>9000.0</td>\n",
              "    </tr>\n",
              "  </tbody>\n",
              "</table>\n",
              "</div>\n",
              "    <div class=\"colab-df-buttons\">\n",
              "\n",
              "  <div class=\"colab-df-container\">\n",
              "    <button class=\"colab-df-convert\" onclick=\"convertToInteractive('df-2b18973d-a9d1-47b1-8e98-adf728421d72')\"\n",
              "            title=\"Convert this dataframe to an interactive table.\"\n",
              "            style=\"display:none;\">\n",
              "\n",
              "  <svg xmlns=\"http://www.w3.org/2000/svg\" height=\"24px\" viewBox=\"0 -960 960 960\">\n",
              "    <path d=\"M120-120v-720h720v720H120Zm60-500h600v-160H180v160Zm220 220h160v-160H400v160Zm0 220h160v-160H400v160ZM180-400h160v-160H180v160Zm440 0h160v-160H620v160ZM180-180h160v-160H180v160Zm440 0h160v-160H620v160Z\"/>\n",
              "  </svg>\n",
              "    </button>\n",
              "\n",
              "  <style>\n",
              "    .colab-df-container {\n",
              "      display:flex;\n",
              "      gap: 12px;\n",
              "    }\n",
              "\n",
              "    .colab-df-convert {\n",
              "      background-color: #E8F0FE;\n",
              "      border: none;\n",
              "      border-radius: 50%;\n",
              "      cursor: pointer;\n",
              "      display: none;\n",
              "      fill: #1967D2;\n",
              "      height: 32px;\n",
              "      padding: 0 0 0 0;\n",
              "      width: 32px;\n",
              "    }\n",
              "\n",
              "    .colab-df-convert:hover {\n",
              "      background-color: #E2EBFA;\n",
              "      box-shadow: 0px 1px 2px rgba(60, 64, 67, 0.3), 0px 1px 3px 1px rgba(60, 64, 67, 0.15);\n",
              "      fill: #174EA6;\n",
              "    }\n",
              "\n",
              "    .colab-df-buttons div {\n",
              "      margin-bottom: 4px;\n",
              "    }\n",
              "\n",
              "    [theme=dark] .colab-df-convert {\n",
              "      background-color: #3B4455;\n",
              "      fill: #D2E3FC;\n",
              "    }\n",
              "\n",
              "    [theme=dark] .colab-df-convert:hover {\n",
              "      background-color: #434B5C;\n",
              "      box-shadow: 0px 1px 3px 1px rgba(0, 0, 0, 0.15);\n",
              "      filter: drop-shadow(0px 1px 2px rgba(0, 0, 0, 0.3));\n",
              "      fill: #FFFFFF;\n",
              "    }\n",
              "  </style>\n",
              "\n",
              "    <script>\n",
              "      const buttonEl =\n",
              "        document.querySelector('#df-2b18973d-a9d1-47b1-8e98-adf728421d72 button.colab-df-convert');\n",
              "      buttonEl.style.display =\n",
              "        google.colab.kernel.accessAllowed ? 'block' : 'none';\n",
              "\n",
              "      async function convertToInteractive(key) {\n",
              "        const element = document.querySelector('#df-2b18973d-a9d1-47b1-8e98-adf728421d72');\n",
              "        const dataTable =\n",
              "          await google.colab.kernel.invokeFunction('convertToInteractive',\n",
              "                                                    [key], {});\n",
              "        if (!dataTable) return;\n",
              "\n",
              "        const docLinkHtml = 'Like what you see? Visit the ' +\n",
              "          '<a target=\"_blank\" href=https://colab.research.google.com/notebooks/data_table.ipynb>data table notebook</a>'\n",
              "          + ' to learn more about interactive tables.';\n",
              "        element.innerHTML = '';\n",
              "        dataTable['output_type'] = 'display_data';\n",
              "        await google.colab.output.renderOutput(dataTable, element);\n",
              "        const docLink = document.createElement('div');\n",
              "        docLink.innerHTML = docLinkHtml;\n",
              "        element.appendChild(docLink);\n",
              "      }\n",
              "    </script>\n",
              "  </div>\n",
              "\n",
              "\n",
              "<div id=\"df-592e32fd-87a8-4ccb-aa85-535d119a5ff3\">\n",
              "  <button class=\"colab-df-quickchart\" onclick=\"quickchart('df-592e32fd-87a8-4ccb-aa85-535d119a5ff3')\"\n",
              "            title=\"Suggest charts\"\n",
              "            style=\"display:none;\">\n",
              "\n",
              "<svg xmlns=\"http://www.w3.org/2000/svg\" height=\"24px\"viewBox=\"0 0 24 24\"\n",
              "     width=\"24px\">\n",
              "    <g>\n",
              "        <path d=\"M19 3H5c-1.1 0-2 .9-2 2v14c0 1.1.9 2 2 2h14c1.1 0 2-.9 2-2V5c0-1.1-.9-2-2-2zM9 17H7v-7h2v7zm4 0h-2V7h2v10zm4 0h-2v-4h2v4z\"/>\n",
              "    </g>\n",
              "</svg>\n",
              "  </button>\n",
              "\n",
              "<style>\n",
              "  .colab-df-quickchart {\n",
              "      --bg-color: #E8F0FE;\n",
              "      --fill-color: #1967D2;\n",
              "      --hover-bg-color: #E2EBFA;\n",
              "      --hover-fill-color: #174EA6;\n",
              "      --disabled-fill-color: #AAA;\n",
              "      --disabled-bg-color: #DDD;\n",
              "  }\n",
              "\n",
              "  [theme=dark] .colab-df-quickchart {\n",
              "      --bg-color: #3B4455;\n",
              "      --fill-color: #D2E3FC;\n",
              "      --hover-bg-color: #434B5C;\n",
              "      --hover-fill-color: #FFFFFF;\n",
              "      --disabled-bg-color: #3B4455;\n",
              "      --disabled-fill-color: #666;\n",
              "  }\n",
              "\n",
              "  .colab-df-quickchart {\n",
              "    background-color: var(--bg-color);\n",
              "    border: none;\n",
              "    border-radius: 50%;\n",
              "    cursor: pointer;\n",
              "    display: none;\n",
              "    fill: var(--fill-color);\n",
              "    height: 32px;\n",
              "    padding: 0;\n",
              "    width: 32px;\n",
              "  }\n",
              "\n",
              "  .colab-df-quickchart:hover {\n",
              "    background-color: var(--hover-bg-color);\n",
              "    box-shadow: 0 1px 2px rgba(60, 64, 67, 0.3), 0 1px 3px 1px rgba(60, 64, 67, 0.15);\n",
              "    fill: var(--button-hover-fill-color);\n",
              "  }\n",
              "\n",
              "  .colab-df-quickchart-complete:disabled,\n",
              "  .colab-df-quickchart-complete:disabled:hover {\n",
              "    background-color: var(--disabled-bg-color);\n",
              "    fill: var(--disabled-fill-color);\n",
              "    box-shadow: none;\n",
              "  }\n",
              "\n",
              "  .colab-df-spinner {\n",
              "    border: 2px solid var(--fill-color);\n",
              "    border-color: transparent;\n",
              "    border-bottom-color: var(--fill-color);\n",
              "    animation:\n",
              "      spin 1s steps(1) infinite;\n",
              "  }\n",
              "\n",
              "  @keyframes spin {\n",
              "    0% {\n",
              "      border-color: transparent;\n",
              "      border-bottom-color: var(--fill-color);\n",
              "      border-left-color: var(--fill-color);\n",
              "    }\n",
              "    20% {\n",
              "      border-color: transparent;\n",
              "      border-left-color: var(--fill-color);\n",
              "      border-top-color: var(--fill-color);\n",
              "    }\n",
              "    30% {\n",
              "      border-color: transparent;\n",
              "      border-left-color: var(--fill-color);\n",
              "      border-top-color: var(--fill-color);\n",
              "      border-right-color: var(--fill-color);\n",
              "    }\n",
              "    40% {\n",
              "      border-color: transparent;\n",
              "      border-right-color: var(--fill-color);\n",
              "      border-top-color: var(--fill-color);\n",
              "    }\n",
              "    60% {\n",
              "      border-color: transparent;\n",
              "      border-right-color: var(--fill-color);\n",
              "    }\n",
              "    80% {\n",
              "      border-color: transparent;\n",
              "      border-right-color: var(--fill-color);\n",
              "      border-bottom-color: var(--fill-color);\n",
              "    }\n",
              "    90% {\n",
              "      border-color: transparent;\n",
              "      border-bottom-color: var(--fill-color);\n",
              "    }\n",
              "  }\n",
              "</style>\n",
              "\n",
              "  <script>\n",
              "    async function quickchart(key) {\n",
              "      const quickchartButtonEl =\n",
              "        document.querySelector('#' + key + ' button');\n",
              "      quickchartButtonEl.disabled = true;  // To prevent multiple clicks.\n",
              "      quickchartButtonEl.classList.add('colab-df-spinner');\n",
              "      try {\n",
              "        const charts = await google.colab.kernel.invokeFunction(\n",
              "            'suggestCharts', [key], {});\n",
              "      } catch (error) {\n",
              "        console.error('Error during call to suggestCharts:', error);\n",
              "      }\n",
              "      quickchartButtonEl.classList.remove('colab-df-spinner');\n",
              "      quickchartButtonEl.classList.add('colab-df-quickchart-complete');\n",
              "    }\n",
              "    (() => {\n",
              "      let quickchartButtonEl =\n",
              "        document.querySelector('#df-592e32fd-87a8-4ccb-aa85-535d119a5ff3 button');\n",
              "      quickchartButtonEl.style.display =\n",
              "        google.colab.kernel.accessAllowed ? 'block' : 'none';\n",
              "    })();\n",
              "  </script>\n",
              "</div>\n",
              "    </div>\n",
              "  </div>\n"
            ],
            "application/vnd.google.colaboratory.intrinsic+json": {
              "type": "dataframe",
              "variable_name": "df",
              "summary": "{\n  \"name\": \"df\",\n  \"rows\": 11,\n  \"fields\": [\n    {\n      \"column\": \"ID\",\n      \"properties\": {\n        \"dtype\": \"number\",\n        \"std\": 3,\n        \"min\": 1,\n        \"max\": 11,\n        \"num_unique_values\": 11,\n        \"samples\": [\n          6,\n          1,\n          10\n        ],\n        \"semantic_type\": \"\",\n        \"description\": \"\"\n      }\n    },\n    {\n      \"column\": \"NOMBRE\",\n      \"properties\": {\n        \"dtype\": \"string\",\n        \"num_unique_values\": 9,\n        \"samples\": [\n          \"Karen\",\n          \"Juan\",\n          \"Enzo\"\n        ],\n        \"semantic_type\": \"\",\n        \"description\": \"\"\n      }\n    },\n    {\n      \"column\": \"EDAD\",\n      \"properties\": {\n        \"dtype\": \"number\",\n        \"std\": 6,\n        \"min\": 23,\n        \"max\": 45,\n        \"num_unique_values\": 7,\n        \"samples\": [\n          30,\n          40,\n          34\n        ],\n        \"semantic_type\": \"\",\n        \"description\": \"\"\n      }\n    },\n    {\n      \"column\": \"CIUDAD\",\n      \"properties\": {\n        \"dtype\": \"category\",\n        \"num_unique_values\": 3,\n        \"samples\": [\n          \"Arequipa\",\n          \"Lima\",\n          \"Puno\"\n        ],\n        \"semantic_type\": \"\",\n        \"description\": \"\"\n      }\n    },\n    {\n      \"column\": \"SUELDO\",\n      \"properties\": {\n        \"dtype\": \"number\",\n        \"std\": 2273.3315760234923,\n        \"min\": 1000.0,\n        \"max\": 9000.0,\n        \"num_unique_values\": 8,\n        \"samples\": [\n          2000.0,\n          7000.0,\n          3000.0\n        ],\n        \"semantic_type\": \"\",\n        \"description\": \"\"\n      }\n    }\n  ]\n}"
            }
          },
          "metadata": {},
          "execution_count": 28
        }
      ]
    },
    {
      "cell_type": "code",
      "source": [
        "#@title Introducir Datos de un Empleado (Importante)\n",
        "\n",
        "Nombre = 'Carlos' #@param {type:\"string\"}\n",
        "Edad   =  45#@param {type: 'integer'}\n",
        "Ciudad =  'Moquegua' #@param [\"Arequipa\", \"Lima\", \"Cusco\", \"Puno\", \"Moquegua\"]\n",
        "Sueldo =  7000#@param {type: 'integer'}\n",
        "\n",
        "conn = sqlite3.connect(ruta+'BDEmpresas.db')\n",
        "\n",
        "with conn:\n",
        "  conn.execute(\"INSERT INTO EMPLEADO (NOMBRE, EDAD, CIUDAD, SUELDO) VALUES(?,?,?,?)\",(Nombre, Edad, Ciudad, Sueldo))\n",
        "conn.close()\n",
        "print(\"Registro creado exitosamente!!\")"
      ],
      "metadata": {
        "id": "7gvIlOeFfXq_",
        "colab": {
          "base_uri": "https://localhost:8080/"
        },
        "outputId": "a0fb058c-432a-4ee1-b71d-8d0b5bf0eb0f"
      },
      "execution_count": null,
      "outputs": [
        {
          "output_type": "stream",
          "name": "stdout",
          "text": [
            "Registro creado exitosamente!!\n"
          ]
        }
      ]
    },
    {
      "cell_type": "markdown",
      "metadata": {
        "id": "i-L-kq21NsFT"
      },
      "source": [
        "Ver los datos almacenados"
      ]
    },
    {
      "cell_type": "code",
      "metadata": {
        "id": "7tTPu8SuNtt_",
        "colab": {
          "base_uri": "https://localhost:8080/",
          "height": 513
        },
        "outputId": "cf5286ac-0cbd-44e5-ead5-fd3ffd43c248"
      },
      "source": [
        "conn = sqlite3.connect(ruta+'BDEmpresas.db')\n",
        "\n",
        "cursor = conn.execute(\"SELECT * FROM EMPLEADO\")\n",
        "df = get_data(cursor)\n",
        "\n",
        "conn.close()\n",
        "print(\"Operation done successfully\")\n",
        "df"
      ],
      "execution_count": null,
      "outputs": [
        {
          "output_type": "stream",
          "name": "stdout",
          "text": [
            "[(1, 'Pedro', 30, 'Arequipa', 3000.0), (2, 'Juan', 30, 'Arequipa', 2000.0), (3, 'Maria', 40, 'Arequipa', 5000.0), (4, 'Alejandro', 23, 'Arequipa', 1000.0), (5, 'Marcos', 30, 'Arequipa', 3000.0), (6, 'Enzo', 30, 'Arequipa', 3000.0), (7, 'Luis', 45, 'Lima', 4500.0), (8, 'Karen', 38, 'Puno', 7000.0), (9, 'Luis', 45, 'Lima', 4500.0), (10, 'Karen', 34, 'Lima', 4999.0), (11, 'Jose', 35, 'Lima', 9000.0), (12, 'Juan', 60, 'Puno', 8000.0), (13, 'Carlos', 45, 'Moquegua', 7000.0)]\n",
            "Operation done successfully\n"
          ]
        },
        {
          "output_type": "execute_result",
          "data": {
            "text/plain": [
              "  ID     NOMBRE  EDAD    CIUDAD  SUELDO\n",
              "   1      Pedro    30  Arequipa  3000.0\n",
              "   2       Juan    30  Arequipa  2000.0\n",
              "   3      Maria    40  Arequipa  5000.0\n",
              "   4  Alejandro    23  Arequipa  1000.0\n",
              "   5     Marcos    30  Arequipa  3000.0\n",
              "   6       Enzo    30  Arequipa  3000.0\n",
              "   7       Luis    45      Lima  4500.0\n",
              "   8      Karen    38      Puno  7000.0\n",
              "   9       Luis    45      Lima  4500.0\n",
              "  10      Karen    34      Lima  4999.0\n",
              "  11       Jose    35      Lima  9000.0\n",
              "  12       Juan    60      Puno  8000.0\n",
              "  13     Carlos    45  Moquegua  7000.0"
            ],
            "text/html": [
              "\n",
              "  <div id=\"df-3b0ccfee-cffb-4188-84e7-7af9a99fc008\" class=\"colab-df-container\">\n",
              "    <div>\n",
              "<style scoped>\n",
              "    .dataframe tbody tr th:only-of-type {\n",
              "        vertical-align: middle;\n",
              "    }\n",
              "\n",
              "    .dataframe tbody tr th {\n",
              "        vertical-align: top;\n",
              "    }\n",
              "\n",
              "    .dataframe thead th {\n",
              "        text-align: right;\n",
              "    }\n",
              "</style>\n",
              "<table border=\"1\" class=\"dataframe\">\n",
              "  <thead>\n",
              "    <tr style=\"text-align: right;\">\n",
              "      <th></th>\n",
              "      <th>ID</th>\n",
              "      <th>NOMBRE</th>\n",
              "      <th>EDAD</th>\n",
              "      <th>CIUDAD</th>\n",
              "      <th>SUELDO</th>\n",
              "    </tr>\n",
              "  </thead>\n",
              "  <tbody>\n",
              "    <tr>\n",
              "      <th></th>\n",
              "      <td>1</td>\n",
              "      <td>Pedro</td>\n",
              "      <td>30</td>\n",
              "      <td>Arequipa</td>\n",
              "      <td>3000.0</td>\n",
              "    </tr>\n",
              "    <tr>\n",
              "      <th></th>\n",
              "      <td>2</td>\n",
              "      <td>Juan</td>\n",
              "      <td>30</td>\n",
              "      <td>Arequipa</td>\n",
              "      <td>2000.0</td>\n",
              "    </tr>\n",
              "    <tr>\n",
              "      <th></th>\n",
              "      <td>3</td>\n",
              "      <td>Maria</td>\n",
              "      <td>40</td>\n",
              "      <td>Arequipa</td>\n",
              "      <td>5000.0</td>\n",
              "    </tr>\n",
              "    <tr>\n",
              "      <th></th>\n",
              "      <td>4</td>\n",
              "      <td>Alejandro</td>\n",
              "      <td>23</td>\n",
              "      <td>Arequipa</td>\n",
              "      <td>1000.0</td>\n",
              "    </tr>\n",
              "    <tr>\n",
              "      <th></th>\n",
              "      <td>5</td>\n",
              "      <td>Marcos</td>\n",
              "      <td>30</td>\n",
              "      <td>Arequipa</td>\n",
              "      <td>3000.0</td>\n",
              "    </tr>\n",
              "    <tr>\n",
              "      <th></th>\n",
              "      <td>6</td>\n",
              "      <td>Enzo</td>\n",
              "      <td>30</td>\n",
              "      <td>Arequipa</td>\n",
              "      <td>3000.0</td>\n",
              "    </tr>\n",
              "    <tr>\n",
              "      <th></th>\n",
              "      <td>7</td>\n",
              "      <td>Luis</td>\n",
              "      <td>45</td>\n",
              "      <td>Lima</td>\n",
              "      <td>4500.0</td>\n",
              "    </tr>\n",
              "    <tr>\n",
              "      <th></th>\n",
              "      <td>8</td>\n",
              "      <td>Karen</td>\n",
              "      <td>38</td>\n",
              "      <td>Puno</td>\n",
              "      <td>7000.0</td>\n",
              "    </tr>\n",
              "    <tr>\n",
              "      <th></th>\n",
              "      <td>9</td>\n",
              "      <td>Luis</td>\n",
              "      <td>45</td>\n",
              "      <td>Lima</td>\n",
              "      <td>4500.0</td>\n",
              "    </tr>\n",
              "    <tr>\n",
              "      <th></th>\n",
              "      <td>10</td>\n",
              "      <td>Karen</td>\n",
              "      <td>34</td>\n",
              "      <td>Lima</td>\n",
              "      <td>4999.0</td>\n",
              "    </tr>\n",
              "    <tr>\n",
              "      <th></th>\n",
              "      <td>11</td>\n",
              "      <td>Jose</td>\n",
              "      <td>35</td>\n",
              "      <td>Lima</td>\n",
              "      <td>9000.0</td>\n",
              "    </tr>\n",
              "    <tr>\n",
              "      <th></th>\n",
              "      <td>12</td>\n",
              "      <td>Juan</td>\n",
              "      <td>60</td>\n",
              "      <td>Puno</td>\n",
              "      <td>8000.0</td>\n",
              "    </tr>\n",
              "    <tr>\n",
              "      <th></th>\n",
              "      <td>13</td>\n",
              "      <td>Carlos</td>\n",
              "      <td>45</td>\n",
              "      <td>Moquegua</td>\n",
              "      <td>7000.0</td>\n",
              "    </tr>\n",
              "  </tbody>\n",
              "</table>\n",
              "</div>\n",
              "    <div class=\"colab-df-buttons\">\n",
              "\n",
              "  <div class=\"colab-df-container\">\n",
              "    <button class=\"colab-df-convert\" onclick=\"convertToInteractive('df-3b0ccfee-cffb-4188-84e7-7af9a99fc008')\"\n",
              "            title=\"Convert this dataframe to an interactive table.\"\n",
              "            style=\"display:none;\">\n",
              "\n",
              "  <svg xmlns=\"http://www.w3.org/2000/svg\" height=\"24px\" viewBox=\"0 -960 960 960\">\n",
              "    <path d=\"M120-120v-720h720v720H120Zm60-500h600v-160H180v160Zm220 220h160v-160H400v160Zm0 220h160v-160H400v160ZM180-400h160v-160H180v160Zm440 0h160v-160H620v160ZM180-180h160v-160H180v160Zm440 0h160v-160H620v160Z\"/>\n",
              "  </svg>\n",
              "    </button>\n",
              "\n",
              "  <style>\n",
              "    .colab-df-container {\n",
              "      display:flex;\n",
              "      gap: 12px;\n",
              "    }\n",
              "\n",
              "    .colab-df-convert {\n",
              "      background-color: #E8F0FE;\n",
              "      border: none;\n",
              "      border-radius: 50%;\n",
              "      cursor: pointer;\n",
              "      display: none;\n",
              "      fill: #1967D2;\n",
              "      height: 32px;\n",
              "      padding: 0 0 0 0;\n",
              "      width: 32px;\n",
              "    }\n",
              "\n",
              "    .colab-df-convert:hover {\n",
              "      background-color: #E2EBFA;\n",
              "      box-shadow: 0px 1px 2px rgba(60, 64, 67, 0.3), 0px 1px 3px 1px rgba(60, 64, 67, 0.15);\n",
              "      fill: #174EA6;\n",
              "    }\n",
              "\n",
              "    .colab-df-buttons div {\n",
              "      margin-bottom: 4px;\n",
              "    }\n",
              "\n",
              "    [theme=dark] .colab-df-convert {\n",
              "      background-color: #3B4455;\n",
              "      fill: #D2E3FC;\n",
              "    }\n",
              "\n",
              "    [theme=dark] .colab-df-convert:hover {\n",
              "      background-color: #434B5C;\n",
              "      box-shadow: 0px 1px 3px 1px rgba(0, 0, 0, 0.15);\n",
              "      filter: drop-shadow(0px 1px 2px rgba(0, 0, 0, 0.3));\n",
              "      fill: #FFFFFF;\n",
              "    }\n",
              "  </style>\n",
              "\n",
              "    <script>\n",
              "      const buttonEl =\n",
              "        document.querySelector('#df-3b0ccfee-cffb-4188-84e7-7af9a99fc008 button.colab-df-convert');\n",
              "      buttonEl.style.display =\n",
              "        google.colab.kernel.accessAllowed ? 'block' : 'none';\n",
              "\n",
              "      async function convertToInteractive(key) {\n",
              "        const element = document.querySelector('#df-3b0ccfee-cffb-4188-84e7-7af9a99fc008');\n",
              "        const dataTable =\n",
              "          await google.colab.kernel.invokeFunction('convertToInteractive',\n",
              "                                                    [key], {});\n",
              "        if (!dataTable) return;\n",
              "\n",
              "        const docLinkHtml = 'Like what you see? Visit the ' +\n",
              "          '<a target=\"_blank\" href=https://colab.research.google.com/notebooks/data_table.ipynb>data table notebook</a>'\n",
              "          + ' to learn more about interactive tables.';\n",
              "        element.innerHTML = '';\n",
              "        dataTable['output_type'] = 'display_data';\n",
              "        await google.colab.output.renderOutput(dataTable, element);\n",
              "        const docLink = document.createElement('div');\n",
              "        docLink.innerHTML = docLinkHtml;\n",
              "        element.appendChild(docLink);\n",
              "      }\n",
              "    </script>\n",
              "  </div>\n",
              "\n",
              "\n",
              "<div id=\"df-2efb1127-19d9-423f-85e7-306ee0fc9099\">\n",
              "  <button class=\"colab-df-quickchart\" onclick=\"quickchart('df-2efb1127-19d9-423f-85e7-306ee0fc9099')\"\n",
              "            title=\"Suggest charts\"\n",
              "            style=\"display:none;\">\n",
              "\n",
              "<svg xmlns=\"http://www.w3.org/2000/svg\" height=\"24px\"viewBox=\"0 0 24 24\"\n",
              "     width=\"24px\">\n",
              "    <g>\n",
              "        <path d=\"M19 3H5c-1.1 0-2 .9-2 2v14c0 1.1.9 2 2 2h14c1.1 0 2-.9 2-2V5c0-1.1-.9-2-2-2zM9 17H7v-7h2v7zm4 0h-2V7h2v10zm4 0h-2v-4h2v4z\"/>\n",
              "    </g>\n",
              "</svg>\n",
              "  </button>\n",
              "\n",
              "<style>\n",
              "  .colab-df-quickchart {\n",
              "      --bg-color: #E8F0FE;\n",
              "      --fill-color: #1967D2;\n",
              "      --hover-bg-color: #E2EBFA;\n",
              "      --hover-fill-color: #174EA6;\n",
              "      --disabled-fill-color: #AAA;\n",
              "      --disabled-bg-color: #DDD;\n",
              "  }\n",
              "\n",
              "  [theme=dark] .colab-df-quickchart {\n",
              "      --bg-color: #3B4455;\n",
              "      --fill-color: #D2E3FC;\n",
              "      --hover-bg-color: #434B5C;\n",
              "      --hover-fill-color: #FFFFFF;\n",
              "      --disabled-bg-color: #3B4455;\n",
              "      --disabled-fill-color: #666;\n",
              "  }\n",
              "\n",
              "  .colab-df-quickchart {\n",
              "    background-color: var(--bg-color);\n",
              "    border: none;\n",
              "    border-radius: 50%;\n",
              "    cursor: pointer;\n",
              "    display: none;\n",
              "    fill: var(--fill-color);\n",
              "    height: 32px;\n",
              "    padding: 0;\n",
              "    width: 32px;\n",
              "  }\n",
              "\n",
              "  .colab-df-quickchart:hover {\n",
              "    background-color: var(--hover-bg-color);\n",
              "    box-shadow: 0 1px 2px rgba(60, 64, 67, 0.3), 0 1px 3px 1px rgba(60, 64, 67, 0.15);\n",
              "    fill: var(--button-hover-fill-color);\n",
              "  }\n",
              "\n",
              "  .colab-df-quickchart-complete:disabled,\n",
              "  .colab-df-quickchart-complete:disabled:hover {\n",
              "    background-color: var(--disabled-bg-color);\n",
              "    fill: var(--disabled-fill-color);\n",
              "    box-shadow: none;\n",
              "  }\n",
              "\n",
              "  .colab-df-spinner {\n",
              "    border: 2px solid var(--fill-color);\n",
              "    border-color: transparent;\n",
              "    border-bottom-color: var(--fill-color);\n",
              "    animation:\n",
              "      spin 1s steps(1) infinite;\n",
              "  }\n",
              "\n",
              "  @keyframes spin {\n",
              "    0% {\n",
              "      border-color: transparent;\n",
              "      border-bottom-color: var(--fill-color);\n",
              "      border-left-color: var(--fill-color);\n",
              "    }\n",
              "    20% {\n",
              "      border-color: transparent;\n",
              "      border-left-color: var(--fill-color);\n",
              "      border-top-color: var(--fill-color);\n",
              "    }\n",
              "    30% {\n",
              "      border-color: transparent;\n",
              "      border-left-color: var(--fill-color);\n",
              "      border-top-color: var(--fill-color);\n",
              "      border-right-color: var(--fill-color);\n",
              "    }\n",
              "    40% {\n",
              "      border-color: transparent;\n",
              "      border-right-color: var(--fill-color);\n",
              "      border-top-color: var(--fill-color);\n",
              "    }\n",
              "    60% {\n",
              "      border-color: transparent;\n",
              "      border-right-color: var(--fill-color);\n",
              "    }\n",
              "    80% {\n",
              "      border-color: transparent;\n",
              "      border-right-color: var(--fill-color);\n",
              "      border-bottom-color: var(--fill-color);\n",
              "    }\n",
              "    90% {\n",
              "      border-color: transparent;\n",
              "      border-bottom-color: var(--fill-color);\n",
              "    }\n",
              "  }\n",
              "</style>\n",
              "\n",
              "  <script>\n",
              "    async function quickchart(key) {\n",
              "      const quickchartButtonEl =\n",
              "        document.querySelector('#' + key + ' button');\n",
              "      quickchartButtonEl.disabled = true;  // To prevent multiple clicks.\n",
              "      quickchartButtonEl.classList.add('colab-df-spinner');\n",
              "      try {\n",
              "        const charts = await google.colab.kernel.invokeFunction(\n",
              "            'suggestCharts', [key], {});\n",
              "      } catch (error) {\n",
              "        console.error('Error during call to suggestCharts:', error);\n",
              "      }\n",
              "      quickchartButtonEl.classList.remove('colab-df-spinner');\n",
              "      quickchartButtonEl.classList.add('colab-df-quickchart-complete');\n",
              "    }\n",
              "    (() => {\n",
              "      let quickchartButtonEl =\n",
              "        document.querySelector('#df-2efb1127-19d9-423f-85e7-306ee0fc9099 button');\n",
              "      quickchartButtonEl.style.display =\n",
              "        google.colab.kernel.accessAllowed ? 'block' : 'none';\n",
              "    })();\n",
              "  </script>\n",
              "</div>\n",
              "    </div>\n",
              "  </div>\n"
            ],
            "application/vnd.google.colaboratory.intrinsic+json": {
              "type": "dataframe",
              "variable_name": "df",
              "summary": "{\n  \"name\": \"df\",\n  \"rows\": 13,\n  \"fields\": [\n    {\n      \"column\": \"ID\",\n      \"properties\": {\n        \"dtype\": \"number\",\n        \"std\": 3,\n        \"min\": 1,\n        \"max\": 13,\n        \"num_unique_values\": 13,\n        \"samples\": [\n          12,\n          10,\n          1\n        ],\n        \"semantic_type\": \"\",\n        \"description\": \"\"\n      }\n    },\n    {\n      \"column\": \"NOMBRE\",\n      \"properties\": {\n        \"dtype\": \"string\",\n        \"num_unique_values\": 10,\n        \"samples\": [\n          \"Jose\",\n          \"Juan\",\n          \"Enzo\"\n        ],\n        \"semantic_type\": \"\",\n        \"description\": \"\"\n      }\n    },\n    {\n      \"column\": \"EDAD\",\n      \"properties\": {\n        \"dtype\": \"number\",\n        \"std\": 9,\n        \"min\": 23,\n        \"max\": 60,\n        \"num_unique_values\": 8,\n        \"samples\": [\n          40,\n          34,\n          30\n        ],\n        \"semantic_type\": \"\",\n        \"description\": \"\"\n      }\n    },\n    {\n      \"column\": \"CIUDAD\",\n      \"properties\": {\n        \"dtype\": \"category\",\n        \"num_unique_values\": 4,\n        \"samples\": [\n          \"Lima\",\n          \"Moquegua\",\n          \"Arequipa\"\n        ],\n        \"semantic_type\": \"\",\n        \"description\": \"\"\n      }\n    },\n    {\n      \"column\": \"SUELDO\",\n      \"properties\": {\n        \"dtype\": \"number\",\n        \"std\": 2411.9015957729926,\n        \"min\": 1000.0,\n        \"max\": 9000.0,\n        \"num_unique_values\": 9,\n        \"samples\": [\n          9000.0,\n          2000.0,\n          7000.0\n        ],\n        \"semantic_type\": \"\",\n        \"description\": \"\"\n      }\n    }\n  ]\n}"
            }
          },
          "metadata": {},
          "execution_count": 31
        }
      ]
    },
    {
      "cell_type": "markdown",
      "source": [
        "## Ejercicio:\n",
        "\n",
        "Crear una base de datos nueva. O modificar la existente con los integrantes del grupo."
      ],
      "metadata": {
        "id": "YjJ7rltNavld"
      }
    },
    {
      "cell_type": "code",
      "source": [],
      "metadata": {
        "id": "hzk3Buc4hGSB"
      },
      "execution_count": null,
      "outputs": []
    }
  ]
}