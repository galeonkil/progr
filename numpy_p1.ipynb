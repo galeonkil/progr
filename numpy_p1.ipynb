{
  "nbformat": 4,
  "nbformat_minor": 0,
  "metadata": {
    "colab": {
      "provenance": [],
      "collapsed_sections": [
        "WZpYvW8XMLCd",
        "hzBb951MlHKN",
        "s2cT3kh1NIZj",
        "V5RzyLg8O0ow",
        "LtdkILjpN1eU",
        "wl88ttM_Osm6",
        "brkm8XtkN3wS",
        "p-_Xlp-_SBju",
        "rQjeFxl7TWN-",
        "tg8VTfkFVZ0c",
        "lwZPusRcWZ1O",
        "qMepUQpWfdVZ",
        "KO3AQrfCh6bI",
        "KJWI2bc_zKxB",
        "bS3XwBV5BTp6",
        "3A255Z4Mq3uH",
        "b5s4Usptq7Tx"
      ]
    },
    "kernelspec": {
      "name": "python3",
      "display_name": "Python 3"
    },
    "language_info": {
      "name": "python"
    }
  },
  "cells": [
    {
      "cell_type": "markdown",
      "metadata": {
        "id": "61RPKM07MHYN"
      },
      "source": [
        "# NumPy I\n",
        "\n",
        "*Autor: José Chávez*"
      ]
    },
    {
      "cell_type": "markdown",
      "source": [
        "## ¿Como sumar dos listas?\n",
        "\n",
        "Tenemos dos listas \"a\" y \"b\", ambas con la misma cantidad de elementos y con todos sus elementos numéricos."
      ],
      "metadata": {
        "id": "4OqJ1s0_cyqX"
      }
    },
    {
      "cell_type": "code",
      "metadata": {
        "id": "c3xSwe7QYzCy"
      },
      "source": [
        "a = [1,3,4,5]\n",
        "a"
      ],
      "execution_count": null,
      "outputs": []
    },
    {
      "cell_type": "code",
      "metadata": {
        "id": "VK_HQ6aJY4Kh"
      },
      "source": [
        "b = [1,7,3,5]\n",
        "b"
      ],
      "execution_count": null,
      "outputs": []
    },
    {
      "cell_type": "code",
      "metadata": {
        "id": "DeGyDz94Y46q"
      },
      "source": [
        "c = []   # Lista vacia\n",
        "for i, j in zip(a,b):  # zip para concatenar la lista 'a' y 'b'\n",
        "  c.append(i+j)        # '.append' agregar un nuevo elemento a la lista 'c'\n",
        "\n",
        "print(c)"
      ],
      "execution_count": null,
      "outputs": []
    },
    {
      "cell_type": "markdown",
      "source": [
        "La función $\\texttt{zip()}$ retorna una tupla de iterables. Es decir en cada iteración selecciona un elemento de \"a\" y un elemento de \"b\" y los junta."
      ],
      "metadata": {
        "id": "GEhC151hmYEK"
      }
    },
    {
      "cell_type": "markdown",
      "source": [
        "Podemos optimizar esta operación utilizando Numpy."
      ],
      "metadata": {
        "id": "kcPGJyoldFgU"
      }
    },
    {
      "cell_type": "code",
      "metadata": {
        "id": "AeBZ_EraMXIo"
      },
      "source": [
        "import numpy as np"
      ],
      "execution_count": null,
      "outputs": []
    },
    {
      "cell_type": "markdown",
      "metadata": {
        "id": "WZpYvW8XMLCd"
      },
      "source": [
        "# Un Array en Numpy\n",
        "\n",
        "Una array tiene la particularidad de que todos sus elementos son del mismo tipo ($\\texttt{int,float,bool,}$etc). En Python, la formal en la cual podemos crear una array de Numpy es la siguiente:\n",
        "\n",
        "$$\\texttt{np.array(x)}$$\n",
        "\n",
        "donde $\\texttt{x}$ es una secuencia de elementos, como por ejemplo una Lista."
      ]
    },
    {
      "cell_type": "markdown",
      "source": [
        "## Creando un array con Numpy"
      ],
      "metadata": {
        "id": "0T7u6iuYZKQH"
      }
    },
    {
      "cell_type": "code",
      "metadata": {
        "id": "2SX5KtEbMJSF",
        "colab": {
          "base_uri": "https://localhost:8080/"
        },
        "outputId": "9efa9093-bf09-4fed-e003-1ad482bc7070"
      },
      "source": [
        "a1d = np.array([1,2,3])\n",
        "a1d"
      ],
      "execution_count": null,
      "outputs": [
        {
          "output_type": "execute_result",
          "data": {
            "text/plain": [
              "array([1, 2, 3])"
            ]
          },
          "metadata": {},
          "execution_count": 6
        }
      ]
    },
    {
      "cell_type": "code",
      "source": [
        "a1d.shape"
      ],
      "metadata": {
        "id": "VjP8QvWZBOZN",
        "colab": {
          "base_uri": "https://localhost:8080/"
        },
        "outputId": "183dbfb8-a553-49de-ec08-a05c9a175bd9"
      },
      "execution_count": null,
      "outputs": [
        {
          "output_type": "execute_result",
          "data": {
            "text/plain": [
              "(3,)"
            ]
          },
          "metadata": {},
          "execution_count": 7
        }
      ]
    },
    {
      "cell_type": "markdown",
      "source": [
        "El método $\\texttt{shape}$ nos permite calcular el tamaño del array."
      ],
      "metadata": {
        "id": "5uD17_azrc68"
      }
    },
    {
      "cell_type": "markdown",
      "source": [
        "Podemos crear un array con una lista de listas (listas anidadas)."
      ],
      "metadata": {
        "id": "T6pqnuwqrpwC"
      }
    },
    {
      "cell_type": "code",
      "metadata": {
        "id": "XXvw-7zXMgbB",
        "colab": {
          "base_uri": "https://localhost:8080/"
        },
        "outputId": "7fec8097-a96d-4d9a-b86b-cef8c75c3e21"
      },
      "source": [
        "a2d = np.array([[1,2],[3,4]])\n",
        "a2d"
      ],
      "execution_count": null,
      "outputs": [
        {
          "output_type": "execute_result",
          "data": {
            "text/plain": [
              "array([[1, 2],\n",
              "       [3, 4]])"
            ]
          },
          "metadata": {},
          "execution_count": 8
        }
      ]
    },
    {
      "cell_type": "code",
      "source": [
        "a2d.shape"
      ],
      "metadata": {
        "colab": {
          "base_uri": "https://localhost:8080/"
        },
        "id": "qBEl_XvTBS00",
        "outputId": "3d8156e3-9748-4db7-fb95-40199bd04949"
      },
      "execution_count": null,
      "outputs": [
        {
          "output_type": "execute_result",
          "data": {
            "text/plain": [
              "(2, 2)"
            ]
          },
          "metadata": {},
          "execution_count": 9
        }
      ]
    },
    {
      "cell_type": "code",
      "source": [
        "a2d.ndim"
      ],
      "metadata": {
        "colab": {
          "base_uri": "https://localhost:8080/"
        },
        "id": "BQYxRTQZ85yO",
        "outputId": "58736ba1-89e3-4cb2-8194-649977c75193"
      },
      "execution_count": null,
      "outputs": [
        {
          "output_type": "execute_result",
          "data": {
            "text/plain": [
              "2"
            ]
          },
          "metadata": {},
          "execution_count": 10
        }
      ]
    },
    {
      "cell_type": "code",
      "metadata": {
        "id": "nut_z9CTMmYf",
        "colab": {
          "base_uri": "https://localhost:8080/"
        },
        "outputId": "05681103-b0c1-435a-a83e-2775ee71232b"
      },
      "source": [
        "a3d = np.array([[[1,2],[3,4]], [[5,6],[7,8]]])\n",
        "a3d"
      ],
      "execution_count": null,
      "outputs": [
        {
          "output_type": "execute_result",
          "data": {
            "text/plain": [
              "array([[[1, 2],\n",
              "        [3, 4]],\n",
              "\n",
              "       [[5, 6],\n",
              "        [7, 8]]])"
            ]
          },
          "metadata": {},
          "execution_count": 11
        }
      ]
    },
    {
      "cell_type": "code",
      "source": [
        "a3d.shape"
      ],
      "metadata": {
        "colab": {
          "base_uri": "https://localhost:8080/"
        },
        "id": "VaickjpMBWO-",
        "outputId": "d3e844a6-63fa-4abb-9118-4033f891dfde"
      },
      "execution_count": null,
      "outputs": [
        {
          "output_type": "execute_result",
          "data": {
            "text/plain": [
              "(2, 2, 2)"
            ]
          },
          "metadata": {},
          "execution_count": 12
        }
      ]
    },
    {
      "cell_type": "code",
      "source": [
        "a3d.ndim"
      ],
      "metadata": {
        "colab": {
          "base_uri": "https://localhost:8080/"
        },
        "id": "X1r3rhkTCW32",
        "outputId": "2ea7f080-b85a-4adb-8fc4-2dddad638811"
      },
      "execution_count": null,
      "outputs": [
        {
          "output_type": "execute_result",
          "data": {
            "text/plain": [
              "3"
            ]
          },
          "metadata": {},
          "execution_count": 13
        }
      ]
    },
    {
      "cell_type": "markdown",
      "source": [
        "El método $\\texttt{ndim}$ nos permite calcular cuantas dimensiones posee el actual array. En Numpy, podemos crear arrays de una o más dimensiones:\n",
        "* $\\texttt{a1d}$: array de una dimensión.\n",
        "* $\\texttt{a2d}$: array de dos dimensión.\n",
        "* $\\texttt{a3d}$: array de tres dimensión."
      ],
      "metadata": {
        "id": "zH80jZPIq71V"
      }
    },
    {
      "cell_type": "markdown",
      "source": [
        "Por último, podemos cambiar las dimensiones de un array utilizando el argumento $\\texttt{ndim}$"
      ],
      "metadata": {
        "id": "lMwngdScXh_a"
      }
    },
    {
      "cell_type": "code",
      "source": [
        "a1d"
      ],
      "metadata": {
        "colab": {
          "base_uri": "https://localhost:8080/"
        },
        "id": "qTqbbPyDCFT9",
        "outputId": "527ec04b-7028-4f7b-d1d6-18e55ae37f0d"
      },
      "execution_count": null,
      "outputs": [
        {
          "output_type": "execute_result",
          "data": {
            "text/plain": [
              "array([1, 2, 3])"
            ]
          },
          "metadata": {},
          "execution_count": 14
        }
      ]
    },
    {
      "cell_type": "code",
      "source": [
        "print(a1d.ndim)"
      ],
      "metadata": {
        "colab": {
          "base_uri": "https://localhost:8080/"
        },
        "id": "NyPyz0ftyyXX",
        "outputId": "c5517de4-014c-4dd3-eb92-c989e624bf1e"
      },
      "execution_count": null,
      "outputs": [
        {
          "output_type": "stream",
          "name": "stdout",
          "text": [
            "1\n"
          ]
        }
      ]
    },
    {
      "cell_type": "code",
      "metadata": {
        "id": "BGjyYnpekA_0",
        "colab": {
          "base_uri": "https://localhost:8080/"
        },
        "outputId": "d8e36f31-01ed-4a8c-8701-84b529735239"
      },
      "source": [
        "# ndmin\n",
        "m = np.array(a1d, ndmin=2)\n",
        "\n",
        "print(m)"
      ],
      "execution_count": null,
      "outputs": [
        {
          "output_type": "stream",
          "name": "stdout",
          "text": [
            "[[1 2 3]]\n"
          ]
        }
      ]
    },
    {
      "cell_type": "code",
      "source": [
        "print(m.ndim)"
      ],
      "metadata": {
        "colab": {
          "base_uri": "https://localhost:8080/"
        },
        "id": "HgbgbicWCQ-k",
        "outputId": "a8c43630-0dd8-45d9-cc86-31e89b0b24b9"
      },
      "execution_count": null,
      "outputs": [
        {
          "output_type": "stream",
          "name": "stdout",
          "text": [
            "2\n"
          ]
        }
      ]
    },
    {
      "cell_type": "markdown",
      "source": [
        "## Recordemos que todos los elementos de un array son del mismo tipo"
      ],
      "metadata": {
        "id": "hP1YcB5dXPex"
      }
    },
    {
      "cell_type": "code",
      "metadata": {
        "id": "o0Xs7SKtjxNv",
        "colab": {
          "base_uri": "https://localhost:8080/"
        },
        "outputId": "93ccb478-0a2f-410e-ff8e-5f44047ec600"
      },
      "source": [
        "m = np.array([1, 2, 4])\n",
        "\n",
        "print(m.dtype)"
      ],
      "execution_count": null,
      "outputs": [
        {
          "output_type": "stream",
          "name": "stdout",
          "text": [
            "int64\n"
          ]
        }
      ]
    },
    {
      "cell_type": "code",
      "metadata": {
        "id": "AFR5qhLvj55U",
        "colab": {
          "base_uri": "https://localhost:8080/"
        },
        "outputId": "8d47dec8-29be-4bfc-f7a4-b3263403d2ca"
      },
      "source": [
        "m = np.array([1, 2, 4.5])\n",
        "print(m.dtype)"
      ],
      "execution_count": null,
      "outputs": [
        {
          "output_type": "stream",
          "name": "stdout",
          "text": [
            "float64\n"
          ]
        }
      ]
    },
    {
      "cell_type": "code",
      "source": [
        "m"
      ],
      "metadata": {
        "colab": {
          "base_uri": "https://localhost:8080/"
        },
        "id": "Cq6EgQy-90ZW",
        "outputId": "d0727fa0-4b2d-4548-b8b5-f6bfc173c0cf"
      },
      "execution_count": null,
      "outputs": [
        {
          "output_type": "execute_result",
          "data": {
            "text/plain": [
              "array([1. , 2. , 4.5])"
            ]
          },
          "metadata": {},
          "execution_count": 20
        }
      ]
    },
    {
      "cell_type": "markdown",
      "source": [
        "En este último caso \"4.5\" es de tipo $\\texttt{float}$, por lo cual el tipo de dato para todos los elementos del array será $\\texttt{float}$."
      ],
      "metadata": {
        "id": "nDhlRyTMXA3U"
      }
    },
    {
      "cell_type": "markdown",
      "metadata": {
        "id": "hzBb951MlHKN"
      },
      "source": [
        "## Copiar el contenido de un array a otro\n",
        "\n",
        "Si queremos crear un nuevo array pero con los mismo elementos de otro, tenemos que utilizar el método $\\texttt{copy}$."
      ]
    },
    {
      "cell_type": "code",
      "metadata": {
        "id": "JArlK8bZlJg0"
      },
      "source": [
        "a = np.array([1,3,5]) # a=[1,3,5] -> a=[10,3,5]"
      ],
      "execution_count": null,
      "outputs": []
    },
    {
      "cell_type": "code",
      "source": [
        "b = a\n",
        "c = np.copy(a)"
      ],
      "metadata": {
        "id": "5pBgKzkZDf85"
      },
      "execution_count": null,
      "outputs": []
    },
    {
      "cell_type": "code",
      "source": [
        "a[0] = 10"
      ],
      "metadata": {
        "id": "IYVJu-jJDeBj"
      },
      "execution_count": null,
      "outputs": []
    },
    {
      "cell_type": "code",
      "metadata": {
        "id": "xhlDVlUZlOTl",
        "colab": {
          "base_uri": "https://localhost:8080/"
        },
        "outputId": "3eb7eb06-3427-4de7-d427-817b20b46a2f"
      },
      "source": [
        "print(f\"a = {a}\")\n",
        "print(f\"b = {b}\")\n",
        "print(f\"c = {c}\")"
      ],
      "execution_count": null,
      "outputs": [
        {
          "output_type": "stream",
          "name": "stdout",
          "text": [
            "a = [10  3  5]\n",
            "b = [10  3  5]\n",
            "c = [1 3 5]\n"
          ]
        }
      ]
    },
    {
      "cell_type": "markdown",
      "metadata": {
        "id": "s2cT3kh1NIZj"
      },
      "source": [
        "# Listas vs NumPy\n",
        "\n",
        "¿Porque utilizar Numpy si puedo utilizar Listas?\n",
        "\n",
        "Esta es la pregunta que responderemos a continuación. Para lo cual validaremos los resultados mostrar la memoria que ocupa un Array de Numpy y que tan rápidas son las operaciones de un Array comparadas con las de una Lista.\n"
      ]
    },
    {
      "cell_type": "code",
      "metadata": {
        "id": "WgQqDF56NRHJ"
      },
      "source": [
        "import time"
      ],
      "execution_count": null,
      "outputs": []
    },
    {
      "cell_type": "markdown",
      "metadata": {
        "id": "V5RzyLg8O0ow"
      },
      "source": [
        "## Memoria"
      ]
    },
    {
      "cell_type": "code",
      "metadata": {
        "id": "IIiLtQ83PDSG"
      },
      "source": [
        "import sys"
      ],
      "execution_count": null,
      "outputs": []
    },
    {
      "cell_type": "code",
      "metadata": {
        "id": "z9pnUEbCO6Jb",
        "colab": {
          "base_uri": "https://localhost:8080/"
        },
        "outputId": "c2b9abb4-835e-421a-eac0-d5bab14b8e62"
      },
      "source": [
        "L = list(range(10))\n",
        "L"
      ],
      "execution_count": null,
      "outputs": [
        {
          "output_type": "execute_result",
          "data": {
            "text/plain": [
              "[0, 1, 2, 3, 4, 5, 6, 7, 8, 9]"
            ]
          },
          "metadata": {},
          "execution_count": 27
        }
      ]
    },
    {
      "cell_type": "code",
      "source": [
        "len(L)"
      ],
      "metadata": {
        "colab": {
          "base_uri": "https://localhost:8080/"
        },
        "id": "2VUQca6hEtVV",
        "outputId": "6b0c5466-0d4b-4225-dd70-aa1421d50a69"
      },
      "execution_count": null,
      "outputs": [
        {
          "output_type": "execute_result",
          "data": {
            "text/plain": [
              "10"
            ]
          },
          "metadata": {},
          "execution_count": 28
        }
      ]
    },
    {
      "cell_type": "code",
      "source": [
        "sys.getsizeof(1)"
      ],
      "metadata": {
        "colab": {
          "base_uri": "https://localhost:8080/"
        },
        "id": "BAP7KPGsEwUT",
        "outputId": "c221b9d2-1d06-4838-8a67-b0071ba2b687"
      },
      "execution_count": null,
      "outputs": [
        {
          "output_type": "execute_result",
          "data": {
            "text/plain": [
              "28"
            ]
          },
          "metadata": {},
          "execution_count": 29
        }
      ]
    },
    {
      "cell_type": "code",
      "source": [
        "print(\"{:d} bytes en una lista de 10 enteros\".format(sys.getsizeof(1)*len(L)))"
      ],
      "metadata": {
        "colab": {
          "base_uri": "https://localhost:8080/"
        },
        "id": "YWdLCutsEi_-",
        "outputId": "350aff4d-e794-47ac-b0fe-fc86f18a1f3f"
      },
      "execution_count": null,
      "outputs": [
        {
          "output_type": "stream",
          "name": "stdout",
          "text": [
            "280 bytes en una lista de 10 enteros\n"
          ]
        }
      ]
    },
    {
      "cell_type": "code",
      "metadata": {
        "id": "ZOZxq-97PLIh",
        "colab": {
          "base_uri": "https://localhost:8080/"
        },
        "outputId": "0c7dc600-e577-4ade-e103-215ebb636d0f"
      },
      "source": [
        "A = np.array(range(10))\n",
        "A"
      ],
      "execution_count": null,
      "outputs": [
        {
          "output_type": "execute_result",
          "data": {
            "text/plain": [
              "array([0, 1, 2, 3, 4, 5, 6, 7, 8, 9])"
            ]
          },
          "metadata": {},
          "execution_count": 31
        }
      ]
    },
    {
      "cell_type": "code",
      "source": [
        "A.size"
      ],
      "metadata": {
        "colab": {
          "base_uri": "https://localhost:8080/"
        },
        "id": "GWvlgq_NFVw4",
        "outputId": "de28eb3c-351e-45d6-bcfc-fa11f497f5ce"
      },
      "execution_count": null,
      "outputs": [
        {
          "output_type": "execute_result",
          "data": {
            "text/plain": [
              "10"
            ]
          },
          "metadata": {},
          "execution_count": 32
        }
      ]
    },
    {
      "cell_type": "code",
      "source": [
        "A.itemsize"
      ],
      "metadata": {
        "colab": {
          "base_uri": "https://localhost:8080/"
        },
        "id": "CwO1x7QiFY5X",
        "outputId": "68623c6b-c540-4a3c-83f4-5e4df15fc52a"
      },
      "execution_count": null,
      "outputs": [
        {
          "output_type": "execute_result",
          "data": {
            "text/plain": [
              "8"
            ]
          },
          "metadata": {},
          "execution_count": 33
        }
      ]
    },
    {
      "cell_type": "code",
      "source": [
        "print(\"{:d} bytes en una array de 10 enteros\".format(A.itemsize * A.size))"
      ],
      "metadata": {
        "colab": {
          "base_uri": "https://localhost:8080/"
        },
        "id": "o70PVIooFIbV",
        "outputId": "18dffb08-2362-4517-bd0b-6411882936d1"
      },
      "execution_count": null,
      "outputs": [
        {
          "output_type": "stream",
          "name": "stdout",
          "text": [
            "80 bytes en una array de 10 enteros\n"
          ]
        }
      ]
    },
    {
      "cell_type": "markdown",
      "metadata": {
        "id": "LtdkILjpN1eU"
      },
      "source": [
        "## Tiempo computacional"
      ]
    },
    {
      "cell_type": "markdown",
      "metadata": {
        "id": "wl88ttM_Osm6"
      },
      "source": [
        "### Listas"
      ]
    },
    {
      "cell_type": "code",
      "metadata": {
        "id": "FC2PLLFaN-Ob"
      },
      "source": [
        "N = 1000000"
      ],
      "execution_count": null,
      "outputs": []
    },
    {
      "cell_type": "code",
      "metadata": {
        "id": "LO8LSOEmNESF"
      },
      "source": [
        "a = list(range(N)) # a=[0,1,2,...,999999]\n",
        "b = list(range(N)) # b=[0,1,2,...,999999]"
      ],
      "execution_count": null,
      "outputs": []
    },
    {
      "cell_type": "code",
      "source": [
        "type(a)"
      ],
      "metadata": {
        "colab": {
          "base_uri": "https://localhost:8080/"
        },
        "id": "6DJGeiFNGy0j",
        "outputId": "ba58354b-2044-48c1-ba7b-1a034b94c54b"
      },
      "execution_count": null,
      "outputs": [
        {
          "output_type": "execute_result",
          "data": {
            "text/plain": [
              "list"
            ]
          },
          "metadata": {},
          "execution_count": 37
        }
      ]
    },
    {
      "cell_type": "code",
      "source": [
        "type(b)"
      ],
      "metadata": {
        "colab": {
          "base_uri": "https://localhost:8080/"
        },
        "id": "TluDBplHG00h",
        "outputId": "2745b98c-20d8-42ca-9054-bb887b4a8d07"
      },
      "execution_count": null,
      "outputs": [
        {
          "output_type": "execute_result",
          "data": {
            "text/plain": [
              "list"
            ]
          },
          "metadata": {},
          "execution_count": 38
        }
      ]
    },
    {
      "cell_type": "code",
      "metadata": {
        "id": "QACtWoJTNWQD",
        "colab": {
          "base_uri": "https://localhost:8080/"
        },
        "outputId": "53bebde5-7013-43ec-94d8-94896b38c078"
      },
      "source": [
        "start = time.time()\n",
        "\n",
        "c = []\n",
        "for i in range(len(a)):\n",
        "  c.append(a[i] + b[i])\n",
        "\n",
        "end = time.time()\n",
        "\n",
        "print(\"tiempo: {:.2f}s\".format(end-start))"
      ],
      "execution_count": null,
      "outputs": [
        {
          "output_type": "stream",
          "name": "stdout",
          "text": [
            "tiempo: 0.27s\n"
          ]
        }
      ]
    },
    {
      "cell_type": "code",
      "source": [
        "time.time()"
      ],
      "metadata": {
        "id": "ywR0xNIRBdj2"
      },
      "execution_count": null,
      "outputs": []
    },
    {
      "cell_type": "markdown",
      "metadata": {
        "id": "brkm8XtkN3wS"
      },
      "source": [
        "### Numpy"
      ]
    },
    {
      "cell_type": "code",
      "metadata": {
        "id": "e7h_Zo6UNspJ"
      },
      "source": [
        "a = np.array(range(N))\n",
        "b = np.array(range(N))"
      ],
      "execution_count": null,
      "outputs": []
    },
    {
      "cell_type": "code",
      "metadata": {
        "id": "a3tNdQHvOGvy",
        "colab": {
          "base_uri": "https://localhost:8080/"
        },
        "outputId": "228390c2-a817-4fa9-8e68-f99ded2da867"
      },
      "source": [
        "start = time.time()\n",
        "\n",
        "c = a + b\n",
        "\n",
        "end = time.time()\n",
        "\n",
        "print(\"tiempo: {:.6f}s\".format(end-start))"
      ],
      "execution_count": null,
      "outputs": [
        {
          "output_type": "stream",
          "name": "stdout",
          "text": [
            "tiempo: 0.005911s\n"
          ]
        }
      ]
    },
    {
      "cell_type": "code",
      "metadata": {
        "id": "REIE2uAhZwO9"
      },
      "source": [
        "a.dtype"
      ],
      "execution_count": null,
      "outputs": []
    },
    {
      "cell_type": "markdown",
      "source": [
        "# Generación de arrays predeterminados\n",
        "\n",
        "En Numpy existen arrays que ya tienen una configuración definidad, donde unicamente tenemos que indicar el tamaño y las dimensiones."
      ],
      "metadata": {
        "id": "CxryZ3oPw7-p"
      }
    },
    {
      "cell_type": "markdown",
      "metadata": {
        "id": "p-_Xlp-_SBju"
      },
      "source": [
        "## $\\texttt{np.zeros(shape, dtype=float)}$"
      ]
    },
    {
      "cell_type": "code",
      "metadata": {
        "id": "5nxCu0ZpR8j5",
        "colab": {
          "base_uri": "https://localhost:8080/"
        },
        "outputId": "9af937e7-6328-4661-d08e-a78204bce158"
      },
      "source": [
        "x = np.zeros((5,8))\n",
        "print(x)"
      ],
      "execution_count": null,
      "outputs": [
        {
          "output_type": "stream",
          "name": "stdout",
          "text": [
            "[[0. 0. 0. 0. 0. 0. 0. 0.]\n",
            " [0. 0. 0. 0. 0. 0. 0. 0.]\n",
            " [0. 0. 0. 0. 0. 0. 0. 0.]\n",
            " [0. 0. 0. 0. 0. 0. 0. 0.]\n",
            " [0. 0. 0. 0. 0. 0. 0. 0.]]\n"
          ]
        }
      ]
    },
    {
      "cell_type": "code",
      "source": [
        "# ChatGPT (Tokenization)\n",
        "# paso1 -> [0,0,0,0,0,0,0,0]\n",
        "# INSTR -> Que dia es hoy?\n",
        "# paso2 -> [57,999,91,1000,32]\n",
        "\n",
        "# paso3 -> [57,999,91,1000,32,0,0,0] # este vector pasa como entrada al modelo\n"
      ],
      "metadata": {
        "id": "yGlAW6OI7Xo_"
      },
      "execution_count": null,
      "outputs": []
    },
    {
      "cell_type": "code",
      "source": [
        "type(x)"
      ],
      "metadata": {
        "colab": {
          "base_uri": "https://localhost:8080/"
        },
        "id": "9RsQ3MBuEqgB",
        "outputId": "ad1cfe49-37cc-4a0a-92a9-534daeb2e7bd"
      },
      "execution_count": null,
      "outputs": [
        {
          "output_type": "execute_result",
          "data": {
            "text/plain": [
              "numpy.ndarray"
            ]
          },
          "metadata": {},
          "execution_count": 44
        }
      ]
    },
    {
      "cell_type": "code",
      "source": [
        "x = np.zeros((2,3,2))\n",
        "print(x)"
      ],
      "metadata": {
        "id": "UWPl-c2FPIIE",
        "colab": {
          "base_uri": "https://localhost:8080/"
        },
        "outputId": "2c9cdf16-610f-4b31-d791-19e22e41ddc8"
      },
      "execution_count": null,
      "outputs": [
        {
          "output_type": "stream",
          "name": "stdout",
          "text": [
            "[[[0. 0.]\n",
            "  [0. 0.]\n",
            "  [0. 0.]]\n",
            "\n",
            " [[0. 0.]\n",
            "  [0. 0.]\n",
            "  [0. 0.]]]\n"
          ]
        }
      ]
    },
    {
      "cell_type": "markdown",
      "source": [
        "Crear una matriz de ceros del mismo tamaño de otra matriz"
      ],
      "metadata": {
        "id": "Bbmmweb18X3n"
      }
    },
    {
      "cell_type": "code",
      "metadata": {
        "id": "Gq5M26aCTbod",
        "colab": {
          "base_uri": "https://localhost:8080/"
        },
        "outputId": "49fe86e0-8a2b-49b2-fcf6-6846332f5b7b"
      },
      "source": [
        "a = np.array([[1,2],[3,4]])\n",
        "a"
      ],
      "execution_count": null,
      "outputs": [
        {
          "output_type": "execute_result",
          "data": {
            "text/plain": [
              "array([[1, 2],\n",
              "       [3, 4]])"
            ]
          },
          "metadata": {},
          "execution_count": 47
        }
      ]
    },
    {
      "cell_type": "code",
      "source": [
        "w, h = a.shape\n",
        "print(w,h)"
      ],
      "metadata": {
        "id": "pqERySbyPiMt",
        "colab": {
          "base_uri": "https://localhost:8080/"
        },
        "outputId": "be9227d0-dc31-4853-eb22-4fa6ccb3f69c"
      },
      "execution_count": null,
      "outputs": [
        {
          "output_type": "stream",
          "name": "stdout",
          "text": [
            "2 2\n"
          ]
        }
      ]
    },
    {
      "cell_type": "code",
      "source": [
        "x = np.zeros((w,h))\n",
        "x"
      ],
      "metadata": {
        "colab": {
          "base_uri": "https://localhost:8080/"
        },
        "id": "eq7jGBvzFHZ5",
        "outputId": "7907d983-51a8-458b-b4e5-8cf0c8f97461"
      },
      "execution_count": null,
      "outputs": [
        {
          "output_type": "execute_result",
          "data": {
            "text/plain": [
              "array([[0., 0.],\n",
              "       [0., 0.]])"
            ]
          },
          "metadata": {},
          "execution_count": 49
        }
      ]
    },
    {
      "cell_type": "code",
      "metadata": {
        "id": "XK8Nh2qsTlaV",
        "colab": {
          "base_uri": "https://localhost:8080/"
        },
        "outputId": "6fdedc69-1b39-48fb-be18-f47b94af294f"
      },
      "source": [
        "z = np.zeros_like(a)\n",
        "print(z, z.shape)"
      ],
      "execution_count": null,
      "outputs": [
        {
          "output_type": "stream",
          "name": "stdout",
          "text": [
            "[[0 0]\n",
            " [0 0]] (2, 2)\n"
          ]
        }
      ]
    },
    {
      "cell_type": "markdown",
      "metadata": {
        "id": "rQjeFxl7TWN-"
      },
      "source": [
        "## $\\texttt{np.ones(shape, dtype=float)}$"
      ]
    },
    {
      "cell_type": "code",
      "source": [
        "y = np.ones((4,8))\n",
        "print(y)"
      ],
      "metadata": {
        "colab": {
          "base_uri": "https://localhost:8080/"
        },
        "id": "jIvUK5qDFmQV",
        "outputId": "a63b5310-6a33-46f9-e433-1a70d3937252"
      },
      "execution_count": null,
      "outputs": [
        {
          "output_type": "stream",
          "name": "stdout",
          "text": [
            "[[1. 1. 1. 1. 1. 1. 1. 1.]\n",
            " [1. 1. 1. 1. 1. 1. 1. 1.]\n",
            " [1. 1. 1. 1. 1. 1. 1. 1.]\n",
            " [1. 1. 1. 1. 1. 1. 1. 1.]]\n"
          ]
        }
      ]
    },
    {
      "cell_type": "code",
      "metadata": {
        "id": "aL6UljEFVR7p",
        "colab": {
          "base_uri": "https://localhost:8080/"
        },
        "outputId": "12ec93d8-eece-403e-a119-591ee966d62b"
      },
      "source": [
        "z = np.ones_like(a)\n",
        "print(z)"
      ],
      "execution_count": null,
      "outputs": [
        {
          "output_type": "stream",
          "name": "stdout",
          "text": [
            "[[1 1]\n",
            " [1 1]]\n"
          ]
        }
      ]
    },
    {
      "cell_type": "markdown",
      "metadata": {
        "id": "tg8VTfkFVZ0c"
      },
      "source": [
        "## $\\texttt{np.full(shape, fill_value, dtype=None)}$"
      ]
    },
    {
      "cell_type": "code",
      "metadata": {
        "id": "ZSmIloAJWAi4",
        "colab": {
          "base_uri": "https://localhost:8080/"
        },
        "outputId": "935ca7b5-2002-4ebc-b320-78a062c1e9ad"
      },
      "source": [
        "u = np.full((4,4), 0.15)\n",
        "\n",
        "print(u)"
      ],
      "execution_count": null,
      "outputs": [
        {
          "output_type": "stream",
          "name": "stdout",
          "text": [
            "[[0.15 0.15 0.15 0.15]\n",
            " [0.15 0.15 0.15 0.15]\n",
            " [0.15 0.15 0.15 0.15]\n",
            " [0.15 0.15 0.15 0.15]]\n"
          ]
        }
      ]
    },
    {
      "cell_type": "markdown",
      "metadata": {
        "id": "qMepUQpWfdVZ"
      },
      "source": [
        "## $\\texttt{np.identity(n, dtype=None)}$"
      ]
    },
    {
      "cell_type": "code",
      "metadata": {
        "id": "cEhvvc8AfouI",
        "colab": {
          "base_uri": "https://localhost:8080/"
        },
        "outputId": "3acb81dc-ad49-427e-c0d9-bd5bdfac6afd"
      },
      "source": [
        "I = np.identity(2)\n",
        "I"
      ],
      "execution_count": null,
      "outputs": [
        {
          "output_type": "execute_result",
          "data": {
            "text/plain": [
              "array([[1., 0.],\n",
              "       [0., 1.]])"
            ]
          },
          "metadata": {},
          "execution_count": 54
        }
      ]
    },
    {
      "cell_type": "code",
      "metadata": {
        "id": "4V2pGgkgftPv",
        "colab": {
          "base_uri": "https://localhost:8080/"
        },
        "outputId": "d331653d-deed-4232-d92f-08ac79113dc8"
      },
      "source": [
        "A = np.array([[1,3],[2,4]])\n",
        "A"
      ],
      "execution_count": null,
      "outputs": [
        {
          "output_type": "execute_result",
          "data": {
            "text/plain": [
              "array([[1, 3],\n",
              "       [2, 4]])"
            ]
          },
          "metadata": {},
          "execution_count": 55
        }
      ]
    },
    {
      "cell_type": "code",
      "metadata": {
        "id": "GaS8uxI-gJnr",
        "colab": {
          "base_uri": "https://localhost:8080/"
        },
        "outputId": "48757714-7ebf-4374-a845-cd27411892b2"
      },
      "source": [
        "A * I  # A * I -> A"
      ],
      "execution_count": null,
      "outputs": [
        {
          "output_type": "execute_result",
          "data": {
            "text/plain": [
              "array([[1., 0.],\n",
              "       [0., 4.]])"
            ]
          },
          "metadata": {},
          "execution_count": 56
        }
      ]
    },
    {
      "cell_type": "code",
      "metadata": {
        "id": "uV_nmSmAfzhx",
        "colab": {
          "base_uri": "https://localhost:8080/"
        },
        "outputId": "9c713f52-60a5-4779-8242-e574f67cf50d"
      },
      "source": [
        "x = A @ I # Multiplicación de matrices\n",
        "x"
      ],
      "execution_count": null,
      "outputs": [
        {
          "output_type": "execute_result",
          "data": {
            "text/plain": [
              "array([[1., 3.],\n",
              "       [2., 4.]])"
            ]
          },
          "metadata": {},
          "execution_count": 57
        }
      ]
    },
    {
      "cell_type": "code",
      "metadata": {
        "id": "cx6cEs6viMh-",
        "colab": {
          "base_uri": "https://localhost:8080/"
        },
        "outputId": "020a49ae-ca82-49f3-b88c-6e211761aeb6"
      },
      "source": [
        "np.eye(3)"
      ],
      "execution_count": null,
      "outputs": [
        {
          "output_type": "execute_result",
          "data": {
            "text/plain": [
              "array([[1., 0., 0.],\n",
              "       [0., 1., 0.],\n",
              "       [0., 0., 1.]])"
            ]
          },
          "metadata": {},
          "execution_count": 58
        }
      ]
    },
    {
      "cell_type": "code",
      "metadata": {
        "id": "AT0w04WliWFA",
        "colab": {
          "base_uri": "https://localhost:8080/"
        },
        "outputId": "5410e735-faef-4d3f-ff7d-60ff60f863e4"
      },
      "source": [
        "np.eye(3,k=1)"
      ],
      "execution_count": null,
      "outputs": [
        {
          "output_type": "execute_result",
          "data": {
            "text/plain": [
              "array([[0., 1., 0.],\n",
              "       [0., 0., 1.],\n",
              "       [0., 0., 0.]])"
            ]
          },
          "metadata": {},
          "execution_count": 59
        }
      ]
    },
    {
      "cell_type": "code",
      "metadata": {
        "id": "sih3YZCHiZW8",
        "colab": {
          "base_uri": "https://localhost:8080/"
        },
        "outputId": "2fedad8e-3242-41db-ccfc-1f292acbeeef"
      },
      "source": [
        "np.eye(3,4,k=-1)"
      ],
      "execution_count": null,
      "outputs": [
        {
          "output_type": "execute_result",
          "data": {
            "text/plain": [
              "array([[0., 0., 0., 0.],\n",
              "       [1., 0., 0., 0.],\n",
              "       [0., 1., 0., 0.]])"
            ]
          },
          "metadata": {},
          "execution_count": 60
        }
      ]
    },
    {
      "cell_type": "markdown",
      "source": [
        "Matriz triangula inferior (Normalizing Flows)"
      ],
      "metadata": {
        "id": "btLILpJQUINe"
      }
    },
    {
      "cell_type": "code",
      "metadata": {
        "id": "qLPgzA4J0G3W",
        "colab": {
          "base_uri": "https://localhost:8080/"
        },
        "outputId": "606478a3-d77c-47b1-dca3-4073bacf91f0"
      },
      "source": [
        "np.tril((3,3)) # lower (inferior)"
      ],
      "execution_count": null,
      "outputs": [
        {
          "output_type": "execute_result",
          "data": {
            "text/plain": [
              "array([[3, 0],\n",
              "       [3, 3]])"
            ]
          },
          "metadata": {},
          "execution_count": 65
        }
      ]
    },
    {
      "cell_type": "markdown",
      "source": [
        "Matriz triangular superior"
      ],
      "metadata": {
        "id": "8z4i76OOULD2"
      }
    },
    {
      "cell_type": "code",
      "source": [
        "x = np.ones((7,7))\n",
        "print(x)"
      ],
      "metadata": {
        "colab": {
          "base_uri": "https://localhost:8080/"
        },
        "id": "lfUDaL3a_wA-",
        "outputId": "5449990e-df91-4ec3-99c6-33efd70f1e46"
      },
      "execution_count": null,
      "outputs": [
        {
          "output_type": "stream",
          "name": "stdout",
          "text": [
            "[[1. 1. 1. 1. 1. 1. 1.]\n",
            " [1. 1. 1. 1. 1. 1. 1.]\n",
            " [1. 1. 1. 1. 1. 1. 1.]\n",
            " [1. 1. 1. 1. 1. 1. 1.]\n",
            " [1. 1. 1. 1. 1. 1. 1.]\n",
            " [1. 1. 1. 1. 1. 1. 1.]\n",
            " [1. 1. 1. 1. 1. 1. 1.]]\n"
          ]
        }
      ]
    },
    {
      "cell_type": "code",
      "metadata": {
        "id": "xSejM__a0KIk",
        "colab": {
          "base_uri": "https://localhost:8080/"
        },
        "outputId": "ce7f095b-858d-4341-be1b-67496ee78ee1"
      },
      "source": [
        "h = np.triu(x,k=0) # upper (superior)\n",
        "h"
      ],
      "execution_count": null,
      "outputs": [
        {
          "output_type": "execute_result",
          "data": {
            "text/plain": [
              "array([[1., 1., 1., 1., 1., 1., 1.],\n",
              "       [0., 1., 1., 1., 1., 1., 1.],\n",
              "       [0., 0., 1., 1., 1., 1., 1.],\n",
              "       [0., 0., 0., 1., 1., 1., 1.],\n",
              "       [0., 0., 0., 0., 1., 1., 1.],\n",
              "       [0., 0., 0., 0., 0., 1., 1.],\n",
              "       [0., 0., 0., 0., 0., 0., 1.]])"
            ]
          },
          "metadata": {},
          "execution_count": 71
        }
      ]
    },
    {
      "cell_type": "code",
      "source": [
        "h[0,0] = 3\n",
        "h"
      ],
      "metadata": {
        "id": "YTaDRjQcUdjI"
      },
      "execution_count": null,
      "outputs": []
    },
    {
      "cell_type": "code",
      "source": [
        "m = np.full((2,2,2),2)\n",
        "m"
      ],
      "metadata": {
        "id": "MzD2DtAtVIu-",
        "colab": {
          "base_uri": "https://localhost:8080/"
        },
        "outputId": "18e3d32a-5332-4652-a112-d7e909993b3c"
      },
      "execution_count": null,
      "outputs": [
        {
          "output_type": "execute_result",
          "data": {
            "text/plain": [
              "array([[[2, 2],\n",
              "        [2, 2]],\n",
              "\n",
              "       [[2, 2],\n",
              "        [2, 2]]])"
            ]
          },
          "metadata": {},
          "execution_count": 72
        }
      ]
    },
    {
      "cell_type": "code",
      "source": [
        "m[1,0,1]"
      ],
      "metadata": {
        "id": "eaNsCBQpVLr9"
      },
      "execution_count": null,
      "outputs": []
    },
    {
      "cell_type": "markdown",
      "metadata": {
        "id": "cc1pmrI0Rel_"
      },
      "source": [
        "# Inicialización\n",
        "\n",
        "Una Red Neuronal esta compuesta por varias neuronas artificiales las cuales contienen **parámetros** que necesitan ser ajustados. Estos parámetros se ajustan durante el proceso de **aprendizaje**, el cual toma un tiempo. Cuando un Red Neuronal ajusta adecuadamente sus parámetros, decimos que ha \"aprendido correctamente\" su tarea. Sin embargo, podría darse el caso que el modelo \"nunca llegue a aprender\". Una herramienta importante para ayudar a que el modelo aprenda de manera correcta es la Inicialización.\n",
        "\n",
        "El proceso de Initialización es de gran importancia dentro de los modelos de *Deep Learning*. La inicialización hace referencia a los valores iniciales de los parámetros. Una buena inicialización de los parámetros puede ayudar en el proceso de **convergencia** de una **Red Neuronal**.\n",
        "\n",
        "El Deep Learning, existen varios métodos de Inicialización. No obstante, un estantar es utilizar una inicialización aleatoria. En este caso, se escoge de manera aleatoria muestras de alguna distribución conocida, principalmente la Gausiana y la Uniforme. A continuación se menciona alguna de las importantes configuraciones:"
      ]
    },
    {
      "cell_type": "markdown",
      "source": [
        "<figure>\n",
        "<img src='https://drive.google.com/uc?id=1QQOQWcZRZ29Wkh8fl8R32UjCXoeb5J_A' width=\"600\"/>\n",
        "<figcaption>Image Caption</figcaption>\n",
        "</figure>"
      ],
      "metadata": {
        "id": "3KyAqpF_kNrj"
      }
    },
    {
      "cell_type": "markdown",
      "metadata": {
        "id": "3A255Z4Mq3uH"
      },
      "source": [
        "### Distribución Normal: $\\texttt{np.random.randn(d0, d1, ..., dn)}$"
      ]
    },
    {
      "cell_type": "markdown",
      "metadata": {
        "id": "fm1Nvw0KpoAW"
      },
      "source": [
        "$w\\sim\\mathcal{N}(0,1)$\n",
        "\n",
        "* $\\mu=0$ y $\\sigma^2=1$"
      ]
    },
    {
      "cell_type": "code",
      "metadata": {
        "id": "MsdfzaSfSedd",
        "colab": {
          "base_uri": "https://localhost:8080/"
        },
        "outputId": "cbfe8b5f-df30-41c2-8c3b-85d53b4fb113"
      },
      "source": [
        "w = np.random.randn(3,3)\n",
        "w"
      ],
      "execution_count": null,
      "outputs": [
        {
          "output_type": "execute_result",
          "data": {
            "text/plain": [
              "array([[-0.74034087, -1.37943963, -0.40449533],\n",
              "       [ 0.13564175,  2.0674092 ,  1.33396119],\n",
              "       [ 1.54146269, -0.13701952,  2.32365093]])"
            ]
          },
          "metadata": {},
          "execution_count": 73
        }
      ]
    },
    {
      "cell_type": "markdown",
      "metadata": {
        "id": "kvZlYq1Hp9yd"
      },
      "source": [
        "$\\mu=3\\\\\\sigma=1\\\\w\\sim\\mathcal{N}(\\mu,\\sigma^2)$"
      ]
    },
    {
      "cell_type": "code",
      "metadata": {
        "id": "C_EkRjvlg3B5",
        "colab": {
          "base_uri": "https://localhost:8080/"
        },
        "outputId": "7dcc4dc7-0f0d-4735-a489-4dd1c794723a"
      },
      "source": [
        "w = np.random.randn(3,3) + 6 # media = 6\n",
        "w"
      ],
      "execution_count": null,
      "outputs": [
        {
          "output_type": "execute_result",
          "data": {
            "text/plain": [
              "array([[ 7.35706232,  9.74040525, 10.27220065],\n",
              "       [-0.50790904, 10.06166034,  2.33666045],\n",
              "       [ 5.71603501, 10.98574682,  9.26414584]])"
            ]
          },
          "metadata": {},
          "execution_count": 81
        }
      ]
    },
    {
      "cell_type": "markdown",
      "metadata": {
        "id": "xzRHXOPeswSG"
      },
      "source": [
        "![](https://drive.google.com/uc?export=view&id=18qX6u3dyBwiwimya5k5umYJVzyP1LebH)"
      ]
    },
    {
      "cell_type": "markdown",
      "metadata": {
        "id": "b5s4Usptq7Tx"
      },
      "source": [
        "### Distrución Uniforme: $\\texttt{np.random.uniform(low=0.0, high=1.0, size=None)}$"
      ]
    },
    {
      "cell_type": "markdown",
      "metadata": {
        "id": "bmC7h08CrXfX"
      },
      "source": [
        "$u\\sim\\mathcal{U}(0,1)$"
      ]
    },
    {
      "cell_type": "code",
      "source": [
        "np.random.uniform(size=(3,3)) # Los valores aleatorios están entre 0 y 1"
      ],
      "metadata": {
        "colab": {
          "base_uri": "https://localhost:8080/"
        },
        "id": "zuywC3UzGAKQ",
        "outputId": "3226923b-8138-4ac2-9c6e-7cb1fb005616"
      },
      "execution_count": null,
      "outputs": [
        {
          "output_type": "execute_result",
          "data": {
            "text/plain": [
              "array([[0.74514646, 0.4283973 , 0.11666675],\n",
              "       [0.64041048, 0.08145948, 0.87110746],\n",
              "       [0.05763213, 0.02504454, 0.55496768]])"
            ]
          },
          "metadata": {},
          "execution_count": 75
        }
      ]
    },
    {
      "cell_type": "markdown",
      "source": [
        "Si quiero que los valores esten entre -5 y 5"
      ],
      "metadata": {
        "id": "RdJaTe-hGI1p"
      }
    },
    {
      "cell_type": "code",
      "metadata": {
        "id": "ocNYShvyq93Z",
        "colab": {
          "base_uri": "https://localhost:8080/"
        },
        "outputId": "f1f36807-b3b7-459f-8d0c-0509ec30f34c"
      },
      "source": [
        "u = np.random.uniform(size=(3,3)) * 100\n",
        "u"
      ],
      "execution_count": null,
      "outputs": [
        {
          "output_type": "execute_result",
          "data": {
            "text/plain": [
              "array([[48.69960919, 29.85824649, 42.43868814],\n",
              "       [42.30417676, 47.63879785, 86.18047313],\n",
              "       [37.26709868, 38.94407252, 38.68426983]])"
            ]
          },
          "metadata": {},
          "execution_count": 83
        }
      ]
    },
    {
      "cell_type": "markdown",
      "metadata": {
        "id": "bS3XwBV5BTp6"
      },
      "source": [
        "### Distrución Uniforme: $\\texttt{np.random.randint(low, high=None, size=None, dtype=int)}$"
      ]
    },
    {
      "cell_type": "code",
      "metadata": {
        "id": "-k7LF0hWBd_a",
        "colab": {
          "base_uri": "https://localhost:8080/"
        },
        "outputId": "46ade33e-c556-464f-ba1e-fbe284c16173"
      },
      "source": [
        "x = np.random.randint(0,5,10) # randint(inicio, fin, cantidad) -> 0,1,2,3,...,fin-1\n",
        "x"
      ],
      "execution_count": null,
      "outputs": [
        {
          "output_type": "execute_result",
          "data": {
            "text/plain": [
              "array([1, 2, 3, 2, 3, 1, 4, 2, 0, 4])"
            ]
          },
          "metadata": {},
          "execution_count": 77
        }
      ]
    },
    {
      "cell_type": "code",
      "metadata": {
        "id": "xQFL4NpKBhy4",
        "colab": {
          "base_uri": "https://localhost:8080/"
        },
        "outputId": "79e7bab5-7add-4492-ebd9-cf517d66dd5c"
      },
      "source": [
        "np.random.randint(0,5,(2,3))"
      ],
      "execution_count": null,
      "outputs": [
        {
          "output_type": "execute_result",
          "data": {
            "text/plain": [
              "array([[3, 3, 4],\n",
              "       [4, 1, 4]])"
            ]
          },
          "metadata": {},
          "execution_count": 79
        }
      ]
    },
    {
      "cell_type": "markdown",
      "source": [
        "# Ejercicios:\n",
        "\n"
      ],
      "metadata": {
        "id": "YmnB1SrGwjRL"
      }
    },
    {
      "cell_type": "markdown",
      "source": [
        "## Ejercicio 1\n",
        "\n",
        "Crear la matriz $X\\in\\mathbb{R}^{m\\times m}$ con números aleatorios entre $-1$ y $1$ (decimales). Luego calcular $X^2 +2X + I$, donde $I$ es la matriz identidad. Note que $$X^2=XX$$Para el ejercicio utilice $m=6$.\n"
      ],
      "metadata": {
        "id": "cTVzgx47x64x"
      }
    },
    {
      "cell_type": "code",
      "source": [
        "x = np.random.uniform(low=-1,high=1,size=(6,6))\n",
        "\n",
        "print(x)"
      ],
      "metadata": {
        "colab": {
          "base_uri": "https://localhost:8080/"
        },
        "id": "gRNagwt3VWVu",
        "outputId": "3e0c6971-011a-4eb8-9e81-fda80e0f038a"
      },
      "execution_count": null,
      "outputs": [
        {
          "output_type": "stream",
          "name": "stdout",
          "text": [
            "[[-0.49805226  0.50615894  0.13437785 -0.78958192 -0.33492415 -0.84969707]\n",
            " [ 0.42387105 -0.20249839 -0.35824235  0.70545798 -0.35970003  0.27246308]\n",
            " [ 0.87682785 -0.95637505  0.3255846   0.44806717 -0.1784518   0.25964764]\n",
            " [-0.61756158  0.28933373 -0.36625613  0.44421233 -0.55321662  0.94469261]\n",
            " [ 0.15601612  0.28128901 -0.10417318 -0.15040254  0.75821588  0.90874383]\n",
            " [-0.85815907 -0.44786559  0.97367494  0.62662142 -0.24846101  0.11048548]]\n"
          ]
        }
      ]
    },
    {
      "cell_type": "code",
      "source": [
        "y = x @ x + 2 * x + np.identity(6)"
      ],
      "metadata": {
        "id": "6fxUPOaLVk5k"
      },
      "execution_count": null,
      "outputs": []
    },
    {
      "cell_type": "code",
      "source": [
        "print(y)"
      ],
      "metadata": {
        "colab": {
          "base_uri": "https://localhost:8080/"
        },
        "id": "HjFQv4BoV34D",
        "outputId": "d9340f8f-33c8-48a1-9b1f-9dbfbf01484b"
      },
      "execution_count": null,
      "outputs": [
        {
          "output_type": "stream",
          "name": "stdout",
          "text": [
            "[[ 1.74886104  0.5870992  -0.43899712 -1.60143358 -0.31510231 -2.24755173]\n",
            " [-0.48891732  1.17407527 -0.65923726  1.31106842 -1.45529485  0.40624302]\n",
            " [ 0.66968215 -1.62349526  2.32490977  0.06358563 -0.81236294 -0.11197632]\n",
            " [-2.29738431  0.1075883  -0.22363945  3.28853994 -1.83823377  2.41914743]\n",
            " [-0.30645364  0.4469812   0.53885312  0.11635848  2.8138975   2.38185658]\n",
            " [-1.14555738 -2.10867171  2.21344629  2.43610584 -0.78465639  2.45931603]]\n"
          ]
        }
      ]
    },
    {
      "cell_type": "markdown",
      "source": [
        "## Ejercicio 2\n",
        "\n",
        "Crear la matriz $X\\in\\mathbb{R}^{m\\times n}$ con números aleatorios de una distribución Normal con $\\mu=0$ y $\\sigma=1$ y calcule $$X^{T}X.$$ Note que $X^T$ es la transpuesta de la matriz $X$ y puede ser calculada con Numpy utilizando\n",
        "\n",
        "$$\\texttt{X_transpuesta = X.T}$$\n",
        "\n",
        "Siendo $\\texttt{X}$ la matriz original y $\\texttt{X_transpuesta}$ la matriz transpuesta. Para el ejercicio utilice $m=5,n=4$.\n"
      ],
      "metadata": {
        "id": "nZFBeH-px__g"
      }
    },
    {
      "cell_type": "code",
      "source": [
        "np.random.seed(7)"
      ],
      "metadata": {
        "id": "N40EPOVFKzkP"
      },
      "execution_count": null,
      "outputs": []
    },
    {
      "cell_type": "code",
      "source": [
        "x = np.random.randn(5,4) # sigma(dev.standar ) = 1\n",
        "print(x)"
      ],
      "metadata": {
        "id": "cNUH8dUMWs8q",
        "colab": {
          "base_uri": "https://localhost:8080/"
        },
        "outputId": "c3145c1a-bf66-4d43-af76-8830acd7a269"
      },
      "execution_count": null,
      "outputs": [
        {
          "output_type": "stream",
          "name": "stdout",
          "text": [
            "[[-0.77805382  1.28661516 -1.77479946  1.14654092]\n",
            " [ 1.81950322 -1.92167682 -0.62356748 -0.63795515]\n",
            " [-1.60961401  0.8856413  -0.15906597  1.10208293]\n",
            " [ 1.06480205  0.37415834 -0.12565091  1.04608618]\n",
            " [ 1.29919851 -0.1813079   0.14771957  1.55146913]]\n"
          ]
        }
      ]
    },
    {
      "cell_type": "code",
      "source": [
        "np.random.randn(5,5) * 0.01 # sigma = 0.01"
      ],
      "metadata": {
        "colab": {
          "base_uri": "https://localhost:8080/"
        },
        "id": "TXK3jT-QKFO5",
        "outputId": "752b1606-1165-4a2b-9ae9-b3550b7725dd"
      },
      "execution_count": null,
      "outputs": [
        {
          "output_type": "execute_result",
          "data": {
            "text/plain": [
              "array([[-0.00728633, -0.00135044,  0.00808486, -0.00858391,  0.00155951],\n",
              "       [ 0.01238048, -0.0087043 ,  0.01114713, -0.00936809,  0.00900349],\n",
              "       [-0.00398326,  0.01382823,  0.01704135,  0.01752628, -0.00706613],\n",
              "       [-0.00976604,  0.00113922, -0.01214244, -0.00465111,  0.02063345],\n",
              "       [ 0.02285521, -0.01856034, -0.00055669,  0.00572452,  0.00596562]])"
            ]
          },
          "metadata": {},
          "execution_count": 103
        }
      ]
    },
    {
      "cell_type": "code",
      "source": [
        "print(x.shape)"
      ],
      "metadata": {
        "colab": {
          "base_uri": "https://localhost:8080/"
        },
        "id": "nSdRzI1JIwo5",
        "outputId": "ac9f21ea-f2da-43fc-fc3d-d981aac4184d"
      },
      "execution_count": null,
      "outputs": [
        {
          "output_type": "stream",
          "name": "stdout",
          "text": [
            "(5, 4)\n"
          ]
        }
      ]
    },
    {
      "cell_type": "code",
      "source": [
        "x_t = x.T\n",
        "print(x_t)"
      ],
      "metadata": {
        "id": "KSl11b6XWif8",
        "colab": {
          "base_uri": "https://localhost:8080/"
        },
        "outputId": "1efd33ff-924e-497e-f69b-b7586a588c54"
      },
      "execution_count": null,
      "outputs": [
        {
          "output_type": "stream",
          "name": "stdout",
          "text": [
            "[[-0.77805382  1.81950322 -1.60961401  1.06480205  1.29919851]\n",
            " [ 1.28661516 -1.92167682  0.8856413   0.37415834 -0.1813079 ]\n",
            " [-1.77479946 -0.62356748 -0.15906597 -0.12565091  0.14771957]\n",
            " [ 1.14654092 -0.63795515  1.10208293  1.04608618  1.55146913]]\n"
          ]
        }
      ]
    },
    {
      "cell_type": "code",
      "source": [
        "print(x_t.shape)"
      ],
      "metadata": {
        "colab": {
          "base_uri": "https://localhost:8080/"
        },
        "id": "Tz8cJJiNIzm1",
        "outputId": "b16142c5-ed1f-46b1-a804-0cd46af36072"
      },
      "execution_count": null,
      "outputs": [
        {
          "output_type": "stream",
          "name": "stdout",
          "text": [
            "(4, 5)\n"
          ]
        }
      ]
    },
    {
      "cell_type": "code",
      "source": [
        "y = x_t @ x   #  (4 x 5) (5 x 4) -> (4 x 4)"
      ],
      "metadata": {
        "id": "bq4ULVxYW2R4"
      },
      "execution_count": null,
      "outputs": []
    },
    {
      "cell_type": "code",
      "source": [
        "# M1 : (m x n) y M2 : (p x q)\n",
        "# Para multiplicar M1 M2 se debe cumplir que..."
      ],
      "metadata": {
        "id": "bKkZNwapXHx3"
      },
      "execution_count": null,
      "outputs": []
    },
    {
      "cell_type": "code",
      "source": [
        "print(y)"
      ],
      "metadata": {
        "colab": {
          "base_uri": "https://localhost:8080/"
        },
        "id": "Vr1KN-inI-nQ",
        "outputId": "20809da0-7815-42a2-b922-b41e51e1cd0b"
      },
      "execution_count": null,
      "outputs": [
        {
          "output_type": "stream",
          "name": "stdout",
          "text": [
            "[[ 9.32853717 -5.76024403  0.56046498 -0.69721903]\n",
            " [-5.76024403  6.30544789 -1.29986017  3.78725896]\n",
            " [ 0.56046498 -1.29986017  3.60166073 -1.71463534]\n",
            " [-0.69721903  3.78725896 -1.71463534  6.43748237]]\n"
          ]
        }
      ]
    },
    {
      "cell_type": "code",
      "source": [
        "print(y.shape)"
      ],
      "metadata": {
        "colab": {
          "base_uri": "https://localhost:8080/"
        },
        "id": "GWIcBukqI_uj",
        "outputId": "a392943d-86cf-48b3-93f5-f2db2e035ff2"
      },
      "execution_count": null,
      "outputs": [
        {
          "output_type": "stream",
          "name": "stdout",
          "text": [
            "(4, 4)\n"
          ]
        }
      ]
    }
  ]
}