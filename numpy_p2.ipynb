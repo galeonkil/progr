{
  "nbformat": 4,
  "nbformat_minor": 0,
  "metadata": {
    "colab": {
      "provenance": [],
      "collapsed_sections": [
        "ndYW2YeGdWQa",
        "eSvBAzwMn9PZ",
        "e5sEpZv3rztd",
        "1TTbyXjOqEhv",
        "FDqr9g_IvxHy",
        "fDFspR2gwlV-",
        "uZDO3_q3-CBs",
        "bT2559KkLlBz",
        "ON8Su6eGfXvm",
        "mj0OEQwR_Hcn",
        "otPm4stIAbKO",
        "09sttYxl3YTN",
        "M-_DX1lkFD7j",
        "Jst7-SD05mYv",
        "vYxVasibN1vc"
      ]
    },
    "kernelspec": {
      "name": "python3",
      "display_name": "Python 3"
    },
    "language_info": {
      "name": "python"
    }
  },
  "cells": [
    {
      "cell_type": "markdown",
      "metadata": {
        "id": "ndYW2YeGdWQa"
      },
      "source": [
        "# Numpy II (Operaciones con Matrices)\n",
        "\n",
        "*Autor: José Chávez*\n",
        "\n",
        "En esta oportunidad aprenderemos alguna de las herramientas más importantes para manipular y hacer operaciones entre matrices. Aprenderemos a obtener algunas estadisticas como la media, el valor máximo y mínimo con la librería NumPy."
      ]
    },
    {
      "cell_type": "code",
      "metadata": {
        "id": "zcX4TF6nfcUX"
      },
      "source": [
        "import numpy as np"
      ],
      "execution_count": null,
      "outputs": []
    },
    {
      "cell_type": "markdown",
      "metadata": {
        "id": "eSvBAzwMn9PZ"
      },
      "source": [
        "# Multiplicación de Matrices con Numpy\n",
        "\n",
        "Hasta ahora hemos visto como la operación por defecto en Numpy es *elemento-por-elemeto*. Sin embargo, nosotros tambien podemos realizar la multiplicación de matrices utilizando el operador arroba ($\\texttt{@}$)."
      ]
    },
    {
      "cell_type": "markdown",
      "source": [
        "## El operador arroba ($\\texttt{@}$)"
      ],
      "metadata": {
        "id": "e5sEpZv3rztd"
      }
    },
    {
      "cell_type": "markdown",
      "source": [
        "Crearemos un array que nos permita cambiar la primera por la segunda fila en una matriz de $2\\times 2$.\n",
        "\n",
        "**Dato**:\n",
        "\n",
        "Una matriz de permutación es una matriz cuadrada que tiene un elemento igual a $1$ en cada fila y columna. En el caso de una matrix de $3\\times 3$ serían de la forma:<br><br>\n",
        "\n",
        "$P_1=\\pmatrix{1 & 0 & 0\\\\0&1&0\\\\0&0&1}$, $P_2=\\pmatrix{0 & 1 & 0\\\\0&0&1\\\\1&0&0}$, $P_3=\\pmatrix{0 & 0 & 1\\\\1&0&0\\\\0&1&0}$\n",
        "<br><br>\n",
        "En el caso de una matriz de dimension $2\\times 2$ serían:\n",
        "<br><br>\n",
        "$P_4=\\pmatrix{1 & 0\\\\0&1}$\n",
        "$P_5=\\pmatrix{0 & 1\\\\1&0}$\n",
        "\n"
      ],
      "metadata": {
        "id": "MTZZRbIjmNsv"
      }
    },
    {
      "cell_type": "code",
      "metadata": {
        "id": "cZg04uV5nKD4",
        "colab": {
          "base_uri": "https://localhost:8080/"
        },
        "outputId": "e1c91ed8-d403-4d26-e38a-02c1ccc1740f"
      },
      "source": [
        "P5 = np.array([[0,1],[1,0]])\n",
        "P5"
      ],
      "execution_count": null,
      "outputs": [
        {
          "output_type": "execute_result",
          "data": {
            "text/plain": [
              "array([[0, 1],\n",
              "       [1, 0]])"
            ]
          },
          "metadata": {},
          "execution_count": 2
        }
      ]
    },
    {
      "cell_type": "markdown",
      "source": [
        "Ahora creamos una matriz de $2\\times 2$ cualquiera."
      ],
      "metadata": {
        "id": "A_niX4O1pX5p"
      }
    },
    {
      "cell_type": "code",
      "metadata": {
        "id": "qG3ufe5PmIH_",
        "colab": {
          "base_uri": "https://localhost:8080/"
        },
        "outputId": "d0ab04e5-d473-4546-9bc8-ea34ec2f0b05"
      },
      "source": [
        "A = np.array([[2,3],[4,5]])\n",
        "A"
      ],
      "execution_count": null,
      "outputs": [
        {
          "output_type": "execute_result",
          "data": {
            "text/plain": [
              "array([[2, 3],\n",
              "       [4, 5]])"
            ]
          },
          "metadata": {},
          "execution_count": 3
        }
      ]
    },
    {
      "cell_type": "markdown",
      "source": [
        "Realizamos la multiplicación $P5\\times A$ (en ese orden) para intercambiar las filas de la matriz $A$."
      ],
      "metadata": {
        "id": "Or48-d9nphgC"
      }
    },
    {
      "cell_type": "code",
      "metadata": {
        "id": "S5ZGJVvcoScA",
        "colab": {
          "base_uri": "https://localhost:8080/"
        },
        "outputId": "1fca4617-a0ac-49c5-9f0e-5788f6ee4408"
      },
      "source": [
        "P5 @ A"
      ],
      "execution_count": null,
      "outputs": [
        {
          "output_type": "execute_result",
          "data": {
            "text/plain": [
              "array([[4, 5],\n",
              "       [2, 3]])"
            ]
          },
          "metadata": {},
          "execution_count": 4
        }
      ]
    },
    {
      "cell_type": "markdown",
      "source": [
        "Si realizamos la multuplicación $A\\times P$, estaremos intercambiando las columnas de la matriz $A$."
      ],
      "metadata": {
        "id": "e3e6I2d2p14s"
      }
    },
    {
      "cell_type": "code",
      "metadata": {
        "id": "ESJE-gB4owWZ",
        "colab": {
          "base_uri": "https://localhost:8080/"
        },
        "outputId": "7c37fb27-912c-47df-ae6f-0340af5b1cd2"
      },
      "source": [
        "A @ P5"
      ],
      "execution_count": null,
      "outputs": [
        {
          "output_type": "execute_result",
          "data": {
            "text/plain": [
              "array([[3, 2],\n",
              "       [5, 4]])"
            ]
          },
          "metadata": {},
          "execution_count": 5
        }
      ]
    },
    {
      "cell_type": "markdown",
      "source": [
        "## $\\texttt{np.dot()}$\n",
        "\n",
        "Otra forma de multiplicar matrices es utilizando $\\texttt{np.dot()}$. Es decir $\\texttt{np.dot(A,B)}=A B$"
      ],
      "metadata": {
        "id": "1TTbyXjOqEhv"
      }
    },
    {
      "cell_type": "code",
      "metadata": {
        "id": "inFbgGoAoSg8",
        "colab": {
          "base_uri": "https://localhost:8080/"
        },
        "outputId": "70116cff-5190-4e08-b216-442f052062b5"
      },
      "source": [
        "np.dot(P5,A) # P5 @ A"
      ],
      "execution_count": null,
      "outputs": [
        {
          "output_type": "execute_result",
          "data": {
            "text/plain": [
              "array([[4, 5],\n",
              "       [2, 3]])"
            ]
          },
          "metadata": {},
          "execution_count": 6
        }
      ]
    },
    {
      "cell_type": "code",
      "source": [
        "print(A)"
      ],
      "metadata": {
        "id": "6BZwHZo1giNL",
        "colab": {
          "base_uri": "https://localhost:8080/"
        },
        "outputId": "c62b9789-5a87-4232-eff4-cf26bc4769ec"
      },
      "execution_count": null,
      "outputs": [
        {
          "output_type": "stream",
          "name": "stdout",
          "text": [
            "[[2 3]\n",
            " [4 5]]\n"
          ]
        }
      ]
    },
    {
      "cell_type": "code",
      "metadata": {
        "id": "Xug8quYWmuw2",
        "colab": {
          "base_uri": "https://localhost:8080/"
        },
        "outputId": "00e44d33-6a0d-4efb-afcf-c2895f91ef18"
      },
      "source": [
        "np.dot(A,A) # A^2"
      ],
      "execution_count": null,
      "outputs": [
        {
          "output_type": "execute_result",
          "data": {
            "text/plain": [
              "array([[16, 21],\n",
              "       [28, 37]])"
            ]
          },
          "metadata": {},
          "execution_count": 8
        }
      ]
    },
    {
      "cell_type": "code",
      "metadata": {
        "id": "P3fR03I_oSlo",
        "colab": {
          "base_uri": "https://localhost:8080/"
        },
        "outputId": "0cdb771b-1a9b-4dac-fcfb-e7b9c2e6df75"
      },
      "source": [
        "P5.dot(A) # Es igual que 'np.dot(P5,A)' o 'P5 @ A'"
      ],
      "execution_count": null,
      "outputs": [
        {
          "output_type": "execute_result",
          "data": {
            "text/plain": [
              "array([[4, 5],\n",
              "       [2, 3]])"
            ]
          },
          "metadata": {},
          "execution_count": 9
        }
      ]
    },
    {
      "cell_type": "code",
      "metadata": {
        "id": "A_e-5pNzpbC2",
        "colab": {
          "base_uri": "https://localhost:8080/"
        },
        "outputId": "c3f6cc60-5517-4d7f-c06e-1be3dfbd91d4"
      },
      "source": [
        "# multidot\n",
        "P5.dot(A).dot(A) # P @ A @ A"
      ],
      "execution_count": null,
      "outputs": [
        {
          "output_type": "execute_result",
          "data": {
            "text/plain": [
              "array([[28, 37],\n",
              "       [16, 21]])"
            ]
          },
          "metadata": {},
          "execution_count": 10
        }
      ]
    },
    {
      "cell_type": "code",
      "metadata": {
        "id": "v6fhznd2m8iG",
        "colab": {
          "base_uri": "https://localhost:8080/"
        },
        "outputId": "c891cb62-eb77-4772-9d92-eca5cc1dad81"
      },
      "source": [
        "B = np.ones((3,2))\n",
        "B"
      ],
      "execution_count": null,
      "outputs": [
        {
          "output_type": "execute_result",
          "data": {
            "text/plain": [
              "array([[1., 1.],\n",
              "       [1., 1.],\n",
              "       [1., 1.]])"
            ]
          },
          "metadata": {},
          "execution_count": 11
        }
      ]
    },
    {
      "cell_type": "code",
      "metadata": {
        "id": "WgfdnNkHnGpt",
        "colab": {
          "base_uri": "https://localhost:8080/"
        },
        "outputId": "352a3598-724e-4686-e4c0-29e46663fe35"
      },
      "source": [
        "print(B.shape, A.shape)"
      ],
      "execution_count": null,
      "outputs": [
        {
          "output_type": "stream",
          "name": "stdout",
          "text": [
            "(3, 2) (2, 2)\n"
          ]
        }
      ]
    },
    {
      "cell_type": "code",
      "metadata": {
        "id": "vrOuz5MmnCxt",
        "colab": {
          "base_uri": "https://localhost:8080/"
        },
        "outputId": "e1e0a827-d523-4676-f964-7d2e0ada393f"
      },
      "source": [
        "# (3x2) x (2x2)\n",
        "B.dot(A)"
      ],
      "execution_count": null,
      "outputs": [
        {
          "output_type": "execute_result",
          "data": {
            "text/plain": [
              "array([[6., 8.],\n",
              "       [6., 8.],\n",
              "       [6., 8.]])"
            ]
          },
          "metadata": {},
          "execution_count": 13
        }
      ]
    },
    {
      "cell_type": "markdown",
      "source": [
        "## $\\texttt{np.matmul()}$\n",
        "\n",
        "Otra forma de realizar multiplicaciones de matrices es con $\\texttt{np.matmul()}$"
      ],
      "metadata": {
        "id": "FDqr9g_IvxHy"
      }
    },
    {
      "cell_type": "code",
      "metadata": {
        "id": "eLWRTCOr3-I7"
      },
      "source": [
        "A = np.array([[2,3],[4,5]])\n",
        "B = np.array([[1,1],[0,0]])"
      ],
      "execution_count": null,
      "outputs": []
    },
    {
      "cell_type": "code",
      "source": [
        "print(A)"
      ],
      "metadata": {
        "id": "aYiAGqVPhoPS",
        "colab": {
          "base_uri": "https://localhost:8080/"
        },
        "outputId": "96466332-de7e-4a15-b29c-a6e5aee346ec"
      },
      "execution_count": null,
      "outputs": [
        {
          "output_type": "stream",
          "name": "stdout",
          "text": [
            "[[2 3]\n",
            " [4 5]]\n"
          ]
        }
      ]
    },
    {
      "cell_type": "code",
      "source": [
        "print(B)"
      ],
      "metadata": {
        "id": "EcI2hu6Mhp0f",
        "colab": {
          "base_uri": "https://localhost:8080/"
        },
        "outputId": "53bd9988-10a6-4d6d-a363-846116e434bf"
      },
      "execution_count": null,
      "outputs": [
        {
          "output_type": "stream",
          "name": "stdout",
          "text": [
            "[[1 1]\n",
            " [0 0]]\n"
          ]
        }
      ]
    },
    {
      "cell_type": "code",
      "metadata": {
        "id": "9YUdv3FJ4GYv",
        "colab": {
          "base_uri": "https://localhost:8080/"
        },
        "outputId": "81bb1054-e505-4c93-8882-8f9c71f9f42b"
      },
      "source": [
        "np.matmul(A,B) # Es igual que A @ B"
      ],
      "execution_count": null,
      "outputs": [
        {
          "output_type": "execute_result",
          "data": {
            "text/plain": [
              "array([[2, 2],\n",
              "       [4, 4]])"
            ]
          },
          "metadata": {},
          "execution_count": 17
        }
      ]
    },
    {
      "cell_type": "markdown",
      "source": [
        "Verificamos este resultado al visualizar $\\texttt{A@B}$"
      ],
      "metadata": {
        "id": "hHaIH5HBwaAB"
      }
    },
    {
      "cell_type": "code",
      "source": [
        "A @ B"
      ],
      "metadata": {
        "id": "rAp38xbbwWq7",
        "colab": {
          "base_uri": "https://localhost:8080/"
        },
        "outputId": "95db2ba2-3fa7-46ef-bf48-db68860c2caa"
      },
      "execution_count": null,
      "outputs": [
        {
          "output_type": "execute_result",
          "data": {
            "text/plain": [
              "array([[2, 2],\n",
              "       [4, 4]])"
            ]
          },
          "metadata": {},
          "execution_count": 18
        }
      ]
    },
    {
      "cell_type": "markdown",
      "source": [
        "## Matrices multidimensionales\n",
        "\n",
        "Cuando trabajamos con matrices multidimensionales es cuando se empiezan a ver las diferencias entre el operador $\\texttt{@}$, $\\texttt{np.dot()}$ y $\\texttt{np.matmul()}$."
      ],
      "metadata": {
        "id": "fDFspR2gwlV-"
      }
    },
    {
      "cell_type": "code",
      "metadata": {
        "id": "H9LK7qXT4T07"
      },
      "source": [
        "T1 = np.ones((2,3,3))\n",
        "T2 = np.ones((2,3,3)) * 2"
      ],
      "execution_count": null,
      "outputs": []
    },
    {
      "cell_type": "code",
      "source": [
        "print(T1)"
      ],
      "metadata": {
        "id": "7khVOjdUjDWG",
        "colab": {
          "base_uri": "https://localhost:8080/"
        },
        "outputId": "db71dfb6-3fab-40bb-c809-ea3bb64ae0a0"
      },
      "execution_count": null,
      "outputs": [
        {
          "output_type": "stream",
          "name": "stdout",
          "text": [
            "[[[1. 1. 1.]\n",
            "  [1. 1. 1.]\n",
            "  [1. 1. 1.]]\n",
            "\n",
            " [[1. 1. 1.]\n",
            "  [1. 1. 1.]\n",
            "  [1. 1. 1.]]]\n"
          ]
        }
      ]
    },
    {
      "cell_type": "code",
      "source": [
        "print(T2)"
      ],
      "metadata": {
        "id": "aLACrNurjYqL",
        "colab": {
          "base_uri": "https://localhost:8080/"
        },
        "outputId": "aeb0b563-9a80-4e8b-bdf0-02e902015cd2"
      },
      "execution_count": null,
      "outputs": [
        {
          "output_type": "stream",
          "name": "stdout",
          "text": [
            "[[[2. 2. 2.]\n",
            "  [2. 2. 2.]\n",
            "  [2. 2. 2.]]\n",
            "\n",
            " [[2. 2. 2.]\n",
            "  [2. 2. 2.]\n",
            "  [2. 2. 2.]]]\n"
          ]
        }
      ]
    },
    {
      "cell_type": "markdown",
      "source": [
        "Utilizando el operador $\\texttt{@}$"
      ],
      "metadata": {
        "id": "r20zEexhyvwb"
      }
    },
    {
      "cell_type": "code",
      "source": [
        "print(f\"T1.shape = {T1.shape}, T2.shape = {T2.shape}\")"
      ],
      "metadata": {
        "colab": {
          "base_uri": "https://localhost:8080/"
        },
        "id": "ge_Tbx_-PLOJ",
        "outputId": "0bdf83e4-6e2c-4bd5-bfea-93cf72ad8df8"
      },
      "execution_count": null,
      "outputs": [
        {
          "output_type": "stream",
          "name": "stdout",
          "text": [
            "T1.shape = (2, 3, 3), T2.shape = (2, 3, 3)\n"
          ]
        }
      ]
    },
    {
      "cell_type": "code",
      "metadata": {
        "id": "eXMUSVvN4vOv",
        "colab": {
          "base_uri": "https://localhost:8080/"
        },
        "outputId": "dcd28fd9-fee9-422a-e144-06feced2ddac"
      },
      "source": [
        "A = T1 @ T2\n",
        "\n",
        "print(A.shape)"
      ],
      "execution_count": null,
      "outputs": [
        {
          "output_type": "stream",
          "name": "stdout",
          "text": [
            "(2, 3, 3)\n"
          ]
        }
      ]
    },
    {
      "cell_type": "code",
      "source": [
        "print(A)"
      ],
      "metadata": {
        "id": "WLkaG3pry7xZ",
        "colab": {
          "base_uri": "https://localhost:8080/"
        },
        "outputId": "b5367bce-b916-4a79-c030-3258524ec668"
      },
      "execution_count": null,
      "outputs": [
        {
          "output_type": "stream",
          "name": "stdout",
          "text": [
            "[[[6. 6. 6.]\n",
            "  [6. 6. 6.]\n",
            "  [6. 6. 6.]]\n",
            "\n",
            " [[6. 6. 6.]\n",
            "  [6. 6. 6.]\n",
            "  [6. 6. 6.]]]\n"
          ]
        }
      ]
    },
    {
      "cell_type": "markdown",
      "source": [
        "Utilando $\\texttt{np.dot()}$"
      ],
      "metadata": {
        "id": "QQXY7KJay-XQ"
      }
    },
    {
      "cell_type": "code",
      "source": [
        "B = T1.dot(T2)\n",
        "\n",
        "print(B.shape)"
      ],
      "metadata": {
        "id": "luNGg5Wwwp2Y",
        "colab": {
          "base_uri": "https://localhost:8080/"
        },
        "outputId": "840f453c-b656-43fc-ee06-f50cceedf241"
      },
      "execution_count": null,
      "outputs": [
        {
          "output_type": "stream",
          "name": "stdout",
          "text": [
            "(2, 3, 2, 3)\n"
          ]
        }
      ]
    },
    {
      "cell_type": "code",
      "source": [
        "print(B)"
      ],
      "metadata": {
        "id": "lqympz2WwsbI",
        "colab": {
          "base_uri": "https://localhost:8080/"
        },
        "outputId": "9bf9ef32-608b-4ebd-bd31-d70db46ef646"
      },
      "execution_count": null,
      "outputs": [
        {
          "output_type": "stream",
          "name": "stdout",
          "text": [
            "[[[[6. 6. 6.]\n",
            "   [6. 6. 6.]]\n",
            "\n",
            "  [[6. 6. 6.]\n",
            "   [6. 6. 6.]]\n",
            "\n",
            "  [[6. 6. 6.]\n",
            "   [6. 6. 6.]]]\n",
            "\n",
            "\n",
            " [[[6. 6. 6.]\n",
            "   [6. 6. 6.]]\n",
            "\n",
            "  [[6. 6. 6.]\n",
            "   [6. 6. 6.]]\n",
            "\n",
            "  [[6. 6. 6.]\n",
            "   [6. 6. 6.]]]]\n"
          ]
        }
      ]
    },
    {
      "cell_type": "code",
      "source": [
        "print(T1.shape, T2.shape)"
      ],
      "metadata": {
        "id": "A29SZHqKkkAe",
        "colab": {
          "base_uri": "https://localhost:8080/"
        },
        "outputId": "4f036845-443b-43b5-c70c-b89085eede11"
      },
      "execution_count": null,
      "outputs": [
        {
          "output_type": "stream",
          "name": "stdout",
          "text": [
            "(2, 3, 3) (2, 3, 3)\n"
          ]
        }
      ]
    },
    {
      "cell_type": "code",
      "source": [
        "print(T1.dot(T2).shape)"
      ],
      "metadata": {
        "id": "rXPqe8gMk8gk",
        "colab": {
          "base_uri": "https://localhost:8080/"
        },
        "outputId": "c5741afc-50ad-4658-8a6c-53a1637fbfc0"
      },
      "execution_count": null,
      "outputs": [
        {
          "output_type": "stream",
          "name": "stdout",
          "text": [
            "(2, 3, 2, 3)\n"
          ]
        }
      ]
    },
    {
      "cell_type": "markdown",
      "source": [
        "Al utilizar $\\texttt{np.dot}$ en realidad estamos realizando la multiplicación como la suma de productos sobre la última dimension del primer array y el penúltimo del segundo array. Es decir la dimension de salida al utilizar $\\texttt{np.dot}$ sigue la regla:<br><br>\n",
        "\n",
        "$[n\\times m\\times k]\\times [l\\times k\\times p]=[n\\times m\\times l\\times p]$"
      ],
      "metadata": {
        "id": "vNBzDZCn0E1K"
      }
    },
    {
      "cell_type": "code",
      "source": [
        "# (m x k) (k x p) -> (m x p)\n",
        "# (3 x 3) (3 x 3) -> (3 x 3)\n",
        "# -> (2, 3, 2, 3)  , n=2,m=3,l=2,p=3"
      ],
      "metadata": {
        "id": "zmsRW1vPP9Dg"
      },
      "execution_count": null,
      "outputs": []
    },
    {
      "cell_type": "markdown",
      "source": [
        "Por otro lado, cuando utilizamos $\\texttt{@}$ or $\\texttt{np.matmul}()$ y tenemos matrices multidimencionales, estas se transmiten como una pila de matrices que residen en los dos últimos índices."
      ],
      "metadata": {
        "id": "47_eUejG2zb_"
      }
    },
    {
      "cell_type": "code",
      "source": [
        "m1 = np.ones((3,6)) # [3x6]\n",
        "m2 = np.ones((6,7)) # [6x7]\n",
        "\n",
        "x  = m1 @ m2\n",
        "print(x.shape)"
      ],
      "metadata": {
        "id": "Fu_R5WmGxu8A",
        "colab": {
          "base_uri": "https://localhost:8080/"
        },
        "outputId": "82536746-b33d-4f2e-968f-c09333f190cc"
      },
      "execution_count": null,
      "outputs": [
        {
          "output_type": "stream",
          "name": "stdout",
          "text": [
            "(3, 7)\n"
          ]
        }
      ]
    },
    {
      "cell_type": "code",
      "metadata": {
        "id": "5H2pwMyH41nT"
      },
      "source": [
        "T1 = np.ones((2,4,5,3,6))\n",
        "T2 = np.ones((2,4,5,6,7))"
      ],
      "execution_count": null,
      "outputs": []
    },
    {
      "cell_type": "code",
      "source": [
        "print(T1.shape, T2.shape)"
      ],
      "metadata": {
        "id": "3-gP2tTilzS1",
        "colab": {
          "base_uri": "https://localhost:8080/"
        },
        "outputId": "e52867af-2dc9-4aa9-894a-1951c47bbc7f"
      },
      "execution_count": null,
      "outputs": [
        {
          "output_type": "stream",
          "name": "stdout",
          "text": [
            "(2, 4, 5, 3, 6) (2, 4, 5, 6, 7)\n"
          ]
        }
      ]
    },
    {
      "cell_type": "markdown",
      "source": [
        "En este caso $\\texttt{T1}$ es una pila de $2\\times4\\times5=40$ matrices de $3\\times 6$. Y $\\texttt{T2}$ es una pila de $2\\times4\\times5=40$ matrices de $6\\times 7$."
      ],
      "metadata": {
        "id": "xUvluDIR15K_"
      }
    },
    {
      "cell_type": "code",
      "metadata": {
        "id": "YMH873Nuukzn"
      },
      "source": [
        "A = T1 @ T2"
      ],
      "execution_count": null,
      "outputs": []
    },
    {
      "cell_type": "code",
      "source": [
        "A.shape"
      ],
      "metadata": {
        "id": "2njURS6ixc12",
        "colab": {
          "base_uri": "https://localhost:8080/"
        },
        "outputId": "712fdab8-63a7-4981-991e-07e33b095440"
      },
      "execution_count": null,
      "outputs": [
        {
          "output_type": "execute_result",
          "data": {
            "text/plain": [
              "(2, 4, 5, 3, 7)"
            ]
          },
          "metadata": {},
          "execution_count": 33
        }
      ]
    },
    {
      "cell_type": "markdown",
      "metadata": {
        "id": "uZDO3_q3-CBs"
      },
      "source": [
        "## $\\texttt{np.linalg.inv(a)}$\n",
        "\n",
        "Podemos tambien hallar la inversa de una matriz utilizando $\\texttt{np.linalg.inv(a)}$"
      ]
    },
    {
      "cell_type": "code",
      "source": [
        "A = np.array([[12, 3],[3,4]])\n",
        "A"
      ],
      "metadata": {
        "id": "-onS-6cYIDUV",
        "colab": {
          "base_uri": "https://localhost:8080/"
        },
        "outputId": "de502669-2619-4f2e-99fb-2f76097529e5"
      },
      "execution_count": null,
      "outputs": [
        {
          "output_type": "execute_result",
          "data": {
            "text/plain": [
              "array([[12,  3],\n",
              "       [ 3,  4]])"
            ]
          },
          "metadata": {},
          "execution_count": 34
        }
      ]
    },
    {
      "cell_type": "code",
      "metadata": {
        "id": "LCs6vGJf-Jbz",
        "colab": {
          "base_uri": "https://localhost:8080/"
        },
        "outputId": "e43aec5a-04ee-4b85-a09c-9ef542c41d8b"
      },
      "source": [
        "Ainv = np.linalg.inv(A)\n",
        "Ainv"
      ],
      "execution_count": null,
      "outputs": [
        {
          "output_type": "execute_result",
          "data": {
            "text/plain": [
              "array([[ 0.1025641 , -0.07692308],\n",
              "       [-0.07692308,  0.30769231]])"
            ]
          },
          "metadata": {},
          "execution_count": 35
        }
      ]
    },
    {
      "cell_type": "code",
      "source": [
        "print(A @ Ainv)"
      ],
      "metadata": {
        "id": "G5sv44XwIUNN",
        "colab": {
          "base_uri": "https://localhost:8080/"
        },
        "outputId": "2fc100ef-c27a-41f1-c596-1832c84283d3"
      },
      "execution_count": null,
      "outputs": [
        {
          "output_type": "stream",
          "name": "stdout",
          "text": [
            "[[1. 0.]\n",
            " [0. 1.]]\n"
          ]
        }
      ]
    },
    {
      "cell_type": "markdown",
      "source": [
        "# Operaciones con Matrices en Machine Learning"
      ],
      "metadata": {
        "id": "bT2559KkLlBz"
      }
    },
    {
      "cell_type": "markdown",
      "metadata": {
        "id": "vDpLZw_PnbAd"
      },
      "source": [
        "## Regresión Lineal\n",
        "\n",
        "Un modelo lineal para la regresion (proceso por el cual se estima relaciones entre variables) es aquel que involucra una combinación lineal de las variable de entrada.\n",
        "\n",
        "$y=\\sum_{i=1}^{n}x_i\\cdot w_i + b= \\mathbf{w}^{T}\\mathbf{x}+b$,\n",
        "\n",
        "\n",
        "donde: $\\quad\\mathbf{w}=\\begin{pmatrix} w_1\\\\w_2\\\\\\vdots\\\\w_n\\end{pmatrix}\\quad$ y $\\quad\\mathbf{x}=\\begin{pmatrix} x_1\\\\x_2\\\\\\vdots\\\\x_n\\end{pmatrix}$\n",
        "\n",
        "* $\\mathbf{w}$ y $b$ son los parámetros del modelo de regresión.\n",
        "* $\\mathbf{x}$ es la variable independiente.\n",
        "* $y$ es la variable dependiente.\n",
        "\n"
      ]
    },
    {
      "cell_type": "code",
      "source": [
        "n = 10 # número de elementos de la entrada\n",
        "\n",
        "# Entrada\n",
        "x = np.random.randn(n) # Caracteristicas del departamento\n",
        "\n",
        "# Parámetros\n",
        "w = np.random.randn(n)\n",
        "b = np.random.randn(1)"
      ],
      "metadata": {
        "id": "OkMaC69NETuQ"
      },
      "execution_count": null,
      "outputs": []
    },
    {
      "cell_type": "code",
      "source": [
        "w.shape"
      ],
      "metadata": {
        "id": "l87AWa25544w",
        "colab": {
          "base_uri": "https://localhost:8080/"
        },
        "outputId": "8365cb33-8fe0-4ec3-e432-13c9986dce1e"
      },
      "execution_count": null,
      "outputs": [
        {
          "output_type": "execute_result",
          "data": {
            "text/plain": [
              "(10,)"
            ]
          },
          "metadata": {},
          "execution_count": 38
        }
      ]
    },
    {
      "cell_type": "code",
      "source": [
        "w_transpuesta = w.T"
      ],
      "metadata": {
        "id": "40SuKq2s56yb"
      },
      "execution_count": null,
      "outputs": []
    },
    {
      "cell_type": "code",
      "source": [
        "w_transpuesta.shape"
      ],
      "metadata": {
        "id": "HjoILZJ56gqM",
        "colab": {
          "base_uri": "https://localhost:8080/"
        },
        "outputId": "3e7cc864-93ca-4a93-852e-ae2da09dc502"
      },
      "execution_count": null,
      "outputs": [
        {
          "output_type": "execute_result",
          "data": {
            "text/plain": [
              "(10,)"
            ]
          },
          "metadata": {},
          "execution_count": 40
        }
      ]
    },
    {
      "cell_type": "code",
      "source": [
        "y = w.T @ x + b # el precio\n",
        "\n",
        "print(y)"
      ],
      "metadata": {
        "id": "zrRz2fkPGpow",
        "colab": {
          "base_uri": "https://localhost:8080/"
        },
        "outputId": "2ca1658d-537f-487c-d889-07f50185d585"
      },
      "execution_count": null,
      "outputs": [
        {
          "output_type": "stream",
          "name": "stdout",
          "text": [
            "[-1.90679968]\n"
          ]
        }
      ]
    },
    {
      "cell_type": "markdown",
      "metadata": {
        "id": "ON8Su6eGfXvm"
      },
      "source": [
        "# Manipulación de $\\textit{arrays}$\n",
        "\n",
        "Numpy tambien nos permite manipular los arrays: crear nuevas dimensiones, cambiar el tamaño y reordenar."
      ]
    },
    {
      "cell_type": "markdown",
      "source": [
        "## $\\texttt{np.newaxis}$\n",
        "\n",
        "Numpy nos permite añadir una nueva dimensión a un array."
      ],
      "metadata": {
        "id": "qRwNI3yYPmCk"
      }
    },
    {
      "cell_type": "code",
      "source": [
        "v = np.array([[1,2,3],[4,5,6]])\n",
        "v.shape"
      ],
      "metadata": {
        "id": "aS4eWwB3_OVX",
        "colab": {
          "base_uri": "https://localhost:8080/"
        },
        "outputId": "fa79ace9-e54f-4b43-96e0-d8df556ffde0"
      },
      "execution_count": null,
      "outputs": [
        {
          "output_type": "execute_result",
          "data": {
            "text/plain": [
              "(2, 3)"
            ]
          },
          "metadata": {},
          "execution_count": 46
        }
      ]
    },
    {
      "cell_type": "code",
      "source": [
        "v"
      ],
      "metadata": {
        "id": "sRsnhe7Z_g3z",
        "colab": {
          "base_uri": "https://localhost:8080/"
        },
        "outputId": "a8722dc1-7b6a-4af3-d079-8ff877e09a38"
      },
      "execution_count": null,
      "outputs": [
        {
          "output_type": "execute_result",
          "data": {
            "text/plain": [
              "array([[1, 2, 3],\n",
              "       [4, 5, 6]])"
            ]
          },
          "metadata": {},
          "execution_count": 47
        }
      ]
    },
    {
      "cell_type": "code",
      "source": [
        "v[:,2]"
      ],
      "metadata": {
        "colab": {
          "base_uri": "https://localhost:8080/"
        },
        "id": "syQb3o6GXrr8",
        "outputId": "03e2f37e-a033-479c-b505-643a64c710d3"
      },
      "execution_count": null,
      "outputs": [
        {
          "output_type": "execute_result",
          "data": {
            "text/plain": [
              "array([3, 6])"
            ]
          },
          "metadata": {},
          "execution_count": 51
        }
      ]
    },
    {
      "cell_type": "code",
      "metadata": {
        "id": "oAriKN_CXPkV",
        "colab": {
          "base_uri": "https://localhost:8080/"
        },
        "outputId": "7b08e734-e890-4ca0-9cbb-e4c2cb054611"
      },
      "source": [
        "a = v[:,0]\n",
        "a.shape"
      ],
      "execution_count": null,
      "outputs": [
        {
          "output_type": "execute_result",
          "data": {
            "text/plain": [
              "(2,)"
            ]
          },
          "metadata": {},
          "execution_count": 52
        }
      ]
    },
    {
      "cell_type": "code",
      "source": [
        "a"
      ],
      "metadata": {
        "id": "OFzCq_m9_ilq",
        "colab": {
          "base_uri": "https://localhost:8080/"
        },
        "outputId": "cf3f7830-0c63-4521-ada5-6b3f570bb3e6"
      },
      "execution_count": null,
      "outputs": [
        {
          "output_type": "execute_result",
          "data": {
            "text/plain": [
              "array([1, 4])"
            ]
          },
          "metadata": {},
          "execution_count": 53
        }
      ]
    },
    {
      "cell_type": "code",
      "source": [
        "v = np.zeros((100,100))"
      ],
      "metadata": {
        "id": "kD_F4GUDrDd5"
      },
      "execution_count": null,
      "outputs": []
    },
    {
      "cell_type": "code",
      "source": [
        "v.shape"
      ],
      "metadata": {
        "colab": {
          "base_uri": "https://localhost:8080/"
        },
        "id": "jcgTi6j8rExL",
        "outputId": "2afea8c0-ca6c-4358-f776-886b04741c71"
      },
      "execution_count": null,
      "outputs": [
        {
          "output_type": "execute_result",
          "data": {
            "text/plain": [
              "(100, 100)"
            ]
          },
          "metadata": {},
          "execution_count": 55
        }
      ]
    },
    {
      "cell_type": "code",
      "metadata": {
        "id": "gum_S6QSWSmg",
        "colab": {
          "base_uri": "https://localhost:8080/"
        },
        "outputId": "3f084bcb-bca7-491a-da99-c6058d964986"
      },
      "source": [
        "b = v[np.newaxis,:,:]\n",
        "b.shape"
      ],
      "execution_count": null,
      "outputs": [
        {
          "output_type": "execute_result",
          "data": {
            "text/plain": [
              "(1, 100, 100)"
            ]
          },
          "metadata": {},
          "execution_count": 56
        }
      ]
    },
    {
      "cell_type": "code",
      "source": [
        "c = b[:,:,:,np.newaxis]\n",
        "c.shape"
      ],
      "metadata": {
        "id": "cTojxfi8_wjq",
        "colab": {
          "base_uri": "https://localhost:8080/"
        },
        "outputId": "2d32d933-5ea6-4a43-baaf-2b017930d57e"
      },
      "execution_count": null,
      "outputs": [
        {
          "output_type": "execute_result",
          "data": {
            "text/plain": [
              "(1, 100, 100, 1)"
            ]
          },
          "metadata": {},
          "execution_count": 58
        }
      ]
    },
    {
      "cell_type": "markdown",
      "metadata": {
        "id": "f1WIm3MkGXnD"
      },
      "source": [
        "## $\\texttt{np.stack(arrays, axis=0}$"
      ]
    },
    {
      "cell_type": "markdown",
      "source": [
        "Supongamos que tenemos los tres canales de una imagen: Rojo(R), Verde(G) y Azul(B)."
      ],
      "metadata": {
        "id": "27eTZ31uZN7-"
      }
    },
    {
      "cell_type": "code",
      "metadata": {
        "id": "9NTke3vaF0xd"
      },
      "source": [
        "# raw images\n",
        "\n",
        "R = np.ones((32,32)) # rojo\n",
        "G = np.ones((32,32)) # verde\n",
        "B = np.ones((32,32)) # azul"
      ],
      "execution_count": null,
      "outputs": []
    },
    {
      "cell_type": "code",
      "metadata": {
        "id": "2JQLpcZBHH_m",
        "colab": {
          "base_uri": "https://localhost:8080/"
        },
        "outputId": "79abffaa-8f67-42a3-a748-3ba7693afc29"
      },
      "source": [
        "image_c = np.dstack([R,G,B])\n",
        "image_c.shape"
      ],
      "execution_count": null,
      "outputs": [
        {
          "output_type": "execute_result",
          "data": {
            "text/plain": [
              "(32, 32, 3)"
            ]
          },
          "metadata": {},
          "execution_count": 60
        }
      ]
    },
    {
      "cell_type": "code",
      "metadata": {
        "id": "gv6eOOE3Grbp"
      },
      "source": [
        "image = np.stack([R,G,B], axis=2)"
      ],
      "execution_count": null,
      "outputs": []
    },
    {
      "cell_type": "code",
      "metadata": {
        "id": "jUMLR_5nGzlR",
        "colab": {
          "base_uri": "https://localhost:8080/"
        },
        "outputId": "8ef767cb-6a47-4fa7-9da7-1ebf0e79c51a"
      },
      "source": [
        "# TensorFlow/Keras\n",
        "\n",
        "image.shape"
      ],
      "execution_count": null,
      "outputs": [
        {
          "output_type": "execute_result",
          "data": {
            "text/plain": [
              "(32, 32, 3)"
            ]
          },
          "metadata": {},
          "execution_count": 62
        }
      ]
    },
    {
      "cell_type": "code",
      "metadata": {
        "id": "5phayP8KHSvl",
        "colab": {
          "base_uri": "https://localhost:8080/"
        },
        "outputId": "d99c98b8-f329-469c-9c11-1969d4410822"
      },
      "source": [
        "# Pytorch\n",
        "\n",
        "image = np.stack([R,G,B], axis=0)\n",
        "image.shape"
      ],
      "execution_count": null,
      "outputs": [
        {
          "output_type": "execute_result",
          "data": {
            "text/plain": [
              "(3, 32, 32)"
            ]
          },
          "metadata": {},
          "execution_count": 63
        }
      ]
    },
    {
      "cell_type": "markdown",
      "metadata": {
        "id": "nLpuYUBjF9dU"
      },
      "source": [
        "## $\\texttt{np.reshape(a, newshape)}$\n",
        "\n",
        "También podemos modificar el tamaño de nuestro array  con $\\texttt{np.reshape()}$"
      ]
    },
    {
      "cell_type": "code",
      "metadata": {
        "id": "uh53KoJOfOeA",
        "colab": {
          "base_uri": "https://localhost:8080/"
        },
        "outputId": "64786e92-c6e6-47e4-a0e4-f996107baf54"
      },
      "source": [
        "A = np.arange(28*28*3)\n",
        "A"
      ],
      "execution_count": null,
      "outputs": [
        {
          "output_type": "execute_result",
          "data": {
            "text/plain": [
              "array([   0,    1,    2, ..., 2349, 2350, 2351])"
            ]
          },
          "metadata": {},
          "execution_count": 64
        }
      ]
    },
    {
      "cell_type": "code",
      "metadata": {
        "id": "cWx6MS_7-ZK8",
        "colab": {
          "base_uri": "https://localhost:8080/"
        },
        "outputId": "af26aa16-72f4-4fe0-9b4b-689a8b7e4af6"
      },
      "source": [
        "A.shape"
      ],
      "execution_count": null,
      "outputs": [
        {
          "output_type": "execute_result",
          "data": {
            "text/plain": [
              "(2352,)"
            ]
          },
          "metadata": {},
          "execution_count": 65
        }
      ]
    },
    {
      "cell_type": "code",
      "source": [
        "# [2352,] ===> [28,28,3] , [3,28,28]"
      ],
      "metadata": {
        "id": "LMzUJksYCvPt"
      },
      "execution_count": null,
      "outputs": []
    },
    {
      "cell_type": "code",
      "metadata": {
        "id": "GEMXi9Dy-aQL",
        "colab": {
          "base_uri": "https://localhost:8080/"
        },
        "outputId": "c477ac93-8197-45c7-aa5f-62144f7e0832"
      },
      "source": [
        "# TensorFlow\n",
        "B = A.reshape(28,28,3)\n",
        "B.shape"
      ],
      "execution_count": null,
      "outputs": [
        {
          "output_type": "execute_result",
          "data": {
            "text/plain": [
              "(28, 28, 3)"
            ]
          },
          "metadata": {},
          "execution_count": 67
        }
      ]
    },
    {
      "cell_type": "code",
      "source": [
        "# Pytorch\n",
        "\n",
        "C = A.reshape(3,28,28)\n",
        "C.shape"
      ],
      "metadata": {
        "id": "e7f7pClGDC3F",
        "colab": {
          "base_uri": "https://localhost:8080/"
        },
        "outputId": "68180628-adcc-42f9-f98e-5e4c925d636f"
      },
      "execution_count": null,
      "outputs": [
        {
          "output_type": "execute_result",
          "data": {
            "text/plain": [
              "(3, 28, 28)"
            ]
          },
          "metadata": {},
          "execution_count": 68
        }
      ]
    },
    {
      "cell_type": "code",
      "metadata": {
        "id": "-SAwA9Jx-g3K",
        "colab": {
          "base_uri": "https://localhost:8080/"
        },
        "outputId": "e3745c88-b2b8-4d59-fe25-167b2e38be63"
      },
      "source": [
        "# TensorFlow\n",
        "print(B.shape)"
      ],
      "execution_count": null,
      "outputs": [
        {
          "output_type": "stream",
          "name": "stdout",
          "text": [
            "(28, 28, 3)\n"
          ]
        }
      ]
    },
    {
      "cell_type": "code",
      "source": [
        "# Pytorch\n",
        "print(C.shape)"
      ],
      "metadata": {
        "id": "lef2ZHfkDjta",
        "colab": {
          "base_uri": "https://localhost:8080/"
        },
        "outputId": "7d096f17-fa62-469b-9235-08fee1f901e7"
      },
      "execution_count": null,
      "outputs": [
        {
          "output_type": "stream",
          "name": "stdout",
          "text": [
            "(3, 28, 28)\n"
          ]
        }
      ]
    },
    {
      "cell_type": "markdown",
      "metadata": {
        "id": "Al1WxYzqGOPw"
      },
      "source": [
        "## $\\texttt{np.transpose(a, axes=None)}$"
      ]
    },
    {
      "cell_type": "markdown",
      "source": [
        "Numpy también nos permite permutar las dimensiones de un array."
      ],
      "metadata": {
        "id": "vzQPO6UmZZ70"
      }
    },
    {
      "cell_type": "code",
      "source": [
        "B.shape"
      ],
      "metadata": {
        "id": "oTb2at9OD3xo",
        "colab": {
          "base_uri": "https://localhost:8080/"
        },
        "outputId": "54ba53fe-9b6f-4231-a008-e563a1a436a4"
      },
      "execution_count": null,
      "outputs": [
        {
          "output_type": "execute_result",
          "data": {
            "text/plain": [
              "(28, 28, 3)"
            ]
          },
          "metadata": {},
          "execution_count": 71
        }
      ]
    },
    {
      "cell_type": "code",
      "source": [
        "C.shape"
      ],
      "metadata": {
        "id": "SLGkKU0yD6Zo",
        "colab": {
          "base_uri": "https://localhost:8080/"
        },
        "outputId": "0b118314-cb92-4189-b657-0849a4babca8"
      },
      "execution_count": null,
      "outputs": [
        {
          "output_type": "execute_result",
          "data": {
            "text/plain": [
              "(3, 28, 28)"
            ]
          },
          "metadata": {},
          "execution_count": 72
        }
      ]
    },
    {
      "cell_type": "code",
      "metadata": {
        "id": "GTnWXuNn00K6",
        "colab": {
          "base_uri": "https://localhost:8080/"
        },
        "outputId": "58fc0bbb-6fc7-47c7-e60c-93da474c86e6"
      },
      "source": [
        "D = np.transpose(B, (2,0,1)) # torch.permute\n",
        "print(D.shape)"
      ],
      "execution_count": null,
      "outputs": [
        {
          "output_type": "stream",
          "name": "stdout",
          "text": [
            "(3, 28, 28)\n"
          ]
        }
      ]
    },
    {
      "cell_type": "markdown",
      "metadata": {
        "id": "mj0OEQwR_Hcn"
      },
      "source": [
        "## Applicación: Preparación de bases de datos en Deep Learning\n",
        "\n",
        "En algunos casos es necesario realizar ciertas transformaciones a nuestra base de datos para procesarlas. Estas operaciones pueden realizarse antes o despues de procesar nuestros datos.\n",
        "\n",
        "En Deep Learning, en ocasiones es necesario transformar los datos antes de que estos pasen por la red neuronal. Por ejemplos, si trabajamos con imágenes, estas podrían requerir ser transformadas a vectores antes de pasar por la red neuronal ."
      ]
    },
    {
      "cell_type": "markdown",
      "metadata": {
        "id": "znabsVEh_gJi"
      },
      "source": [
        "$batch = (N,C,W,H)$\n",
        "\n",
        "* $N$: número de muestras\n",
        "* $C$: número de canales por imágen\n",
        "* $W$: ancho\n",
        "* $H$: alto\n"
      ]
    },
    {
      "cell_type": "markdown",
      "source": [
        "Un $batch$ es un sub-conjunto de muestras o datos. Para acelerar el proceso de procesamiento, en lugar de procesar una única muestra a la vez, podemos procesar varías. Por ejemplo, $64$ imágenes de $28\\times28\\times1$ (en escala de grises)."
      ],
      "metadata": {
        "id": "2n9TnwyKEreB"
      }
    },
    {
      "cell_type": "code",
      "source": [
        "print(28*28)"
      ],
      "metadata": {
        "id": "YbblNc_nE3JW",
        "colab": {
          "base_uri": "https://localhost:8080/"
        },
        "outputId": "e0c7a012-f025-4fa1-99ca-e98f978270ae"
      },
      "execution_count": null,
      "outputs": [
        {
          "output_type": "stream",
          "name": "stdout",
          "text": [
            "784\n"
          ]
        }
      ]
    },
    {
      "cell_type": "code",
      "metadata": {
        "id": "3tOm3Q4F_LMT",
        "colab": {
          "base_uri": "https://localhost:8080/"
        },
        "outputId": "2d06604e-b08e-414e-9991-d2a91f6331f0"
      },
      "source": [
        "# MNIST: 64 imagenes\n",
        "data = np.ones((64,28*28*1))\n",
        "data.shape"
      ],
      "execution_count": null,
      "outputs": [
        {
          "output_type": "execute_result",
          "data": {
            "text/plain": [
              "(64, 784)"
            ]
          },
          "metadata": {},
          "execution_count": 78
        }
      ]
    },
    {
      "cell_type": "code",
      "source": [
        "# Pytorch\n",
        "data_lista = data.reshape(64,1,28,28)\n",
        "data_lista.shape"
      ],
      "metadata": {
        "id": "gvlt2uiFE_EJ",
        "colab": {
          "base_uri": "https://localhost:8080/"
        },
        "outputId": "32db9343-ac9e-42ae-c112-268bbdb3092b"
      },
      "execution_count": null,
      "outputs": [
        {
          "output_type": "execute_result",
          "data": {
            "text/plain": [
              "(64, 1, 28, 28)"
            ]
          },
          "metadata": {},
          "execution_count": 79
        }
      ]
    },
    {
      "cell_type": "code",
      "metadata": {
        "id": "CmAbXO6k_V9K",
        "colab": {
          "base_uri": "https://localhost:8080/"
        },
        "outputId": "17ddf5cc-ddad-4f1f-8bc0-c7ab3edb496f"
      },
      "source": [
        "# CIFAR: 64 imagenes a color (3 canales)\n",
        "data = np.ones((64,32*32*3))\n",
        "data.shape"
      ],
      "execution_count": null,
      "outputs": [
        {
          "output_type": "execute_result",
          "data": {
            "text/plain": [
              "(64, 3072)"
            ]
          },
          "metadata": {},
          "execution_count": 80
        }
      ]
    },
    {
      "cell_type": "code",
      "source": [
        "#Pytorch\n",
        "\n",
        "data_lista = data.reshape(64,3,32,32)\n",
        "data_lista.shape"
      ],
      "metadata": {
        "id": "GZ3EQWr-FYn6",
        "colab": {
          "base_uri": "https://localhost:8080/"
        },
        "outputId": "c82085b7-fc61-4ef6-a1f2-88256629068d"
      },
      "execution_count": null,
      "outputs": [
        {
          "output_type": "execute_result",
          "data": {
            "text/plain": [
              "(64, 3, 32, 32)"
            ]
          },
          "metadata": {},
          "execution_count": 83
        }
      ]
    },
    {
      "cell_type": "code",
      "source": [
        "print(3 * 32 * 32)"
      ],
      "metadata": {
        "colab": {
          "base_uri": "https://localhost:8080/"
        },
        "id": "Wyj8xnA1cLeM",
        "outputId": "5473d1ad-1732-4578-fd10-eb3d5ef9a05f"
      },
      "execution_count": null,
      "outputs": [
        {
          "output_type": "stream",
          "name": "stdout",
          "text": [
            "3072\n"
          ]
        }
      ]
    },
    {
      "cell_type": "markdown",
      "metadata": {
        "id": "otPm4stIAbKO"
      },
      "source": [
        "# Encontrando algunas estadisticas\n",
        "\n",
        "Numpy permite extraer algunas estadisticas de los arrays"
      ]
    },
    {
      "cell_type": "code",
      "source": [
        "import numpy as np"
      ],
      "metadata": {
        "id": "BHqNXzCx7S3q"
      },
      "execution_count": null,
      "outputs": []
    },
    {
      "cell_type": "code",
      "metadata": {
        "id": "JsuHUeORAeZx",
        "colab": {
          "base_uri": "https://localhost:8080/"
        },
        "outputId": "a858d16b-aeaf-496c-abc5-f6c78fa1f813"
      },
      "source": [
        "M = np.random.randn(5,5) * 3 + 1.5 #  mu(media) =1.5\n",
        "M.shape"
      ],
      "execution_count": null,
      "outputs": [
        {
          "output_type": "execute_result",
          "data": {
            "text/plain": [
              "(5, 5)"
            ]
          },
          "metadata": {},
          "execution_count": 6
        }
      ]
    },
    {
      "cell_type": "code",
      "source": [
        "M"
      ],
      "metadata": {
        "id": "tyZgiIqEGPMK",
        "colab": {
          "base_uri": "https://localhost:8080/"
        },
        "outputId": "51317bb3-612b-4544-faea-8049b3549943"
      },
      "execution_count": null,
      "outputs": [
        {
          "output_type": "execute_result",
          "data": {
            "text/plain": [
              "array([[ 5.86053087,  2.52172613,  4.49578567, -1.8057592 ,  1.31798511],\n",
              "       [-1.69266366, -3.03877315,  3.57823639,  6.11140123,  1.21610577],\n",
              "       [-2.66790826,  3.39832288, -0.44251079,  4.03079027, -0.03871271],\n",
              "       [ 2.49668369, -2.78231287, -1.53366701,  3.67515196,  1.00010858],\n",
              "       [-3.88239826, -2.89488634, -2.46422451,  2.32357847, -0.66263127]])"
            ]
          },
          "metadata": {},
          "execution_count": 7
        }
      ]
    },
    {
      "cell_type": "code",
      "metadata": {
        "id": "fkloxSLjAqiB",
        "colab": {
          "base_uri": "https://localhost:8080/"
        },
        "outputId": "a5897c4d-6dac-4cbb-c0fc-7d8cc24dfee7"
      },
      "source": [
        "M.mean()"
      ],
      "execution_count": null,
      "outputs": [
        {
          "output_type": "execute_result",
          "data": {
            "text/plain": [
              "0.72479836083962"
            ]
          },
          "metadata": {},
          "execution_count": 8
        }
      ]
    },
    {
      "cell_type": "code",
      "metadata": {
        "id": "jRLP8HfPAsbD",
        "colab": {
          "base_uri": "https://localhost:8080/"
        },
        "outputId": "88c5c3f9-f07d-4230-c204-c18a387e9dac"
      },
      "source": [
        "M.sum()"
      ],
      "execution_count": null,
      "outputs": [
        {
          "output_type": "execute_result",
          "data": {
            "text/plain": [
              "18.1199590209905"
            ]
          },
          "metadata": {},
          "execution_count": 11
        }
      ]
    },
    {
      "cell_type": "code",
      "source": [
        "print(M.sum()/25)"
      ],
      "metadata": {
        "colab": {
          "base_uri": "https://localhost:8080/"
        },
        "id": "uA2ZWGlGRsip",
        "outputId": "7c04b62f-eb1b-447b-f9d9-b9788a059cb1"
      },
      "execution_count": null,
      "outputs": [
        {
          "output_type": "stream",
          "name": "stdout",
          "text": [
            "0.72479836083962\n"
          ]
        }
      ]
    },
    {
      "cell_type": "code",
      "metadata": {
        "id": "4YMyVGS-AsdZ",
        "colab": {
          "base_uri": "https://localhost:8080/"
        },
        "outputId": "2533fe11-51a7-45e6-a242-d338a977ed78"
      },
      "source": [
        "M.min()"
      ],
      "execution_count": null,
      "outputs": [
        {
          "output_type": "execute_result",
          "data": {
            "text/plain": [
              "-3.8823982581936534"
            ]
          },
          "metadata": {},
          "execution_count": 13
        }
      ]
    },
    {
      "cell_type": "code",
      "metadata": {
        "id": "i__S811FAsgG",
        "colab": {
          "base_uri": "https://localhost:8080/"
        },
        "outputId": "f0b835dd-5bfc-41a8-f84a-8111d2427a3d"
      },
      "source": [
        "M.max()"
      ],
      "execution_count": null,
      "outputs": [
        {
          "output_type": "execute_result",
          "data": {
            "text/plain": [
              "6.11140122909123"
            ]
          },
          "metadata": {},
          "execution_count": 14
        }
      ]
    },
    {
      "cell_type": "code",
      "metadata": {
        "id": "WZny_JeqAsjB",
        "colab": {
          "base_uri": "https://localhost:8080/"
        },
        "outputId": "708f5ee0-13c2-4feb-e894-85b2927d1748"
      },
      "source": [
        "M.argmax()"
      ],
      "execution_count": null,
      "outputs": [
        {
          "output_type": "execute_result",
          "data": {
            "text/plain": [
              "8"
            ]
          },
          "metadata": {},
          "execution_count": 15
        }
      ]
    },
    {
      "cell_type": "code",
      "metadata": {
        "id": "5beFhRLaAsnf",
        "colab": {
          "base_uri": "https://localhost:8080/"
        },
        "outputId": "5840beba-b569-44f6-87aa-f4ba9482ca22"
      },
      "source": [
        "M.argmin()"
      ],
      "execution_count": null,
      "outputs": [
        {
          "output_type": "execute_result",
          "data": {
            "text/plain": [
              "20"
            ]
          },
          "metadata": {},
          "execution_count": 16
        }
      ]
    },
    {
      "cell_type": "code",
      "metadata": {
        "id": "pMoX4WapCn-1",
        "colab": {
          "base_uri": "https://localhost:8080/"
        },
        "outputId": "13fe5846-7965-4c1a-dad5-9fee2caa55b9"
      },
      "source": [
        "M.std()"
      ],
      "execution_count": null,
      "outputs": [
        {
          "output_type": "execute_result",
          "data": {
            "text/plain": [
              "2.9517540731530607"
            ]
          },
          "metadata": {},
          "execution_count": 17
        }
      ]
    },
    {
      "cell_type": "markdown",
      "metadata": {
        "id": "8fxKp4RZDOXT"
      },
      "source": [
        "### El argumento $\\texttt{axis}$"
      ]
    },
    {
      "cell_type": "code",
      "metadata": {
        "id": "ehvBLnZeyErm",
        "colab": {
          "base_uri": "https://localhost:8080/"
        },
        "outputId": "b66d050a-357b-4fd1-b2be-bc0d9b0b0145"
      },
      "source": [
        "v = np.random.randint(0,10,(4,4))\n",
        "v.shape"
      ],
      "execution_count": null,
      "outputs": [
        {
          "output_type": "execute_result",
          "data": {
            "text/plain": [
              "(4, 4)"
            ]
          },
          "metadata": {},
          "execution_count": 23
        }
      ]
    },
    {
      "cell_type": "code",
      "metadata": {
        "id": "pWK5eM6RDk_n",
        "colab": {
          "base_uri": "https://localhost:8080/"
        },
        "outputId": "0075bbd1-b404-4c35-c3e3-445cb7df9915"
      },
      "source": [
        "v"
      ],
      "execution_count": null,
      "outputs": [
        {
          "output_type": "execute_result",
          "data": {
            "text/plain": [
              "array([[2, 0, 8, 6],\n",
              "       [7, 8, 2, 9],\n",
              "       [2, 5, 5, 0],\n",
              "       [3, 6, 1, 1]])"
            ]
          },
          "metadata": {},
          "execution_count": 24
        }
      ]
    },
    {
      "cell_type": "code",
      "metadata": {
        "id": "yeMIQiIbDX6E",
        "colab": {
          "base_uri": "https://localhost:8080/"
        },
        "outputId": "43e3455f-4163-4cbd-fe66-03c9372c84e4"
      },
      "source": [
        "v.min(axis=0) # el minimo en filas"
      ],
      "execution_count": null,
      "outputs": [
        {
          "output_type": "execute_result",
          "data": {
            "text/plain": [
              "array([2, 0, 1, 0])"
            ]
          },
          "metadata": {},
          "execution_count": 25
        }
      ]
    },
    {
      "cell_type": "code",
      "metadata": {
        "id": "QpVwKt6HDfEM",
        "colab": {
          "base_uri": "https://localhost:8080/"
        },
        "outputId": "7dc62d1a-eb64-4ea3-d43b-2413af72c712"
      },
      "source": [
        "v.min(axis=1) # el minimo por columnas"
      ],
      "execution_count": null,
      "outputs": [
        {
          "output_type": "execute_result",
          "data": {
            "text/plain": [
              "array([0, 2, 0, 1])"
            ]
          },
          "metadata": {},
          "execution_count": 26
        }
      ]
    },
    {
      "cell_type": "code",
      "source": [
        "v.sum(axis=1) # suma en base a columnas (sumar todas las filas para cada columna)"
      ],
      "metadata": {
        "colab": {
          "base_uri": "https://localhost:8080/"
        },
        "id": "U3XyB_zF91QT",
        "outputId": "21ce5a87-6205-41e4-9ec4-5ce4b692c052"
      },
      "execution_count": null,
      "outputs": [
        {
          "output_type": "execute_result",
          "data": {
            "text/plain": [
              "array([16, 26, 12, 11])"
            ]
          },
          "metadata": {},
          "execution_count": 29
        }
      ]
    },
    {
      "cell_type": "code",
      "source": [
        "v.mean(axis=0)"
      ],
      "metadata": {
        "colab": {
          "base_uri": "https://localhost:8080/"
        },
        "id": "p_kr4vIR-Sgn",
        "outputId": "59743fc0-126c-4688-f944-c60bfdc31968"
      },
      "execution_count": null,
      "outputs": [
        {
          "output_type": "execute_result",
          "data": {
            "text/plain": [
              "array([3.5 , 4.75, 4.  , 4.  ])"
            ]
          },
          "metadata": {},
          "execution_count": 31
        }
      ]
    },
    {
      "cell_type": "markdown",
      "metadata": {
        "id": "4eFNfCk5DtfN"
      },
      "source": [
        "## Applicación: Predicción de la salida de una red neuronal\n",
        "\n",
        "En una regresión se trata de predecir una *variable continua* dependiente (escalar o vector), mientras que en una clasificación se trata de predecir una *variable categórica* dependiente. Una variabel caterorica permite clasificar un conjunto de datos a través de valores fijos (palabras, números, etc).\n",
        "\n",
        "Ejemplos de variable catogorica:\n",
        "\n",
        "* Se asigna $0$ a imágenes de gatos y $1$ a imágenes de perros.\n",
        "* Se asigna $-1$ a tweets negativos, $1$ a tweets positivos, $0$ a tweets neutros."
      ]
    },
    {
      "cell_type": "markdown",
      "metadata": {
        "id": "f0rVjZHLmJvm"
      },
      "source": [
        "<figure>\n",
        "<img src='https://drive.google.com/uc?export=view&id=1MxBQZkQuWgYwd1MxdSvQ9PRhls7SErR0' width=\"400\"/>\n",
        "<figcaption>Image Caption</figcaption>\n",
        "</figure>"
      ]
    },
    {
      "cell_type": "markdown",
      "metadata": {
        "id": "YgGsywFDEE9r"
      },
      "source": [
        "$y = (muestras,clases)$"
      ]
    },
    {
      "cell_type": "markdown",
      "source": [
        "Salida de la red neuronal: $y$"
      ],
      "metadata": {
        "id": "Xm23RE9AqRr_"
      }
    },
    {
      "cell_type": "code",
      "metadata": {
        "id": "DI4ILmd6D_Lq",
        "colab": {
          "base_uri": "https://localhost:8080/"
        },
        "outputId": "1603b245-4d65-4e88-f119-81c3016c499b"
      },
      "source": [
        "y = np.random.randn(16,3)\n",
        "y.shape"
      ],
      "execution_count": null,
      "outputs": [
        {
          "output_type": "execute_result",
          "data": {
            "text/plain": [
              "(16, 3)"
            ]
          },
          "metadata": {},
          "execution_count": 32
        }
      ]
    },
    {
      "cell_type": "code",
      "source": [
        "y"
      ],
      "metadata": {
        "colab": {
          "base_uri": "https://localhost:8080/"
        },
        "id": "9dwRgR5MVQqM",
        "outputId": "17498e6d-8fc0-41b8-a791-1fe9fa7a469c"
      },
      "execution_count": null,
      "outputs": [
        {
          "output_type": "execute_result",
          "data": {
            "text/plain": [
              "array([[ 0.67004883, -0.85523264,  1.30808159],\n",
              "       [-0.17811355,  1.48603806, -0.95269061],\n",
              "       [ 1.49882415, -1.11826235, -2.01339245],\n",
              "       [-1.12662653, -0.28755946,  0.18782598],\n",
              "       [ 1.95489369, -1.5865205 ,  1.38219715],\n",
              "       [ 1.28682878,  0.3913378 ,  0.53631474],\n",
              "       [ 0.87076668, -0.22820299,  0.84805266],\n",
              "       [ 1.13351099,  1.66610322, -1.15095066],\n",
              "       [-0.66408263, -0.16167356,  1.23788751],\n",
              "       [-2.11541569,  0.22564601,  0.31413403],\n",
              "       [-0.66892226,  0.35600241, -0.31998215],\n",
              "       [ 1.32029061,  0.77807129,  1.42781428],\n",
              "       [ 2.20951626,  1.45730737, -0.18602645],\n",
              "       [-1.27340431,  0.78871692,  1.47034493],\n",
              "       [-1.53459859, -0.07711537, -0.77136666],\n",
              "       [ 0.20251498,  1.09115448,  0.22951814]])"
            ]
          },
          "metadata": {},
          "execution_count": 33
        }
      ]
    },
    {
      "cell_type": "code",
      "metadata": {
        "id": "UPYMktjIEXPM",
        "colab": {
          "base_uri": "https://localhost:8080/"
        },
        "outputId": "4ea1474f-0ac0-4b3a-8740-426b44fc8680"
      },
      "source": [
        "pred = y.argmax(axis=1)\n",
        "pred.shape"
      ],
      "execution_count": null,
      "outputs": [
        {
          "output_type": "execute_result",
          "data": {
            "text/plain": [
              "(16,)"
            ]
          },
          "metadata": {},
          "execution_count": 34
        }
      ]
    },
    {
      "cell_type": "code",
      "source": [
        "pred"
      ],
      "metadata": {
        "colab": {
          "base_uri": "https://localhost:8080/"
        },
        "id": "6g6P1lfHVVbB",
        "outputId": "ad878a17-f1ba-48ed-9cef-74e121877563"
      },
      "execution_count": null,
      "outputs": [
        {
          "output_type": "execute_result",
          "data": {
            "text/plain": [
              "array([2, 1, 0, 2, 0, 0, 0, 1, 2, 2, 1, 2, 0, 2, 1, 1])"
            ]
          },
          "metadata": {},
          "execution_count": 35
        }
      ]
    },
    {
      "cell_type": "markdown",
      "source": [
        "Cual es el argumento con el máximo valor. Si consideramos:\n",
        "\n",
        "* 0: tweet negativo\n",
        "* 1: tweet positivo\n",
        "* 2: tweet neutro"
      ],
      "metadata": {
        "id": "N9WJfQ2wq1Xx"
      }
    },
    {
      "cell_type": "markdown",
      "source": [
        "### Creando etiquetas\n",
        "\n",
        "Las etiquetas vienen a ser los valores reales/correctos de las salidas."
      ],
      "metadata": {
        "id": "R5OxKSldrSQH"
      }
    },
    {
      "cell_type": "code",
      "metadata": {
        "id": "FSLJvABbEpv-",
        "colab": {
          "base_uri": "https://localhost:8080/"
        },
        "outputId": "1a0b6737-5b0a-4af0-965f-6d03a8b885c3"
      },
      "source": [
        "real = np.full(16,2)\n",
        "real"
      ],
      "execution_count": null,
      "outputs": [
        {
          "output_type": "execute_result",
          "data": {
            "text/plain": [
              "array([2, 2, 2, 2, 2, 2, 2, 2, 2, 2, 2, 2, 2, 2, 2, 2])"
            ]
          },
          "metadata": {},
          "execution_count": 36
        }
      ]
    },
    {
      "cell_type": "code",
      "metadata": {
        "id": "xcuEPPo5EzoO"
      },
      "source": [
        "resultados = (pred == real)"
      ],
      "execution_count": null,
      "outputs": []
    },
    {
      "cell_type": "code",
      "source": [
        "print(resultados)"
      ],
      "metadata": {
        "id": "VhRcO81trsHN",
        "colab": {
          "base_uri": "https://localhost:8080/"
        },
        "outputId": "e4399892-e9d7-4a8e-966b-aecea2704203"
      },
      "execution_count": null,
      "outputs": [
        {
          "output_type": "stream",
          "name": "stdout",
          "text": [
            "[ True False False  True False False False False  True  True False  True\n",
            " False  True False False]\n"
          ]
        }
      ]
    },
    {
      "cell_type": "code",
      "source": [
        "False == 0"
      ],
      "metadata": {
        "colab": {
          "base_uri": "https://localhost:8080/"
        },
        "id": "SbTMFeoWBIC9",
        "outputId": "e21d5090-2f5b-498a-ba84-57604ab4c9e8"
      },
      "execution_count": null,
      "outputs": [
        {
          "output_type": "execute_result",
          "data": {
            "text/plain": [
              "True"
            ]
          },
          "metadata": {},
          "execution_count": 40
        }
      ]
    },
    {
      "cell_type": "markdown",
      "source": [
        "Podemos medir el porcentaje de acierto de nuestro modelo."
      ],
      "metadata": {
        "id": "m6cW14wd-tTO"
      }
    },
    {
      "cell_type": "code",
      "metadata": {
        "id": "WlnaMYMOFJjQ",
        "colab": {
          "base_uri": "https://localhost:8080/"
        },
        "outputId": "d0f2df1f-8089-48d9-a4e1-e88afb995fc2"
      },
      "source": [
        "np.mean(resultados)"
      ],
      "execution_count": null,
      "outputs": [
        {
          "output_type": "execute_result",
          "data": {
            "text/plain": [
              "0.375"
            ]
          },
          "metadata": {},
          "execution_count": 41
        }
      ]
    },
    {
      "cell_type": "markdown",
      "source": [
        "# Ejercicios"
      ],
      "metadata": {
        "id": "09sttYxl3YTN"
      }
    },
    {
      "cell_type": "markdown",
      "source": [
        "## Ejercicio 1:\n",
        "\n",
        "Si $\\quad4x  + 3y = 20\\quad$ y $\\quad -5x + 9y = 26$, hallar $x,y$.\n",
        "\n",
        "  Solución:\n",
        "\n",
        "  Podemos representar el sistema de ecuaciones como $AX=B$, donde $A=\\begin{bmatrix}\n",
        "  4 & 3 \\\\\n",
        "  -5 & 9\n",
        "  \\end{bmatrix}$ y $B=\\begin{bmatrix}\n",
        "  20 \\\\\n",
        "  26\n",
        "  \\end{bmatrix}$, entonces\n",
        "\n",
        "  $X = A^{-1}B$"
      ],
      "metadata": {
        "id": "M-_DX1lkFD7j"
      }
    },
    {
      "cell_type": "code",
      "source": [
        "A = np.array([[4,3],[-5,9]])\n",
        "print(A, A.shape)"
      ],
      "metadata": {
        "id": "9L3BbNBE7Vle",
        "colab": {
          "base_uri": "https://localhost:8080/"
        },
        "outputId": "c0f37c86-82cb-47fa-97de-8553dfdb0a92"
      },
      "execution_count": null,
      "outputs": [
        {
          "output_type": "stream",
          "name": "stdout",
          "text": [
            "[[ 4  3]\n",
            " [-5  9]] (2, 2)\n"
          ]
        }
      ]
    },
    {
      "cell_type": "code",
      "source": [
        "B = np.array([[20],[26]])\n",
        "print(B, B.shape)"
      ],
      "metadata": {
        "colab": {
          "base_uri": "https://localhost:8080/"
        },
        "id": "Uo8G_kbxB3Yy",
        "outputId": "c44b499e-b47d-433d-d723-02d34ec3fa3a"
      },
      "execution_count": null,
      "outputs": [
        {
          "output_type": "stream",
          "name": "stdout",
          "text": [
            "[[20]\n",
            " [26]] (2, 1)\n"
          ]
        }
      ]
    },
    {
      "cell_type": "code",
      "source": [
        "Ainv = np.linalg.inv(A)\n",
        "Ainv"
      ],
      "metadata": {
        "colab": {
          "base_uri": "https://localhost:8080/"
        },
        "id": "eT-IRYIpCG-U",
        "outputId": "ef11b613-6bfb-45e3-e0c0-72b913523a41"
      },
      "execution_count": null,
      "outputs": [
        {
          "output_type": "execute_result",
          "data": {
            "text/plain": [
              "array([[ 0.17647059, -0.05882353],\n",
              "       [ 0.09803922,  0.07843137]])"
            ]
          },
          "metadata": {},
          "execution_count": 50
        }
      ]
    },
    {
      "cell_type": "code",
      "source": [
        "Ainv @ B"
      ],
      "metadata": {
        "colab": {
          "base_uri": "https://localhost:8080/"
        },
        "id": "dkXgIg1aCK7C",
        "outputId": "eda3f855-6064-4224-8b72-a5b6257a87e6"
      },
      "execution_count": null,
      "outputs": [
        {
          "output_type": "execute_result",
          "data": {
            "text/plain": [
              "array([[2.],\n",
              "       [4.]])"
            ]
          },
          "metadata": {},
          "execution_count": 51
        }
      ]
    },
    {
      "cell_type": "markdown",
      "source": [
        "## Ejercicio 2:\n",
        "\n",
        "Resolver el siguiente sitema de ecuaciones:\n",
        "\n",
        "$4x + 3y + 2z = 25$\n",
        "\n",
        "$-2x + 2y + 3z = -10$\n",
        "\n",
        "$3x -5y + 2z = -4$"
      ],
      "metadata": {
        "id": "Jst7-SD05mYv"
      }
    },
    {
      "cell_type": "code",
      "source": [],
      "metadata": {
        "id": "JHCit97Z3bB9"
      },
      "execution_count": null,
      "outputs": []
    },
    {
      "cell_type": "markdown",
      "source": [
        "## Tarea 1: Nueronas Artificiales\n",
        "\n",
        "Una red neuronal artificial esta compuesta de varias unidades de operación o Neuronas (artificiales). Similar a la regresión lineal, las neuronas realizan combinaciones lineales de sus entradas. Sin embargo, al resultado de esta combinación se le aplica **una función no-lineal**.\n",
        "\n",
        "<figure>\n",
        "<img src='https://drive.google.com/uc?export=view&id=1WNaPttOJsDnDl9I09SIFhAGTu64YPQug' width=\"600\"/>\n",
        "<figcaption>Image Caption</figcaption>\n",
        "</figure>\n",
        "\n",
        "* **Parametros de la red:** $W\\in\\mathbb{R}^{n\\times m} \\wedge b\\in\\mathbb{R}^{m}$\n",
        "* **Entrada:**  $\\mathbf{x}\\in\\mathbb{R}^{n\\times 1}$\n",
        "* **Salida:** $a\\in\\mathbb{R}^{3}$\n",
        "\n",
        "Donde:\n",
        "\n",
        "$$\\mathbf{z}= \\mathbf{W}^{T}\\mathbf{x}+\\mathbf{b}, \\mathbf{z}\\in\\mathbb{R}^{m}$$\n",
        "\n",
        "y además $m$ es el número de salidas y $n$ es el número de entradas y además:\n",
        "\n",
        "$$a = \\texttt{softmax}(\\mathbf{z}) = \\frac{e^{\\mathbf{z}}}{\\texttt{torch.sum}( e^{\\mathbf{z}})}$$ (softmax)"
      ],
      "metadata": {
        "id": "vYxVasibN1vc"
      }
    },
    {
      "cell_type": "markdown",
      "source": [
        "$\\texttt{sigmoid}(z)=\\sigma(z)=\\frac{1}{1+e^{-z}}$"
      ],
      "metadata": {
        "id": "YZ6VeQOHE0Tb"
      }
    },
    {
      "cell_type": "markdown",
      "source": [
        "Para nuestro ejemplo, vamos a considerar una red neuronal de $10$ elementos de entrada y $1$ elemento de salida."
      ],
      "metadata": {
        "id": "kUA2Qk8eQswc"
      }
    },
    {
      "cell_type": "code",
      "source": [
        "n_salidas  = 1   # m\n",
        "n_entradas = 10  # n"
      ],
      "metadata": {
        "id": "2uCuxL5YJ-F4"
      },
      "execution_count": null,
      "outputs": []
    },
    {
      "cell_type": "markdown",
      "source": [
        "La variable de entrada será la siguiente:"
      ],
      "metadata": {
        "id": "J3bOKAzOKQLZ"
      }
    },
    {
      "cell_type": "code",
      "metadata": {
        "id": "XTY1E4g4oQ6f"
      },
      "source": [
        "x = np.random.randn(n_entradas)\n",
        "x"
      ],
      "execution_count": null,
      "outputs": []
    },
    {
      "cell_type": "markdown",
      "source": [
        "Defina $W$ como números aleatorios de una distribución Normal con $\\mu=0$ y $\\sigma=1$. Finalmente, inicialice el vector $b$  con ceros."
      ],
      "metadata": {
        "id": "Ii0N28eaKT8a"
      }
    },
    {
      "cell_type": "code",
      "source": [],
      "metadata": {
        "id": "w_FYFAvrZHa-"
      },
      "execution_count": null,
      "outputs": []
    }
  ]
}