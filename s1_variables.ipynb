{
  "nbformat": 4,
  "nbformat_minor": 0,
  "metadata": {
    "colab": {
      "provenance": [],
      "include_colab_link": true
    },
    "kernelspec": {
      "name": "python3",
      "display_name": "Python 3"
    },
    "language_info": {
      "name": "python"
    }
  },
  "cells": [
    {
      "cell_type": "markdown",
      "metadata": {
        "id": "view-in-github",
        "colab_type": "text"
      },
      "source": [
        "<a href=\"https://colab.research.google.com/github/galeonkil/progr/blob/master/s1_variables.ipynb\" target=\"_parent\"><img src=\"https://colab.research.google.com/assets/colab-badge.svg\" alt=\"Open In Colab\"/></a>"
      ]
    },
    {
      "cell_type": "markdown",
      "source": [
        "# Tipos de datos\n",
        "\n",
        "* $\\texttt{1}$ es un número entero.\n",
        "* $\\texttt{5.3}$ es un número decimal.\n",
        "* $\\texttt{`a'}$ es un caracter.\n",
        "* $\\texttt{`Hola Mundo'}$ es una cadena (string). Una colección de caracteres (cadena de caracteres).\n",
        "\n",
        "Para verifcar esto, podemos utilizar el método $\\texttt{type}$"
      ],
      "metadata": {
        "id": "HHiOE4APA0MK"
      }
    },
    {
      "cell_type": "code",
      "source": [
        "type(1)"
      ],
      "metadata": {
        "id": "auMhPrNG8vGd",
        "colab": {
          "base_uri": "https://localhost:8080/"
        },
        "outputId": "01868c16-314c-4fa1-f52c-d9b3131c85b9"
      },
      "execution_count": null,
      "outputs": [
        {
          "output_type": "execute_result",
          "data": {
            "text/plain": [
              "int"
            ]
          },
          "metadata": {},
          "execution_count": 1
        }
      ]
    },
    {
      "cell_type": "code",
      "source": [
        "type('a')"
      ],
      "metadata": {
        "id": "tOMjhKzYBvh3",
        "colab": {
          "base_uri": "https://localhost:8080/"
        },
        "outputId": "dedd61f4-22bb-4268-de2c-7f9c4d232d6f"
      },
      "execution_count": null,
      "outputs": [
        {
          "output_type": "execute_result",
          "data": {
            "text/plain": [
              "str"
            ]
          },
          "metadata": {},
          "execution_count": 2
        }
      ]
    },
    {
      "cell_type": "code",
      "source": [
        "type(\"a\")"
      ],
      "metadata": {
        "id": "Z-vGNdFp5Ud1",
        "colab": {
          "base_uri": "https://localhost:8080/"
        },
        "outputId": "1b72c409-e5fe-44b1-9002-84480c600054"
      },
      "execution_count": null,
      "outputs": [
        {
          "output_type": "execute_result",
          "data": {
            "text/plain": [
              "str"
            ]
          },
          "metadata": {},
          "execution_count": 3
        }
      ]
    },
    {
      "cell_type": "markdown",
      "source": [
        "Un caracter es tambien parte de una cadena ($\\texttt{str}$)."
      ],
      "metadata": {
        "id": "NMOh_GkaB6VF"
      }
    },
    {
      "cell_type": "code",
      "source": [
        "type('Hola Mundo')"
      ],
      "metadata": {
        "id": "xfSc3eqtBwsV",
        "colab": {
          "base_uri": "https://localhost:8080/"
        },
        "outputId": "b5e18f39-b5cd-4cb0-bb21-8a0c86b6fb84"
      },
      "execution_count": null,
      "outputs": [
        {
          "output_type": "execute_result",
          "data": {
            "text/plain": [
              "str"
            ]
          },
          "metadata": {},
          "execution_count": 4
        }
      ]
    },
    {
      "cell_type": "markdown",
      "source": [
        "Los números también podrian ser decimales($\\texttt{float}$)."
      ],
      "metadata": {
        "id": "TVVJlpTaCPY2"
      }
    },
    {
      "cell_type": "code",
      "source": [
        "type(1.5)"
      ],
      "metadata": {
        "id": "qDf-PyFvCEiN",
        "colab": {
          "base_uri": "https://localhost:8080/"
        },
        "outputId": "fcb498ed-c534-4d46-82fb-1054bb2585af"
      },
      "execution_count": null,
      "outputs": [
        {
          "output_type": "execute_result",
          "data": {
            "text/plain": [
              "float"
            ]
          },
          "metadata": {},
          "execution_count": 5
        }
      ]
    },
    {
      "cell_type": "markdown",
      "source": [
        "Los tipos de datos boleanos pueden ser Falso ($\\texttt{False}$) o Verdadero ($\\texttt{True}$)"
      ],
      "metadata": {
        "id": "-DGNgcyPFscL"
      }
    },
    {
      "cell_type": "code",
      "source": [
        "type(True)"
      ],
      "metadata": {
        "id": "0zFvrkB9Fop-",
        "colab": {
          "base_uri": "https://localhost:8080/"
        },
        "outputId": "4b32dc97-544d-499e-b00b-37e9bfbf4f4f"
      },
      "execution_count": null,
      "outputs": [
        {
          "output_type": "execute_result",
          "data": {
            "text/plain": [
              "bool"
            ]
          },
          "metadata": {},
          "execution_count": 6
        }
      ]
    },
    {
      "cell_type": "markdown",
      "source": [
        "Expresiones boleanas"
      ],
      "metadata": {
        "id": "u8GoW2TpWHva"
      }
    },
    {
      "cell_type": "code",
      "source": [
        "print(1 < 2)"
      ],
      "metadata": {
        "id": "ic8p40BUXPl1",
        "colab": {
          "base_uri": "https://localhost:8080/"
        },
        "outputId": "54748d46-dfa5-49a9-f9a3-d8f4a82eee27"
      },
      "execution_count": null,
      "outputs": [
        {
          "output_type": "stream",
          "name": "stdout",
          "text": [
            "True\n"
          ]
        }
      ]
    },
    {
      "cell_type": "code",
      "source": [
        "print(10 > 11)"
      ],
      "metadata": {
        "id": "jSbd0NxTXSDr",
        "colab": {
          "base_uri": "https://localhost:8080/"
        },
        "outputId": "194bf148-6ee5-43bf-95dd-aca64142303b"
      },
      "execution_count": null,
      "outputs": [
        {
          "output_type": "stream",
          "name": "stdout",
          "text": [
            "False\n"
          ]
        }
      ]
    },
    {
      "cell_type": "code",
      "source": [
        "print(10 == 10.1)"
      ],
      "metadata": {
        "id": "KVSY174xFcLP",
        "colab": {
          "base_uri": "https://localhost:8080/"
        },
        "outputId": "48d1ec3f-8b58-4fb0-ffdb-c88572f2e519"
      },
      "execution_count": null,
      "outputs": [
        {
          "output_type": "stream",
          "name": "stdout",
          "text": [
            "False\n"
          ]
        }
      ]
    },
    {
      "cell_type": "code",
      "source": [
        "print(1 != 2)"
      ],
      "metadata": {
        "colab": {
          "base_uri": "https://localhost:8080/"
        },
        "id": "pkKbUWRpP0GJ",
        "outputId": "69ee2778-e0d4-4edc-8a8e-b4e811b65a29"
      },
      "execution_count": null,
      "outputs": [
        {
          "output_type": "stream",
          "name": "stdout",
          "text": [
            "True\n"
          ]
        }
      ]
    },
    {
      "cell_type": "markdown",
      "source": [
        "## Pregunta: ¿Que tipo de dato retornará la siguiente instrucción?"
      ],
      "metadata": {
        "id": "eb_pbDdOC9Oc"
      }
    },
    {
      "cell_type": "code",
      "source": [
        "type(\"1\")"
      ],
      "metadata": {
        "id": "qBXribgCC6rd",
        "colab": {
          "base_uri": "https://localhost:8080/"
        },
        "outputId": "878727ce-49ac-49bd-ac7a-e31a50e74bee"
      },
      "execution_count": null,
      "outputs": [
        {
          "output_type": "execute_result",
          "data": {
            "text/plain": [
              "str"
            ]
          },
          "metadata": {},
          "execution_count": 12
        }
      ]
    },
    {
      "cell_type": "code",
      "source": [
        "type(1)"
      ],
      "metadata": {
        "id": "cWsS25MZWbsf",
        "colab": {
          "base_uri": "https://localhost:8080/"
        },
        "outputId": "3d1ffa2e-da5b-4090-936b-5c5b94d703d9"
      },
      "execution_count": null,
      "outputs": [
        {
          "output_type": "execute_result",
          "data": {
            "text/plain": [
              "int"
            ]
          },
          "metadata": {},
          "execution_count": 13
        }
      ]
    },
    {
      "cell_type": "code",
      "source": [
        "type('a')"
      ],
      "metadata": {
        "id": "C2XzrVEKGD-8",
        "colab": {
          "base_uri": "https://localhost:8080/"
        },
        "outputId": "f8b99c72-1bb7-4f14-ccbd-6fb849fa90c2"
      },
      "execution_count": null,
      "outputs": [
        {
          "output_type": "execute_result",
          "data": {
            "text/plain": [
              "str"
            ]
          },
          "metadata": {},
          "execution_count": 14
        }
      ]
    },
    {
      "cell_type": "code",
      "source": [
        "type(\"\"\"Bienvenidos\n",
        "        a la clase\n",
        "\n",
        "        de BA\"\"\")"
      ],
      "metadata": {
        "id": "I1SNk1-7GZQt",
        "colab": {
          "base_uri": "https://localhost:8080/"
        },
        "outputId": "61e58ce9-3b5a-411f-b301-e404f02cd814"
      },
      "execution_count": null,
      "outputs": [
        {
          "output_type": "execute_result",
          "data": {
            "text/plain": [
              "str"
            ]
          },
          "metadata": {},
          "execution_count": 15
        }
      ]
    },
    {
      "cell_type": "markdown",
      "source": [
        "# Variables\n",
        "\n",
        "Una variable es creada con un nombre y un valor asignado a este. En Python se utiliza el signo de igual ($\\texttt{=}$) para hacer una declaración de asignación."
      ],
      "metadata": {
        "id": "Dinj6iGiDG7k"
      }
    },
    {
      "cell_type": "code",
      "source": [
        "info = 'Jose'\n",
        "edad = 55\n",
        "con_hambre = True"
      ],
      "metadata": {
        "id": "dYLkMwy1CksY"
      },
      "execution_count": null,
      "outputs": []
    },
    {
      "cell_type": "markdown",
      "source": [
        "Siempre que asignemos otro valor a la misma variable este se sobreescribirá al original."
      ],
      "metadata": {
        "id": "GJv0ztNCGJsk"
      }
    },
    {
      "cell_type": "code",
      "source": [
        "print(info)"
      ],
      "metadata": {
        "id": "2Pw9FjfEGAJn",
        "colab": {
          "base_uri": "https://localhost:8080/"
        },
        "outputId": "4b4a74fc-37b9-4c70-e16b-4d18e058ef5b"
      },
      "execution_count": null,
      "outputs": [
        {
          "output_type": "stream",
          "name": "stdout",
          "text": [
            "Jose\n"
          ]
        }
      ]
    },
    {
      "cell_type": "code",
      "source": [
        "info = 'Arequipa'\n",
        "print(info)"
      ],
      "metadata": {
        "id": "0lg8TfaRGnDd",
        "colab": {
          "base_uri": "https://localhost:8080/"
        },
        "outputId": "555c70cb-ee11-490e-ae0d-b87af7497b9e"
      },
      "execution_count": null,
      "outputs": [
        {
          "output_type": "stream",
          "name": "stdout",
          "text": [
            "Arequipa\n"
          ]
        }
      ]
    },
    {
      "cell_type": "code",
      "source": [
        "info = 20\n",
        "print(info)"
      ],
      "metadata": {
        "id": "5OhdD86tGslW",
        "colab": {
          "base_uri": "https://localhost:8080/"
        },
        "outputId": "19ebf4bc-f17d-4bca-9014-daee039fa7e8"
      },
      "execution_count": null,
      "outputs": [
        {
          "output_type": "stream",
          "name": "stdout",
          "text": [
            "20\n"
          ]
        }
      ]
    },
    {
      "cell_type": "markdown",
      "source": [
        "## OJO: No puede almacenar multiples valores en una misma variable\n",
        "\n",
        "Simpre que modifiquemos el valor de una variable, esta hará referencia al nuevo valor."
      ],
      "metadata": {
        "id": "dbdsPUW3HMIc"
      }
    },
    {
      "cell_type": "code",
      "source": [
        "print(id(info))"
      ],
      "metadata": {
        "id": "MkEFTBEiGwz9",
        "colab": {
          "base_uri": "https://localhost:8080/"
        },
        "outputId": "aa3aaf0e-f326-4a89-e534-fc14694c061c"
      },
      "execution_count": null,
      "outputs": [
        {
          "output_type": "stream",
          "name": "stdout",
          "text": [
            "140175491349392\n"
          ]
        }
      ]
    },
    {
      "cell_type": "code",
      "source": [
        "info = 30\n",
        "print(id(info))"
      ],
      "metadata": {
        "id": "XOcpLYEuHI-n",
        "colab": {
          "base_uri": "https://localhost:8080/"
        },
        "outputId": "6075da7a-9c3d-4dbc-eff2-e7045a35c6f5"
      },
      "execution_count": null,
      "outputs": [
        {
          "output_type": "stream",
          "name": "stdout",
          "text": [
            "140175491349712\n"
          ]
        }
      ]
    },
    {
      "cell_type": "markdown",
      "source": [
        "Podemos crear multiples variables en una sola declaración."
      ],
      "metadata": {
        "id": "65T1RhW3IZNE"
      }
    },
    {
      "cell_type": "code",
      "source": [
        "x = 3\n",
        "y = False\n",
        "z = \"Python\""
      ],
      "metadata": {
        "id": "ekdFauq-Y2zM"
      },
      "execution_count": null,
      "outputs": []
    },
    {
      "cell_type": "markdown",
      "source": [
        "Su equivalente es la siguiente declación:"
      ],
      "metadata": {
        "id": "y00pLpVAY-tZ"
      }
    },
    {
      "cell_type": "code",
      "source": [
        "x, y, z = 3, False, \"Python\""
      ],
      "metadata": {
        "id": "BdBSgpRAHEs9"
      },
      "execution_count": null,
      "outputs": []
    },
    {
      "cell_type": "code",
      "source": [
        "print(x)"
      ],
      "metadata": {
        "id": "hDq3X5ieIRqE",
        "colab": {
          "base_uri": "https://localhost:8080/"
        },
        "outputId": "7054ef66-db2e-4acf-efd1-c6bf0a5286e0"
      },
      "execution_count": null,
      "outputs": [
        {
          "output_type": "stream",
          "name": "stdout",
          "text": [
            "3\n"
          ]
        }
      ]
    },
    {
      "cell_type": "code",
      "source": [
        "print(y)"
      ],
      "metadata": {
        "id": "fWY1ES4qITsL",
        "colab": {
          "base_uri": "https://localhost:8080/"
        },
        "outputId": "de3b17f7-339c-40db-9ce3-d6df964f0f91"
      },
      "execution_count": null,
      "outputs": [
        {
          "output_type": "stream",
          "name": "stdout",
          "text": [
            "False\n"
          ]
        }
      ]
    },
    {
      "cell_type": "code",
      "source": [
        "print(z)"
      ],
      "metadata": {
        "id": "80-AlPXtIT41",
        "colab": {
          "base_uri": "https://localhost:8080/"
        },
        "outputId": "aabcddcc-a1e5-453f-fc64-78e66b3962ae"
      },
      "execution_count": null,
      "outputs": [
        {
          "output_type": "stream",
          "name": "stdout",
          "text": [
            "Python\n"
          ]
        }
      ]
    },
    {
      "cell_type": "code",
      "source": [
        "print(w)"
      ],
      "metadata": {
        "colab": {
          "base_uri": "https://localhost:8080/",
          "height": 165
        },
        "id": "8hZaC-QoS4pc",
        "outputId": "95ac89bb-61a6-40f3-f1ee-86b4fdabd8bb"
      },
      "execution_count": null,
      "outputs": [
        {
          "output_type": "error",
          "ename": "NameError",
          "evalue": "ignored",
          "traceback": [
            "\u001b[0;31m---------------------------------------------------------------------------\u001b[0m",
            "\u001b[0;31mNameError\u001b[0m                                 Traceback (most recent call last)",
            "\u001b[0;32m<ipython-input-29-bcfe7ead5c3f>\u001b[0m in \u001b[0;36m<cell line: 1>\u001b[0;34m()\u001b[0m\n\u001b[0;32m----> 1\u001b[0;31m \u001b[0mprint\u001b[0m\u001b[0;34m(\u001b[0m\u001b[0mw\u001b[0m\u001b[0;34m)\u001b[0m\u001b[0;34m\u001b[0m\u001b[0;34m\u001b[0m\u001b[0m\n\u001b[0m",
            "\u001b[0;31mNameError\u001b[0m: name 'w' is not defined"
          ]
        }
      ]
    },
    {
      "cell_type": "markdown",
      "source": [
        "# Algunas reglas y buenas prácticas para crear variables\n",
        "\n",
        "* El nombre de una variable puede ser de cualquier tamaño.\n",
        "* El nombre de una variable puede contener mayúsculas(A-Z), minusculas(a-z), digitos(0-9) y sub-guiones.\n",
        "* El nombre de una variable no puede empezar con un dígito.\n",
        "* El nombre no puede der una pablabra pre-definida en Python ($\\texttt{while,break,etc}$)"
      ],
      "metadata": {
        "id": "adGSZHZEJ3l7"
      }
    },
    {
      "cell_type": "code",
      "source": [
        "_x = 3"
      ],
      "metadata": {
        "id": "cK-B81d-Zs-I"
      },
      "execution_count": null,
      "outputs": []
    },
    {
      "cell_type": "code",
      "source": [
        "a212123123 = 10"
      ],
      "metadata": {
        "id": "itLgAkw8Ihwn"
      },
      "execution_count": null,
      "outputs": []
    },
    {
      "cell_type": "code",
      "source": [
        "mi_nombre = \"Jose\""
      ],
      "metadata": {
        "id": "lBwQI_fML-ty"
      },
      "execution_count": null,
      "outputs": []
    },
    {
      "cell_type": "code",
      "source": [
        "miNombre = \"Jose\""
      ],
      "metadata": {
        "id": "qyZ1ODVwaJhA"
      },
      "execution_count": null,
      "outputs": []
    },
    {
      "cell_type": "code",
      "source": [
        "_nombre = \"Jose\""
      ],
      "metadata": {
        "id": "5qvhrf_0L6Xj"
      },
      "execution_count": null,
      "outputs": []
    },
    {
      "cell_type": "code",
      "source": [
        "m+ = 10"
      ],
      "metadata": {
        "id": "l6ogbddOIwyH",
        "colab": {
          "base_uri": "https://localhost:8080/",
          "height": 130
        },
        "outputId": "bb155316-f4b3-46ec-ddfa-12eafd6e6702"
      },
      "execution_count": null,
      "outputs": [
        {
          "output_type": "error",
          "ename": "SyntaxError",
          "evalue": "ignored",
          "traceback": [
            "\u001b[0;36m  File \u001b[0;32m\"<ipython-input-35-641eeea37c33>\"\u001b[0;36m, line \u001b[0;32m1\u001b[0m\n\u001b[0;31m    m+ = 10\u001b[0m\n\u001b[0m       ^\u001b[0m\n\u001b[0;31mSyntaxError\u001b[0m\u001b[0;31m:\u001b[0m invalid syntax\n"
          ]
        }
      ]
    },
    {
      "cell_type": "markdown",
      "source": [
        "## Buenas prácticas\n",
        "Supongamos que queremos declara una variable que represente el puntaje obtenido por el usuario en un determinado juego. Podríamos declara esta variable con el nombre $\\texttt{x}$, pero no sería lo ideal. Un mejor nombre podría ser $\\texttt{player_score}$ o $\\texttt{jugador_puntuacion}$"
      ],
      "metadata": {
        "id": "O8uItb8vMNdq"
      }
    },
    {
      "cell_type": "code",
      "source": [
        "x = 10"
      ],
      "metadata": {
        "id": "xka4rrhVJ-rI"
      },
      "execution_count": null,
      "outputs": []
    },
    {
      "cell_type": "code",
      "source": [
        "puntuacion_jugador = 10"
      ],
      "metadata": {
        "id": "QjtPloMBKJqc"
      },
      "execution_count": null,
      "outputs": []
    },
    {
      "cell_type": "code",
      "source": [
        "player_score = 10"
      ],
      "metadata": {
        "id": "iBvYhc5BLooD"
      },
      "execution_count": null,
      "outputs": []
    },
    {
      "cell_type": "code",
      "source": [
        "puntuacionJugador = 10"
      ],
      "metadata": {
        "id": "5K0mQXySK3qn"
      },
      "execution_count": null,
      "outputs": []
    },
    {
      "cell_type": "code",
      "source": [
        "PuntuacionJugador = 10"
      ],
      "metadata": {
        "id": "Nmy3fFjjK6aU"
      },
      "execution_count": null,
      "outputs": []
    },
    {
      "cell_type": "markdown",
      "source": [
        "Algunas buenas prácticas que se sugieren para la creación de variables son las siguientes:\n",
        "* Declarar las constantes en mayúsculas ($\\texttt{PI=3.14159}$).\n",
        "* Para nombres de más de una palabra podríamos utilizar los siguientes formatos: $\\texttt{player_score}$, $\\texttt{playerScore}$ o $\\texttt{PlayerScore}$.\n",
        "* Utilizar nombre que de algún modo informen a que hace referencia la variable ($\\texttt{player_score}$ en lugar de $\\texttt{x}$)"
      ],
      "metadata": {
        "id": "d3eEovZRMzrd"
      }
    },
    {
      "cell_type": "markdown",
      "source": [
        "# Operaciones Aritméticas en Python\n",
        "\n",
        "La programación trata sobre la obtención de datos y la manipulación de estos a traves de ciertas operaciones matemáticas. En Python existen las operaciones aritméticas y las operaciones lógicas, en esta primera parte estudiaremos las operaciones aritméticas."
      ],
      "metadata": {
        "id": "ke3x9tQGOtas"
      }
    },
    {
      "cell_type": "code",
      "source": [
        "print(1 + 3)"
      ],
      "metadata": {
        "id": "3n0xgq12Mvms",
        "colab": {
          "base_uri": "https://localhost:8080/"
        },
        "outputId": "6f97715b-51d3-4dc2-c14d-5d4cb78603d1"
      },
      "execution_count": null,
      "outputs": [
        {
          "output_type": "stream",
          "name": "stdout",
          "text": [
            "4\n"
          ]
        }
      ]
    },
    {
      "cell_type": "code",
      "source": [
        "print(3 - 4)"
      ],
      "metadata": {
        "id": "yVUHuoG7plFF",
        "colab": {
          "base_uri": "https://localhost:8080/"
        },
        "outputId": "a6a81695-677c-4297-dace-3c9619994ac3"
      },
      "execution_count": null,
      "outputs": [
        {
          "output_type": "stream",
          "name": "stdout",
          "text": [
            "-1\n"
          ]
        }
      ]
    },
    {
      "cell_type": "code",
      "source": [
        "print(3 * 4)"
      ],
      "metadata": {
        "id": "V3JeIACQpnZ8",
        "colab": {
          "base_uri": "https://localhost:8080/"
        },
        "outputId": "2cfff37d-f8e9-4a39-b7bf-f1d114aae211"
      },
      "execution_count": null,
      "outputs": [
        {
          "output_type": "stream",
          "name": "stdout",
          "text": [
            "12\n"
          ]
        }
      ]
    },
    {
      "cell_type": "code",
      "source": [
        "print(3 / 4)"
      ],
      "metadata": {
        "id": "B7X6mNf2ppyt",
        "colab": {
          "base_uri": "https://localhost:8080/"
        },
        "outputId": "45ae781b-9904-4b90-a0a6-725da867d032"
      },
      "execution_count": null,
      "outputs": [
        {
          "output_type": "stream",
          "name": "stdout",
          "text": [
            "0.75\n"
          ]
        }
      ]
    },
    {
      "cell_type": "code",
      "source": [
        "print(4 / 4)"
      ],
      "metadata": {
        "id": "laFlsGxcprfa",
        "colab": {
          "base_uri": "https://localhost:8080/"
        },
        "outputId": "d50c6165-151f-4260-8478-5db8f14289a4"
      },
      "execution_count": null,
      "outputs": [
        {
          "output_type": "stream",
          "name": "stdout",
          "text": [
            "1.0\n"
          ]
        }
      ]
    },
    {
      "cell_type": "code",
      "source": [
        "type(4/4)"
      ],
      "metadata": {
        "id": "3gbGZe_mpubo",
        "colab": {
          "base_uri": "https://localhost:8080/"
        },
        "outputId": "2de8e826-17bd-447a-81ca-2756eb3bb144"
      },
      "execution_count": null,
      "outputs": [
        {
          "output_type": "execute_result",
          "data": {
            "text/plain": [
              "float"
            ]
          },
          "metadata": {},
          "execution_count": 46
        }
      ]
    },
    {
      "cell_type": "code",
      "source": [
        "print(7 // 4) # Cociente"
      ],
      "metadata": {
        "id": "-LTjB5XSpyyi",
        "colab": {
          "base_uri": "https://localhost:8080/"
        },
        "outputId": "a216b23e-2709-406f-bcac-d0c6ddfe8b30"
      },
      "execution_count": null,
      "outputs": [
        {
          "output_type": "stream",
          "name": "stdout",
          "text": [
            "1\n"
          ]
        }
      ]
    },
    {
      "cell_type": "code",
      "source": [
        "print(7 % 4) # residuo"
      ],
      "metadata": {
        "id": "_IsmS2hOp8vp",
        "colab": {
          "base_uri": "https://localhost:8080/"
        },
        "outputId": "fc22e00a-e17f-4976-bf6a-ac8bb0862401"
      },
      "execution_count": null,
      "outputs": [
        {
          "output_type": "stream",
          "name": "stdout",
          "text": [
            "3\n"
          ]
        }
      ]
    },
    {
      "cell_type": "code",
      "source": [
        "print(7 ** 2)"
      ],
      "metadata": {
        "id": "tzo_vs9Rp_cU",
        "colab": {
          "base_uri": "https://localhost:8080/"
        },
        "outputId": "5f8caff0-c44f-48b4-949e-e2dd43680b89"
      },
      "execution_count": null,
      "outputs": [
        {
          "output_type": "stream",
          "name": "stdout",
          "text": [
            "49\n"
          ]
        }
      ]
    },
    {
      "cell_type": "markdown",
      "source": [
        "# El Orden en las Operaciones\n",
        "\n",
        "Las operaciones en Python se realizan en el siguiente orden:\n",
        "\n",
        "1.   Paréntesis\n",
        "2.   Exponenciación\n",
        "3.   División\n",
        "4.   Multiplicación\n",
        "5.   Adición y Sustracción\n",
        "\n"
      ],
      "metadata": {
        "id": "0qUFQaKkqJQ4"
      }
    },
    {
      "cell_type": "code",
      "source": [
        "print(2 - 1 * 3) # 2-3"
      ],
      "metadata": {
        "id": "MrYMisv5q8sM",
        "colab": {
          "base_uri": "https://localhost:8080/"
        },
        "outputId": "559ac485-fcf0-4fe8-9521-08e12f828ca1"
      },
      "execution_count": null,
      "outputs": [
        {
          "output_type": "stream",
          "name": "stdout",
          "text": [
            "-1\n"
          ]
        }
      ]
    },
    {
      "cell_type": "code",
      "source": [
        "print((2 - 1) * 3)"
      ],
      "metadata": {
        "id": "8sclsTU8rA2P",
        "colab": {
          "base_uri": "https://localhost:8080/"
        },
        "outputId": "efbd4835-4872-413f-a79f-2ae216ef9763"
      },
      "execution_count": null,
      "outputs": [
        {
          "output_type": "stream",
          "name": "stdout",
          "text": [
            "3\n"
          ]
        }
      ]
    },
    {
      "cell_type": "code",
      "source": [
        "print(9 ** 0 + 1) # 1 + 1"
      ],
      "metadata": {
        "id": "fUeV4sSUqCC6",
        "colab": {
          "base_uri": "https://localhost:8080/"
        },
        "outputId": "828e8868-3e41-4bd4-a797-f31e4117b7a6"
      },
      "execution_count": null,
      "outputs": [
        {
          "output_type": "stream",
          "name": "stdout",
          "text": [
            "2\n"
          ]
        }
      ]
    },
    {
      "cell_type": "code",
      "source": [
        "print(3 % 2 + 1)"
      ],
      "metadata": {
        "id": "kMhbqIfYrIm5",
        "colab": {
          "base_uri": "https://localhost:8080/"
        },
        "outputId": "12e382f3-9e42-46f5-f89e-fc84a4d8e123"
      },
      "execution_count": null,
      "outputs": [
        {
          "output_type": "stream",
          "name": "stdout",
          "text": [
            "2\n"
          ]
        }
      ]
    },
    {
      "cell_type": "code",
      "source": [
        "print(3 % (2+1)) # 3 % 3"
      ],
      "metadata": {
        "id": "nWOlkTbYcNVc",
        "colab": {
          "base_uri": "https://localhost:8080/"
        },
        "outputId": "639d4609-ccca-44b6-9806-2506f33edbf3"
      },
      "execution_count": null,
      "outputs": [
        {
          "output_type": "stream",
          "name": "stdout",
          "text": [
            "0\n"
          ]
        }
      ]
    },
    {
      "cell_type": "code",
      "source": [
        "print(3 % 2 ** 2) # 3 % 4"
      ],
      "metadata": {
        "id": "YCUNCdpZrSji",
        "colab": {
          "base_uri": "https://localhost:8080/"
        },
        "outputId": "86ca1f73-6fdc-4f97-e1af-0ad00a8f0aa3"
      },
      "execution_count": null,
      "outputs": [
        {
          "output_type": "stream",
          "name": "stdout",
          "text": [
            "3\n"
          ]
        }
      ]
    },
    {
      "cell_type": "code",
      "source": [
        "print((3 % 2) ** 2)"
      ],
      "metadata": {
        "id": "QrzHZwPcrXli",
        "colab": {
          "base_uri": "https://localhost:8080/"
        },
        "outputId": "e4394d3d-4ee7-4bf3-f8e4-2a88576b2db2"
      },
      "execution_count": null,
      "outputs": [
        {
          "output_type": "stream",
          "name": "stdout",
          "text": [
            "1\n"
          ]
        }
      ]
    },
    {
      "cell_type": "markdown",
      "source": [
        "Programa que calcula $x^2$, cuando $x$ se ingresa por el teclado."
      ],
      "metadata": {
        "id": "NjuPPRT9c0bq"
      }
    },
    {
      "cell_type": "code",
      "source": [
        "x = input(\"Ingrese el valor de x: \")\n",
        "x = float(x)"
      ],
      "metadata": {
        "id": "bGJK0h5Ac7l6",
        "colab": {
          "base_uri": "https://localhost:8080/"
        },
        "outputId": "1c017cf1-f841-4292-f7c4-75d976028bcc"
      },
      "execution_count": null,
      "outputs": [
        {
          "name": "stdout",
          "output_type": "stream",
          "text": [
            "Ingrese el valor de x: 3.1\n"
          ]
        }
      ]
    },
    {
      "cell_type": "code",
      "source": [
        "print(\"El resultado es: \", x ** 3)"
      ],
      "metadata": {
        "colab": {
          "base_uri": "https://localhost:8080/"
        },
        "id": "Gz-k1YqhVvb1",
        "outputId": "87233ac4-599e-4191-ed58-37806ad994be"
      },
      "execution_count": null,
      "outputs": [
        {
          "output_type": "stream",
          "name": "stdout",
          "text": [
            "El resultado es:  29.791000000000004\n"
          ]
        }
      ]
    },
    {
      "cell_type": "markdown",
      "source": [
        "# Ejercicios"
      ],
      "metadata": {
        "id": "lgG0GRARlA67"
      }
    },
    {
      "cell_type": "markdown",
      "source": [
        "\n",
        "## Ejercicio 1\n",
        "\n",
        "Desarrolle un programa que permita calcular el área de un círculo. El programa debe solicitar el radio.\n",
        "\n",
        "El área se calcula de la siguiente forma:\n",
        "\n",
        "$$Area = \\pi r^2$$\n",
        "\n",
        "donde $r$ es el radio del círculo."
      ],
      "metadata": {
        "id": "BHOZZoYYROZ3"
      }
    },
    {
      "cell_type": "code",
      "source": [
        "PI    = 3.14159\n",
        "radio = float(input(\"Ingrese radio: \"))\n",
        "\n",
        "print(\"El area es: \", PI * radio * radio)"
      ],
      "metadata": {
        "id": "8It7c101lIgK",
        "colab": {
          "base_uri": "https://localhost:8080/"
        },
        "outputId": "da3cdf14-23b3-437b-9006-82b6ea758fa9"
      },
      "execution_count": null,
      "outputs": [
        {
          "output_type": "stream",
          "name": "stdout",
          "text": [
            "Ingrese radio: 4.5\n",
            "El area es:  63.6171975\n"
          ]
        }
      ]
    },
    {
      "cell_type": "markdown",
      "source": [
        "## Ejercicio 2:\n",
        "\n",
        "Implemente un programa que solicite los catetos de un triángulo rectangulo y calcule la hipotenusa. Recuerde que:\n",
        "\n",
        "$$h^2 = a^2+b^2$$\n",
        "\n",
        "donde $a$ y $b$ son los catetos y $h$ es la hipotenusa."
      ],
      "metadata": {
        "id": "j3qeKBGhSTnV"
      }
    },
    {
      "cell_type": "code",
      "source": [
        "cateto1 = float(input(\"Cateto1: \"))\n",
        "cateto2 = float(input(\"Cateto2: \"))\n",
        "\n",
        "hipotenusa = (cateto1 * cateto1 + cateto2 * cateto2) ** 0.5\n",
        "\n",
        "print(\"Hipotenusa = \", hipotenusa)"
      ],
      "metadata": {
        "id": "3a_5eZLYlHgS",
        "colab": {
          "base_uri": "https://localhost:8080/"
        },
        "outputId": "9ef5cd33-d165-484e-d0ba-8ef8053b7425"
      },
      "execution_count": null,
      "outputs": [
        {
          "output_type": "stream",
          "name": "stdout",
          "text": [
            "Cateto1: 3\n",
            "Cateto2: 4\n",
            "Hipotenusa =  5.0\n"
          ]
        }
      ]
    },
    {
      "cell_type": "markdown",
      "source": [
        "## Ejercicio 3:\n",
        "\n",
        "Implemente un programa que solicite un número entero de segundos y realice las siguientes operaciones:\n",
        "\n",
        "- Segundos a minutos, imprimir el resultado con el formato MM:SS.\n",
        "- Seguntos a horas y minutos, imprimir el resultado con el formato HH:MM:SS."
      ],
      "metadata": {
        "id": "4vHfKYUuUQbH"
      }
    },
    {
      "cell_type": "code",
      "source": [
        "seg = int(input(\"Ingrese los segundos: \"))"
      ],
      "metadata": {
        "id": "1qn0ylZllHLC",
        "colab": {
          "base_uri": "https://localhost:8080/"
        },
        "outputId": "0ee4e192-56df-4739-f8ff-5b694a1065f1"
      },
      "execution_count": null,
      "outputs": [
        {
          "name": "stdout",
          "output_type": "stream",
          "text": [
            "Ingrese los segundos: 330\n"
          ]
        }
      ]
    },
    {
      "cell_type": "code",
      "source": [
        "ss  = seg % 60\n",
        "mm  = seg // 60\n",
        "\n",
        "print(mm,\":\",ss)"
      ],
      "metadata": {
        "colab": {
          "base_uri": "https://localhost:8080/"
        },
        "id": "4a7k5p7egzlc",
        "outputId": "41e9fc86-d834-4ac1-9236-20c30772d068"
      },
      "execution_count": null,
      "outputs": [
        {
          "output_type": "stream",
          "name": "stdout",
          "text": [
            "5 : 30\n"
          ]
        }
      ]
    },
    {
      "cell_type": "code",
      "source": [
        "ss  = seg % 60\n",
        "\n",
        "min_restantes = seg // 60\n",
        "mm  = min_restantes % 60\n",
        "\n",
        "horas_restantes = min_restantes // 60\n",
        "hh  = horas_restantes\n",
        "\n",
        "print(hh,\":\",mm,\":\",ss)"
      ],
      "metadata": {
        "colab": {
          "base_uri": "https://localhost:8080/"
        },
        "id": "yMJ9C2Wfgz6d",
        "outputId": "2337bfb0-4be9-4b97-c008-5d3f8f340691"
      },
      "execution_count": null,
      "outputs": [
        {
          "output_type": "stream",
          "name": "stdout",
          "text": [
            "0 : 5 : 30\n"
          ]
        }
      ]
    },
    {
      "cell_type": "markdown",
      "source": [
        "## Ejercicio 4:\n",
        "Implemente un programa que permita leer un número de tres dígitos y calcule:\n",
        "\n",
        "- La suma de los dígitos.\n",
        "- El número escrito al revés."
      ],
      "metadata": {
        "id": "ip5pWqA2SrSS"
      }
    },
    {
      "cell_type": "code",
      "source": [
        "# 123 => suma_digitos(123) = 1 + 2 + 3 = 6"
      ],
      "metadata": {
        "id": "OXDklJrjerI5"
      },
      "execution_count": null,
      "outputs": []
    },
    {
      "cell_type": "code",
      "source": [
        "numero = int(input(\"Ingrese el numero de tres digitos: \"))\n",
        "\n",
        "digito1 = numero // 100\n",
        "digito2 = (numero % 100) // 10\n",
        "digito3 = numero % 10\n",
        "\n",
        "print(\"Suma de digitos: \", digito1 + digito2 + digito3)"
      ],
      "metadata": {
        "colab": {
          "base_uri": "https://localhost:8080/"
        },
        "id": "7gPp20FjiVZk",
        "outputId": "06510b70-4e08-4d95-9532-3e9dc2eaf254"
      },
      "execution_count": null,
      "outputs": [
        {
          "output_type": "stream",
          "name": "stdout",
          "text": [
            "Ingrese el numero de tres digitos: 123\n",
            "Suma de digitos:  6\n"
          ]
        }
      ]
    },
    {
      "cell_type": "code",
      "source": [
        "numero_inv = digito3 * 100 + digito2 * 10 + digito1\n",
        "\n",
        "print(\"Numero invertido: \", numero_inv)"
      ],
      "metadata": {
        "colab": {
          "base_uri": "https://localhost:8080/"
        },
        "id": "bEEtL8kkjHCN",
        "outputId": "d691cf9e-16aa-4932-d93b-eed8f9983eb3"
      },
      "execution_count": null,
      "outputs": [
        {
          "output_type": "stream",
          "name": "stdout",
          "text": [
            "Numero invertido:  321\n"
          ]
        }
      ]
    },
    {
      "cell_type": "code",
      "source": [],
      "metadata": {
        "id": "O8LNFjb0jfGk"
      },
      "execution_count": null,
      "outputs": []
    }
  ]
}