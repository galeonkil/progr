{
  "nbformat": 4,
  "nbformat_minor": 0,
  "metadata": {
    "colab": {
      "provenance": [],
      "include_colab_link": true
    },
    "kernelspec": {
      "name": "python3",
      "display_name": "Python 3"
    },
    "language_info": {
      "name": "python"
    }
  },
  "cells": [
    {
      "cell_type": "markdown",
      "metadata": {
        "id": "view-in-github",
        "colab_type": "text"
      },
      "source": [
        "<a href=\"https://colab.research.google.com/github/galeonkil/progr/blob/master/s2_print.ipynb\" target=\"_parent\"><img src=\"https://colab.research.google.com/assets/colab-badge.svg\" alt=\"Open In Colab\"/></a>"
      ]
    },
    {
      "cell_type": "markdown",
      "source": [
        "# ¿Como funciona Python?\n",
        "\n",
        "Existen algunas cosas que tenemos que tener en cuenta antes de empezar a programar en Python. En esta clase estudiaremos algunos aspectos a tener en cuenta en Python."
      ],
      "metadata": {
        "id": "TmNyTPEXB2Y7"
      }
    },
    {
      "cell_type": "markdown",
      "source": [
        "## Las mayúsculas no son iguales a las minúsculas"
      ],
      "metadata": {
        "id": "BBjNR2GCCKmD"
      }
    },
    {
      "cell_type": "code",
      "source": [
        "nombre = \"Juan\"\n",
        "print(nombre)"
      ],
      "metadata": {
        "colab": {
          "base_uri": "https://localhost:8080/"
        },
        "id": "ayHLBAGPEHDx",
        "outputId": "210303fb-8985-499d-b218-3895635b3ab2"
      },
      "execution_count": null,
      "outputs": [
        {
          "output_type": "stream",
          "name": "stdout",
          "text": [
            "Juan\n"
          ]
        }
      ]
    },
    {
      "cell_type": "code",
      "source": [
        "print(Nombre)"
      ],
      "metadata": {
        "colab": {
          "base_uri": "https://localhost:8080/",
          "height": 165
        },
        "id": "ukaqkYDIEj9H",
        "outputId": "e4ce236b-f99a-442f-9540-6de3ed7be993"
      },
      "execution_count": null,
      "outputs": [
        {
          "output_type": "error",
          "ename": "NameError",
          "evalue": "ignored",
          "traceback": [
            "\u001b[0;31m---------------------------------------------------------------------------\u001b[0m",
            "\u001b[0;31mNameError\u001b[0m                                 Traceback (most recent call last)",
            "\u001b[0;32m<ipython-input-2-a288000d93b0>\u001b[0m in \u001b[0;36m<cell line: 1>\u001b[0;34m()\u001b[0m\n\u001b[0;32m----> 1\u001b[0;31m \u001b[0mprint\u001b[0m\u001b[0;34m(\u001b[0m\u001b[0mNombre\u001b[0m\u001b[0;34m)\u001b[0m\u001b[0;34m\u001b[0m\u001b[0;34m\u001b[0m\u001b[0m\n\u001b[0m",
            "\u001b[0;31mNameError\u001b[0m: name 'Nombre' is not defined"
          ]
        }
      ]
    },
    {
      "cell_type": "markdown",
      "source": [
        "## ¡Los espacios importan!"
      ],
      "metadata": {
        "id": "6A6Yx3A5B91D"
      }
    },
    {
      "cell_type": "code",
      "source": [
        "print(3 + 2)\n",
        " print(3 + 3) # Aqui se suman dos numeros"
      ],
      "metadata": {
        "colab": {
          "base_uri": "https://localhost:8080/",
          "height": 130
        },
        "id": "K4qPYU00Edu_",
        "outputId": "e80eb92d-23d6-4373-9694-f33a8cd61694"
      },
      "execution_count": null,
      "outputs": [
        {
          "output_type": "error",
          "ename": "IndentationError",
          "evalue": "ignored",
          "traceback": [
            "\u001b[0;36m  File \u001b[0;32m\"<ipython-input-3-0d2ebd53c231>\"\u001b[0;36m, line \u001b[0;32m2\u001b[0m\n\u001b[0;31m    print(3 + 3) # Aqui se suman dos numeros\u001b[0m\n\u001b[0m    ^\u001b[0m\n\u001b[0;31mIndentationError\u001b[0m\u001b[0;31m:\u001b[0m unexpected indent\n"
          ]
        }
      ]
    },
    {
      "cell_type": "markdown",
      "source": [
        "## Comentarios en Python\n",
        "\n",
        "Eventualmente nuestro código será cada vez más grande, entonces será dificil de entenderlo. Es aquí cuando los comentarios toman importancia. Los comentarios son una manera de agregar notas a nuestro código de modo que cualquiera que lo revise tendrá una idea que esta haciendo cada parte.  "
      ],
      "metadata": {
        "id": "eZxejs09oOg5"
      }
    },
    {
      "cell_type": "markdown",
      "source": [
        "Siempre que el una linea de código comience con '#', la ejecución se omitirá."
      ],
      "metadata": {
        "id": "Cv47ANsjqXuF"
      }
    },
    {
      "cell_type": "code",
      "source": [
        "# Esto es un comentario"
      ],
      "metadata": {
        "id": "mVvg615C3ykE"
      },
      "execution_count": null,
      "outputs": []
    },
    {
      "cell_type": "markdown",
      "source": [
        "Para introducir multiples lineas de comentarios tenemos que utilizar '#' en cada linea. La tripe comilla **no es es un comentario**."
      ],
      "metadata": {
        "id": "copUbNG0rEy5"
      }
    },
    {
      "cell_type": "code",
      "source": [
        "# Esto es la primera linea\n",
        "# Esta es la segunda\n",
        "# Y esta es la tercera linea de comentario"
      ],
      "metadata": {
        "id": "ZJwmrdPl7t2A"
      },
      "execution_count": null,
      "outputs": []
    },
    {
      "cell_type": "code",
      "source": [
        "x = \"\"\"Esto no es un comentario, es un 'string'.\n",
        "      QWEQWE\n",
        "      QWEQWE\n",
        "      QWEEQDQ\n",
        "      Y es to tambien\"\"\"\n",
        "\n",
        "print(x)"
      ],
      "metadata": {
        "id": "0nJb-YXbqoEO",
        "colab": {
          "base_uri": "https://localhost:8080/"
        },
        "outputId": "6759f2b7-16ba-47ed-e343-3789b2d6649c"
      },
      "execution_count": null,
      "outputs": [
        {
          "output_type": "stream",
          "name": "stdout",
          "text": [
            "Esto no es un comentario, es un 'string'.\n",
            "      QWEQWE\n",
            "      QWEQWE\n",
            "      QWEEQDQ\n",
            "      Y es to tambien\n"
          ]
        }
      ]
    },
    {
      "cell_type": "code",
      "source": [
        "type(x)"
      ],
      "metadata": {
        "id": "-sZjqfYq7-xP",
        "colab": {
          "base_uri": "https://localhost:8080/"
        },
        "outputId": "60448213-4c80-4947-f98b-a018ff564202"
      },
      "execution_count": null,
      "outputs": [
        {
          "output_type": "execute_result",
          "data": {
            "text/plain": [
              "str"
            ]
          },
          "metadata": {},
          "execution_count": 7
        }
      ]
    },
    {
      "cell_type": "markdown",
      "source": [
        "Algunos comentarios"
      ],
      "metadata": {
        "id": "0UqAUllstJNu"
      }
    },
    {
      "cell_type": "code",
      "source": [
        "# Declaracion de algunas variables\n",
        "\n",
        "W, H  = 720, 480            # resolucion de la ventana\n",
        "media = (100 + 50 + 10) / 3 # el promedio de los tres numeros"
      ],
      "metadata": {
        "id": "VpdwWu-LsjfT"
      },
      "execution_count": null,
      "outputs": []
    },
    {
      "cell_type": "markdown",
      "source": [
        "# Conversión de tipo de datos"
      ],
      "metadata": {
        "id": "amQKe1OEvTW4"
      }
    },
    {
      "cell_type": "code",
      "source": [
        "num = input(\"Ingrese un numero:\")"
      ],
      "metadata": {
        "id": "dm_6i2i_tkqg",
        "colab": {
          "base_uri": "https://localhost:8080/"
        },
        "outputId": "3deb5aba-5c40-4cc4-cd13-3c20d402e51c"
      },
      "execution_count": null,
      "outputs": [
        {
          "name": "stdout",
          "output_type": "stream",
          "text": [
            "Ingrese un numero:80\n"
          ]
        }
      ]
    },
    {
      "cell_type": "code",
      "source": [
        "print(num)"
      ],
      "metadata": {
        "id": "3PBmE4NBwMsF",
        "colab": {
          "base_uri": "https://localhost:8080/"
        },
        "outputId": "6cdb5696-e4f3-4727-c562-ae5143b1c7df"
      },
      "execution_count": null,
      "outputs": [
        {
          "output_type": "stream",
          "name": "stdout",
          "text": [
            "80\n"
          ]
        }
      ]
    },
    {
      "cell_type": "code",
      "source": [
        "type(num)"
      ],
      "metadata": {
        "id": "-p-SR-R5v_vF",
        "colab": {
          "base_uri": "https://localhost:8080/"
        },
        "outputId": "8d551b52-c68b-41db-eea5-c43d1f8843a5"
      },
      "execution_count": null,
      "outputs": [
        {
          "output_type": "execute_result",
          "data": {
            "text/plain": [
              "str"
            ]
          },
          "metadata": {},
          "execution_count": 11
        }
      ]
    },
    {
      "cell_type": "code",
      "source": [
        "print(num + \"1\")"
      ],
      "metadata": {
        "id": "eqBVe-gSwKzg",
        "colab": {
          "base_uri": "https://localhost:8080/"
        },
        "outputId": "062e566a-68df-42ec-b2c1-4636f9d8e434"
      },
      "execution_count": null,
      "outputs": [
        {
          "output_type": "stream",
          "name": "stdout",
          "text": [
            "801\n"
          ]
        }
      ]
    },
    {
      "cell_type": "code",
      "source": [
        "print(int(num) + 1)"
      ],
      "metadata": {
        "id": "YHHHsvcqwU_Q",
        "colab": {
          "base_uri": "https://localhost:8080/"
        },
        "outputId": "91c6165f-b3e0-4444-b7e1-2d892f986024"
      },
      "execution_count": null,
      "outputs": [
        {
          "output_type": "stream",
          "name": "stdout",
          "text": [
            "81\n"
          ]
        }
      ]
    },
    {
      "cell_type": "markdown",
      "source": [
        "El método $\\texttt{int(arg, base)}$ convierte cualquier tipo de dato a un entero. $\\texttt{arg}$ es la *cadena* a convertir y $\\texttt{base}$ indica la base en la cual esta $\\texttt{arg}$."
      ],
      "metadata": {
        "id": "YN4NbgBTwiP1"
      }
    },
    {
      "cell_type": "code",
      "source": [
        "int(\"101\", 2)"
      ],
      "metadata": {
        "id": "pSJ5o36ZwYNY",
        "colab": {
          "base_uri": "https://localhost:8080/"
        },
        "outputId": "90eabee2-6161-4607-8ce4-1286d0351cc8"
      },
      "execution_count": null,
      "outputs": [
        {
          "output_type": "execute_result",
          "data": {
            "text/plain": [
              "5"
            ]
          },
          "metadata": {},
          "execution_count": 14
        }
      ]
    },
    {
      "cell_type": "code",
      "source": [
        "int(\"13\", 10)"
      ],
      "metadata": {
        "id": "1IxHCqygxWhh",
        "colab": {
          "base_uri": "https://localhost:8080/"
        },
        "outputId": "cec7d5ef-32e4-46e6-ff7a-dd21fd029bdf"
      },
      "execution_count": null,
      "outputs": [
        {
          "output_type": "execute_result",
          "data": {
            "text/plain": [
              "13"
            ]
          },
          "metadata": {},
          "execution_count": 15
        }
      ]
    },
    {
      "cell_type": "code",
      "source": [
        "int(\"13\")"
      ],
      "metadata": {
        "id": "JKj4vcntxbzn",
        "colab": {
          "base_uri": "https://localhost:8080/"
        },
        "outputId": "098c8a18-10a8-4f4b-c575-e3a051a69642"
      },
      "execution_count": null,
      "outputs": [
        {
          "output_type": "execute_result",
          "data": {
            "text/plain": [
              "13"
            ]
          },
          "metadata": {},
          "execution_count": 16
        }
      ]
    },
    {
      "cell_type": "markdown",
      "source": [
        "El método $\\texttt{float()}$ convierte cualquier entero a un decimal."
      ],
      "metadata": {
        "id": "2kJBfW-5xyeM"
      }
    },
    {
      "cell_type": "code",
      "source": [
        "f = float(\"255.5\") # esto represente un decimal\n",
        "\n",
        "print(f)"
      ],
      "metadata": {
        "id": "WXVy6COqxxx8",
        "colab": {
          "base_uri": "https://localhost:8080/"
        },
        "outputId": "6a3aee67-b51b-424b-be42-5a98e927ace9"
      },
      "execution_count": null,
      "outputs": [
        {
          "output_type": "stream",
          "name": "stdout",
          "text": [
            "255.5\n"
          ]
        }
      ]
    },
    {
      "cell_type": "code",
      "source": [
        "type(f)"
      ],
      "metadata": {
        "id": "cr9yA0r_yqVG",
        "colab": {
          "base_uri": "https://localhost:8080/"
        },
        "outputId": "1d80bdbd-0229-45d7-8081-09d56384181b"
      },
      "execution_count": null,
      "outputs": [
        {
          "output_type": "execute_result",
          "data": {
            "text/plain": [
              "float"
            ]
          },
          "metadata": {},
          "execution_count": 20
        }
      ]
    },
    {
      "cell_type": "markdown",
      "source": [
        "El método $\\texttt{str()}$ convierte cualquier tipo de dato en una *cadena*."
      ],
      "metadata": {
        "id": "AR-ncECqyPo0"
      }
    },
    {
      "cell_type": "code",
      "source": [
        "x = str(200)\n",
        "\n",
        "print(x)"
      ],
      "metadata": {
        "id": "QnZePXNFxZ7-",
        "colab": {
          "base_uri": "https://localhost:8080/"
        },
        "outputId": "ff424878-6716-4c8e-da76-9a155b5f2835"
      },
      "execution_count": null,
      "outputs": [
        {
          "output_type": "stream",
          "name": "stdout",
          "text": [
            "200\n"
          ]
        }
      ]
    },
    {
      "cell_type": "code",
      "source": [
        "type(x)"
      ],
      "metadata": {
        "id": "SVBzd6CW-_hE",
        "colab": {
          "base_uri": "https://localhost:8080/"
        },
        "outputId": "fb8f342f-a150-4fa7-ef5d-3d308e8468ed"
      },
      "execution_count": null,
      "outputs": [
        {
          "output_type": "execute_result",
          "data": {
            "text/plain": [
              "str"
            ]
          },
          "metadata": {},
          "execution_count": 22
        }
      ]
    },
    {
      "cell_type": "code",
      "source": [
        "print(x + \"1\")"
      ],
      "metadata": {
        "id": "xeauDqfRywSc",
        "colab": {
          "base_uri": "https://localhost:8080/"
        },
        "outputId": "bb8ad2bf-f7da-40df-bd8f-8ce341953064"
      },
      "execution_count": null,
      "outputs": [
        {
          "output_type": "stream",
          "name": "stdout",
          "text": [
            "2001\n"
          ]
        }
      ]
    },
    {
      "cell_type": "markdown",
      "source": [
        "# Formatos para el método $\\texttt{print}$"
      ],
      "metadata": {
        "id": "h6TGG2AZtk3Y"
      }
    },
    {
      "cell_type": "markdown",
      "source": [
        "## Utilizando el simbolo $\\texttt{%}$"
      ],
      "metadata": {
        "id": "Dw8XCmThuY_g"
      }
    },
    {
      "cell_type": "code",
      "source": [
        "c = \"F\""
      ],
      "metadata": {
        "id": "xXRWc7CVm9RD"
      },
      "execution_count": null,
      "outputs": []
    },
    {
      "cell_type": "code",
      "source": [
        "print(\"La letra\",c,\"tiene el numero \", 6)"
      ],
      "metadata": {
        "colab": {
          "base_uri": "https://localhost:8080/"
        },
        "id": "fYrkxPpmm7Hj",
        "outputId": "1912b2ab-2a66-4ea0-bc44-dedf68c2566a"
      },
      "execution_count": null,
      "outputs": [
        {
          "output_type": "stream",
          "name": "stdout",
          "text": [
            "La letra F tiene el numero  6\n"
          ]
        }
      ]
    },
    {
      "cell_type": "code",
      "source": [
        "print(\"El alumno %s tiene de nota %.2f, que se redondea a %d\"%(\"Alberto\", 19.562, 20))"
      ],
      "metadata": {
        "id": "xOc2PB0WN-MD",
        "colab": {
          "base_uri": "https://localhost:8080/"
        },
        "outputId": "b10c0b29-b731-4660-86f8-37d9d694878e"
      },
      "execution_count": null,
      "outputs": [
        {
          "output_type": "stream",
          "name": "stdout",
          "text": [
            "El alumno Alberto tiene de nota 19.56, que se redondea a 20\n"
          ]
        }
      ]
    },
    {
      "cell_type": "code",
      "source": [
        "numero = 145.19292192139 # aproximadamente 145.2\n",
        "\n",
        "#Imprimir \"numero = 145.1\"\n",
        "\n",
        "print(\"numero = %.1f\"%(numero))"
      ],
      "metadata": {
        "colab": {
          "base_uri": "https://localhost:8080/"
        },
        "id": "3mrE8R-xEDIJ",
        "outputId": "55a1fee9-f272-49f5-b06b-2084e076c27f"
      },
      "execution_count": null,
      "outputs": [
        {
          "output_type": "stream",
          "name": "stdout",
          "text": [
            "numero = 145.2\n"
          ]
        }
      ]
    },
    {
      "cell_type": "markdown",
      "source": [
        "## Utilizando el método $\\texttt{format}$"
      ],
      "metadata": {
        "id": "PRm2XceRud8Y"
      }
    },
    {
      "cell_type": "code",
      "source": [
        "print(\"El alumno {:s} tiene de nota {:.2f}, que se redondea a {:d}\".format(\"Alberto\", 19.562, 20))"
      ],
      "metadata": {
        "id": "wK60c36BuhKw",
        "colab": {
          "base_uri": "https://localhost:8080/"
        },
        "outputId": "c27da295-de54-4d61-fa9d-b81f164cdc99"
      },
      "execution_count": null,
      "outputs": [
        {
          "output_type": "stream",
          "name": "stdout",
          "text": [
            "El alumno Alberto tiene de nota 19.56, que se redondea a 20\n"
          ]
        }
      ]
    },
    {
      "cell_type": "code",
      "source": [
        "print(\"{0} tiene {1} hermanos\".format(\"El\", 10))"
      ],
      "metadata": {
        "colab": {
          "base_uri": "https://localhost:8080/"
        },
        "id": "197uUBL_FRhU",
        "outputId": "3acaea61-6583-4149-a89e-5e55706f155d"
      },
      "execution_count": null,
      "outputs": [
        {
          "output_type": "stream",
          "name": "stdout",
          "text": [
            "El tiene 10 hermanos\n"
          ]
        }
      ]
    },
    {
      "cell_type": "code",
      "source": [
        "print(\"{0} es primo de {1}\".format(\"Juan\",\"Pedro\"))"
      ],
      "metadata": {
        "colab": {
          "base_uri": "https://localhost:8080/"
        },
        "id": "ayA7yu2bFiN7",
        "outputId": "c2431d84-9351-4b06-ea46-de708952763a"
      },
      "execution_count": null,
      "outputs": [
        {
          "output_type": "stream",
          "name": "stdout",
          "text": [
            "Juan es primo de Pedro\n"
          ]
        }
      ]
    },
    {
      "cell_type": "code",
      "source": [
        "print(\"{1} es primo de {0}\".format(\"Juan\",\"Pedro\"))"
      ],
      "metadata": {
        "colab": {
          "base_uri": "https://localhost:8080/"
        },
        "id": "4Yeha7oDFIeQ",
        "outputId": "2ddeedea-6a04-4ccd-cc5a-323f0928d733"
      },
      "execution_count": null,
      "outputs": [
        {
          "output_type": "stream",
          "name": "stdout",
          "text": [
            "Pedro es primo de Juan\n"
          ]
        }
      ]
    },
    {
      "cell_type": "code",
      "source": [
        "texto = \"{0} es primo de {1}\"\n",
        "\n",
        "print(texto.format(\"Juan\", \"Pedro\"))"
      ],
      "metadata": {
        "colab": {
          "base_uri": "https://localhost:8080/"
        },
        "id": "4_-ThyzKFt_q",
        "outputId": "a3bb713e-6c99-4bc2-b0f8-c2994033c7e7"
      },
      "execution_count": null,
      "outputs": [
        {
          "output_type": "stream",
          "name": "stdout",
          "text": [
            "Juan es primo de Pedro\n"
          ]
        }
      ]
    },
    {
      "cell_type": "code",
      "source": [
        "print(\"Hola\" * \" \" + \"Jose\")"
      ],
      "metadata": {
        "colab": {
          "base_uri": "https://localhost:8080/",
          "height": 165
        },
        "id": "bCp1iqgyGHnO",
        "outputId": "9768b842-61ac-48ba-d964-985c041b1b73"
      },
      "execution_count": null,
      "outputs": [
        {
          "output_type": "error",
          "ename": "TypeError",
          "evalue": "ignored",
          "traceback": [
            "\u001b[0;31m---------------------------------------------------------------------------\u001b[0m",
            "\u001b[0;31mTypeError\u001b[0m                                 Traceback (most recent call last)",
            "\u001b[0;32m<ipython-input-33-4ad75703e480>\u001b[0m in \u001b[0;36m<cell line: 1>\u001b[0;34m()\u001b[0m\n\u001b[0;32m----> 1\u001b[0;31m \u001b[0mprint\u001b[0m\u001b[0;34m(\u001b[0m\u001b[0;34m\"Hola\"\u001b[0m \u001b[0;34m*\u001b[0m \u001b[0;34m\" \"\u001b[0m \u001b[0;34m+\u001b[0m \u001b[0;34m\"Jose\"\u001b[0m\u001b[0;34m)\u001b[0m\u001b[0;34m\u001b[0m\u001b[0;34m\u001b[0m\u001b[0m\n\u001b[0m",
            "\u001b[0;31mTypeError\u001b[0m: can't multiply sequence by non-int of type 'str'"
          ]
        }
      ]
    },
    {
      "cell_type": "code",
      "source": [],
      "metadata": {
        "id": "S1NWLv4vIAHO"
      },
      "execution_count": null,
      "outputs": []
    }
  ]
}