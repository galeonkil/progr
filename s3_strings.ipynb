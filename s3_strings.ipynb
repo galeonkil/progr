{
  "nbformat": 4,
  "nbformat_minor": 0,
  "metadata": {
    "colab": {
      "provenance": [],
      "collapsed_sections": [
        "Wlfvijek-HDJ",
        "EFtF3X8lJjrB"
      ],
      "include_colab_link": true
    },
    "kernelspec": {
      "name": "python3",
      "display_name": "Python 3"
    },
    "language_info": {
      "name": "python"
    }
  },
  "cells": [
    {
      "cell_type": "markdown",
      "metadata": {
        "id": "view-in-github",
        "colab_type": "text"
      },
      "source": [
        "<a href=\"https://colab.research.google.com/github/galeonkil/progr/blob/master/s3_strings.ipynb\" target=\"_parent\"><img src=\"https://colab.research.google.com/assets/colab-badge.svg\" alt=\"Open In Colab\"/></a>"
      ]
    },
    {
      "cell_type": "markdown",
      "source": [
        "# Operaciones con cadenas (strings)\n",
        "\n",
        "Cualquier tipo de dato que este dentro de comillas simples (' '), doble comillas (\" \") o triple es considera una cadena en Python. En esta clase aprenderemos a trabajos con *strings* en Python."
      ],
      "metadata": {
        "id": "ApZkW0FJ5HOY"
      }
    },
    {
      "cell_type": "code",
      "source": [
        "type(\"1.5\")"
      ],
      "metadata": {
        "id": "_GOzcEX535Js",
        "colab": {
          "base_uri": "https://localhost:8080/"
        },
        "outputId": "80230804-937e-4477-8368-2a3901156e6c"
      },
      "execution_count": null,
      "outputs": [
        {
          "output_type": "execute_result",
          "data": {
            "text/plain": [
              "str"
            ]
          },
          "metadata": {},
          "execution_count": 1
        }
      ]
    },
    {
      "cell_type": "code",
      "source": [
        "type(\"True\")"
      ],
      "metadata": {
        "id": "l4nuyrdT39aV",
        "colab": {
          "base_uri": "https://localhost:8080/"
        },
        "outputId": "b23db2a6-1949-46e8-984d-52f5201ff2e7"
      },
      "execution_count": null,
      "outputs": [
        {
          "output_type": "execute_result",
          "data": {
            "text/plain": [
              "str"
            ]
          },
          "metadata": {},
          "execution_count": 2
        }
      ]
    },
    {
      "cell_type": "code",
      "source": [
        "type(\"False\")"
      ],
      "metadata": {
        "id": "z0uxzZe24Dlc",
        "colab": {
          "base_uri": "https://localhost:8080/"
        },
        "outputId": "7ff72e3f-434c-421c-9f38-1df07217d428"
      },
      "execution_count": null,
      "outputs": [
        {
          "output_type": "execute_result",
          "data": {
            "text/plain": [
              "str"
            ]
          },
          "metadata": {},
          "execution_count": 3
        }
      ]
    },
    {
      "cell_type": "markdown",
      "source": [
        "## Una cadena es inmutable"
      ],
      "metadata": {
        "id": "Wlfvijek-HDJ"
      }
    },
    {
      "cell_type": "markdown",
      "source": [
        "Todo dato almacenado como cadena es inmutable"
      ],
      "metadata": {
        "id": "B6jwCVq26rZz"
      }
    },
    {
      "cell_type": "code",
      "execution_count": null,
      "metadata": {
        "id": "rB4mmWpG2TRh",
        "colab": {
          "base_uri": "https://localhost:8080/"
        },
        "outputId": "3f00da60-898b-400d-c8e6-ca9f687ea3ee"
      },
      "outputs": [
        {
          "output_type": "stream",
          "name": "stdout",
          "text": [
            "Mario\n"
          ]
        }
      ],
      "source": [
        "nombre = \"Mario\"\n",
        "print(nombre)"
      ]
    },
    {
      "cell_type": "code",
      "source": [
        "NOMBRE = nombre.upper() # upper() convierte una cadena en MAYUSCULAS\n",
        "print(NOMBRE)"
      ],
      "metadata": {
        "id": "4PNiRevgp04k",
        "colab": {
          "base_uri": "https://localhost:8080/"
        },
        "outputId": "423c728d-9822-497d-f0ac-45d5a4ddaeb5"
      },
      "execution_count": null,
      "outputs": [
        {
          "output_type": "stream",
          "name": "stdout",
          "text": [
            "MARIO\n"
          ]
        }
      ]
    },
    {
      "cell_type": "code",
      "source": [
        "print(nombre)"
      ],
      "metadata": {
        "id": "CjHn3Wjp6zoM",
        "colab": {
          "base_uri": "https://localhost:8080/"
        },
        "outputId": "3052bad4-6d26-41bf-c136-06f37cb93785"
      },
      "execution_count": null,
      "outputs": [
        {
          "output_type": "stream",
          "name": "stdout",
          "text": [
            "Mario\n"
          ]
        }
      ]
    },
    {
      "cell_type": "markdown",
      "source": [
        "Si quisieramos cambiar el contenido de una cadena, tendríamos que cambiarlo por completo."
      ],
      "metadata": {
        "id": "vjUjr0Fk7jSy"
      }
    },
    {
      "cell_type": "code",
      "source": [
        "nombre[0] = 'D' # Intentando cambiar la letra \"M\" por la letra \"D\""
      ],
      "metadata": {
        "id": "UvOv3dsX608E",
        "colab": {
          "base_uri": "https://localhost:8080/",
          "height": 165
        },
        "outputId": "e309bdca-013b-4337-ab28-dd2c0a55aed0"
      },
      "execution_count": null,
      "outputs": [
        {
          "output_type": "error",
          "ename": "TypeError",
          "evalue": "ignored",
          "traceback": [
            "\u001b[0;31m---------------------------------------------------------------------------\u001b[0m",
            "\u001b[0;31mTypeError\u001b[0m                                 Traceback (most recent call last)",
            "\u001b[0;32m<ipython-input-7-8a98cee077f3>\u001b[0m in \u001b[0;36m<cell line: 1>\u001b[0;34m()\u001b[0m\n\u001b[0;32m----> 1\u001b[0;31m \u001b[0mnombre\u001b[0m\u001b[0;34m[\u001b[0m\u001b[0;36m0\u001b[0m\u001b[0;34m]\u001b[0m \u001b[0;34m=\u001b[0m \u001b[0;34m'D'\u001b[0m \u001b[0;31m# Intentando cambiar la letra \"M\" por la letra \"D\"\u001b[0m\u001b[0;34m\u001b[0m\u001b[0;34m\u001b[0m\u001b[0m\n\u001b[0m",
            "\u001b[0;31mTypeError\u001b[0m: 'str' object does not support item assignment"
          ]
        }
      ]
    },
    {
      "cell_type": "code",
      "source": [
        "nombre = \"Dario\"\n",
        "\n",
        "print(nombre)"
      ],
      "metadata": {
        "id": "Cvl2xffA7hG8",
        "colab": {
          "base_uri": "https://localhost:8080/"
        },
        "outputId": "b8145354-88f3-4e98-9bb9-b25a621ca1d9"
      },
      "execution_count": null,
      "outputs": [
        {
          "output_type": "stream",
          "name": "stdout",
          "text": [
            "Dario\n"
          ]
        }
      ]
    },
    {
      "cell_type": "markdown",
      "source": [
        "Para usar cualquier método en una cadena tenemos aplicarlo de la siquiete manera: $\\texttt{\"String\".metodO()}$."
      ],
      "metadata": {
        "id": "ihp-JUdL8aNP"
      }
    },
    {
      "cell_type": "code",
      "source": [
        "name = \"jose\"\n",
        "\n",
        "print(name.capitalize())"
      ],
      "metadata": {
        "id": "trFI758h8ZjJ",
        "colab": {
          "base_uri": "https://localhost:8080/"
        },
        "outputId": "88f2a707-b3dc-4eb5-a00a-a1eef2e4845c"
      },
      "execution_count": null,
      "outputs": [
        {
          "output_type": "stream",
          "name": "stdout",
          "text": [
            "Jose\n"
          ]
        }
      ]
    },
    {
      "cell_type": "code",
      "source": [
        "print(\",\".join(\"ABCDE\"))"
      ],
      "metadata": {
        "id": "cCCn3qqc8P3U",
        "colab": {
          "base_uri": "https://localhost:8080/"
        },
        "outputId": "2871bc09-2de3-4193-9cb5-bb7c99881328"
      },
      "execution_count": null,
      "outputs": [
        {
          "output_type": "stream",
          "name": "stdout",
          "text": [
            "A,B,C,D,E\n"
          ]
        }
      ]
    },
    {
      "cell_type": "code",
      "source": [
        "print(\"\".join->(\"ABCDE\"))"
      ],
      "metadata": {
        "id": "wiehLDsX9Byg",
        "colab": {
          "base_uri": "https://localhost:8080/"
        },
        "outputId": "b3ded567-e6fd-416e-a0f3-f34537e3cbb3"
      },
      "execution_count": null,
      "outputs": [
        {
          "output_type": "stream",
          "name": "stdout",
          "text": [
            "A->B->C->D->E\n"
          ]
        }
      ]
    },
    {
      "cell_type": "markdown",
      "source": [
        "$\\texttt{s = \"||||\"}$\n",
        "\n",
        "Que operación debo hacer con \"join\" a $\\texttt{s}$ para obtener $\\texttt{r}$\n",
        "\n",
        "$\\texttt{\"|1|2|3|\"}$\n",
        "\n",
        "$\\texttt{\"|4|5|6|\"}$\n",
        "\n",
        "$\\texttt{\"|7|8|9|\"}$"
      ],
      "metadata": {
        "id": "skzkiWDf5btR"
      }
    },
    {
      "cell_type": "code",
      "source": [
        "print(\"|\" + \"|\".join(\"123\") + \"|\")"
      ],
      "metadata": {
        "id": "sxo6oAco5bMi",
        "colab": {
          "base_uri": "https://localhost:8080/"
        },
        "outputId": "feb0d845-f64b-4fba-ff45-6fcafd69423d"
      },
      "execution_count": null,
      "outputs": [
        {
          "output_type": "stream",
          "name": "stdout",
          "text": [
            "|1|2|3|\n"
          ]
        }
      ]
    },
    {
      "cell_type": "code",
      "source": [
        "print(\"|1|2|3|\")\n",
        "print(\"|4|5|6|\")\n",
        "print(\"|7|8|9|\")"
      ],
      "metadata": {
        "id": "BCzkkc377QWq",
        "colab": {
          "base_uri": "https://localhost:8080/"
        },
        "outputId": "55e81a7d-0a12-4a4d-b6ff-588eb340a2be"
      },
      "execution_count": null,
      "outputs": [
        {
          "output_type": "stream",
          "name": "stdout",
          "text": [
            "|1|2|3|\n",
            "|4|5|6|\n",
            "|7|8|9|\n"
          ]
        }
      ]
    },
    {
      "cell_type": "markdown",
      "source": [
        "Para conocer el tamaño de la cadena utilizamos la función $\\texttt{len()}$."
      ],
      "metadata": {
        "id": "rIRU7pHL9loh"
      }
    },
    {
      "cell_type": "code",
      "source": [
        "name = \"Hola Mundo\"\n",
        "len(name)"
      ],
      "metadata": {
        "id": "j6L_A6AK9gd6",
        "colab": {
          "base_uri": "https://localhost:8080/"
        },
        "outputId": "81b41312-c43f-4f48-9dcd-b7e326c2e8ff"
      },
      "execution_count": null,
      "outputs": [
        {
          "output_type": "execute_result",
          "data": {
            "text/plain": [
              "10"
            ]
          },
          "metadata": {},
          "execution_count": 14
        }
      ]
    },
    {
      "cell_type": "code",
      "source": [
        "len(\"Python\")"
      ],
      "metadata": {
        "id": "MbwE88Po9ub6",
        "colab": {
          "base_uri": "https://localhost:8080/"
        },
        "outputId": "260f26d3-aa5a-4454-fe4d-e728f1b2af8e"
      },
      "execution_count": null,
      "outputs": [
        {
          "output_type": "execute_result",
          "data": {
            "text/plain": [
              "6"
            ]
          },
          "metadata": {},
          "execution_count": 15
        }
      ]
    },
    {
      "cell_type": "code",
      "source": [
        "len(\"\")"
      ],
      "metadata": {
        "id": "IvN0oV4k9wnS",
        "colab": {
          "base_uri": "https://localhost:8080/"
        },
        "outputId": "ca7ec0fa-576b-4573-d003-f8bbe4887afb"
      },
      "execution_count": null,
      "outputs": [
        {
          "output_type": "execute_result",
          "data": {
            "text/plain": [
              "0"
            ]
          },
          "metadata": {},
          "execution_count": 16
        }
      ]
    },
    {
      "cell_type": "code",
      "source": [
        "type(\"\")"
      ],
      "metadata": {
        "id": "qVNfEvF08CCW",
        "colab": {
          "base_uri": "https://localhost:8080/"
        },
        "outputId": "55ced4b4-33bd-4bbc-9a28-2dad1d96a46e"
      },
      "execution_count": null,
      "outputs": [
        {
          "output_type": "execute_result",
          "data": {
            "text/plain": [
              "str"
            ]
          },
          "metadata": {},
          "execution_count": 17
        }
      ]
    },
    {
      "cell_type": "code",
      "source": [
        "len(\" \")"
      ],
      "metadata": {
        "id": "lv6TiVAg904B",
        "colab": {
          "base_uri": "https://localhost:8080/"
        },
        "outputId": "47f69360-b1c7-43eb-fc98-2d63a4c024d8"
      },
      "execution_count": null,
      "outputs": [
        {
          "output_type": "execute_result",
          "data": {
            "text/plain": [
              "1"
            ]
          },
          "metadata": {},
          "execution_count": 18
        }
      ]
    },
    {
      "cell_type": "markdown",
      "source": [
        "## Indexar y segmentar una cadena"
      ],
      "metadata": {
        "id": "G9nHUhUf-ME4"
      }
    },
    {
      "cell_type": "markdown",
      "source": [
        "## Los corchetes ([ ]) nos sirven para acceder a cualquier elemento dentro de una cadena."
      ],
      "metadata": {
        "id": "EFtF3X8lJjrB"
      }
    },
    {
      "cell_type": "code",
      "source": [
        "info = \"python\"\n",
        "\n",
        "print(info)\n",
        "print('||||||')\n",
        "print('012345')\n"
      ],
      "metadata": {
        "id": "7a_LTMLJ92DJ",
        "colab": {
          "base_uri": "https://localhost:8080/"
        },
        "outputId": "7bb95dca-c041-4809-c882-92c75ec92636"
      },
      "execution_count": null,
      "outputs": [
        {
          "output_type": "stream",
          "name": "stdout",
          "text": [
            "python\n",
            "||||||\n",
            "012345\n"
          ]
        }
      ]
    },
    {
      "cell_type": "code",
      "source": [
        "len(info)"
      ],
      "metadata": {
        "id": "kxV9KBnv9ML3",
        "colab": {
          "base_uri": "https://localhost:8080/"
        },
        "outputId": "bef7ed0a-826e-4912-8d7e-b38e725d2169"
      },
      "execution_count": null,
      "outputs": [
        {
          "output_type": "execute_result",
          "data": {
            "text/plain": [
              "6"
            ]
          },
          "metadata": {},
          "execution_count": 20
        }
      ]
    },
    {
      "cell_type": "code",
      "source": [
        "print(info[0]) # el primer elemento"
      ],
      "metadata": {
        "id": "qLBCKND8MGtS",
        "colab": {
          "base_uri": "https://localhost:8080/"
        },
        "outputId": "e2951340-daa6-4d57-a156-2be9d85441e6"
      },
      "execution_count": null,
      "outputs": [
        {
          "output_type": "stream",
          "name": "stdout",
          "text": [
            "p\n"
          ]
        }
      ]
    },
    {
      "cell_type": "code",
      "source": [
        "print(info[3],info[5]) # el cuarto y sexto elemento"
      ],
      "metadata": {
        "id": "nGR6bdg_KpU4",
        "colab": {
          "base_uri": "https://localhost:8080/"
        },
        "outputId": "031e134c-629b-4b6b-a075-75c550287c61"
      },
      "execution_count": null,
      "outputs": [
        {
          "output_type": "stream",
          "name": "stdout",
          "text": [
            "h n\n"
          ]
        }
      ]
    },
    {
      "cell_type": "code",
      "source": [
        "print(info[10])"
      ],
      "metadata": {
        "id": "cLklz-QwsSpv",
        "colab": {
          "base_uri": "https://localhost:8080/",
          "height": 165
        },
        "outputId": "b0ec4ab0-7d2f-41b7-ca26-b97aefca9212"
      },
      "execution_count": null,
      "outputs": [
        {
          "output_type": "error",
          "ename": "IndexError",
          "evalue": "ignored",
          "traceback": [
            "\u001b[0;31m---------------------------------------------------------------------------\u001b[0m",
            "\u001b[0;31mIndexError\u001b[0m                                Traceback (most recent call last)",
            "\u001b[0;32m<ipython-input-23-8bf998238905>\u001b[0m in \u001b[0;36m<cell line: 1>\u001b[0;34m()\u001b[0m\n\u001b[0;32m----> 1\u001b[0;31m \u001b[0mprint\u001b[0m\u001b[0;34m(\u001b[0m\u001b[0minfo\u001b[0m\u001b[0;34m[\u001b[0m\u001b[0;36m10\u001b[0m\u001b[0;34m]\u001b[0m\u001b[0;34m)\u001b[0m\u001b[0;34m\u001b[0m\u001b[0;34m\u001b[0m\u001b[0m\n\u001b[0m",
            "\u001b[0;31mIndexError\u001b[0m: string index out of range"
          ]
        }
      ]
    },
    {
      "cell_type": "markdown",
      "source": [
        "Tambien puedo acceder a los elementos utilizando una *indexación negativa*."
      ],
      "metadata": {
        "id": "ktjcOrsMKSpP"
      }
    },
    {
      "cell_type": "code",
      "source": [
        "print(info[-1]) # ultimo elemento"
      ],
      "metadata": {
        "id": "Dz-B_XkAJwFb",
        "colab": {
          "base_uri": "https://localhost:8080/"
        },
        "outputId": "66d51d14-6d7e-4db1-ed54-fa4d6c518882"
      },
      "execution_count": null,
      "outputs": [
        {
          "output_type": "stream",
          "name": "stdout",
          "text": [
            "n\n"
          ]
        }
      ]
    },
    {
      "cell_type": "code",
      "source": [
        "print(info[-2]) # el penultimo elemento"
      ],
      "metadata": {
        "id": "OqnYepBOK4Zo",
        "colab": {
          "base_uri": "https://localhost:8080/"
        },
        "outputId": "38da6669-ebfe-4ba2-fd99-f5812da2c6c9"
      },
      "execution_count": null,
      "outputs": [
        {
          "output_type": "stream",
          "name": "stdout",
          "text": [
            "o\n"
          ]
        }
      ]
    },
    {
      "cell_type": "code",
      "source": [
        "info2 = \"qweqweqwc qwe qwe qwewq qererewkccwlkecwekl 21312sadasd\"\n",
        "\n",
        "# Calcular la última letra de info2"
      ],
      "metadata": {
        "id": "d2nKAAyZ8qZ0"
      },
      "execution_count": null,
      "outputs": []
    },
    {
      "cell_type": "code",
      "source": [
        "tamanio = len(info2)\n",
        "print(info2[tamanio-1])"
      ],
      "metadata": {
        "id": "FyZ0ferwsvgl",
        "colab": {
          "base_uri": "https://localhost:8080/"
        },
        "outputId": "42dc82cf-da17-4757-9973-b80f740fad9d"
      },
      "execution_count": null,
      "outputs": [
        {
          "output_type": "stream",
          "name": "stdout",
          "text": [
            "d\n"
          ]
        }
      ]
    },
    {
      "cell_type": "code",
      "source": [
        "print(info2[-1])"
      ],
      "metadata": {
        "id": "CTijSgQ09Wfr",
        "colab": {
          "base_uri": "https://localhost:8080/"
        },
        "outputId": "47620cf8-7d70-4928-a15d-4f0009bec874"
      },
      "execution_count": null,
      "outputs": [
        {
          "output_type": "stream",
          "name": "stdout",
          "text": [
            "d\n"
          ]
        }
      ]
    },
    {
      "cell_type": "code",
      "source": [
        "print(info2[-2])"
      ],
      "metadata": {
        "id": "nzuDEiQK9lA_",
        "colab": {
          "base_uri": "https://localhost:8080/"
        },
        "outputId": "ab8605c4-6ca4-4a29-8973-7d2427d67baa"
      },
      "execution_count": null,
      "outputs": [
        {
          "output_type": "stream",
          "name": "stdout",
          "text": [
            "s\n"
          ]
        }
      ]
    },
    {
      "cell_type": "code",
      "source": [
        "print(info2[-3])"
      ],
      "metadata": {
        "id": "s8-31Vd69n46",
        "colab": {
          "base_uri": "https://localhost:8080/"
        },
        "outputId": "a711f8b0-104f-4949-c280-4bb46aa83993"
      },
      "execution_count": null,
      "outputs": [
        {
          "output_type": "stream",
          "name": "stdout",
          "text": [
            "a\n"
          ]
        }
      ]
    },
    {
      "cell_type": "markdown",
      "source": [
        "## En lugar de extraer un solo elemento, podemos extraer un bloque tambien con corchetes ([ ])"
      ],
      "metadata": {
        "id": "1pt9FAa-LSu7"
      }
    },
    {
      "cell_type": "code",
      "source": [
        "print(info)"
      ],
      "metadata": {
        "id": "yWXPZAgqLpiG",
        "colab": {
          "base_uri": "https://localhost:8080/"
        },
        "outputId": "7668c491-e105-4171-8aab-0f74d7bdc300"
      },
      "execution_count": null,
      "outputs": [
        {
          "output_type": "stream",
          "name": "stdout",
          "text": [
            "python\n"
          ]
        }
      ]
    },
    {
      "cell_type": "markdown",
      "source": [
        "$$Caracter→Indice\\hspace{1.2em}\\\\\n",
        "\\texttt{p}→ 0\\\\\n",
        "\\texttt{y}→ 1\\\\\n",
        "\\texttt{t}→ 2\\\\\n",
        "\\texttt{h}→ 3\\\\\n",
        "\\texttt{o}→ 4\\\\\n",
        "\\texttt{n}→ 5\\\\\n",
        "$$"
      ],
      "metadata": {
        "id": "aJ_EnkgWqaEm"
      }
    },
    {
      "cell_type": "code",
      "source": [
        "print(info[1:3]) # Desde 1 hasta (2)"
      ],
      "metadata": {
        "id": "h3zkvfGqKk5O",
        "colab": {
          "base_uri": "https://localhost:8080/"
        },
        "outputId": "baef3b2b-6b9c-46d0-bf5e-650582659d36"
      },
      "execution_count": null,
      "outputs": [
        {
          "output_type": "stream",
          "name": "stdout",
          "text": [
            "yt\n"
          ]
        }
      ]
    },
    {
      "cell_type": "code",
      "source": [
        "info[1:4] # Desde 1 hasta 3"
      ],
      "metadata": {
        "id": "y8gslgq1Lk9f",
        "colab": {
          "base_uri": "https://localhost:8080/",
          "height": 36
        },
        "outputId": "5d50e27f-898f-438d-c285-4781e73ce3ce"
      },
      "execution_count": null,
      "outputs": [
        {
          "output_type": "execute_result",
          "data": {
            "text/plain": [
              "'yth'"
            ],
            "application/vnd.google.colaboratory.intrinsic+json": {
              "type": "string"
            }
          },
          "metadata": {},
          "execution_count": 34
        }
      ]
    },
    {
      "cell_type": "code",
      "source": [
        "info[2:6] # Desde 2 hasta (6-1)"
      ],
      "metadata": {
        "id": "NmBqiJNhLvL2",
        "colab": {
          "base_uri": "https://localhost:8080/",
          "height": 36
        },
        "outputId": "9c554a3e-afbc-4be2-8624-082c7587300d"
      },
      "execution_count": null,
      "outputs": [
        {
          "output_type": "execute_result",
          "data": {
            "text/plain": [
              "'thon'"
            ],
            "application/vnd.google.colaboratory.intrinsic+json": {
              "type": "string"
            }
          },
          "metadata": {},
          "execution_count": 35
        }
      ]
    },
    {
      "cell_type": "markdown",
      "source": [
        "Podemos incluir un paso (step) a la hora de segmentar una cadena."
      ],
      "metadata": {
        "id": "MIbfP8tANJ-6"
      }
    },
    {
      "cell_type": "code",
      "source": [
        "info = \"ABCDEFGHIJ\"\n",
        "\n",
        "print(info)"
      ],
      "metadata": {
        "colab": {
          "base_uri": "https://localhost:8080/"
        },
        "id": "o0hXNURMNISb",
        "outputId": "e655a0d1-4f6d-476f-9d4a-0478af78a00f"
      },
      "execution_count": null,
      "outputs": [
        {
          "output_type": "stream",
          "name": "stdout",
          "text": [
            "ABCDEFGHIJ\n"
          ]
        }
      ]
    },
    {
      "cell_type": "markdown",
      "source": [
        "$$Caracter→Indice\\hspace{1.2em}\\\\\n",
        "\\texttt{A}→ 0\\\\\n",
        "\\texttt{B}→ 1\\\\\n",
        "\\texttt{C}→ 2\\\\\n",
        "\\texttt{D}→ 3\\\\\n",
        "\\texttt{E}→ 4\\\\\n",
        "\\texttt{F}→ 5\\\\\n",
        "\\texttt{G}→ 6\\\\\n",
        "\\texttt{H}→ 7\\\\\n",
        "\\texttt{I}→ 8\\\\\n",
        "\\texttt{J}→ 9\\\\\n",
        "$$"
      ],
      "metadata": {
        "id": "ERZEKPJur-N3"
      }
    },
    {
      "cell_type": "code",
      "source": [
        "len(info)"
      ],
      "metadata": {
        "id": "UTYQ_jYT_qNs",
        "colab": {
          "base_uri": "https://localhost:8080/"
        },
        "outputId": "de787431-a5de-4388-d2f3-f76c641ffde8"
      },
      "execution_count": null,
      "outputs": [
        {
          "output_type": "execute_result",
          "data": {
            "text/plain": [
              "10"
            ]
          },
          "metadata": {},
          "execution_count": 37
        }
      ]
    },
    {
      "cell_type": "code",
      "source": [
        "print(info[0:7:2]) # paso = 2 (de dos en dos)"
      ],
      "metadata": {
        "id": "JwXZlV0yNcm0",
        "colab": {
          "base_uri": "https://localhost:8080/"
        },
        "outputId": "a46f904f-614a-4fb7-9ba9-7d4de6849fd7"
      },
      "execution_count": null,
      "outputs": [
        {
          "output_type": "stream",
          "name": "stdout",
          "text": [
            "ACEG\n"
          ]
        }
      ]
    },
    {
      "cell_type": "code",
      "source": [
        "print(info[0:10:3]) # paso = 3 (de 3 en 3)"
      ],
      "metadata": {
        "id": "OlQ3wmRBNnvi",
        "colab": {
          "base_uri": "https://localhost:8080/"
        },
        "outputId": "55b42a52-57b4-4bf6-de2d-77405b789514"
      },
      "execution_count": null,
      "outputs": [
        {
          "output_type": "stream",
          "name": "stdout",
          "text": [
            "ADGJ\n"
          ]
        }
      ]
    },
    {
      "cell_type": "markdown",
      "source": [
        "Tambien puedo invertir el orden de la cadena."
      ],
      "metadata": {
        "id": "x-Ivh_ThN3jU"
      }
    },
    {
      "cell_type": "code",
      "source": [
        "cadena_invertida = info[::-1]\n",
        "\n",
        "print(cadena_invertida)"
      ],
      "metadata": {
        "id": "dMz0q2oUNrVz",
        "colab": {
          "base_uri": "https://localhost:8080/"
        },
        "outputId": "8875c704-8a1e-4e80-848f-649981716bee"
      },
      "execution_count": null,
      "outputs": [
        {
          "output_type": "stream",
          "name": "stdout",
          "text": [
            "JIHGFEDCBA\n"
          ]
        }
      ]
    },
    {
      "cell_type": "markdown",
      "source": [
        "## Find y Split"
      ],
      "metadata": {
        "id": "ukJ4nxEm4LBj"
      }
    },
    {
      "cell_type": "code",
      "source": [
        "frase = \"Hola mundo en Python\""
      ],
      "metadata": {
        "id": "TkO0vjPT4Pb4"
      },
      "execution_count": null,
      "outputs": []
    },
    {
      "cell_type": "code",
      "source": [
        "x = frase.split(\" \") # es lo mismo que frase.split()"
      ],
      "metadata": {
        "id": "qZoNPWnx4Qcw"
      },
      "execution_count": null,
      "outputs": []
    },
    {
      "cell_type": "code",
      "source": [
        "type(x)"
      ],
      "metadata": {
        "id": "lMJc1N4Qvopj",
        "colab": {
          "base_uri": "https://localhost:8080/"
        },
        "outputId": "c1539285-eef2-42f3-a2c1-8700bf818cc7"
      },
      "execution_count": null,
      "outputs": [
        {
          "output_type": "execute_result",
          "data": {
            "text/plain": [
              "list"
            ]
          },
          "metadata": {},
          "execution_count": 43
        }
      ]
    },
    {
      "cell_type": "code",
      "source": [
        "print(x)"
      ],
      "metadata": {
        "id": "Zy4S81l-4ayK",
        "colab": {
          "base_uri": "https://localhost:8080/"
        },
        "outputId": "028a8553-a257-4f97-b7a1-38c20a4040e8"
      },
      "execution_count": null,
      "outputs": [
        {
          "output_type": "stream",
          "name": "stdout",
          "text": [
            "['Hola', 'mundo', 'en', 'Python']\n"
          ]
        }
      ]
    },
    {
      "cell_type": "code",
      "source": [
        "print(x[2])"
      ],
      "metadata": {
        "id": "F1JtwZr34a0y",
        "colab": {
          "base_uri": "https://localhost:8080/"
        },
        "outputId": "abc82d57-e142-47ff-eaf5-2d5870726bbf"
      },
      "execution_count": null,
      "outputs": [
        {
          "output_type": "stream",
          "name": "stdout",
          "text": [
            "en\n"
          ]
        }
      ]
    },
    {
      "cell_type": "code",
      "source": [
        "frase = \"Hola,mundo,en,Python\""
      ],
      "metadata": {
        "id": "sWDhGBd54a3k"
      },
      "execution_count": null,
      "outputs": []
    },
    {
      "cell_type": "code",
      "source": [
        "x = frase.split(\",\")"
      ],
      "metadata": {
        "id": "vyz43m734lRx"
      },
      "execution_count": null,
      "outputs": []
    },
    {
      "cell_type": "code",
      "source": [
        "print(x)"
      ],
      "metadata": {
        "id": "cvh3_yI-v-4Y",
        "colab": {
          "base_uri": "https://localhost:8080/"
        },
        "outputId": "1541bc3e-0b2f-4450-a3d6-1356124c66e1"
      },
      "execution_count": null,
      "outputs": [
        {
          "output_type": "stream",
          "name": "stdout",
          "text": [
            "['Hola', 'mundo', 'en', 'Python']\n"
          ]
        }
      ]
    },
    {
      "cell_type": "code",
      "source": [
        "print(x[1])"
      ],
      "metadata": {
        "id": "GUQyb4iD4lYI",
        "colab": {
          "base_uri": "https://localhost:8080/"
        },
        "outputId": "d73ce67b-bc1e-4d44-a5c0-b000c1553662"
      },
      "execution_count": null,
      "outputs": [
        {
          "output_type": "stream",
          "name": "stdout",
          "text": [
            "mundo\n"
          ]
        }
      ]
    },
    {
      "cell_type": "code",
      "source": [
        "x = \"1|2|3\"\n",
        "print(x.split(\"|\"))"
      ],
      "metadata": {
        "id": "q5SHgEhiwPLI",
        "colab": {
          "base_uri": "https://localhost:8080/"
        },
        "outputId": "a2141e75-0446-47bb-bd5e-6647b6365721"
      },
      "execution_count": null,
      "outputs": [
        {
          "output_type": "stream",
          "name": "stdout",
          "text": [
            "['1', '2', '3']\n"
          ]
        }
      ]
    },
    {
      "cell_type": "markdown",
      "source": [
        "## **Ejercicio 1: Implementar un programa que calcule la edad de una persona al ingresar su fecha de nacimiento en formato DD/MM/YY.**\n",
        "\n",
        "Ejemplo:\n",
        "\n",
        "\n",
        "\n",
        "```\n",
        "Ingrese su fecha de nacimiento: 12/02/2005\n",
        "Su edad es 17\n",
        "```"
      ],
      "metadata": {
        "id": "EjE-n6MJMgbd"
      }
    },
    {
      "cell_type": "code",
      "source": [
        "fecha = input(\"Ingrese su fecha de nacimiento: \")\n",
        "\n",
        "lista = fecha.split(\"/\")\n",
        "edad  = 2023 - int(lista[-1])\n",
        "\n",
        "print(\"Su edad es %d\"%(edad))"
      ],
      "metadata": {
        "id": "HKVxDPOXLx7O",
        "colab": {
          "base_uri": "https://localhost:8080/"
        },
        "outputId": "a3fd44c0-b29a-4a74-d628-fbb59c08673b"
      },
      "execution_count": null,
      "outputs": [
        {
          "output_type": "stream",
          "name": "stdout",
          "text": [
            "Ingrese su fecha de nacimiento: 12/02/2005\n",
            "Su edad es 18\n"
          ]
        }
      ]
    },
    {
      "cell_type": "markdown",
      "source": [
        "## Adiciónes y Multiplicaciónes con cadenas"
      ],
      "metadata": {
        "id": "AY2LVtEuOFte"
      }
    },
    {
      "cell_type": "markdown",
      "source": [
        "Podemos juntar dos cadenas (concatenación)."
      ],
      "metadata": {
        "id": "IGlCU-H6uEWt"
      }
    },
    {
      "cell_type": "code",
      "source": [
        "print(\"***********************************\")"
      ],
      "metadata": {
        "id": "CkmwZPDquQFW",
        "colab": {
          "base_uri": "https://localhost:8080/"
        },
        "outputId": "5f51313f-a3a5-4d78-d83a-28723c6d4ea4"
      },
      "execution_count": null,
      "outputs": [
        {
          "output_type": "stream",
          "name": "stdout",
          "text": [
            "***********************************\n"
          ]
        }
      ]
    },
    {
      "cell_type": "code",
      "source": [
        "s1 = \"Universidad\"\n",
        "s2 = \"Catolica\"\n",
        "s3 = \"San\"\n",
        "s4 = \"Pablo\"\n",
        "s5 = \" \"\n",
        "\n",
        "print(s1+s2+s3+s4)"
      ],
      "metadata": {
        "id": "aDcv-56bAjVz",
        "colab": {
          "base_uri": "https://localhost:8080/"
        },
        "outputId": "1b05bed7-eefa-4d31-8c91-172353d3cfdb"
      },
      "execution_count": null,
      "outputs": [
        {
          "output_type": "stream",
          "name": "stdout",
          "text": [
            "UniversidadCatolicaSanPablo\n"
          ]
        }
      ]
    },
    {
      "cell_type": "code",
      "source": [
        "print(s1+\" \"+s2+s5+s3+s5+s4)"
      ],
      "metadata": {
        "id": "4kuhD6W91J6V",
        "colab": {
          "base_uri": "https://localhost:8080/"
        },
        "outputId": "460b7c68-c66e-4766-c566-722ecef155bb"
      },
      "execution_count": null,
      "outputs": [
        {
          "output_type": "stream",
          "name": "stdout",
          "text": [
            "Universidad Catolica San Pablo\n"
          ]
        }
      ]
    },
    {
      "cell_type": "code",
      "source": [
        "print(s1)"
      ],
      "metadata": {
        "id": "cpFZMDHp1cbP",
        "colab": {
          "base_uri": "https://localhost:8080/"
        },
        "outputId": "1e777c2e-409e-445c-826a-e28d8082c71d"
      },
      "execution_count": null,
      "outputs": [
        {
          "output_type": "stream",
          "name": "stdout",
          "text": [
            "Universidad\n"
          ]
        }
      ]
    },
    {
      "cell_type": "code",
      "source": [
        "print(\" \".join(s1))"
      ],
      "metadata": {
        "id": "rcjijt6tBYzR",
        "colab": {
          "base_uri": "https://localhost:8080/"
        },
        "outputId": "5b2d8c6d-e796-4509-af36-bdd85ec43a74"
      },
      "execution_count": null,
      "outputs": [
        {
          "output_type": "stream",
          "name": "stdout",
          "text": [
            "U n i v e r s i d a d\n"
          ]
        }
      ]
    },
    {
      "cell_type": "code",
      "source": [
        "print(s1 * s2) # No esta definido"
      ],
      "metadata": {
        "id": "tMCEDE-RBEqB",
        "colab": {
          "base_uri": "https://localhost:8080/",
          "height": 165
        },
        "outputId": "40d7225c-841e-4c20-a8e2-337d5ea3b988"
      },
      "execution_count": null,
      "outputs": [
        {
          "output_type": "error",
          "ename": "TypeError",
          "evalue": "ignored",
          "traceback": [
            "\u001b[0;31m---------------------------------------------------------------------------\u001b[0m",
            "\u001b[0;31mTypeError\u001b[0m                                 Traceback (most recent call last)",
            "\u001b[0;32m<ipython-input-59-765d0f8d63ad>\u001b[0m in \u001b[0;36m<cell line: 1>\u001b[0;34m()\u001b[0m\n\u001b[0;32m----> 1\u001b[0;31m \u001b[0mprint\u001b[0m\u001b[0;34m(\u001b[0m\u001b[0ms1\u001b[0m \u001b[0;34m*\u001b[0m \u001b[0ms2\u001b[0m\u001b[0;34m)\u001b[0m \u001b[0;31m# No esta definido\u001b[0m\u001b[0;34m\u001b[0m\u001b[0;34m\u001b[0m\u001b[0m\n\u001b[0m",
            "\u001b[0;31mTypeError\u001b[0m: can't multiply sequence by non-int of type 'str'"
          ]
        }
      ]
    },
    {
      "cell_type": "markdown",
      "source": [
        "Podemos hacer que una cadena se repita muchas veces"
      ],
      "metadata": {
        "id": "dVca7kAyuQoj"
      }
    },
    {
      "cell_type": "code",
      "source": [
        "print(\"*\" * 0)"
      ],
      "metadata": {
        "id": "gpvxK0rNBPGG",
        "colab": {
          "base_uri": "https://localhost:8080/"
        },
        "outputId": "b21c9c27-9a8b-4a22-d0f8-5972bcdf7a6f"
      },
      "execution_count": null,
      "outputs": [
        {
          "output_type": "stream",
          "name": "stdout",
          "text": [
            "\n"
          ]
        }
      ]
    },
    {
      "cell_type": "code",
      "source": [
        "print(\"|\" + \"-\" * 3)"
      ],
      "metadata": {
        "id": "o1KgTzdH1q1z",
        "colab": {
          "base_uri": "https://localhost:8080/"
        },
        "outputId": "f2d66c7d-46ad-47a7-9afb-df7cc90b9e17"
      },
      "execution_count": null,
      "outputs": [
        {
          "output_type": "stream",
          "name": "stdout",
          "text": [
            "|---\n"
          ]
        }
      ]
    },
    {
      "cell_type": "code",
      "source": [
        "print((\"|\" + \"-\" * 3) * 10 + \"|\")"
      ],
      "metadata": {
        "id": "jNPJV0eDBsWj",
        "colab": {
          "base_uri": "https://localhost:8080/"
        },
        "outputId": "76985823-7129-4b98-ef9e-081b1af07363"
      },
      "execution_count": null,
      "outputs": [
        {
          "output_type": "stream",
          "name": "stdout",
          "text": [
            "|---|---|---|---|---|---|---|---|---|---|\n"
          ]
        }
      ]
    },
    {
      "cell_type": "markdown",
      "source": [
        "$\\texttt{|=|}$\n",
        "\n",
        "$\\texttt{|==|}$\n",
        "\n",
        "$\\texttt{|===|}$"
      ],
      "metadata": {
        "id": "umrvuLCCCiix"
      }
    },
    {
      "cell_type": "code",
      "source": [
        "print(\"|\"+\"=\" * 1+\"|\")\n",
        "print(\"|\"+\"=\" * 2+\"|\")\n",
        "print(\"|\"+\"=\" * 3+\"|\")\n",
        "print(\"|\"+\"=\" * 4+\"|\")\n",
        "print(\"|\"+\"=\" * 5+\"|\")\n",
        "print(\"|\"+\"=\" * 6+\"|\")\n",
        "print(\"|\"+\"=\" * 7+\"|\")"
      ],
      "metadata": {
        "id": "3teOkl20CTrq",
        "colab": {
          "base_uri": "https://localhost:8080/"
        },
        "outputId": "cc724edd-0b14-4bb9-d205-d08bad14baf7"
      },
      "execution_count": null,
      "outputs": [
        {
          "output_type": "stream",
          "name": "stdout",
          "text": [
            "|=|\n",
            "|==|\n",
            "|===|\n",
            "|====|\n",
            "|=====|\n",
            "|======|\n",
            "|=======|\n"
          ]
        }
      ]
    },
    {
      "cell_type": "code",
      "source": [
        "x = 22\n",
        "es_mayor = (x >= 18)\n",
        "\n",
        "print(es_mayor)"
      ],
      "metadata": {
        "id": "4wA7Ijyw2X2z",
        "colab": {
          "base_uri": "https://localhost:8080/"
        },
        "outputId": "da83e010-39ca-4781-9aac-d2a42e5b8fe7"
      },
      "execution_count": null,
      "outputs": [
        {
          "output_type": "stream",
          "name": "stdout",
          "text": [
            "True\n"
          ]
        }
      ]
    },
    {
      "cell_type": "code",
      "source": [
        "print(int(es_mayor))\n",
        "print(1-es_mayor)"
      ],
      "metadata": {
        "id": "Gw7moPcz3bax",
        "colab": {
          "base_uri": "https://localhost:8080/"
        },
        "outputId": "aac91170-3a1b-41ca-d9ad-c3833c307786"
      },
      "execution_count": null,
      "outputs": [
        {
          "output_type": "stream",
          "name": "stdout",
          "text": [
            "1\n",
            "0\n"
          ]
        }
      ]
    },
    {
      "cell_type": "code",
      "source": [
        "print(\"La persona es \" + \"mayor de edad\" * es_mayor + \"menor de edad\" * (1 - es_mayor))"
      ],
      "metadata": {
        "id": "80bg6qPK2l_S",
        "colab": {
          "base_uri": "https://localhost:8080/"
        },
        "outputId": "ae02f9e5-3f81-43de-d150-868b2d1c5abc"
      },
      "execution_count": null,
      "outputs": [
        {
          "output_type": "stream",
          "name": "stdout",
          "text": [
            "La persona es mayor de edad\n"
          ]
        }
      ]
    },
    {
      "cell_type": "markdown",
      "source": [
        "## **Ejercicio 2: Implemente un programa que solicite ingresar un número entero positivo y que retorne si el número es múltiplo de 3.**\n",
        "\n",
        "\n",
        "\n",
        "```\n",
        "Ingrese el número: 18\n",
        "El número 18 es multiplo de 3\n",
        "```\n",
        "```\n",
        "Ingrese el número: 25\n",
        "El número 25 no es multiplo de 3\n",
        "```\n",
        "\n"
      ],
      "metadata": {
        "id": "WNbKDbeP0JGx"
      }
    },
    {
      "cell_type": "code",
      "source": [
        "numero = int(input(\"Ingrese el numero: \"))\n",
        "\n",
        "es_multiplo_de_3 = (numero % 3 == 0)\n",
        "\n",
        "print(es_multiplo_de_3)\n",
        "print(type(es_multiplo_de_3))"
      ],
      "metadata": {
        "id": "Z9iigmP3z3YT",
        "colab": {
          "base_uri": "https://localhost:8080/"
        },
        "outputId": "7dc18c67-f2ef-4285-a396-022f6f39d6ad"
      },
      "execution_count": null,
      "outputs": [
        {
          "output_type": "stream",
          "name": "stdout",
          "text": [
            "Ingrese el numero: 11\n",
            "False\n",
            "<class 'bool'>\n"
          ]
        }
      ]
    },
    {
      "cell_type": "code",
      "source": [
        "print(\"El número %d \"%(numero) + \"es multiplo de 3\"*es_multiplo_de_3 + \"no es multiplo de 3\"*(1-es_multiplo_de_3))"
      ],
      "metadata": {
        "id": "6h78TSAd7tZm",
        "colab": {
          "base_uri": "https://localhost:8080/"
        },
        "outputId": "110ebe05-ffbf-4ff3-9b70-df74bfa2bfcf"
      },
      "execution_count": null,
      "outputs": [
        {
          "output_type": "stream",
          "name": "stdout",
          "text": [
            "El número 11 no es multiplo de 3\n"
          ]
        }
      ]
    },
    {
      "cell_type": "code",
      "source": [],
      "metadata": {
        "id": "uIb6Pd_Qg7oO"
      },
      "execution_count": null,
      "outputs": []
    }
  ]
}