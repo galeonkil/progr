{
  "nbformat": 4,
  "nbformat_minor": 0,
  "metadata": {
    "colab": {
      "provenance": [],
      "include_colab_link": true
    },
    "kernelspec": {
      "name": "python3",
      "display_name": "Python 3"
    },
    "language_info": {
      "name": "python"
    }
  },
  "cells": [
    {
      "cell_type": "markdown",
      "metadata": {
        "id": "view-in-github",
        "colab_type": "text"
      },
      "source": [
        "<a href=\"https://colab.research.google.com/github/galeonkil/progr/blob/master/s6_listas.ipynb\" target=\"_parent\"><img src=\"https://colab.research.google.com/assets/colab-badge.svg\" alt=\"Open In Colab\"/></a>"
      ]
    },
    {
      "cell_type": "markdown",
      "source": [
        "# Listas"
      ],
      "metadata": {
        "id": "64tPWhAzttU8"
      }
    },
    {
      "cell_type": "code",
      "source": [
        "lista = [\"Juan\", 40, 1.7]\n",
        "\n",
        "print(lista)"
      ],
      "metadata": {
        "id": "CzPM9nIJOTo3",
        "colab": {
          "base_uri": "https://localhost:8080/"
        },
        "outputId": "79090af1-d107-4a73-b557-a39ff0d1daca"
      },
      "execution_count": null,
      "outputs": [
        {
          "output_type": "stream",
          "name": "stdout",
          "text": [
            "['Juan', 40, 1.7]\n"
          ]
        }
      ]
    },
    {
      "cell_type": "code",
      "source": [
        "lista[1] = \"Cuarenta\"\n",
        "print(lista[1])\n",
        "\n",
        "print(lista)"
      ],
      "metadata": {
        "colab": {
          "base_uri": "https://localhost:8080/"
        },
        "id": "petFOyaIa54U",
        "outputId": "1670c2f3-1718-4cbe-b263-38fb133b3e74"
      },
      "execution_count": null,
      "outputs": [
        {
          "output_type": "stream",
          "name": "stdout",
          "text": [
            "Cuarenta\n",
            "['Juan', 'Cuarenta', 1.7]\n"
          ]
        }
      ]
    },
    {
      "cell_type": "code",
      "source": [
        "lista = [1,2,3]\n",
        "x = lista.pop()\n",
        "\n",
        "print(x)"
      ],
      "metadata": {
        "id": "KKft5Pt_TAwg",
        "colab": {
          "base_uri": "https://localhost:8080/"
        },
        "outputId": "1b43d2ec-aa71-425f-e8df-62cc6c70b0fd"
      },
      "execution_count": null,
      "outputs": [
        {
          "output_type": "stream",
          "name": "stdout",
          "text": [
            "3\n"
          ]
        }
      ]
    },
    {
      "cell_type": "code",
      "source": [
        "print(lista)"
      ],
      "metadata": {
        "colab": {
          "base_uri": "https://localhost:8080/"
        },
        "id": "QUalTMTSbVjA",
        "outputId": "0496e4a8-2927-4bc2-8ca3-c23f9bc989ba"
      },
      "execution_count": null,
      "outputs": [
        {
          "output_type": "stream",
          "name": "stdout",
          "text": [
            "[1, 2]\n"
          ]
        }
      ]
    },
    {
      "cell_type": "markdown",
      "source": [
        "### Ejemplo:\n",
        "Calcular el promedio de números ingresados utilizando listas"
      ],
      "metadata": {
        "id": "ElYJ51agRfdk"
      }
    },
    {
      "cell_type": "code",
      "source": [
        "lista_de_numeros = []\n",
        "while True:\n",
        "  n = int(input(\"ingrese n: \"))\n",
        "  if n == 0:\n",
        "    break\n",
        "  else:\n",
        "    lista_de_numeros.append(n)\n",
        "  #print(lista_de_numeros)\n",
        "\n",
        "#print(lista_de_numeros, \"tamaño: \", len(lista_de_numeros))\n",
        "#print(sum(lista_de_numeros))\n",
        "print(sum(lista_de_numeros) / len(lista_de_numeros))"
      ],
      "metadata": {
        "id": "Vg1HV9QkRfJd",
        "colab": {
          "base_uri": "https://localhost:8080/"
        },
        "outputId": "dca368b3-a39e-4028-b982-66fa6e864c57"
      },
      "execution_count": null,
      "outputs": [
        {
          "output_type": "stream",
          "name": "stdout",
          "text": [
            "ingrese n: 4\n",
            "ingrese n: 5\n",
            "ingrese n: 7\n",
            "ingrese n: 0\n",
            "5.333333333333333\n"
          ]
        }
      ]
    },
    {
      "cell_type": "markdown",
      "source": [
        "## Operaciones"
      ],
      "metadata": {
        "id": "aNbs5eq4NCSk"
      }
    },
    {
      "cell_type": "markdown",
      "source": [
        "### Suma de Listas"
      ],
      "metadata": {
        "id": "pgBmfauNNEtr"
      }
    },
    {
      "cell_type": "code",
      "execution_count": null,
      "metadata": {
        "id": "vnR-XM0ntqAU",
        "colab": {
          "base_uri": "https://localhost:8080/"
        },
        "outputId": "cfeb3fb5-4451-4db6-a3f8-3ad2ba526728"
      },
      "outputs": [
        {
          "output_type": "stream",
          "name": "stdout",
          "text": [
            "lista1 = [0, 1, 2, 3, 4, 5, 6, 7, 8, 9]\n",
            "lista2 = [9, 8, 7, 6, 5, 4, 3, 2, 1, 0]\n"
          ]
        }
      ],
      "source": [
        "import random\n",
        "\n",
        "lista1 = []\n",
        "for i in range(10):\n",
        "  lista1.append(i)\n",
        "print(\"lista1 =\",lista1)\n",
        "\n",
        "lista2 = []\n",
        "for i in range(9,-1,-1):\n",
        "  lista2.append(i)\n",
        "print(\"lista2 =\",lista2)"
      ]
    },
    {
      "cell_type": "code",
      "source": [
        "lista3 = lista1 + lista2\n",
        "print(\"lista3 =\", lista3)"
      ],
      "metadata": {
        "id": "YDXlWPvTUjIq",
        "colab": {
          "base_uri": "https://localhost:8080/"
        },
        "outputId": "c4a36e7d-04e8-43ac-c880-976df0f22281"
      },
      "execution_count": null,
      "outputs": [
        {
          "output_type": "stream",
          "name": "stdout",
          "text": [
            "lista3 = [0, 1, 2, 3, 4, 5, 6, 7, 8, 9, 9, 8, 7, 6, 5, 4, 3, 2, 1, 0]\n"
          ]
        }
      ]
    },
    {
      "cell_type": "code",
      "source": [
        "print(\"size(lista3) =\", len(lista3))"
      ],
      "metadata": {
        "id": "kQgS-5wYUuUJ",
        "colab": {
          "base_uri": "https://localhost:8080/"
        },
        "outputId": "fe968fbd-c78b-4e89-8bfc-18d59cd693d4"
      },
      "execution_count": null,
      "outputs": [
        {
          "output_type": "stream",
          "name": "stdout",
          "text": [
            "size(lista3) = 20\n"
          ]
        }
      ]
    },
    {
      "cell_type": "code",
      "source": [
        "lista4 = [1,2]\n",
        "print(lista4 * 4)"
      ],
      "metadata": {
        "id": "PbZHJdkaU4cZ",
        "colab": {
          "base_uri": "https://localhost:8080/"
        },
        "outputId": "2f2b5fa8-aadc-4b5c-8782-07769e93d6e2"
      },
      "execution_count": null,
      "outputs": [
        {
          "output_type": "stream",
          "name": "stdout",
          "text": [
            "[1, 2, 1, 2, 1, 2, 1, 2]\n"
          ]
        }
      ]
    },
    {
      "cell_type": "code",
      "source": [
        "lista5 = []\n",
        "for i in range(10):\n",
        "  lista5.append(random.randint(1,10))\n",
        "\n",
        "print(lista5)"
      ],
      "metadata": {
        "id": "eVMcM79JVGwq",
        "colab": {
          "base_uri": "https://localhost:8080/"
        },
        "outputId": "74f27b1f-0417-4005-ed7c-c5b09ed7d436"
      },
      "execution_count": null,
      "outputs": [
        {
          "output_type": "stream",
          "name": "stdout",
          "text": [
            "[5, 4, 8, 1, 5, 10, 9, 7, 10, 1]\n"
          ]
        }
      ]
    },
    {
      "cell_type": "code",
      "source": [
        "lista6 = \"hola mundo en python 3.0\".split()\n",
        "print(lista6)"
      ],
      "metadata": {
        "id": "s0WKPF-mVbUX",
        "colab": {
          "base_uri": "https://localhost:8080/"
        },
        "outputId": "0a42d105-e57b-4376-980b-3b1d32801804"
      },
      "execution_count": null,
      "outputs": [
        {
          "output_type": "stream",
          "name": "stdout",
          "text": [
            "['hola', 'mundo', 'en', 'python', '3.0']\n"
          ]
        }
      ]
    },
    {
      "cell_type": "code",
      "source": [
        "lista7 = \"4,5,1.5,6,7,10\".split(\",\")\n",
        "print(lista7)"
      ],
      "metadata": {
        "id": "TYCMM0VEVoOA",
        "colab": {
          "base_uri": "https://localhost:8080/"
        },
        "outputId": "e0da24d4-c34b-4b2b-86d0-d0519b3aec17"
      },
      "execution_count": null,
      "outputs": [
        {
          "output_type": "stream",
          "name": "stdout",
          "text": [
            "['4', '5', '1.5', '6', '7', '10']\n"
          ]
        }
      ]
    },
    {
      "cell_type": "code",
      "source": [
        "lista8 = []\n",
        "\n",
        "for i in range(len(lista7)): #i = 0,...,N-1\n",
        "  lista8.append(float(lista7[i]))\n",
        "print(lista8, sum(lista8))"
      ],
      "metadata": {
        "colab": {
          "base_uri": "https://localhost:8080/"
        },
        "id": "mS9BaG2tdQsy",
        "outputId": "9cd51381-4500-4ace-ab59-16f6a5b726ed"
      },
      "execution_count": null,
      "outputs": [
        {
          "output_type": "stream",
          "name": "stdout",
          "text": [
            "[4.0, 5.0, 1.5, 6.0, 7.0, 10.0] 33.5\n"
          ]
        }
      ]
    },
    {
      "cell_type": "markdown",
      "source": [
        "### $\\texttt{in}$"
      ],
      "metadata": {
        "id": "XqBtQJDZNHlC"
      }
    },
    {
      "cell_type": "code",
      "source": [
        "lista8 = \"hola mundo en python 3.0\".split()\n",
        "print(lista8)"
      ],
      "metadata": {
        "id": "gPTcxPgRtuhh",
        "colab": {
          "base_uri": "https://localhost:8080/"
        },
        "outputId": "85860227-ed0e-4302-cca5-865c79188cea"
      },
      "execution_count": null,
      "outputs": [
        {
          "output_type": "stream",
          "name": "stdout",
          "text": [
            "['hola', 'mundo', 'en', 'python', '3.0']\n"
          ]
        }
      ]
    },
    {
      "cell_type": "code",
      "source": [
        "for item in lista8:\n",
        "  print(item)"
      ],
      "metadata": {
        "colab": {
          "base_uri": "https://localhost:8080/"
        },
        "id": "H7A2F9Tcdv0_",
        "outputId": "108d6c80-67c6-4477-f8d6-69f277c9f9a3"
      },
      "execution_count": null,
      "outputs": [
        {
          "output_type": "stream",
          "name": "stdout",
          "text": [
            "hola\n",
            "mundo\n",
            "en\n",
            "python\n",
            "3.0\n"
          ]
        }
      ]
    },
    {
      "cell_type": "code",
      "source": [
        "for indice, item in enumerate(lista8):\n",
        "  print(indice, \"->\" ,item)"
      ],
      "metadata": {
        "colab": {
          "base_uri": "https://localhost:8080/"
        },
        "id": "OkC64GQidwHJ",
        "outputId": "a4a20088-cb97-4cec-cd37-bfe01c66fb92"
      },
      "execution_count": null,
      "outputs": [
        {
          "output_type": "stream",
          "name": "stdout",
          "text": [
            "0 -> hola\n",
            "1 -> mundo\n",
            "2 -> en\n",
            "3 -> python\n",
            "4 -> 3.0\n"
          ]
        }
      ]
    },
    {
      "cell_type": "markdown",
      "source": [
        "### $\\texttt{append()}$"
      ],
      "metadata": {
        "id": "0cXkNy7BNX-R"
      }
    },
    {
      "cell_type": "code",
      "source": [
        "lista = [\"Hola\", 2, 1.7]\n",
        "print(lista)\n",
        "lista.append(19)\n",
        "print(lista)"
      ],
      "metadata": {
        "id": "U0MtLygCNZyf",
        "colab": {
          "base_uri": "https://localhost:8080/"
        },
        "outputId": "975210e7-57af-47d8-d04d-fd3072246c07"
      },
      "execution_count": null,
      "outputs": [
        {
          "output_type": "stream",
          "name": "stdout",
          "text": [
            "['Hola', 2, 1.7]\n",
            "['Hola', 2, 1.7, 19]\n"
          ]
        }
      ]
    },
    {
      "cell_type": "code",
      "source": [
        "lista += [21]\n",
        "print(lista)"
      ],
      "metadata": {
        "colab": {
          "base_uri": "https://localhost:8080/"
        },
        "id": "8_28CLl8eKed",
        "outputId": "d45f1e0a-b618-4d0d-b4a6-3ab75d339e8c"
      },
      "execution_count": null,
      "outputs": [
        {
          "output_type": "stream",
          "name": "stdout",
          "text": [
            "['Hola', 2, 1.7, 19, 21]\n"
          ]
        }
      ]
    },
    {
      "cell_type": "markdown",
      "source": [
        "### Ejercicio 1:\n",
        "Implemente un programa que invierta el orden de una lista. El usuario debe ingresar los números de la lista y luege el programa retorna la lista invertida.\n",
        "\n",
        "\n",
        "\n",
        "```\n",
        "Entrada: [3,4,6,2,7]\n",
        "Salida : [7,2,6,4,3]\n",
        "```\n",
        "\n"
      ],
      "metadata": {
        "id": "Q0YO-H4lPc5c"
      }
    },
    {
      "cell_type": "markdown",
      "source": [
        "**Método 1**"
      ],
      "metadata": {
        "id": "H8M8M7PPhB2Y"
      }
    },
    {
      "cell_type": "code",
      "source": [],
      "metadata": {
        "id": "gSDz6F3BfPuq"
      },
      "execution_count": null,
      "outputs": []
    },
    {
      "cell_type": "code",
      "source": [
        "lista=[]\n",
        "while True:\n",
        "  n = int(input(\"Ingrese n:\"))\n",
        "  if n == 0:\n",
        "    break\n",
        "  else:\n",
        "    lista.append(n)\n",
        "\n",
        "print(lista)\n",
        "\n",
        "lista_size = len(lista)\n",
        "lista_invertida = []\n",
        "for i in range(lista_size):\n",
        "  lista_invertida.append(lista.pop())\n",
        "\n",
        "print(lista_invertida)"
      ],
      "metadata": {
        "id": "kr0bjD2lYEGq",
        "colab": {
          "base_uri": "https://localhost:8080/"
        },
        "outputId": "f7b89c09-959a-46e4-ffe4-d1e338981408"
      },
      "execution_count": null,
      "outputs": [
        {
          "output_type": "stream",
          "name": "stdout",
          "text": [
            "Ingrese n:1\n",
            "Ingrese n:3\n",
            "Ingrese n:4\n",
            "Ingrese n:5\n",
            "Ingrese n:0\n",
            "[1, 3, 4, 5]\n",
            "[5, 4, 3, 1]\n"
          ]
        }
      ]
    },
    {
      "cell_type": "markdown",
      "source": [
        "**Método 2**"
      ],
      "metadata": {
        "id": "wjg-Uf2chGCo"
      }
    },
    {
      "cell_type": "code",
      "source": [
        "texto = input(\"Numero separos espacios: \")\n",
        "lista = texto.split()\n",
        "\n",
        "lista_enteros = []\n",
        "for e in lista:\n",
        "  lista_enteros.append(int(e))\n",
        "\n",
        "print(lista_enteros)\n",
        "#reversed(lista_enteros)\n",
        "#print(lista_enteros)\n",
        "\n",
        "lista_invertida = lista_enteros[::-1]\n",
        "print(lista_invertida)"
      ],
      "metadata": {
        "id": "MlOswzobf8j1",
        "colab": {
          "base_uri": "https://localhost:8080/"
        },
        "outputId": "4ae41f09-fc53-48b5-b3e2-6520c595d42a"
      },
      "execution_count": null,
      "outputs": [
        {
          "output_type": "stream",
          "name": "stdout",
          "text": [
            "Numero separos espacios: 2 3 4 5 6\n",
            "[2, 3, 4, 5, 6]\n",
            "[6, 5, 4, 3, 2]\n"
          ]
        }
      ]
    },
    {
      "cell_type": "markdown",
      "source": [
        "### Ejercicio 2:\n",
        "Implemente un programa que detecte todas las posiciones de un elemento en una lista\n",
        "\n",
        "\n",
        "```\n",
        "Entrada: [3,5,2,3,5,4,4,4,5,8]\n",
        "Ingrese el numero a detectar: 5\n",
        "Salida: [1,4,8]\n",
        "```\n",
        "\n"
      ],
      "metadata": {
        "id": "u3mJPsXEP7uR"
      }
    },
    {
      "cell_type": "code",
      "source": [
        "lista = [3,5,2,3,5,4,4,4,5,8]\n",
        "\n",
        "num = int(input(\"Ingrese el numero a detectar: \"))\n",
        "\n",
        "lista_indices = []\n",
        "for indice,item in enumerate(lista):\n",
        "  if item == num:\n",
        "    lista_indices.append(indice)\n",
        "\n",
        "print(lista_indices)"
      ],
      "metadata": {
        "id": "GFxpNpsKP6Of"
      },
      "execution_count": null,
      "outputs": []
    },
    {
      "cell_type": "markdown",
      "source": [
        "## Lista de Listas (Listas Anidadas)"
      ],
      "metadata": {
        "id": "bdcBK10jRp--"
      }
    },
    {
      "cell_type": "code",
      "source": [
        "lista = [\"Hola\",[\"X\",\"Y\"],3]\n",
        "\n",
        "print(lista[1][0], lista[1][1])"
      ],
      "metadata": {
        "id": "6lPsSIRzRtAy",
        "colab": {
          "base_uri": "https://localhost:8080/"
        },
        "outputId": "db9622a8-1308-42f5-fc68-8d60c88a48ca"
      },
      "execution_count": null,
      "outputs": [
        {
          "output_type": "stream",
          "name": "stdout",
          "text": [
            "X Y\n"
          ]
        }
      ]
    },
    {
      "cell_type": "code",
      "source": [
        "base_de_datos = [[\"Juan\", 85, 90],[\"Maria\", 30, 30], [\"Julia\", 90, 10]]\n",
        "\n",
        "for fila in range(len(base_de_datos)):\n",
        "  print(base_de_datos[fila][0], base_de_datos[fila][1])"
      ],
      "metadata": {
        "id": "VJCNw-HZoKtx",
        "colab": {
          "base_uri": "https://localhost:8080/"
        },
        "outputId": "adaf60bd-756e-40c7-b83d-73dbf537a92f"
      },
      "execution_count": null,
      "outputs": [
        {
          "output_type": "stream",
          "name": "stdout",
          "text": [
            "Juan 85\n",
            "Maria 30\n",
            "Julia 90\n"
          ]
        }
      ]
    },
    {
      "cell_type": "code",
      "source": [
        "base_de_datos = []\n",
        "for i in range(3):\n",
        "  nombre = input(\"Usuario: \")\n",
        "  dram   = int(input(\"Af. Drama: \"))\n",
        "  susp   = int(input(\"Af. Suspn: \"))\n",
        "  base_de_datos.append([nombre, dram, susp])"
      ],
      "metadata": {
        "colab": {
          "base_uri": "https://localhost:8080/"
        },
        "id": "a6NEjbjxhMjX",
        "outputId": "5db81d99-8d4b-4f81-cc11-6b6403322f9e"
      },
      "execution_count": null,
      "outputs": [
        {
          "name": "stdout",
          "output_type": "stream",
          "text": [
            "Usuario: Juan\n",
            "Af. Drama: 80\n",
            "Af. Suspn: 90\n",
            "Usuario: Julio\n",
            "Af. Drama: 30\n",
            "Af. Suspn: 10\n",
            "Usuario: Maria\n",
            "Af. Drama: 10\n",
            "Af. Suspn: 10\n"
          ]
        }
      ]
    },
    {
      "cell_type": "code",
      "source": [
        "print(base_de_datos)"
      ],
      "metadata": {
        "colab": {
          "base_uri": "https://localhost:8080/"
        },
        "id": "ASTfHcfdh60Z",
        "outputId": "195c888e-0b93-4c41-91c1-a7613d522f9d"
      },
      "execution_count": null,
      "outputs": [
        {
          "output_type": "stream",
          "name": "stdout",
          "text": [
            "[['Juan', 80, 90], ['Julio', 30, 10], ['Maria', 10, 10]]\n"
          ]
        }
      ]
    },
    {
      "cell_type": "markdown",
      "source": [
        "## Lista por compresión"
      ],
      "metadata": {
        "id": "m5SiOUXsRtbT"
      }
    },
    {
      "cell_type": "code",
      "source": [
        "lista_enteros = [i for i in range(10) if (i % 2 == 0)]\n",
        "\n",
        "print(lista_enteros)"
      ],
      "metadata": {
        "id": "atsS-UhlRvZl",
        "colab": {
          "base_uri": "https://localhost:8080/"
        },
        "outputId": "cb6d4a60-8c32-492c-d662-f59f4c5ba9da"
      },
      "execution_count": null,
      "outputs": [
        {
          "output_type": "stream",
          "name": "stdout",
          "text": [
            "[0, 2, 4, 6, 8]\n"
          ]
        }
      ]
    },
    {
      "cell_type": "code",
      "source": [
        "for i in range(5):\n",
        "  print(\"x\")\n",
        "for j in range(5):\n",
        "  print(\"y\")"
      ],
      "metadata": {
        "colab": {
          "base_uri": "https://localhost:8080/"
        },
        "id": "zplBzqPniToi",
        "outputId": "fbf2e596-ee2c-46a6-ffa5-fe7f2a7f4072"
      },
      "execution_count": null,
      "outputs": [
        {
          "output_type": "stream",
          "name": "stdout",
          "text": [
            "x\n",
            "x\n",
            "x\n",
            "x\n",
            "x\n",
            "y\n",
            "y\n",
            "y\n",
            "y\n",
            "y\n"
          ]
        }
      ]
    },
    {
      "cell_type": "code",
      "source": [],
      "metadata": {
        "id": "7E5skqQfj8S0"
      },
      "execution_count": null,
      "outputs": []
    }
  ]
}