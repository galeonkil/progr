{
  "nbformat": 4,
  "nbformat_minor": 0,
  "metadata": {
    "colab": {
      "provenance": [],
      "include_colab_link": true
    },
    "kernelspec": {
      "name": "python3",
      "display_name": "Python 3"
    },
    "language_info": {
      "name": "python"
    }
  },
  "cells": [
    {
      "cell_type": "markdown",
      "metadata": {
        "id": "view-in-github",
        "colab_type": "text"
      },
      "source": [
        "<a href=\"https://colab.research.google.com/github/galeonkil/progr/blob/master/s7_diccionarios.ipynb\" target=\"_parent\"><img src=\"https://colab.research.google.com/assets/colab-badge.svg\" alt=\"Open In Colab\"/></a>"
      ]
    },
    {
      "cell_type": "markdown",
      "source": [
        "# Diccionarios"
      ],
      "metadata": {
        "id": "Wc0ztrPpt40R"
      }
    },
    {
      "cell_type": "code",
      "execution_count": null,
      "metadata": {
        "id": "qmv7yFdit2t0",
        "colab": {
          "base_uri": "https://localhost:8080/"
        },
        "outputId": "724c33fe-8461-4a46-fa83-466cbb761dd4"
      },
      "outputs": [
        {
          "output_type": "stream",
          "name": "stdout",
          "text": [
            "{'Juan': [4354656, 78, 1.8, 'Diplomado de BA'], 'Maria': [43124656, 60, 1.5, 'Diplomado de CD'], 'Luis': [43531656, 80, 1.9, 'Diplomado de CV'], 'Ana': [43544651, 65, 1.7, 'Diplomado de ML']}\n"
          ]
        }
      ],
      "source": [
        "data = {}\n",
        "data[\"Juan\"] = [4354656, 78, 1.8, \"Diplomado de BA\"]\n",
        "data[\"Maria\"] = [43124656, 60, 1.5, \"Diplomado de CD\"]\n",
        "data[\"Luis\"] = [43531656, 80, 1.9, \"Diplomado de CV\"]\n",
        "data[\"Ana\"] = [43544651, 65, 1.7, \"Diplomado de ML\"]\n",
        "\n",
        "print(data)"
      ]
    },
    {
      "cell_type": "markdown",
      "source": [
        "## Ejercicio 1:\n",
        "Implemente un programa que solicite el ingreso de un texto y cuente la cantidad de vocales y sus repeticiones."
      ],
      "metadata": {
        "id": "19moUe2SSArD"
      }
    },
    {
      "cell_type": "code",
      "source": [
        "texto = \"\"\"\n",
        "Los fundamentos. El Lorem Ipsum fue concebido como un texto de relleno,\n",
        "formateado de una cierta manera para permitir la presentación\n",
        "de elementos gráficos en documentos, sin necesidad de una copia\n",
        "formal. El uso de Lorem Ipsum permite a los diseñadores reunir\n",
        "los diseños y la forma del contenido antes de que el contenido\n",
        "se haya creado, dando al diseño y al proceso de producción más libertad.\"\"\""
      ],
      "metadata": {
        "id": "BhRd447WSCI9"
      },
      "execution_count": null,
      "outputs": []
    },
    {
      "cell_type": "code",
      "source": [
        "vocales = [\"a\",'A',\"e\",\"E\",\"i\",\"I\",\"o\",\"O\",\"u\",\"U\"]\n",
        "numero_de_vocales = 0\n",
        "\n",
        "vocales_dic = {\"a\":0, \"e\":0, \"i\":0, \"o\": 0, \"u\": 0}\n",
        "\n",
        "for caracter in texto:\n",
        "  if caracter in vocales:\n",
        "    numero_de_vocales+=1\n",
        "    vocales_dic[caracter.lower()]+=1\n",
        "print(numero_de_vocales)\n",
        "print(vocales_dic)"
      ],
      "metadata": {
        "colab": {
          "base_uri": "https://localhost:8080/"
        },
        "id": "0_PKnVIG3kul",
        "outputId": "a2a395a7-14c7-4681-b57e-0db6cafa14e5"
      },
      "execution_count": null,
      "outputs": [
        {
          "output_type": "stream",
          "name": "stdout",
          "text": [
            "135\n",
            "{'a': 26, 'e': 46, 'i': 20, 'o': 32, 'u': 11}\n"
          ]
        }
      ]
    },
    {
      "cell_type": "markdown",
      "source": [
        "### Ejercicio 2\n",
        "Genere una lista con 100 números enteros aleatorios entre 0 y 9, luego calcule las repeticiones por cada número."
      ],
      "metadata": {
        "id": "odxODRrWJRLY"
      }
    },
    {
      "cell_type": "code",
      "source": [
        "import random\n",
        "\n",
        "numeros = []\n",
        "repeticiones = {}\n",
        "\n",
        "for i in range(20):\n",
        "  aleatorio = random.randint(0,9)\n",
        "  numeros.append(aleatorio)\n",
        "  if aleatorio not in repeticiones:\n",
        "    repeticiones[aleatorio] = 1\n",
        "  else:\n",
        "    repeticiones[aleatorio] += 1\n",
        "\n",
        "print(numeros)\n",
        "print(repeticiones)"
      ],
      "metadata": {
        "colab": {
          "base_uri": "https://localhost:8080/"
        },
        "id": "Y_DN7Y7J6rkr",
        "outputId": "4622b2ae-cf26-43fb-db2e-f1f89f081018"
      },
      "execution_count": null,
      "outputs": [
        {
          "output_type": "stream",
          "name": "stdout",
          "text": [
            "[1, 7, 7, 6, 9, 0, 8, 8, 4, 3, 2, 8, 8, 7, 3, 9, 1, 5, 2, 7]\n",
            "{1: 2, 7: 4, 6: 1, 9: 2, 0: 1, 8: 4, 4: 1, 3: 2, 2: 2, 5: 1}\n"
          ]
        }
      ]
    },
    {
      "cell_type": "code",
      "source": [
        "max_repeticiones = -1\n",
        "moda = -1\n",
        "for numero, repeticiones in repeticiones.items():\n",
        "  if repeticiones > max_repeticiones:\n",
        "    max_repeticiones = repeticiones\n",
        "    moda = numero\n",
        "\n",
        "print(\"La moda es {} con {} repeticiones\".format(moda, max_repeticiones))"
      ],
      "metadata": {
        "colab": {
          "base_uri": "https://localhost:8080/"
        },
        "id": "xmuAs9e57yj2",
        "outputId": "8cba27dc-45d6-4f51-f4e7-f33f31c2e4eb"
      },
      "execution_count": null,
      "outputs": [
        {
          "output_type": "stream",
          "name": "stdout",
          "text": [
            "La moda es 7 con 4 repeticiones\n"
          ]
        }
      ]
    },
    {
      "cell_type": "markdown",
      "source": [
        "### Ejercicio 3\n",
        "Implemente un programa que cuente la cantidad de palabras en un texto ingresado."
      ],
      "metadata": {
        "id": "7rgM5g8bJtqO"
      }
    },
    {
      "cell_type": "code",
      "source": [
        "texto = input(\"Ingrese el texto: \")\n",
        "\n",
        "total_palabras = texto.split()\n",
        "total_palabras_sin_repetir = set({}) # Conjunto\n",
        "\n",
        "print(\"lista total_palabras =\", total_palabras)\n",
        "for palabra in total_palabras:\n",
        "  print(\"palabra: \", palabra)\n",
        "  total_palabras_sin_repetir.add(palabra)\n",
        "\n",
        "print(\"Cantidad de palabras: \", len(total_palabras))\n",
        "#print(total_palabras)\n",
        "#print(total_palabras_sin_repetir)\n"
      ],
      "metadata": {
        "colab": {
          "base_uri": "https://localhost:8080/"
        },
        "id": "DxvV8PEoJj8M",
        "outputId": "feafecb6-3d32-44c7-e773-f70574899c94"
      },
      "execution_count": null,
      "outputs": [
        {
          "output_type": "stream",
          "name": "stdout",
          "text": [
            "Ingrese el texto: Hola mi nombre es Jose\n",
            "lista total_palabras = ['Hola', 'mi', 'nombre', 'es', 'Jose']\n",
            "palabra:  Hola\n",
            "palabra:  mi\n",
            "palabra:  nombre\n",
            "palabra:  es\n",
            "palabra:  Jose\n",
            "Cantidad de palabras:  5\n"
          ]
        }
      ]
    },
    {
      "cell_type": "code",
      "source": [
        "texto = \"\"\"\n",
        "El Lorem Ipsum fue concebido como un texto de relleno,\n",
        "formateado de una cierta manera para permitir la presentación\n",
        "de elementos gráficos en documentos, sin necesidad de una copia\n",
        "formal. El uso de Lorem Ipsum permite a los diseñadores reunir\n",
        "los diseños y la forma del contenido antes de que el contenido\n",
        "se haya creado, dando al diseño y al proceso de producción más libertad.\"\"\"\n",
        "\n",
        "palabras = texto.split() # LISTA DE PALABRAS\n",
        "palabras_set = set({})   # CONJUNTO\n",
        "palabras_contador = {}   # DICCIONARIO\n",
        "\n",
        "for palabra in palabras:\n",
        "  palabra_minuscula = palabra.lower() # A MINUSCULA\n",
        "  palabras_set.add(palabra_minuscula) # AGREGAMOS AL CONJUNTO\n",
        "\n",
        "  if palabra_minuscula not in palabras_contador:\n",
        "    palabras_contador[palabra_minuscula] = 1  # LA PRIMERA VEZ QUE SE VE LA PALABRA\n",
        "  else:\n",
        "    palabras_contador[palabra_minuscula] += 1\n",
        "\n",
        "print(\"Se escribieron un total de\",len(palabras_set),\"palabras\")"
      ],
      "metadata": {
        "colab": {
          "base_uri": "https://localhost:8080/"
        },
        "id": "LWQiRB5B9Fac",
        "outputId": "f6286edc-d5e7-4f8e-b3d8-bb8ef4860714"
      },
      "execution_count": null,
      "outputs": [
        {
          "output_type": "stream",
          "name": "stdout",
          "text": [
            "Se escribieron un total de 49 palabras\n"
          ]
        }
      ]
    },
    {
      "cell_type": "code",
      "source": [
        "palabras_contador"
      ],
      "metadata": {
        "colab": {
          "base_uri": "https://localhost:8080/"
        },
        "id": "Z4qr-sT0s5zj",
        "outputId": "cbb9546e-9221-4f55-e068-51bc2d2e889c"
      },
      "execution_count": null,
      "outputs": [
        {
          "output_type": "execute_result",
          "data": {
            "text/plain": [
              "{'el': 3,\n",
              " 'lorem': 2,\n",
              " 'ipsum': 2,\n",
              " 'fue': 1,\n",
              " 'concebido': 1,\n",
              " 'como': 1,\n",
              " 'un': 1,\n",
              " 'texto': 1,\n",
              " 'de': 7,\n",
              " 'relleno,': 1,\n",
              " 'formateado': 1,\n",
              " 'una': 2,\n",
              " 'cierta': 1,\n",
              " 'manera': 1,\n",
              " 'para': 1,\n",
              " 'permitir': 1,\n",
              " 'la': 2,\n",
              " 'presentación': 1,\n",
              " 'elementos': 1,\n",
              " 'gráficos': 1,\n",
              " 'en': 1,\n",
              " 'documentos,': 1,\n",
              " 'sin': 1,\n",
              " 'necesidad': 1,\n",
              " 'copia': 1,\n",
              " 'formal.': 1,\n",
              " 'uso': 1,\n",
              " 'permite': 1,\n",
              " 'a': 1,\n",
              " 'los': 2,\n",
              " 'diseñadores': 1,\n",
              " 'reunir': 1,\n",
              " 'diseños': 1,\n",
              " 'y': 2,\n",
              " 'forma': 1,\n",
              " 'del': 1,\n",
              " 'contenido': 2,\n",
              " 'antes': 1,\n",
              " 'que': 1,\n",
              " 'se': 1,\n",
              " 'haya': 1,\n",
              " 'creado,': 1,\n",
              " 'dando': 1,\n",
              " 'al': 2,\n",
              " 'diseño': 1,\n",
              " 'proceso': 1,\n",
              " 'producción': 1,\n",
              " 'más': 1,\n",
              " 'libertad.': 1}"
            ]
          },
          "metadata": {},
          "execution_count": 14
        }
      ]
    },
    {
      "cell_type": "code",
      "source": [
        "D = {\"libertas\": 5, \"Peru\": 7, \"Arequipa\": 9}"
      ],
      "metadata": {
        "id": "aWgHnRA_AqQY"
      },
      "execution_count": null,
      "outputs": []
    },
    {
      "cell_type": "code",
      "source": [
        "D.keys()"
      ],
      "metadata": {
        "colab": {
          "base_uri": "https://localhost:8080/"
        },
        "id": "2KD0qCWythRJ",
        "outputId": "382b91a4-3bb0-4ec6-d003-037e5777accc"
      },
      "execution_count": null,
      "outputs": [
        {
          "output_type": "execute_result",
          "data": {
            "text/plain": [
              "dict_keys(['libertas', 'Peru', 'Arequipa'])"
            ]
          },
          "metadata": {},
          "execution_count": 16
        }
      ]
    },
    {
      "cell_type": "code",
      "source": [
        "D.values()"
      ],
      "metadata": {
        "colab": {
          "base_uri": "https://localhost:8080/"
        },
        "id": "_RHjAD9JtsKW",
        "outputId": "63a6c529-8918-4880-b573-403cee8b0a01"
      },
      "execution_count": null,
      "outputs": [
        {
          "output_type": "execute_result",
          "data": {
            "text/plain": [
              "dict_values([5, 7, 9])"
            ]
          },
          "metadata": {},
          "execution_count": 17
        }
      ]
    },
    {
      "cell_type": "code",
      "source": [
        "D.items()"
      ],
      "metadata": {
        "colab": {
          "base_uri": "https://localhost:8080/"
        },
        "id": "P3Z4zKK8tvxE",
        "outputId": "dcd5f321-b4dc-4d59-f4b1-ac3885391eff"
      },
      "execution_count": null,
      "outputs": [
        {
          "output_type": "execute_result",
          "data": {
            "text/plain": [
              "dict_items([('libertas', 5), ('Peru', 7), ('Arequipa', 9)])"
            ]
          },
          "metadata": {},
          "execution_count": 18
        }
      ]
    },
    {
      "cell_type": "code",
      "source": [
        "for key, value in D.items():\n",
        "  print(key, value)"
      ],
      "metadata": {
        "colab": {
          "base_uri": "https://localhost:8080/"
        },
        "id": "QWiQ2fNitzBl",
        "outputId": "7740be52-53a4-4251-e176-90d323a126cd"
      },
      "execution_count": null,
      "outputs": [
        {
          "output_type": "stream",
          "name": "stdout",
          "text": [
            "libertas 5\n",
            "Peru 7\n",
            "Arequipa 9\n"
          ]
        }
      ]
    },
    {
      "cell_type": "code",
      "source": [
        "D[\"Peru\"] += 10"
      ],
      "metadata": {
        "id": "mylC2tWHt5BF"
      },
      "execution_count": null,
      "outputs": []
    },
    {
      "cell_type": "code",
      "source": [
        "D"
      ],
      "metadata": {
        "id": "12dfnAG7uCQ0",
        "outputId": "0ae95c46-ee07-4e42-8846-925a4fe517b2",
        "colab": {
          "base_uri": "https://localhost:8080/"
        }
      },
      "execution_count": null,
      "outputs": [
        {
          "output_type": "execute_result",
          "data": {
            "text/plain": [
              "{'libertas': 5, 'Peru': 19, 'Arequipa': 9}"
            ]
          },
          "metadata": {},
          "execution_count": 23
        }
      ]
    },
    {
      "cell_type": "code",
      "source": [],
      "metadata": {
        "id": "ypwUJo11uC2N"
      },
      "execution_count": null,
      "outputs": []
    }
  ]
}