{
  "nbformat": 4,
  "nbformat_minor": 0,
  "metadata": {
    "colab": {
      "provenance": [],
      "collapsed_sections": [
        "0V4IbZpMuR6I"
      ],
      "include_colab_link": true
    },
    "kernelspec": {
      "name": "python3",
      "display_name": "Python 3"
    },
    "language_info": {
      "name": "python"
    }
  },
  "cells": [
    {
      "cell_type": "markdown",
      "metadata": {
        "id": "view-in-github",
        "colab_type": "text"
      },
      "source": [
        "<a href=\"https://colab.research.google.com/github/galeonkil/progr/blob/master/s8_funciones.ipynb\" target=\"_parent\"><img src=\"https://colab.research.google.com/assets/colab-badge.svg\" alt=\"Open In Colab\"/></a>"
      ]
    },
    {
      "cell_type": "markdown",
      "source": [
        "# Funciones\n",
        "\n",
        "Las funciones puede ser pre-definidad por Python o definidas por el programador. Estas se encargan de cumplir algún objetivo. Estas pueden terner (o no):\n",
        "\n",
        "* Entradas\n",
        "* Salidas"
      ],
      "metadata": {
        "id": "0V4IbZpMuR6I"
      }
    },
    {
      "cell_type": "code",
      "source": [
        "a = 2\n",
        "b = 3\n",
        "r = a ** 2 + b ** 2 + 2 * a * b\n",
        "\n",
        "print(r)"
      ],
      "metadata": {
        "colab": {
          "base_uri": "https://localhost:8080/"
        },
        "id": "UV8ZQ_E_htpZ",
        "outputId": "5fcd64e6-0468-4521-bf0a-018dadc9f78b"
      },
      "execution_count": null,
      "outputs": [
        {
          "output_type": "stream",
          "name": "stdout",
          "text": [
            "25\n"
          ]
        }
      ]
    },
    {
      "cell_type": "code",
      "source": [
        "a = 5\n",
        "b = 7\n",
        "r = a ** 2 + b ** 2 + 2 * a * b\n",
        "\n",
        "print(r)"
      ],
      "metadata": {
        "colab": {
          "base_uri": "https://localhost:8080/"
        },
        "id": "hGyO-WYJh82B",
        "outputId": "771778ca-f776-46c5-88d4-a5642b65129d"
      },
      "execution_count": null,
      "outputs": [
        {
          "output_type": "stream",
          "name": "stdout",
          "text": [
            "144\n"
          ]
        }
      ]
    },
    {
      "cell_type": "code",
      "source": [
        "a = 1\n",
        "b = 2\n",
        "r = a ** 2 + b ** 2 + 2 * a * b\n",
        "\n",
        "print(r)"
      ],
      "metadata": {
        "colab": {
          "base_uri": "https://localhost:8080/"
        },
        "id": "KkyvmcahiAwi",
        "outputId": "10fa303d-084b-449f-e451-9fec7f84fcb6"
      },
      "execution_count": null,
      "outputs": [
        {
          "output_type": "stream",
          "name": "stdout",
          "text": [
            "9\n"
          ]
        }
      ]
    },
    {
      "cell_type": "code",
      "source": [
        "def binomio(a, b):\n",
        "  return a ** 2 + b ** 2 + 2 * a * b\n",
        "\n",
        "print(binomio(2,3))\n",
        "print(binomio(5,7))\n",
        "print(binomio(1,2))"
      ],
      "metadata": {
        "colab": {
          "base_uri": "https://localhost:8080/"
        },
        "id": "n4lFKBuFijQ3",
        "outputId": "26b0ce60-efc5-455e-d619-78b781775fb4"
      },
      "execution_count": null,
      "outputs": [
        {
          "output_type": "stream",
          "name": "stdout",
          "text": [
            "25\n",
            "144\n",
            "9\n"
          ]
        }
      ]
    },
    {
      "cell_type": "code",
      "source": [
        "def operacion(a,b,c):\n",
        "  return a * b + c"
      ],
      "metadata": {
        "id": "sH1Cwu1xjl6r"
      },
      "execution_count": null,
      "outputs": []
    },
    {
      "cell_type": "code",
      "source": [
        "x = operacion(3,5,6)\n",
        "print(x)"
      ],
      "metadata": {
        "colab": {
          "base_uri": "https://localhost:8080/"
        },
        "id": "ZaVXT9RJjqVC",
        "outputId": "cb1c5514-19d0-4ecb-8eb7-93da7c95918d"
      },
      "execution_count": null,
      "outputs": [
        {
          "output_type": "stream",
          "name": "stdout",
          "text": [
            "21\n"
          ]
        }
      ]
    },
    {
      "cell_type": "code",
      "source": [
        "def multiplicar(x, y=2):\n",
        "  return x * y\n",
        "\n",
        "print(multiplicar(3,4))\n",
        "print(multiplicar(3,2))\n",
        "print(multiplicar(3))"
      ],
      "metadata": {
        "colab": {
          "base_uri": "https://localhost:8080/"
        },
        "id": "yD6WS0SnjuJa",
        "outputId": "a07f546d-a510-48f8-8205-2327b9b7d7ff"
      },
      "execution_count": null,
      "outputs": [
        {
          "output_type": "stream",
          "name": "stdout",
          "text": [
            "12\n",
            "6\n",
            "6\n"
          ]
        }
      ]
    },
    {
      "cell_type": "markdown",
      "source": [
        "### Ejemplo 1:\n",
        "Implementar una función con tres argumentos de entrar $x,y,z$. De modo que retorne:\n",
        "\n",
        "$$xy^z$$\n",
        "Si no se ingresa $y$, se debe retorna $x2^z$. Si no se ingresa $z$ se debe retornar $xy^3$"
      ],
      "metadata": {
        "id": "KmjoOe6ulhPr"
      }
    },
    {
      "cell_type": "code",
      "source": [
        "def funcion(x,y=2,z=3):\n",
        "  return x * y ** z\n",
        "\n",
        "print(funcion(3,2,2))"
      ],
      "metadata": {
        "colab": {
          "base_uri": "https://localhost:8080/"
        },
        "id": "mxCS0mH5lgU-",
        "outputId": "ffdc94a6-7e7a-430b-a86b-0df260144a29"
      },
      "execution_count": null,
      "outputs": [
        {
          "output_type": "stream",
          "name": "stdout",
          "text": [
            "12\n"
          ]
        }
      ]
    },
    {
      "cell_type": "code",
      "source": [
        "print(funcion(3))"
      ],
      "metadata": {
        "colab": {
          "base_uri": "https://localhost:8080/"
        },
        "id": "QVgoAXXsmcXK",
        "outputId": "56bfd484-4de2-4b44-9f89-8b0cc11d4488"
      },
      "execution_count": null,
      "outputs": [
        {
          "output_type": "stream",
          "name": "stdout",
          "text": [
            "24\n"
          ]
        }
      ]
    },
    {
      "cell_type": "code",
      "source": [
        "print(funcion(5,2))"
      ],
      "metadata": {
        "colab": {
          "base_uri": "https://localhost:8080/"
        },
        "id": "B05CcsofmsOo",
        "outputId": "32a7e132-9939-41de-9372-20342378a6a4"
      },
      "execution_count": null,
      "outputs": [
        {
          "output_type": "stream",
          "name": "stdout",
          "text": [
            "40\n"
          ]
        }
      ]
    },
    {
      "cell_type": "code",
      "source": [
        "v = 2\n",
        "\n",
        "def mi_calculo():\n",
        "  v = 5\n",
        "  return 3\n",
        "\n",
        "print(mi_calculo())\n",
        "print(v)"
      ],
      "metadata": {
        "colab": {
          "base_uri": "https://localhost:8080/"
        },
        "id": "dume9Akpn7qk",
        "outputId": "174760c8-9d85-4ec3-d853-7971ad673821"
      },
      "execution_count": null,
      "outputs": [
        {
          "output_type": "stream",
          "name": "stdout",
          "text": [
            "3\n",
            "2\n"
          ]
        }
      ]
    },
    {
      "cell_type": "markdown",
      "source": [
        "## Ejemplo 2:\n",
        "Implemente una función que tome como entrada dos numeros y retorne el producto y la suma de estos."
      ],
      "metadata": {
        "id": "jInhZ5jqnoAN"
      }
    },
    {
      "cell_type": "code",
      "source": [
        "def funcion(a,b):\n",
        "  return a * b, a + b, a / b\n",
        "\n",
        "print(funcion(3,5))\n",
        "print(funcion(5,4))"
      ],
      "metadata": {
        "colab": {
          "base_uri": "https://localhost:8080/"
        },
        "id": "kLzkBSw_nneU",
        "outputId": "45b33250-f23e-40ad-8b26-a82df2edb545"
      },
      "execution_count": null,
      "outputs": [
        {
          "output_type": "stream",
          "name": "stdout",
          "text": [
            "(15, 8, 0.6)\n",
            "(20, 9, 1.25)\n"
          ]
        }
      ]
    },
    {
      "cell_type": "code",
      "source": [
        "def suma_y_prod(a, b):\n",
        "  if a * b == (a+b):\n",
        "    return True\n",
        "  else:\n",
        "    return False\n",
        "\n",
        "print(suma_y_prod(2,2))\n",
        "print(suma_y_prod(3,4))"
      ],
      "metadata": {
        "colab": {
          "base_uri": "https://localhost:8080/"
        },
        "id": "473nL6uKq48M",
        "outputId": "20d3dafa-b436-4514-c05f-5f4bb023e9a2"
      },
      "execution_count": null,
      "outputs": [
        {
          "output_type": "stream",
          "name": "stdout",
          "text": [
            "True\n",
            "False\n"
          ]
        }
      ]
    },
    {
      "cell_type": "markdown",
      "source": [
        "## Ejemplo 3:\n",
        "Implemente una función que detecte todas las ternas pitagóricas menores a $n$. Donde $n$ es el argumento de la función.\n",
        "\n",
        "\n",
        "\n",
        "```\n",
        "def ternas(n):\n",
        "  .\n",
        "  .\n",
        "  .\n",
        "\n",
        "ternas(n)\n",
        "\n",
        "Resultado:\n",
        "3^2 + 4^2 = 5^2\n",
        ".\n",
        ".\n",
        ".\n",
        "```\n",
        "\n"
      ],
      "metadata": {
        "id": "pO_PVZf1wsOK"
      }
    },
    {
      "cell_type": "code",
      "source": [
        "def es_terna(a,b,c):\n",
        "  return a**2 + b**2 == c**2"
      ],
      "metadata": {
        "id": "5oloWmsd0xxK"
      },
      "execution_count": null,
      "outputs": []
    },
    {
      "cell_type": "code",
      "source": [
        "def ternas(n):\n",
        "  C = set({}) # Conjunto\n",
        "  for a in range(1,n+1):\n",
        "    for b in range(1,n+1):\n",
        "      for c in range(1,n+1):\n",
        "        if es_terna(a,b,c) and (c not in C):\n",
        "          print(\"{}^2+{}^2={}^2\".format(a,b,c))\n",
        "          C.add(c)\n",
        "  return C\n",
        "\n",
        "n = int(input(\"Ingrese un numero: \"))\n",
        "C = ternas(n)\n",
        "\n",
        "print(C)"
      ],
      "metadata": {
        "id": "LRbJw6EFw65m",
        "colab": {
          "base_uri": "https://localhost:8080/"
        },
        "outputId": "57ad9bb3-f798-4704-c17a-2ac5096982d6"
      },
      "execution_count": null,
      "outputs": [
        {
          "output_type": "stream",
          "name": "stdout",
          "text": [
            "Ingrese un numero: 19\n",
            "3^2+4^2=5^2\n",
            "5^2+12^2=13^2\n",
            "6^2+8^2=10^2\n",
            "8^2+15^2=17^2\n",
            "9^2+12^2=15^2\n",
            "{5, 10, 13, 15, 17}\n"
          ]
        }
      ]
    },
    {
      "cell_type": "code",
      "source": [
        "S = set({})\n",
        "S.add(\"A\")\n",
        "\n",
        "print(S)"
      ],
      "metadata": {
        "colab": {
          "base_uri": "https://localhost:8080/"
        },
        "id": "lYg5A1tT1wiV",
        "outputId": "5b60191b-2ffd-48bb-cf52-7431755460fe"
      },
      "execution_count": null,
      "outputs": [
        {
          "output_type": "stream",
          "name": "stdout",
          "text": [
            "{'A'}\n"
          ]
        }
      ]
    },
    {
      "cell_type": "code",
      "source": [
        "S.add(\"B\")\n",
        "S.add(\"C\")\n",
        "S.add(\"A\")"
      ],
      "metadata": {
        "id": "c5L5qrE_11hL"
      },
      "execution_count": null,
      "outputs": []
    },
    {
      "cell_type": "code",
      "source": [
        "print(S)"
      ],
      "metadata": {
        "colab": {
          "base_uri": "https://localhost:8080/"
        },
        "id": "rHJlMaeZ17UG",
        "outputId": "ad2e4e20-d884-470b-c341-b554283a6549"
      },
      "execution_count": null,
      "outputs": [
        {
          "output_type": "stream",
          "name": "stdout",
          "text": [
            "{'B', 'C', 'A'}\n"
          ]
        }
      ]
    },
    {
      "cell_type": "code",
      "source": [
        "S.add(\"B\")\n",
        "print(S)"
      ],
      "metadata": {
        "colab": {
          "base_uri": "https://localhost:8080/"
        },
        "id": "o-5pGAzC2C4b",
        "outputId": "ff8dffcc-8864-436b-cef9-73b298fa8fd8"
      },
      "execution_count": null,
      "outputs": [
        {
          "output_type": "stream",
          "name": "stdout",
          "text": [
            "{'B', 'C', 'A'}\n"
          ]
        }
      ]
    },
    {
      "cell_type": "markdown",
      "source": [
        "# TOPICOS ADICIONALES"
      ],
      "metadata": {
        "id": "UxioWDGN4LVL"
      }
    },
    {
      "cell_type": "markdown",
      "source": [
        "## Ejemplo: Tres en Raya utilizando funciones\n",
        "\n",
        "Implemente el juego tres en raya utilizando funciones"
      ],
      "metadata": {
        "id": "n10gzccryUvy"
      }
    },
    {
      "cell_type": "code",
      "source": [
        "def generar_tabla():\n",
        "  return [[str(i*3+j) for j in range(3)] for i in range(3)]\n",
        "tabla = generar_tabla()\n",
        "\n",
        "def imprimir_tabla(L):\n",
        "  print(\"\\nTabla:\")\n",
        "  for i in range(3):\n",
        "    for j in range(3):\n",
        "      print(L[i][j], end=\" \")\n",
        "    print()\n",
        "\n",
        "imprimir_tabla(tabla)"
      ],
      "metadata": {
        "colab": {
          "base_uri": "https://localhost:8080/"
        },
        "id": "Mb9T-H1ZygRi",
        "outputId": "65f40e34-14a2-434f-b84c-a9b8ad8ad329"
      },
      "execution_count": null,
      "outputs": [
        {
          "output_type": "stream",
          "name": "stdout",
          "text": [
            "\n",
            "Tabla:\n",
            "0 1 2 \n",
            "3 4 5 \n",
            "6 7 8 \n"
          ]
        }
      ]
    },
    {
      "cell_type": "code",
      "source": [
        "tabla = generar_tabla()\n",
        "def marcar_tabla(L, posicion, marca):\n",
        "  L[posicion // 3][posicion % 3] = marca\n",
        "\n",
        "imprimir_tabla(tabla)\n",
        "marcar_tabla(tabla, 3, \"X\")\n",
        "imprimir_tabla(tabla)\n",
        "marcar_tabla(tabla, 6, \"O\")\n",
        "imprimir_tabla(tabla)"
      ],
      "metadata": {
        "colab": {
          "base_uri": "https://localhost:8080/"
        },
        "id": "j9FN9CEP0EGt",
        "outputId": "264cbb9e-1c1b-4616-e5d1-70c7a974d3f6"
      },
      "execution_count": null,
      "outputs": [
        {
          "output_type": "stream",
          "name": "stdout",
          "text": [
            "\n",
            "Tabla:\n",
            "0 1 2 \n",
            "3 4 5 \n",
            "6 7 8 \n",
            "\n",
            "Tabla:\n",
            "0 1 2 \n",
            "X 4 5 \n",
            "6 7 8 \n",
            "\n",
            "Tabla:\n",
            "0 1 2 \n",
            "X 4 5 \n",
            "O 7 8 \n"
          ]
        }
      ]
    },
    {
      "cell_type": "code",
      "source": [
        "tabla = generar_tabla()\n",
        "def detectar_ganador_filas(L):\n",
        "  for fila in range(3):\n",
        "    if L[fila][0] == L[fila][1] and L[fila][1] == L[fila][2]:\n",
        "      return True\n",
        "  return False\n",
        "\n",
        "imprimir_tabla(tabla)\n",
        "marcar_tabla(tabla, 6, \"X\")\n",
        "imprimir_tabla(tabla)\n",
        "marcar_tabla(tabla, 7, \"X\")\n",
        "imprimir_tabla(tabla)\n",
        "marcar_tabla(tabla, 8, \"X\")\n",
        "imprimir_tabla(tabla)\n",
        "\n",
        "print(detectar_ganador_filas(tabla))"
      ],
      "metadata": {
        "colab": {
          "base_uri": "https://localhost:8080/"
        },
        "id": "1jlXNl0c0mfg",
        "outputId": "3f11803c-17a2-4c68-80fc-192a02ddf665"
      },
      "execution_count": null,
      "outputs": [
        {
          "output_type": "stream",
          "name": "stdout",
          "text": [
            "\n",
            "Tabla:\n",
            "0 1 2 \n",
            "3 4 5 \n",
            "6 7 8 \n",
            "\n",
            "Tabla:\n",
            "0 1 2 \n",
            "3 4 5 \n",
            "X 7 8 \n",
            "\n",
            "Tabla:\n",
            "0 1 2 \n",
            "3 4 5 \n",
            "X X 8 \n",
            "\n",
            "Tabla:\n",
            "0 1 2 \n",
            "3 4 5 \n",
            "X X X \n",
            "True\n"
          ]
        }
      ]
    },
    {
      "cell_type": "code",
      "source": [
        "tabla = generar_tabla()\n",
        "def detectar_ganador_columnas(L):\n",
        "  for columna in range(3):\n",
        "    if L[0][columna] == L[1][columna] and L[1][columna] == L[2][columna]:\n",
        "      return True\n",
        "  return False\n",
        "\n",
        "imprimir_tabla(tabla)\n",
        "marcar_tabla(tabla, 2, \"X\")\n",
        "imprimir_tabla(tabla)\n",
        "marcar_tabla(tabla, 5, \"X\")\n",
        "imprimir_tabla(tabla)\n",
        "marcar_tabla(tabla, 8, \"X\")\n",
        "imprimir_tabla(tabla)\n",
        "\n",
        "print(detectar_ganador_columnas(tabla))"
      ],
      "metadata": {
        "colab": {
          "base_uri": "https://localhost:8080/"
        },
        "id": "-JAMDLVk1jaQ",
        "outputId": "09feb1dd-b70c-450e-d88f-a71e4788b912"
      },
      "execution_count": null,
      "outputs": [
        {
          "output_type": "stream",
          "name": "stdout",
          "text": [
            "\n",
            "Tabla:\n",
            "0 1 2 \n",
            "3 4 5 \n",
            "6 7 8 \n",
            "\n",
            "Tabla:\n",
            "0 1 X \n",
            "3 4 5 \n",
            "6 7 8 \n",
            "\n",
            "Tabla:\n",
            "0 1 X \n",
            "3 4 X \n",
            "6 7 8 \n",
            "\n",
            "Tabla:\n",
            "0 1 X \n",
            "3 4 X \n",
            "6 7 X \n",
            "True\n"
          ]
        }
      ]
    },
    {
      "cell_type": "code",
      "source": [
        "tabla = generar_tabla()\n",
        "def detectar_ganador_diagonales(L):\n",
        "  if L[0][0] == L[1][1] and L[2][2] == L[1][1]:\n",
        "    return True\n",
        "  if L[0][2] == L[1][1] and L[2][0] == L[1][1]:\n",
        "    return True\n",
        "  return False\n",
        "\n",
        "imprimir_tabla(tabla)\n",
        "marcar_tabla(tabla, 2, \"X\")\n",
        "imprimir_tabla(tabla)\n",
        "marcar_tabla(tabla, 4, \"X\")\n",
        "imprimir_tabla(tabla)\n",
        "marcar_tabla(tabla, 6, \"X\")\n",
        "imprimir_tabla(tabla)\n",
        "\n",
        "detectar_ganador_diagonales(tabla)"
      ],
      "metadata": {
        "colab": {
          "base_uri": "https://localhost:8080/"
        },
        "id": "drfbTv142J4F",
        "outputId": "b99c1cb3-8a9c-4acc-a81a-5362733d7ee1"
      },
      "execution_count": null,
      "outputs": [
        {
          "output_type": "stream",
          "name": "stdout",
          "text": [
            "\n",
            "Tabla:\n",
            "0 1 2 \n",
            "3 4 5 \n",
            "6 7 8 \n",
            "\n",
            "Tabla:\n",
            "0 1 X \n",
            "3 4 5 \n",
            "6 7 8 \n",
            "\n",
            "Tabla:\n",
            "0 1 X \n",
            "3 X 5 \n",
            "6 7 8 \n",
            "\n",
            "Tabla:\n",
            "0 1 X \n",
            "3 X 5 \n",
            "X 7 8 \n"
          ]
        },
        {
          "output_type": "execute_result",
          "data": {
            "text/plain": [
              "True"
            ]
          },
          "metadata": {},
          "execution_count": 33
        }
      ]
    },
    {
      "cell_type": "code",
      "source": [
        "def detectar_ganador(L):\n",
        "  if detectar_ganador_filas(L) or detectar_ganador_columnas(L) or detectar_ganador_diagonales(L):\n",
        "    return True\n",
        "  return False"
      ],
      "metadata": {
        "id": "5p8e54MD4D4K"
      },
      "execution_count": null,
      "outputs": []
    },
    {
      "cell_type": "code",
      "source": [
        "def obtener_posicion(intento):\n",
        "  jugadores = [\"X\",\"O\"]\n",
        "  marca = jugadores[intento % 2]\n",
        "  posicion = int(input(\"Jugaor {}, posicion: \".format(marca)))\n",
        "\n",
        "  return posicion, marca"
      ],
      "metadata": {
        "id": "sNbAjBW43L_q"
      },
      "execution_count": null,
      "outputs": []
    },
    {
      "cell_type": "code",
      "source": [
        "tabla = generar_tabla()\n",
        "imprimir_tabla(tabla)\n",
        "\n",
        "for intento in range(9):\n",
        "  posicion, marca = obtener_posicion(intento)\n",
        "  marcar_tabla(tabla, posicion, marca)\n",
        "  imprimir_tabla(tabla)\n",
        "\n",
        "  if detectar_ganador(tabla):\n",
        "    print(\"Gana jugado {}\".format(marca))\n",
        "    break"
      ],
      "metadata": {
        "colab": {
          "base_uri": "https://localhost:8080/"
        },
        "id": "PlV-kGiL2xEs",
        "outputId": "7f80dc51-d1c4-4956-e238-f9dab5c057c0"
      },
      "execution_count": null,
      "outputs": [
        {
          "output_type": "stream",
          "name": "stdout",
          "text": [
            "\n",
            "Tabla:\n",
            "0 1 2 \n",
            "3 4 5 \n",
            "6 7 8 \n",
            "Jugaor X, posicion: 3\n",
            "\n",
            "Tabla:\n",
            "0 1 2 \n",
            "X 4 5 \n",
            "6 7 8 \n",
            "Jugaor O, posicion: 1\n",
            "\n",
            "Tabla:\n",
            "0 O 2 \n",
            "X 4 5 \n",
            "6 7 8 \n",
            "Jugaor X, posicion: 6\n",
            "\n",
            "Tabla:\n",
            "0 O 2 \n",
            "X 4 5 \n",
            "X 7 8 \n",
            "Jugaor O, posicion: 4\n",
            "\n",
            "Tabla:\n",
            "0 O 2 \n",
            "X O 5 \n",
            "X 7 8 \n",
            "Jugaor X, posicion: 0\n",
            "\n",
            "Tabla:\n",
            "X O 2 \n",
            "X O 5 \n",
            "X 7 8 \n",
            "Gana jugado X\n"
          ]
        }
      ]
    },
    {
      "cell_type": "markdown",
      "source": [
        "## Funciones Recursivas"
      ],
      "metadata": {
        "id": "uOd244kCuU-u"
      }
    },
    {
      "cell_type": "markdown",
      "source": [
        "Una función recursiva, es una función que se a llama sí misma. Existen varios tipos:\n",
        "\n",
        "- Simple: Una sola llamada recursiva\n",
        "- Múltiple: Varias llamadas recursivas\n",
        "- Indirecta: Se llama a sí misma a traves de otra función"
      ],
      "metadata": {
        "id": "RU7A2D9Z-EL0"
      }
    },
    {
      "cell_type": "markdown",
      "source": [
        "Debe tener dos pasos:\n",
        "- Caso base: Aquel en el que conocemos el resultado\n",
        "- Paso recursivo: Aquel en el volvemos a llamar a la función"
      ],
      "metadata": {
        "id": "kVNw9nDM-koH"
      }
    },
    {
      "cell_type": "markdown",
      "source": [
        "### Ejercicio 1\n",
        "Supongamos que no sabemos múltiplicar, solamenta sabemos sumar, ¿Como calculariamos el producto de dos números?"
      ],
      "metadata": {
        "id": "aN-snYnnubTi"
      }
    },
    {
      "cell_type": "markdown",
      "source": [
        "- $3\\times 4= 3+3+3+3$\n",
        "- $3\\times 4= 3 + (3\\times3$)\n",
        "- $3\\times 3= 3 + (3\\times2$)\n",
        "- $3\\times 2= 3 + (3\\times1$)\n",
        "- $3\\times 1= 3 + (3\\times0$)\n",
        "- $3\\times 0= 0$"
      ],
      "metadata": {
        "id": "9w6hhu7M-36H"
      }
    },
    {
      "cell_type": "code",
      "source": [
        "# Simple: Una llamada recursiva\n",
        "def multiplicar(a,b):\n",
        "  if b == 0:\n",
        "    return 0\n",
        "  return a + multiplicar(a,b-1)\n",
        "\n",
        "print(multiplicar(3,7))\n",
        "print(multiplicar(8,5))\n",
        "print(multiplicar(4,1))\n",
        "print(multiplicar(3,0))"
      ],
      "metadata": {
        "colab": {
          "base_uri": "https://localhost:8080/"
        },
        "id": "aXuKORvM-djD",
        "outputId": "877b6669-3d07-4811-dd90-0f6eae761f45"
      },
      "execution_count": null,
      "outputs": [
        {
          "output_type": "stream",
          "name": "stdout",
          "text": [
            "21\n",
            "40\n",
            "4\n",
            "0\n"
          ]
        }
      ]
    },
    {
      "cell_type": "markdown",
      "source": [
        "### Ejercicio 2\n",
        "Supongamos que no sabemos elevar a una potencia, solamenta sabemos multiplicar, ¿Como calculariamos $a^b$?"
      ],
      "metadata": {
        "id": "yB6wFk3FuxKH"
      }
    },
    {
      "cell_type": "markdown",
      "source": [
        "$a^b = a\\times a\\times \\cdots \\times a\\quad$ ($b$ veces)"
      ],
      "metadata": {
        "id": "5SFBr_SVAFvD"
      }
    },
    {
      "cell_type": "markdown",
      "source": [
        "- $2^5 = 2\\times 2^ 4$\n",
        "- $2^4 = 2\\times 2^ 3$\n",
        "- $2^3 = 2\\times 2^ 2$\n",
        "- $2^2 = 2\\times 2^ 1$\n",
        "- $2^1 = 2\\times 2^ 0$\n",
        "- $2^0 = 1$"
      ],
      "metadata": {
        "id": "Fjn6ItqrAXhb"
      }
    },
    {
      "cell_type": "code",
      "source": [
        "def potencia(a,b):\n",
        "  if b == 0:\n",
        "    return 1\n",
        "  return a * potencia(a,b-1)\n",
        "\n",
        "print(potencia(3,4))\n",
        "print(potencia(2,10))"
      ],
      "metadata": {
        "id": "o0Z0CgIju-1x",
        "colab": {
          "base_uri": "https://localhost:8080/"
        },
        "outputId": "2d941fc1-8a75-4535-fcca-2016de4fd18e"
      },
      "execution_count": null,
      "outputs": [
        {
          "output_type": "stream",
          "name": "stdout",
          "text": [
            "81\n",
            "1024\n"
          ]
        }
      ]
    },
    {
      "cell_type": "markdown",
      "source": [
        "### Ejercicio 3\n",
        "El factorial de un número está denotado por $n!$. Sabemos que $n!=n\\times(n-1)!$ y que $0!=1$. Utilizando recursividad, calcular 20!."
      ],
      "metadata": {
        "id": "SxYgK2KEvBcK"
      }
    },
    {
      "cell_type": "code",
      "source": [
        "def factorial(n):\n",
        "  if n == 0:\n",
        "    return 1\n",
        "  return n * factorial(n-1)\n",
        "\n",
        "print(factorial(4))\n",
        "print(factorial(20))"
      ],
      "metadata": {
        "id": "npC1m9URvfrT",
        "colab": {
          "base_uri": "https://localhost:8080/"
        },
        "outputId": "329391a5-596c-407d-aedd-4cc040c863ac"
      },
      "execution_count": null,
      "outputs": [
        {
          "output_type": "stream",
          "name": "stdout",
          "text": [
            "24\n",
            "2432902008176640000\n"
          ]
        }
      ]
    },
    {
      "cell_type": "markdown",
      "source": [
        "### Ejercicio 4\n",
        "Un palindromo es aquella palabra que se lee igual de izquierda a derecha que de derecha a izquierda. Utilice un función recursiva para detectar palabras palindromas."
      ],
      "metadata": {
        "id": "pQ_pn2vFvr3n"
      }
    },
    {
      "cell_type": "code",
      "source": [
        "# reconocer\n",
        "\n",
        "def revertir(s):\n",
        "  return s[::-1]\n",
        "\n",
        "def es_palindromo(s):\n",
        "  if s == revertir(s):\n",
        "    print(\"{} es palindromo\".format(s))\n",
        "  else:\n",
        "    print(\"{} no es palindromo\".format(s))\n",
        "\n",
        "es_palindromo(\"hola\")\n",
        "es_palindromo(\"reconocer\")"
      ],
      "metadata": {
        "id": "QZbQ3vjtwCNZ",
        "colab": {
          "base_uri": "https://localhost:8080/"
        },
        "outputId": "7100e316-7ce9-4b4e-9308-bf2fc798fc31"
      },
      "execution_count": null,
      "outputs": [
        {
          "output_type": "stream",
          "name": "stdout",
          "text": [
            "hola no es palindromo\n",
            "reconocer es palindromo\n"
          ]
        }
      ]
    },
    {
      "cell_type": "code",
      "source": [
        "def es_palindromo(palabra):\n",
        "  print(\"verificando: \", palabra)\n",
        "  if len(palabra)==0 or len(palabra)==1:\n",
        "    return True\n",
        "  if palabra[0] == palabra[-1]:\n",
        "    return es_palindromo(palabra[1:-1])\n",
        "  else:\n",
        "    return False\n",
        "\n",
        "#print(es_palindromo(\"hola\"))\n",
        "print(es_palindromo(\"reconocer\"))"
      ],
      "metadata": {
        "colab": {
          "base_uri": "https://localhost:8080/"
        },
        "id": "zKirwCAPEQF3",
        "outputId": "5b00ba85-baa2-4388-caf8-8f131de34202"
      },
      "execution_count": null,
      "outputs": [
        {
          "output_type": "stream",
          "name": "stdout",
          "text": [
            "verificando:  reconocer\n",
            "verificando:  econoce\n",
            "verificando:  conoc\n",
            "verificando:  ono\n",
            "verificando:  n\n",
            "True\n"
          ]
        }
      ]
    },
    {
      "cell_type": "code",
      "source": [],
      "metadata": {
        "id": "dOIQDPrvD6Oo"
      },
      "execution_count": null,
      "outputs": []
    }
  ]
}